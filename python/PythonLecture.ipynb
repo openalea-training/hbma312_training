{
 "cells": [
  {
   "cell_type": "markdown",
   "metadata": {},
   "source": [
    "# Python Lecture\n",
    "\n",
    "\n",
    "See the video.\n",
    "    "
   ]
  },
  {
   "cell_type": "markdown",
   "metadata": {},
   "source": [
    "# Jupyter Notebook Introduction\n",
    "\n",
    "## A web environnement mixing **text** (markdown), **code** (Python), and **results** (figures)\n",
    "\n",
    "Reference : [Jupyter Notebokk](http://jupyter.org)\n",
    "\n",
    "You can run the jupyter notebook in the main directory by typing:\n",
    "    \n",
    "    jupyter notebook\n",
    "\n"
   ]
  },
  {
   "cell_type": "markdown",
   "metadata": {},
   "source": [
    "# Install\n",
    "\n",
    "## Conda\n",
    " First you will depend on Conda\n",
    " \n",
    " See [README.md](https://github.com/openalea-training/hbma312_training/blob/master/README.md)\n",
    " \n",
    " ## What is conda\n",
    " \n",
    " Conda is a package manager that works on Linux, Mac and Windows.\n",
    " \n",
    " \n",
    " ## Always activate your conda environment\n",
    " \n",
    "     conda activate training \n",
    "     "
   ]
  },
  {
   "cell_type": "markdown",
   "metadata": {},
   "source": [
    "# Noteboook experiement\n",
    "The body of a notebook is composed of cells. Each cell contains either markdown, code input, code output, or raw text. Cells can be included in any order and edited at-will, allowing for a large ammount of flexibility for constructing a narrative.\n",
    "\n",
    "- **Markdown cells** - These are used to build a nicely formatted narrative around the code in the document.\n",
    "\n",
    "- **Code cells** - These are used to define the computational code in the document. They come in two forms: the *input cell* where the user types the code to be executed, and the *output cell* which is the representation of the executed code. Depending on the code, this representation may be a simple scalar value, or something more complex like a plot or an interactive widget.\n",
    "\n",
    "- **Raw cells** - These are used when text needs to be included in raw form, without execution or transformation."
   ]
  },
  {
   "cell_type": "markdown",
   "metadata": {},
   "source": [
    "------------------\n",
    "\n",
    "## Question (Q): Play with the notebook\n",
    "\n",
    "1. Create A **Markdown** cell\n",
    "2. Create a **code** cell\n",
    "\n",
    "Note:\n",
    "  - In the notebook, to run a cell of code, hit `Shift-Enter`. "
   ]
  },
  {
   "cell_type": "code",
   "execution_count": null,
   "metadata": {},
   "outputs": [],
   "source": []
  },
  {
   "cell_type": "code",
   "execution_count": null,
   "metadata": {},
   "outputs": [],
   "source": []
  },
  {
   "cell_type": "markdown",
   "metadata": {},
   "source": [
    "--------------------------------------\n",
    "\n",
    "# Python Introduction\n",
    "\n",
    "## Q: Edit a code cell and print Hello World!!\n",
    "\n"
   ]
  },
  {
   "cell_type": "code",
   "execution_count": null,
   "metadata": {},
   "outputs": [],
   "source": []
  },
  {
   "cell_type": "markdown",
   "metadata": {},
   "source": [
    "## Q: Getting Help on the function `sum`\n",
    "Use `?`"
   ]
  },
  {
   "cell_type": "code",
   "execution_count": null,
   "metadata": {},
   "outputs": [],
   "source": []
  },
  {
   "cell_type": "markdown",
   "metadata": {},
   "source": [
    "## Q: import the module numpy \n",
    "- Use Tab completion to list all the functions\n",
    "- Get help on `array`"
   ]
  },
  {
   "cell_type": "code",
   "execution_count": 3,
   "metadata": {},
   "outputs": [],
   "source": [
    "import numpy as np"
   ]
  },
  {
   "cell_type": "markdown",
   "metadata": {},
   "source": [
    "# Basic Python\n",
    "\n",
    "## Numeric\n",
    "int, float, boolean\n",
    "\n",
    "## Containers\n",
    "list, dict, array\n",
    "\n",
    "## Assignement operators\n",
    "\n",
    "See [Basics](http://www.scipy-lectures.org/intro/language/basic_types.html#numerical-types)\n",
    "\n",
    "## Q: Use Python as a calculator\n",
    "\n",
    "- Execute operations (+, /, %, ...)\n",
    "- Assignements: create variables, list, dict, ..."
   ]
  },
  {
   "cell_type": "code",
   "execution_count": null,
   "metadata": {},
   "outputs": [],
   "source": []
  },
  {
   "cell_type": "markdown",
   "metadata": {},
   "source": [
    "## Basics operations: +, -, *, / % (modulo)"
   ]
  },
  {
   "cell_type": "code",
   "execution_count": null,
   "metadata": {},
   "outputs": [],
   "source": []
  },
  {
   "cell_type": "code",
   "execution_count": null,
   "metadata": {},
   "outputs": [],
   "source": []
  },
  {
   "cell_type": "code",
   "execution_count": null,
   "metadata": {},
   "outputs": [],
   "source": []
  },
  {
   "cell_type": "markdown",
   "metadata": {},
   "source": [
    "## Containers"
   ]
  },
  {
   "cell_type": "code",
   "execution_count": 4,
   "metadata": {},
   "outputs": [],
   "source": [
    "colors = ['red', 'blue', 'green', 'black', 'white', 'red']\n",
    "\n",
    "# Add elements\n",
    "# Remove elements\n",
    "# Create a set\n",
    "# Access elements using []"
   ]
  },
  {
   "cell_type": "markdown",
   "metadata": {},
   "source": [
    "**Slicing syntax: colors[start:stop:stride]**"
   ]
  },
  {
   "cell_type": "code",
   "execution_count": null,
   "metadata": {},
   "outputs": [],
   "source": [
    "colors[0] = 'yellow'\n",
    "colors\n",
    "\n",
    "colors[2:4] = ['gray', 'purple']\n",
    "colors\n"
   ]
  },
  {
   "cell_type": "code",
   "execution_count": 5,
   "metadata": {},
   "outputs": [
    {
     "data": {
      "text/plain": [
       "['black', 'blue', 'green', 'red', 'red', 'white']"
      ]
     },
     "execution_count": 5,
     "metadata": {},
     "output_type": "execute_result"
    }
   ],
   "source": [
    "# Reverse\n",
    "# Q: Find a method on colors to reverse it\n",
    "# Q: Sort the list\n",
    "# Note: you can use the <Tab> on the object to list the methods\n"
   ]
  },
  {
   "cell_type": "code",
   "execution_count": null,
   "metadata": {},
   "outputs": [],
   "source": [
    "# Strings\n",
    "\n",
    "\n",
    "# Dictionary"
   ]
  },
  {
   "cell_type": "markdown",
   "metadata": {},
   "source": [
    "# [Control Flow](http://www.scipy-lectures.org/intro/language/control_flow.html#control-flow)\n",
    "\n",
    "## if/then/else\n",
    "## while\n",
    "## for loop\n",
    "\n",
    "## Q: Play with control flow\n",
    "## Q: Compute fibonacci\n"
   ]
  },
  {
   "cell_type": "code",
   "execution_count": 6,
   "metadata": {},
   "outputs": [],
   "source": [
    "# Fibonacci series:\n",
    "... # the sum of two elements defines the next\n",
    "\n",
    "a, b = 0, 1\n",
    "while b < 10:\n",
    "    print(b,)\n",
    "    # add code here..."
   ]
  },
  {
   "cell_type": "markdown",
   "metadata": {},
   "source": [
    "# [Defining Functions](http://www.scipy-lectures.org/intro/language/functions.html#defining-functions)\n",
    "\n",
    "## Q: Create a function f that computes the `sin`\n",
    "## Q: Create a function g that return the `cos`\n",
    "## Q: Create a list of 10 values between $-\\pi/2$ and $\\pi/2$\n",
    "## Q: Apply on function on the list"
   ]
  },
  {
   "cell_type": "code",
   "execution_count": 7,
   "metadata": {},
   "outputs": [],
   "source": [
    "from math import sin, cos, pi\n",
    "\n",
    "# Write code here..."
   ]
  },
  {
   "cell_type": "markdown",
   "metadata": {},
   "source": [
    "# [NumPy](http://www.scipy-lectures.org/intro/numpy/index.html#numpy-creating-and-manipulating-numerical-data)\n",
    "\n",
    "## Q: Do the same with NumPy by using `linspace`"
   ]
  },
  {
   "cell_type": "code",
   "execution_count": null,
   "metadata": {},
   "outputs": [],
   "source": [
    "import numpy as np\n",
    "pi = np.pi\n",
    "linspace = np.linspace"
   ]
  },
  {
   "cell_type": "markdown",
   "metadata": {},
   "source": [
    "# [Matplotlib](http://www.matplotlib.org)\n",
    "\n",
    "## Q: Plot the results with $x \\in [-\\pi/2, \\pi/2]$ and $y=sin(x)$\n",
    "## Q: Plot also on the same plot $y1=sin(x)$ and $y=cos(x)$"
   ]
  },
  {
   "cell_type": "code",
   "execution_count": 10,
   "metadata": {},
   "outputs": [],
   "source": [
    "%matplotlib inline"
   ]
  },
  {
   "cell_type": "code",
   "execution_count": 14,
   "metadata": {},
   "outputs": [],
   "source": [
    "\n",
    "import matplotlib.pylab as plt"
   ]
  },
  {
   "cell_type": "code",
   "execution_count": null,
   "metadata": {},
   "outputs": [],
   "source": []
  }
 ],
 "metadata": {
  "kernelspec": {
   "display_name": "Python 3",
   "language": "python",
   "name": "python3"
  },
  "language_info": {
   "codemirror_mode": {
    "name": "ipython",
    "version": 3
   },
   "file_extension": ".py",
   "mimetype": "text/x-python",
   "name": "python",
   "nbconvert_exporter": "python",
   "pygments_lexer": "ipython3",
   "version": "3.8.6"
  }
 },
 "nbformat": 4,
 "nbformat_minor": 2
}
