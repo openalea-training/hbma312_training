{
 "cells": [
  {
   "cell_type": "markdown",
   "metadata": {},
   "source": [
    "# Python Introduction\n",
    "\n",
    "## Why Python?\n",
    "\n",
    "Reference : [Scipy lectures](http://www.scipy-lectures.org/intro/intro.html#why-python)\n",
    "* Battery includes\n",
    "* \"Easy\" to learn\n",
    "* Efficien code \n",
    "* Universal\n",
    "\n",
    "## Scientific Python Ecosystem\n",
    "* Python\n",
    "* NumPy, SciPy\n",
    "* Matplotlib\n",
    "* Pandas\n",
    "* IPython, JuPyteR\n",
    "\n",
    "and of course ...\n",
    "* OpenAlea \n",
    "    - LPy, \n",
    "    - PlantGL, \n",
    "    - MTG, \n",
    "    - Caribu, \n",
    "    - Adel\n",
    "    "
   ]
  },
  {
   "cell_type": "markdown",
   "metadata": {},
   "source": [
    "# Install\n",
    "\n",
    "## Conda\n",
    " First you will depend on Conda\n",
    " \n",
    " See [install.md](https://github.com/openalea/hbma312_training_2018/blob/master/install.md)\n",
    " \n",
    " ## What is conda\n",
    " \n",
    " Conda is a package manager that works on Linux, Mac and Windows.\n",
    " \n",
    " ## Install OpenAlea and its dependencies\n",
    " \n",
    " ### Create a conda environment\n",
    " \n",
    "     conda create -n openalea -c openalea openalea.lpy openalea.plantgl boost=1.66\n",
    "     activate openalea\n",
    "     \n",
    "     # on Linux or Mac\n",
    "     source activate openalea\n",
    "     \n",
    "### Install all the packages \n",
    "     "
   ]
  },
  {
   "cell_type": "code",
   "execution_count": null,
   "metadata": {},
   "outputs": [],
   "source": []
  },
  {
   "cell_type": "markdown",
   "metadata": {},
   "source": [
    "# Python Introduction\n",
    "\n",
    "Launch jupyter :\n",
    "    \n",
    "**jupyter notebook**\n"
   ]
  },
  {
   "cell_type": "code",
   "execution_count": 1,
   "metadata": {},
   "outputs": [
    {
     "name": "stdout",
     "output_type": "stream",
     "text": [
      "Hello World!!!\n"
     ]
    }
   ],
   "source": [
    "print('Hello World!!!')"
   ]
  },
  {
   "cell_type": "code",
   "execution_count": 8,
   "metadata": {},
   "outputs": [],
   "source": [
    "sum?"
   ]
  },
  {
   "cell_type": "markdown",
   "metadata": {},
   "source": [
    "# Basic Types\n",
    "\n",
    "## Numeric\n",
    "int, float, boolean\n",
    "\n",
    "## Containers\n",
    "list, dict, array\n",
    "\n",
    "## Assignement operators\n",
    "\n",
    "See [Basics](http://www.scipy-lectures.org/intro/language/basic_types.html#numerical-types)"
   ]
  },
  {
   "cell_type": "code",
   "execution_count": null,
   "metadata": {},
   "outputs": [],
   "source": [
    "1 + 1\n",
    "\n",
    "a= 4\n",
    "\n",
    "type(a)"
   ]
  },
  {
   "cell_type": "code",
   "execution_count": null,
   "metadata": {},
   "outputs": [],
   "source": [
    "c = 2.1\n",
    "type(c)"
   ]
  },
  {
   "cell_type": "code",
   "execution_count": null,
   "metadata": {},
   "outputs": [],
   "source": [
    "3 > 4\n",
    "\n",
    "test = (3 > 4)\n",
    "test\n",
    "\n",
    "type(test)   "
   ]
  },
  {
   "cell_type": "markdown",
   "metadata": {},
   "source": [
    "## Basics operations: +, -, *, / % (modulo)"
   ]
  },
  {
   "cell_type": "code",
   "execution_count": null,
   "metadata": {},
   "outputs": [],
   "source": [
    "7 * 3.\n",
    "\n",
    "2**10\n",
    "\n",
    "8 % 3"
   ]
  },
  {
   "cell_type": "code",
   "execution_count": null,
   "metadata": {},
   "outputs": [],
   "source": [
    "# Integer division: WARNING\n",
    "\n",
    "print(3 / 2)  \n",
    "\n",
    "print(3 / 2.)"
   ]
  },
  {
   "cell_type": "code",
   "execution_count": null,
   "metadata": {},
   "outputs": [],
   "source": [
    "a = 3\n",
    "b = 2\n",
    "a / b # In Python 2  \n",
    "\n",
    "a / float(b)\n"
   ]
  },
  {
   "cell_type": "markdown",
   "metadata": {},
   "source": [
    "## Containers"
   ]
  },
  {
   "cell_type": "code",
   "execution_count": null,
   "metadata": {},
   "outputs": [],
   "source": [
    "colors = ['red', 'blue', 'green', 'black', 'white']\n",
    "type(colors)     "
   ]
  },
  {
   "cell_type": "code",
   "execution_count": null,
   "metadata": {},
   "outputs": [],
   "source": [
    "colors[2]"
   ]
  },
  {
   "cell_type": "code",
   "execution_count": null,
   "metadata": {},
   "outputs": [],
   "source": [
    "colors[-1]"
   ]
  },
  {
   "cell_type": "markdown",
   "metadata": {},
   "source": [
    "**Slicing syntax: colors[start:stop:stride]**"
   ]
  },
  {
   "cell_type": "code",
   "execution_count": null,
   "metadata": {},
   "outputs": [],
   "source": [
    "colors[0] = 'yellow'\n",
    "colors\n",
    "\n",
    "colors[2:4] = ['gray', 'purple']\n",
    "colors\n"
   ]
  },
  {
   "cell_type": "code",
   "execution_count": null,
   "metadata": {},
   "outputs": [],
   "source": [
    "# Reverse\n",
    "\n",
    "rcolors = colors[::-1]\n",
    "rcolors\n",
    "\n",
    "rcolors2 = list(colors)\n",
    "rcolors2\n",
    "\n",
    "rcolors2.reverse() # in-place\n",
    "rcolors2\n",
    "\n",
    "# Concatenate\n",
    "rcolors + colors\n",
    "\n",
    "rcolors * 2\n",
    "\n",
    "# Sort\n",
    "sorted(rcolors) # new object\n",
    "\n",
    "rcolors\n",
    "\n",
    "rcolors.sort()  # in-place\n",
    "rcolors"
   ]
  },
  {
   "cell_type": "code",
   "execution_count": null,
   "metadata": {},
   "outputs": [],
   "source": [
    "# Strings\n",
    "\n",
    "\n",
    "# Dictionary"
   ]
  },
  {
   "cell_type": "markdown",
   "metadata": {},
   "source": [
    "# [Control Flow](http://www.scipy-lectures.org/intro/language/control_flow.html#control-flow)\n",
    "\n",
    "## if/then/else\n",
    "## for loop\n",
    "## while loop"
   ]
  },
  {
   "cell_type": "markdown",
   "metadata": {},
   "source": [
    "# [Defining Functions](http://www.scipy-lectures.org/intro/language/functions.html#defining-functions)"
   ]
  },
  {
   "cell_type": "markdown",
   "metadata": {},
   "source": [
    "# [NumPy](http://www.scipy-lectures.org/intro/numpy/index.html#numpy-creating-and-manipulating-numerical-data)\n",
    "\n"
   ]
  }
 ],
 "metadata": {
  "kernelspec": {
   "display_name": "Python 3",
   "language": "python",
   "name": "python3"
  },
  "language_info": {
   "codemirror_mode": {
    "name": "ipython",
    "version": 3
   },
   "file_extension": ".py",
   "mimetype": "text/x-python",
   "name": "python",
   "nbconvert_exporter": "python",
   "pygments_lexer": "ipython3",
   "version": "3.8.6"
  }
 },
 "nbformat": 4,
 "nbformat_minor": 2
}
