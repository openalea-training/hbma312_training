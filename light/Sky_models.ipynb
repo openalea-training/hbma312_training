{
 "cells": [
  {
   "cell_type": "markdown",
   "metadata": {},
   "source": [
    "# HowTo : Modelling sun and sky light sources"
   ]
  },
  {
   "cell_type": "markdown",
   "metadata": {},
   "source": [
    "This notebook explain how the natural lighting of a scene by can be achieved. It focuses on the modeling of sources, as , once sources are known, the computation of light interfception is done the same way as before."
   ]
  },
  {
   "cell_type": "markdown",
   "metadata": {},
   "source": [
    "## Imports and setup location"
   ]
  },
  {
   "cell_type": "code",
   "execution_count": 1,
   "metadata": {},
   "outputs": [],
   "source": [
    "%gui qt4\n",
    "import sky_sources as skys\n",
    "import light_it as ltfs"
   ]
  },
  {
   "cell_type": "markdown",
   "metadata": {},
   "source": [
    "Specify a location on earth:"
   ]
  },
  {
   "cell_type": "code",
   "execution_count": 2,
   "metadata": {},
   "outputs": [],
   "source": [
    "Montpellier ={\n",
    "'longitude': 3.87,\n",
    "'latitude': 43.61,\n",
    "'altitude': 56,\n",
    "'timezone': 'Europe/Paris'}"
   ]
  },
  {
   "cell_type": "markdown",
   "metadata": {},
   "source": [
    "create a scene to look at and test lighting"
   ]
  },
  {
   "cell_type": "code",
   "execution_count": 3,
   "metadata": {},
   "outputs": [],
   "source": [
    "lsys, lstring, lscene = ltfs.run_lsystem('leafy.lpy')"
   ]
  },
  {
   "cell_type": "markdown",
   "metadata": {},
   "source": [
    "get some meteorological data"
   ]
  },
  {
   "cell_type": "code",
   "execution_count": 4,
   "metadata": {},
   "outputs": [],
   "source": [
    "meteo_data = skys.montpellier_spring_2013()"
   ]
  },
  {
   "cell_type": "markdown",
   "metadata": {},
   "source": [
    "## General principles"
   ]
  },
  {
   "cell_type": "markdown",
   "metadata": {},
   "source": [
    " - By convention, for processes occuring at earth surface (convention are different in astronomy !), the radiation fluxes are not expressed in terms of radiance of sources (total energetic flux emiited by the source), but in terms of irradiance of a horizontal unit placed at earth surface(total energetic flux passing through a square meter of ground). \n",
    " - The standard measurement of radiation at earth surface is the global horizontal irradiance (ghi, W.m-2.s-1)), that captures radiations coming from the sun and from the sky in the shortwave domain (visible light)\n",
    " - The sun contribution is called direct irradiance, whereas sky contribution is called diffuse irradiance\n",
    " - Instantaneous direct irradiance can be represented by one light source (the sun)\n",
    " - Diffuse irradiance can be represented by several light sources sampling the sky hemisphere. The contribution of each of these sources depends on weather condition (sunny, cloudy, ...) and can be determined by using a sky luminance model.\n",
    " - Direct irradiance varies with time, and so does the position of the sun\n",
    " - Diffuse irradiance varies with time, but the poistion of the sources can be kept constant. \n"
   ]
  },
  {
   "cell_type": "markdown",
   "metadata": {},
   "source": [
    "## Simulating difuse light conditions"
   ]
  },
  {
   "cell_type": "markdown",
   "metadata": {},
   "source": [
    "   - When the sky is very cloudy, direct light equals zero, and diffuse light is almost uniform among sky sources as long as cloudy condition last. The absolute value of global horizontal irradiance is varying with time or between two days, but the relative contributions of the different sky sources to ghi does not vary.\n",
    "   - The positioning and the relative contribution of sky sources to global horizontal irradiance for cloudy conditions can be obtained by the following function that used the 'standard overcast condition' sky luminance model, and make the integration of luminance so that one source capture the portion of sky arround it:"
   ]
  },
  {
   "cell_type": "code",
   "execution_count": 5,
   "metadata": {},
   "outputs": [
    {
     "data": {
      "text/plain": [
       "array([0.15986923, 0.04397197, 0.04397197, 0.04397197, 0.04397197,\n",
       "       0.04397197, 0.11305245, 0.11305245, 0.11305245, 0.11305245,\n",
       "       0.11305245, 0.01100174, 0.01100174, 0.01100174, 0.01100174,\n",
       "       0.01100174])"
      ]
     },
     "execution_count": 5,
     "metadata": {},
     "output_type": "execute_result"
    }
   ],
   "source": [
    "sky = skys.sky_sources(turtle_sectors=16)\n",
    "skys.show_sources(sky)\n",
    "elevation, azimuth, irradiance = sky\n",
    "irradiance"
   ]
  },
  {
   "cell_type": "markdown",
   "metadata": {},
   "source": [
    "  - turtle sector indicate the number of sources sampling the sky hemisphere (possible values are 6, 16 and 46)"
   ]
  },
  {
   "cell_type": "code",
   "execution_count": 6,
   "metadata": {},
   "outputs": [
    {
     "data": {
      "text/plain": [
       "1.0000000000000002"
      ]
     },
     "execution_count": 6,
     "metadata": {},
     "output_type": "execute_result"
    }
   ],
   "source": [
    "sum(irradiance)"
   ]
  },
  {
   "cell_type": "markdown",
   "metadata": {},
   "source": [
    "- Lighting the scene with such light is done like before, yielding the distribution of irradiance within the plant"
   ]
  },
  {
   "cell_type": "code",
   "execution_count": 7,
   "metadata": {},
   "outputs": [
    {
     "data": {
      "text/plain": [
       "<openalea.plantgl.scenegraph._pglsg.Scene at 0x24dc4fd35b0>"
      ]
     },
     "execution_count": 7,
     "metadata": {},
     "output_type": "execute_result"
    }
   ],
   "source": [
    "cscene, raw, agg = ltfs.illuminate(lscene, light=sky, scene_unit='cm')\n",
    "scene, _ = cscene.plot(raw, maxval=1.01)\n",
    "skys.show_sources(sky,scene=scene, distance=15, radius=0.3)"
   ]
  },
  {
   "cell_type": "markdown",
   "metadata": {},
   "source": [
    "* Muliplying the results by ghi (instantaneous or averaged over time) yields absolute irradiance values on organs"
   ]
  },
  {
   "cell_type": "code",
   "execution_count": 9,
   "metadata": {},
   "outputs": [
    {
     "data": {
      "text/plain": [
       "4     43.001419\n",
       "10    43.032468\n",
       "16    43.013278\n",
       "22    43.025709\n",
       "28    43.015932\n",
       "34    43.026924\n",
       "40    43.011095\n",
       "46    43.029272\n",
       "52    51.017842\n",
       "58    52.116225\n",
       "Name: Ei, dtype: float64"
      ]
     },
     "execution_count": 9,
     "metadata": {},
     "output_type": "execute_result"
    }
   ],
   "source": [
    "ghi = 70 #instanteneous, or time averaged global irradiance (W.m-2)\n",
    "irradiances = ltfs.leaf_irradiance(agg, lstring, leaf_name='Leaf') # normalised irradiances (unitless)\n",
    "absolute_irradiances = irradiances['Ei'] * ghi # actual irradiances (W.m-2)\n",
    "absolute_irradiances"
   ]
  },
  {
   "cell_type": "markdown",
   "metadata": {},
   "source": [
    "## Simulating clear sky conditions"
   ]
  },
  {
   "cell_type": "markdown",
   "metadata": {},
   "source": [
    "* On clear days, 80% of the radiation is coming from the sun, that is from the south-oriented hemisphere. Moreover, sun irradiance is also varying as a function of time of the day.\n",
    "* In such case, it is recomended to add sun sources in addition to sky sources. Generaly one position per hour is added "
   ]
  },
  {
   "cell_type": "code",
   "execution_count": 6,
   "metadata": {},
   "outputs": [
    {
     "data": {
      "text/plain": [
       "<openalea.plantgl.scenegraph._pglsg.Scene at 0x146a14a9d30>"
      ]
     },
     "execution_count": 6,
     "metadata": {},
     "output_type": "execute_result"
    }
   ],
   "source": [
    "sky = skys.sky_sources('clear_sky', daydate='2000-06-21', turtle_sectors=16, **Montpellier) \n",
    "sun = skys.sun_sources('clear_sky', daydate='2000-06-21', **Montpellier)\n",
    "sources = skys.add_sources(sun, sky)\n",
    "#\n",
    "cscene, raw, agg = ltfs.illuminate(lscene, light=sources, scene_unit='cm', north=180)\n",
    "scene, _ = cscene.plot(raw)\n",
    "skys.show_sources(sources,scene=scene, distance=15, radius=0.3, north=180)"
   ]
  },
  {
   "cell_type": "markdown",
   "metadata": {},
   "source": [
    "- north is the angle (deg, positive clockwise) from X+ to North. It should be pass both to illuminate AND show_source function"
   ]
  },
  {
   "cell_type": "markdown",
   "metadata": {},
   "source": [
    "## Simulating actual irradiances"
   ]
  },
  {
   "cell_type": "markdown",
   "metadata": {},
   "source": [
    "In general, meteorological conditions are between overcast and clear sky conditions. The cursor between theses two extremes is a function of the ratio between actual irradiance (measured) and clear sky irradiance. "
   ]
  },
  {
   "cell_type": "code",
   "execution_count": 11,
   "metadata": {},
   "outputs": [
    {
     "data": {
      "text/plain": [
       "2013-05-26 00:00:00+02:00      0.000000\n",
       "2013-05-26 01:00:00+02:00      0.000000\n",
       "2013-05-26 02:00:00+02:00      0.000000\n",
       "2013-05-26 03:00:00+02:00      0.000000\n",
       "2013-05-26 04:00:00+02:00      0.000000\n",
       "2013-05-26 05:00:00+02:00      0.000000\n",
       "2013-05-26 06:00:00+02:00     31.615385\n",
       "2013-05-26 07:00:00+02:00    166.370370\n",
       "2013-05-26 08:00:00+02:00    335.425926\n",
       "2013-05-26 09:00:00+02:00    505.481481\n",
       "2013-05-26 10:00:00+02:00    660.689655\n",
       "2013-05-26 11:00:00+02:00    783.516667\n",
       "2013-05-26 12:00:00+02:00    865.300000\n",
       "2013-05-26 13:00:00+02:00    887.883333\n",
       "2013-05-26 14:00:00+02:00    843.233333\n",
       "2013-05-26 15:00:00+02:00    861.366667\n",
       "2013-05-26 16:00:00+02:00    700.766667\n",
       "2013-05-26 17:00:00+02:00    576.966667\n",
       "2013-05-26 18:00:00+02:00    415.766667\n",
       "2013-05-26 19:00:00+02:00    241.550000\n",
       "2013-05-26 20:00:00+02:00     68.566667\n",
       "2013-05-26 21:00:00+02:00      1.433333\n",
       "2013-05-26 22:00:00+02:00      0.000000\n",
       "2013-05-26 23:00:00+02:00      0.000000\n",
       "2013-05-27 00:00:00+02:00      0.000000\n",
       "Freq: H, Name: ghi, dtype: float64"
      ]
     },
     "execution_count": 11,
     "metadata": {},
     "output_type": "execute_result"
    }
   ],
   "source": [
    "observed = skys.actual_irradiance('2013-05-26', meteo_data)\n",
    "observed"
   ]
  },
  {
   "cell_type": "code",
   "execution_count": 12,
   "metadata": {},
   "outputs": [
    {
     "data": {
      "text/plain": [
       "<openalea.plantgl.scenegraph._pglsg.Scene at 0x24dd30e90b0>"
      ]
     },
     "execution_count": 12,
     "metadata": {},
     "output_type": "execute_result"
    }
   ],
   "source": [
    "sun, sky = skys.sun_sky_sources(ghi=observed, dates=observed.index, normalisation=1, **Montpellier) \n",
    "sources = skys.add_sources(sun, sky)\n",
    "#\n",
    "cscene, raw, agg = ltfs.illuminate(lscene, light=sources, scene_unit='cm', north=180)\n",
    "scene, _ = cscene.plot(raw)\n",
    "skys.show_sources(sources,scene=scene, distance=15, radius=0.3, north=180)"
   ]
  },
  {
   "cell_type": "code",
   "execution_count": null,
   "metadata": {},
   "outputs": [],
   "source": []
  }
 ],
 "metadata": {
  "kernelspec": {
   "display_name": "Python 3",
   "language": "python",
   "name": "python3"
  },
  "language_info": {
   "codemirror_mode": {
    "name": "ipython",
    "version": 3
   },
   "file_extension": ".py",
   "mimetype": "text/x-python",
   "name": "python",
   "nbconvert_exporter": "python",
   "pygments_lexer": "ipython3",
   "version": "3.8.6"
  }
 },
 "nbformat": 4,
 "nbformat_minor": 1
}
