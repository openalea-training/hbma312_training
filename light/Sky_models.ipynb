{
 "cells": [
  {
   "cell_type": "markdown",
   "metadata": {},
   "source": [
    "# Modelling incoming radiation"
   ]
  },
  {
   "cell_type": "markdown",
   "metadata": {},
   "source": [
    "## Components of global irradiance"
   ]
  },
  {
   "cell_type": "code",
   "execution_count": 1,
   "metadata": {},
   "outputs": [
    {
     "name": "stdout",
     "output_type": "stream",
     "text": [
      "Using matplotlib backend: Qt5Agg\n"
     ]
    }
   ],
   "source": [
    "%matplotlib\n",
    "import pandas\n",
    "import matplotlib.pyplot as plt\n",
    "from alinea.astk.meteorology.sky_irradiance import sky_irradiances\n",
    "from td_light import montpellier_spring_2013, montpellier_winter_2013, actual_irradiance\n",
    "Montpellier ={\n",
    "'longitude': 3.87,\n",
    "'latitude': 43.61,\n",
    "'altitude': 56,\n",
    "'timezone': 'Europe/Paris'}\n",
    "spring = montpellier_spring_2013()"
   ]
  },
  {
   "cell_type": "markdown",
   "metadata": {},
   "source": [
    "### Estimation of irradiance sources on clear days\n",
    "Global irradiance (global horizontal irradiance, ghi), component of incoming irradiance (direct normal irradiance, dni,   and diffuse horizontal irradiance, dhi) and solar position (azimuth, zenith) can be estimated for clear day anywhere on earth (here using P. Ineichen and R. Perez, \"A New airmass independent formulation for the Linke turbidity coefficient\", Solar Energy, vol 73, pp. 151-157, 2002):"
   ]
  },
  {
   "cell_type": "code",
   "execution_count": 2,
   "metadata": {
    "scrolled": true
   },
   "outputs": [
    {
     "data": {
      "text/html": [
       "<div>\n",
       "<style scoped>\n",
       "    .dataframe tbody tr th:only-of-type {\n",
       "        vertical-align: middle;\n",
       "    }\n",
       "\n",
       "    .dataframe tbody tr th {\n",
       "        vertical-align: top;\n",
       "    }\n",
       "\n",
       "    .dataframe thead th {\n",
       "        text-align: right;\n",
       "    }\n",
       "</style>\n",
       "<table border=\"1\" class=\"dataframe\">\n",
       "  <thead>\n",
       "    <tr style=\"text-align: right;\">\n",
       "      <th></th>\n",
       "      <th>azimuth</th>\n",
       "      <th>zenith</th>\n",
       "      <th>elevation</th>\n",
       "      <th>clearness</th>\n",
       "      <th>brightness</th>\n",
       "      <th>ghi</th>\n",
       "      <th>dni</th>\n",
       "      <th>dhi</th>\n",
       "    </tr>\n",
       "  </thead>\n",
       "  <tbody>\n",
       "    <tr>\n",
       "      <th>2017-03-15 07:00:00+01:00</th>\n",
       "      <td>92.615513</td>\n",
       "      <td>89.716733</td>\n",
       "      <td>0.283267</td>\n",
       "      <td>1.000000</td>\n",
       "      <td>0.001063</td>\n",
       "      <td>0.043508</td>\n",
       "      <td>0.000000</td>\n",
       "      <td>0.043508</td>\n",
       "    </tr>\n",
       "    <tr>\n",
       "      <th>2017-03-15 08:00:00+01:00</th>\n",
       "      <td>103.117211</td>\n",
       "      <td>79.385683</td>\n",
       "      <td>10.614317</td>\n",
       "      <td>1.474582</td>\n",
       "      <td>0.294836</td>\n",
       "      <td>103.172356</td>\n",
       "      <td>138.807760</td>\n",
       "      <td>77.604389</td>\n",
       "    </tr>\n",
       "    <tr>\n",
       "      <th>2017-03-15 09:00:00+01:00</th>\n",
       "      <td>114.468339</td>\n",
       "      <td>69.141926</td>\n",
       "      <td>20.858074</td>\n",
       "      <td>2.513313</td>\n",
       "      <td>0.227361</td>\n",
       "      <td>286.086243</td>\n",
       "      <td>485.218263</td>\n",
       "      <td>113.322189</td>\n",
       "    </tr>\n",
       "    <tr>\n",
       "      <th>2017-03-15 10:00:00+01:00</th>\n",
       "      <td>127.505884</td>\n",
       "      <td>59.833764</td>\n",
       "      <td>30.166236</td>\n",
       "      <td>3.884570</td>\n",
       "      <td>0.155311</td>\n",
       "      <td>453.711226</td>\n",
       "      <td>686.266006</td>\n",
       "      <td>108.855324</td>\n",
       "    </tr>\n",
       "    <tr>\n",
       "      <th>2017-03-15 11:00:00+01:00</th>\n",
       "      <td>143.087672</td>\n",
       "      <td>52.176178</td>\n",
       "      <td>37.823822</td>\n",
       "      <td>4.425354</td>\n",
       "      <td>0.143602</td>\n",
       "      <td>582.990740</td>\n",
       "      <td>750.615706</td>\n",
       "      <td>122.686524</td>\n",
       "    </tr>\n",
       "    <tr>\n",
       "      <th>2017-03-15 12:00:00+01:00</th>\n",
       "      <td>161.653393</td>\n",
       "      <td>47.108420</td>\n",
       "      <td>42.891580</td>\n",
       "      <td>4.459195</td>\n",
       "      <td>0.148137</td>\n",
       "      <td>662.252435</td>\n",
       "      <td>766.726267</td>\n",
       "      <td>140.408412</td>\n",
       "    </tr>\n",
       "    <tr>\n",
       "      <th>2017-03-15 13:00:00+01:00</th>\n",
       "      <td>182.320671</td>\n",
       "      <td>45.570031</td>\n",
       "      <td>44.429969</td>\n",
       "      <td>4.452683</td>\n",
       "      <td>0.150096</td>\n",
       "      <td>685.163262</td>\n",
       "      <td>769.747387</td>\n",
       "      <td>146.311647</td>\n",
       "    </tr>\n",
       "    <tr>\n",
       "      <th>2017-03-15 14:00:00+01:00</th>\n",
       "      <td>202.704992</td>\n",
       "      <td>47.918315</td>\n",
       "      <td>42.081685</td>\n",
       "      <td>4.459870</td>\n",
       "      <td>0.147199</td>\n",
       "      <td>649.967659</td>\n",
       "      <td>764.824167</td>\n",
       "      <td>137.390607</td>\n",
       "    </tr>\n",
       "    <tr>\n",
       "      <th>2017-03-15 15:00:00+01:00</th>\n",
       "      <td>220.652836</td>\n",
       "      <td>53.620781</td>\n",
       "      <td>36.379219</td>\n",
       "      <td>4.395768</td>\n",
       "      <td>0.143020</td>\n",
       "      <td>559.409958</td>\n",
       "      <td>743.869112</td>\n",
       "      <td>118.201164</td>\n",
       "    </tr>\n",
       "    <tr>\n",
       "      <th>2017-03-15 16:00:00+01:00</th>\n",
       "      <td>235.636501</td>\n",
       "      <td>61.696087</td>\n",
       "      <td>28.303913</td>\n",
       "      <td>3.731082</td>\n",
       "      <td>0.159910</td>\n",
       "      <td>420.869280</td>\n",
       "      <td>664.497821</td>\n",
       "      <td>105.798739</td>\n",
       "    </tr>\n",
       "    <tr>\n",
       "      <th>2017-03-15 17:00:00+01:00</th>\n",
       "      <td>248.251582</td>\n",
       "      <td>71.247399</td>\n",
       "      <td>18.752601</td>\n",
       "      <td>2.512510</td>\n",
       "      <td>0.223242</td>\n",
       "      <td>247.520950</td>\n",
       "      <td>456.895766</td>\n",
       "      <td>100.636981</td>\n",
       "    </tr>\n",
       "    <tr>\n",
       "      <th>2017-03-15 18:00:00+01:00</th>\n",
       "      <td>259.371053</td>\n",
       "      <td>81.599246</td>\n",
       "      <td>8.400754</td>\n",
       "      <td>1.437658</td>\n",
       "      <td>0.255448</td>\n",
       "      <td>68.049444</td>\n",
       "      <td>94.999619</td>\n",
       "      <td>54.170376</td>\n",
       "    </tr>\n",
       "  </tbody>\n",
       "</table>\n",
       "</div>"
      ],
      "text/plain": [
       "                              azimuth     zenith  elevation  clearness  \\\n",
       "2017-03-15 07:00:00+01:00   92.615513  89.716733   0.283267   1.000000   \n",
       "2017-03-15 08:00:00+01:00  103.117211  79.385683  10.614317   1.474582   \n",
       "2017-03-15 09:00:00+01:00  114.468339  69.141926  20.858074   2.513313   \n",
       "2017-03-15 10:00:00+01:00  127.505884  59.833764  30.166236   3.884570   \n",
       "2017-03-15 11:00:00+01:00  143.087672  52.176178  37.823822   4.425354   \n",
       "2017-03-15 12:00:00+01:00  161.653393  47.108420  42.891580   4.459195   \n",
       "2017-03-15 13:00:00+01:00  182.320671  45.570031  44.429969   4.452683   \n",
       "2017-03-15 14:00:00+01:00  202.704992  47.918315  42.081685   4.459870   \n",
       "2017-03-15 15:00:00+01:00  220.652836  53.620781  36.379219   4.395768   \n",
       "2017-03-15 16:00:00+01:00  235.636501  61.696087  28.303913   3.731082   \n",
       "2017-03-15 17:00:00+01:00  248.251582  71.247399  18.752601   2.512510   \n",
       "2017-03-15 18:00:00+01:00  259.371053  81.599246   8.400754   1.437658   \n",
       "\n",
       "                           brightness         ghi         dni         dhi  \n",
       "2017-03-15 07:00:00+01:00    0.001063    0.043508    0.000000    0.043508  \n",
       "2017-03-15 08:00:00+01:00    0.294836  103.172356  138.807760   77.604389  \n",
       "2017-03-15 09:00:00+01:00    0.227361  286.086243  485.218263  113.322189  \n",
       "2017-03-15 10:00:00+01:00    0.155311  453.711226  686.266006  108.855324  \n",
       "2017-03-15 11:00:00+01:00    0.143602  582.990740  750.615706  122.686524  \n",
       "2017-03-15 12:00:00+01:00    0.148137  662.252435  766.726267  140.408412  \n",
       "2017-03-15 13:00:00+01:00    0.150096  685.163262  769.747387  146.311647  \n",
       "2017-03-15 14:00:00+01:00    0.147199  649.967659  764.824167  137.390607  \n",
       "2017-03-15 15:00:00+01:00    0.143020  559.409958  743.869112  118.201164  \n",
       "2017-03-15 16:00:00+01:00    0.159910  420.869280  664.497821  105.798739  \n",
       "2017-03-15 17:00:00+01:00    0.223242  247.520950  456.895766  100.636981  \n",
       "2017-03-15 18:00:00+01:00    0.255448   68.049444   94.999619   54.170376  "
      ]
     },
     "execution_count": 2,
     "metadata": {},
     "output_type": "execute_result"
    }
   ],
   "source": [
    "sky_irradiances(daydate='2017-03-15', **Montpellier)"
   ]
  },
  {
   "cell_type": "markdown",
   "metadata": {},
   "source": [
    "* what is the diffuse (sky) / global (sun + sky) ratio for a clear day ?"
   ]
  },
  {
   "cell_type": "markdown",
   "metadata": {},
   "source": [
    "### Comparison with measured horizontal irradiance \n",
    "\n",
    "* Pick-up some date using next cells and compare theoretic and actual irradiance for two contrasting  dates in spring or winter\n",
    "* How good is the model for clear sky days ?\n",
    "* For overcast (low light days) ?\n",
    "\n"
   ]
  },
  {
   "cell_type": "code",
   "execution_count": 4,
   "metadata": {},
   "outputs": [
    {
     "data": {
      "text/plain": [
       "2013-05-21 00:00:00+02:00    6505.600000\n",
       "2013-05-22 00:00:00+02:00    7577.748872\n",
       "2013-05-23 00:00:00+02:00    5130.591243\n",
       "2013-05-24 00:00:00+02:00    5523.983333\n",
       "2013-05-25 00:00:00+02:00    5915.285608\n",
       "2013-05-26 00:00:00+02:00    7945.932818\n",
       "2013-05-27 00:00:00+02:00    6819.183333\n",
       "2013-05-28 00:00:00+02:00    2270.515964\n",
       "2013-05-29 00:00:00+02:00    6097.266667\n",
       "2013-05-30 00:00:00+02:00    6539.733333\n",
       "2013-05-31 00:00:00+02:00    4847.044996\n",
       "2013-06-01 00:00:00+02:00    7976.483333\n",
       "2013-06-02 00:00:00+02:00    7996.316667\n",
       "2013-06-03 00:00:00+02:00    8013.163911\n",
       "2013-06-04 00:00:00+02:00    7643.300000\n",
       "2013-06-05 00:00:00+02:00    7507.494186\n",
       "2013-06-06 00:00:00+02:00    7906.835432\n",
       "2013-06-07 00:00:00+02:00    7473.433213\n",
       "2013-06-08 00:00:00+02:00    1293.099425\n",
       "2013-06-09 00:00:00+02:00    3352.816667\n",
       "2013-06-10 00:00:00+02:00    6997.682055\n",
       "2013-06-11 00:00:00+02:00    8124.089114\n",
       "2013-06-12 00:00:00+02:00    7984.383333\n",
       "2013-06-13 00:00:00+02:00    7705.870690\n",
       "2013-06-14 00:00:00+02:00    7393.816667\n",
       "2013-06-15 00:00:00+02:00    6795.103455\n",
       "2013-06-16 00:00:00+02:00    7813.889387\n",
       "2013-06-17 00:00:00+02:00    6776.066667\n",
       "2013-06-18 00:00:00+02:00    6150.000000\n",
       "2013-06-19 00:00:00+02:00    2701.001794\n",
       "2013-06-20 00:00:00+02:00    5817.992938\n",
       "2013-06-21 00:00:00+02:00    7371.600000\n",
       "2013-06-22 00:00:00+02:00    7810.332501\n",
       "2013-06-23 00:00:00+02:00       0.000000\n",
       "2013-06-24 00:00:00+02:00    7245.688095\n",
       "2013-06-25 00:00:00+02:00    8053.716667\n",
       "2013-06-26 00:00:00+02:00    7985.273435\n",
       "2013-06-27 00:00:00+02:00    7168.313357\n",
       "2013-06-28 00:00:00+02:00    6623.266667\n",
       "2013-06-29 00:00:00+02:00    7012.233333\n",
       "2013-06-30 00:00:00+02:00    8023.738760\n",
       "2013-07-01 00:00:00+02:00    7923.900000\n",
       "2013-07-02 00:00:00+02:00    6982.616667\n",
       "2013-07-03 00:00:00+02:00    4666.239500\n",
       "2013-07-04 00:00:00+02:00    7913.438701\n",
       "Freq: D, Name: ghi, dtype: float64"
      ]
     },
     "execution_count": 4,
     "metadata": {},
     "output_type": "execute_result"
    }
   ],
   "source": [
    "spring.groupby(pandas.Grouper(freq='D')).agg('sum').loc[:,'ghi']"
   ]
  },
  {
   "cell_type": "code",
   "execution_count": 10,
   "metadata": {},
   "outputs": [
    {
     "data": {
      "text/plain": [
       "[<matplotlib.lines.Line2D at 0x236979be9d0>]"
      ]
     },
     "execution_count": 10,
     "metadata": {},
     "output_type": "execute_result"
    },
    {
     "data": {
      "image/png": "[encoded data removed]",
      "text/plain": [
       "<Figure size 432x288 with 1 Axes>"
      ]
     },
     "metadata": {
      "needs_background": "light"
     },
     "output_type": "display_data"
    }
   ],
   "source": [
    "%matplotlib inline\n",
    "ghi_t = sky_irradiances(daydate='2013-05-28',**Montpellier).ghi\n",
    "ghi_obs = spring.loc[ghi_t.index,'ghi']\n",
    "plt.plot(ghi_obs)\n",
    "plt.plot(ghi_t)"
   ]
  },
  {
   "cell_type": "markdown",
   "metadata": {},
   "source": [
    "### Estimation of irradiance sources on non clear days\n",
    "On overcast day, dni and ghi can be estimated by models (here Perez, R., P. Ineichen, E. Maxwell, R. Seals and A. Zelenka, (1992).Dynamic Global-to-Direct Irradiance Conversion Models. ASHRAE Transactions-Research Series, pp. 354-369) by comparing expected and actual radiation"
   ]
  },
  {
   "cell_type": "code",
   "execution_count": 11,
   "metadata": {},
   "outputs": [
    {
     "data": {
      "text/html": [
       "<div>\n",
       "<style scoped>\n",
       "    .dataframe tbody tr th:only-of-type {\n",
       "        vertical-align: middle;\n",
       "    }\n",
       "\n",
       "    .dataframe tbody tr th {\n",
       "        vertical-align: top;\n",
       "    }\n",
       "\n",
       "    .dataframe thead th {\n",
       "        text-align: right;\n",
       "    }\n",
       "</style>\n",
       "<table border=\"1\" class=\"dataframe\">\n",
       "  <thead>\n",
       "    <tr style=\"text-align: right;\">\n",
       "      <th></th>\n",
       "      <th>azimuth</th>\n",
       "      <th>zenith</th>\n",
       "      <th>elevation</th>\n",
       "      <th>clearness</th>\n",
       "      <th>brightness</th>\n",
       "      <th>ghi</th>\n",
       "      <th>dni</th>\n",
       "      <th>dhi</th>\n",
       "    </tr>\n",
       "  </thead>\n",
       "  <tbody>\n",
       "    <tr>\n",
       "      <th>2013-05-28 07:00:00+02:00</th>\n",
       "      <td>67.373910</td>\n",
       "      <td>82.386737</td>\n",
       "      <td>7.613263</td>\n",
       "      <td>1.426135</td>\n",
       "      <td>0.301614</td>\n",
       "      <td>69.300000</td>\n",
       "      <td>98.221226</td>\n",
       "      <td>56.287079</td>\n",
       "    </tr>\n",
       "    <tr>\n",
       "      <th>2013-05-28 08:00:00+02:00</th>\n",
       "      <td>76.997238</td>\n",
       "      <td>72.118176</td>\n",
       "      <td>17.881824</td>\n",
       "      <td>1.000000</td>\n",
       "      <td>0.152879</td>\n",
       "      <td>63.383333</td>\n",
       "      <td>0.000000</td>\n",
       "      <td>63.383333</td>\n",
       "    </tr>\n",
       "    <tr>\n",
       "      <th>2013-05-28 09:00:00+02:00</th>\n",
       "      <td>86.707123</td>\n",
       "      <td>61.397772</td>\n",
       "      <td>28.602228</td>\n",
       "      <td>1.000000</td>\n",
       "      <td>0.109577</td>\n",
       "      <td>70.415094</td>\n",
       "      <td>0.000000</td>\n",
       "      <td>70.415094</td>\n",
       "    </tr>\n",
       "    <tr>\n",
       "      <th>2013-05-28 10:00:00+02:00</th>\n",
       "      <td>97.335991</td>\n",
       "      <td>50.565164</td>\n",
       "      <td>39.434836</td>\n",
       "      <td>1.000000</td>\n",
       "      <td>0.185765</td>\n",
       "      <td>158.132075</td>\n",
       "      <td>0.000000</td>\n",
       "      <td>158.132075</td>\n",
       "    </tr>\n",
       "    <tr>\n",
       "      <th>2013-05-28 11:00:00+02:00</th>\n",
       "      <td>110.272719</td>\n",
       "      <td>40.030543</td>\n",
       "      <td>49.969457</td>\n",
       "      <td>1.029516</td>\n",
       "      <td>0.262878</td>\n",
       "      <td>277.833333</td>\n",
       "      <td>10.781785</td>\n",
       "      <td>269.577703</td>\n",
       "    </tr>\n",
       "    <tr>\n",
       "      <th>2013-05-28 12:00:00+02:00</th>\n",
       "      <td>128.145322</td>\n",
       "      <td>30.536515</td>\n",
       "      <td>59.463485</td>\n",
       "      <td>1.039782</td>\n",
       "      <td>0.252692</td>\n",
       "      <td>302.962963</td>\n",
       "      <td>13.419543</td>\n",
       "      <td>291.404636</td>\n",
       "    </tr>\n",
       "    <tr>\n",
       "      <th>2013-05-28 13:00:00+02:00</th>\n",
       "      <td>155.224659</td>\n",
       "      <td>23.724731</td>\n",
       "      <td>66.275269</td>\n",
       "      <td>1.000000</td>\n",
       "      <td>0.061693</td>\n",
       "      <td>75.611111</td>\n",
       "      <td>0.000000</td>\n",
       "      <td>75.611111</td>\n",
       "    </tr>\n",
       "    <tr>\n",
       "      <th>2013-05-28 14:00:00+02:00</th>\n",
       "      <td>191.173810</td>\n",
       "      <td>22.397590</td>\n",
       "      <td>67.602410</td>\n",
       "      <td>1.011623</td>\n",
       "      <td>0.185770</td>\n",
       "      <td>232.555556</td>\n",
       "      <td>2.838570</td>\n",
       "      <td>229.931121</td>\n",
       "    </tr>\n",
       "    <tr>\n",
       "      <th>2013-05-28 15:00:00+02:00</th>\n",
       "      <td>222.576566</td>\n",
       "      <td>27.387647</td>\n",
       "      <td>62.612353</td>\n",
       "      <td>1.004897</td>\n",
       "      <td>0.186021</td>\n",
       "      <td>222.203704</td>\n",
       "      <td>1.205971</td>\n",
       "      <td>221.132905</td>\n",
       "    </tr>\n",
       "    <tr>\n",
       "      <th>2013-05-28 16:00:00+02:00</th>\n",
       "      <td>243.540107</td>\n",
       "      <td>36.093449</td>\n",
       "      <td>53.906551</td>\n",
       "      <td>1.006545</td>\n",
       "      <td>0.183279</td>\n",
       "      <td>199.641509</td>\n",
       "      <td>1.635773</td>\n",
       "      <td>198.319711</td>\n",
       "    </tr>\n",
       "    <tr>\n",
       "      <th>2013-05-28 17:00:00+02:00</th>\n",
       "      <td>258.011880</td>\n",
       "      <td>46.334073</td>\n",
       "      <td>43.665927</td>\n",
       "      <td>1.000000</td>\n",
       "      <td>0.099806</td>\n",
       "      <td>92.320755</td>\n",
       "      <td>0.000000</td>\n",
       "      <td>92.320755</td>\n",
       "    </tr>\n",
       "    <tr>\n",
       "      <th>2013-05-28 18:00:00+02:00</th>\n",
       "      <td>269.339665</td>\n",
       "      <td>57.101693</td>\n",
       "      <td>32.898307</td>\n",
       "      <td>1.012758</td>\n",
       "      <td>0.231662</td>\n",
       "      <td>171.129630</td>\n",
       "      <td>4.371499</td>\n",
       "      <td>168.755251</td>\n",
       "    </tr>\n",
       "    <tr>\n",
       "      <th>2013-05-28 19:00:00+02:00</th>\n",
       "      <td>279.295936</td>\n",
       "      <td>67.897275</td>\n",
       "      <td>22.102725</td>\n",
       "      <td>1.558785</td>\n",
       "      <td>0.305040</td>\n",
       "      <td>243.185185</td>\n",
       "      <td>235.820453</td>\n",
       "      <td>154.453417</td>\n",
       "    </tr>\n",
       "    <tr>\n",
       "      <th>2013-05-28 20:00:00+02:00</th>\n",
       "      <td>288.877768</td>\n",
       "      <td>78.376773</td>\n",
       "      <td>11.623227</td>\n",
       "      <td>1.125949</td>\n",
       "      <td>0.255811</td>\n",
       "      <td>77.092593</td>\n",
       "      <td>32.555554</td>\n",
       "      <td>70.533462</td>\n",
       "    </tr>\n",
       "    <tr>\n",
       "      <th>2013-05-28 21:00:00+02:00</th>\n",
       "      <td>298.751609</td>\n",
       "      <td>88.071417</td>\n",
       "      <td>1.928583</td>\n",
       "      <td>1.000000</td>\n",
       "      <td>0.024427</td>\n",
       "      <td>1.649123</td>\n",
       "      <td>0.000000</td>\n",
       "      <td>1.649123</td>\n",
       "    </tr>\n",
       "  </tbody>\n",
       "</table>\n",
       "</div>"
      ],
      "text/plain": [
       "                              azimuth     zenith  elevation  clearness  \\\n",
       "2013-05-28 07:00:00+02:00   67.373910  82.386737   7.613263   1.426135   \n",
       "2013-05-28 08:00:00+02:00   76.997238  72.118176  17.881824   1.000000   \n",
       "2013-05-28 09:00:00+02:00   86.707123  61.397772  28.602228   1.000000   \n",
       "2013-05-28 10:00:00+02:00   97.335991  50.565164  39.434836   1.000000   \n",
       "2013-05-28 11:00:00+02:00  110.272719  40.030543  49.969457   1.029516   \n",
       "2013-05-28 12:00:00+02:00  128.145322  30.536515  59.463485   1.039782   \n",
       "2013-05-28 13:00:00+02:00  155.224659  23.724731  66.275269   1.000000   \n",
       "2013-05-28 14:00:00+02:00  191.173810  22.397590  67.602410   1.011623   \n",
       "2013-05-28 15:00:00+02:00  222.576566  27.387647  62.612353   1.004897   \n",
       "2013-05-28 16:00:00+02:00  243.540107  36.093449  53.906551   1.006545   \n",
       "2013-05-28 17:00:00+02:00  258.011880  46.334073  43.665927   1.000000   \n",
       "2013-05-28 18:00:00+02:00  269.339665  57.101693  32.898307   1.012758   \n",
       "2013-05-28 19:00:00+02:00  279.295936  67.897275  22.102725   1.558785   \n",
       "2013-05-28 20:00:00+02:00  288.877768  78.376773  11.623227   1.125949   \n",
       "2013-05-28 21:00:00+02:00  298.751609  88.071417   1.928583   1.000000   \n",
       "\n",
       "                           brightness         ghi         dni         dhi  \n",
       "2013-05-28 07:00:00+02:00    0.301614   69.300000   98.221226   56.287079  \n",
       "2013-05-28 08:00:00+02:00    0.152879   63.383333    0.000000   63.383333  \n",
       "2013-05-28 09:00:00+02:00    0.109577   70.415094    0.000000   70.415094  \n",
       "2013-05-28 10:00:00+02:00    0.185765  158.132075    0.000000  158.132075  \n",
       "2013-05-28 11:00:00+02:00    0.262878  277.833333   10.781785  269.577703  \n",
       "2013-05-28 12:00:00+02:00    0.252692  302.962963   13.419543  291.404636  \n",
       "2013-05-28 13:00:00+02:00    0.061693   75.611111    0.000000   75.611111  \n",
       "2013-05-28 14:00:00+02:00    0.185770  232.555556    2.838570  229.931121  \n",
       "2013-05-28 15:00:00+02:00    0.186021  222.203704    1.205971  221.132905  \n",
       "2013-05-28 16:00:00+02:00    0.183279  199.641509    1.635773  198.319711  \n",
       "2013-05-28 17:00:00+02:00    0.099806   92.320755    0.000000   92.320755  \n",
       "2013-05-28 18:00:00+02:00    0.231662  171.129630    4.371499  168.755251  \n",
       "2013-05-28 19:00:00+02:00    0.305040  243.185185  235.820453  154.453417  \n",
       "2013-05-28 20:00:00+02:00    0.255811   77.092593   32.555554   70.533462  \n",
       "2013-05-28 21:00:00+02:00    0.024427    1.649123    0.000000    1.649123  "
      ]
     },
     "execution_count": 11,
     "metadata": {},
     "output_type": "execute_result"
    }
   ],
   "source": [
    "sky_irradiances(daydate='2013-05-28', ghi = ghi_obs, **Montpellier)"
   ]
  },
  {
   "cell_type": "markdown",
   "metadata": {},
   "source": [
    "* What is diffuse to global ratio in this case ?"
   ]
  },
  {
   "cell_type": "markdown",
   "metadata": {},
   "source": [
    "## Directions of incidence"
   ]
  },
  {
   "cell_type": "markdown",
   "metadata": {},
   "source": [
    "### Sun positions"
   ]
  },
  {
   "cell_type": "markdown",
   "metadata": {},
   "source": [
    "The general idea is to attribute dni to sun position and spread dhi in the sky hemisphere.\n",
    "For sun,  astronomical formulae (used by sky_irradiance) and simple models allow to predict intensity and direction of light incoming from the sun"
   ]
  },
  {
   "cell_type": "markdown",
   "metadata": {},
   "source": [
    "##### Sky luminance\n",
    "For sky, standard distribution have been proposed for clear_sky and fully overcast days.\n",
    "For intermediate days, several interpolation strategy exist, the simpler one beeing to mix according to a linear ratio the two standard skies"
   ]
  },
  {
   "cell_type": "markdown",
   "metadata": {},
   "source": [
    "Next cells allow to plot the overcast sky (soc: standard overcast sky) and clear sky luminance, and a mixed of the two depending on learness index of the day"
   ]
  },
  {
   "cell_type": "code",
   "execution_count": 16,
   "metadata": {},
   "outputs": [],
   "source": [
    "from alinea.astk.sun_and_sky import cie_relative_luminance, sky_blend\n",
    "from td_light import polar_grid, polar_plot\n",
    "cie_relative_luminance?\n",
    "sky_blend?"
   ]
  },
  {
   "cell_type": "code",
   "execution_count": 15,
   "metadata": {},
   "outputs": [],
   "source": [
    "cie_relative_luminance?"
   ]
  },
  {
   "cell_type": "code",
   "execution_count": 13,
   "metadata": {},
   "outputs": [
    {
     "data": {
      "image/png": "[encoded data removed]",
      "text/plain": [
       "<Figure size 432x288 with 2 Axes>"
      ]
     },
     "metadata": {
      "needs_background": "light"
     },
     "output_type": "display_data"
    }
   ],
   "source": [
    "elev, azim, zenith = polar_grid()\n",
    "luminance = cie_relative_luminance(elev, azim, type='soc')\n",
    "polar_plot(zenith, azim, luminance)"
   ]
  },
  {
   "cell_type": "markdown",
   "metadata": {},
   "source": [
    "* Plot and compare clear skies distributions and/or mixed ones"
   ]
  },
  {
   "cell_type": "markdown",
   "metadata": {},
   "source": [
    "### Temporal integration and spatial discretisation"
   ]
  },
  {
   "cell_type": "markdown",
   "metadata": {},
   "source": [
    "Depending on the model, different strategy could be used for temporal integration and spatial discretisation. Most common ones are\n",
    "to use 46 direction for sky, irradiance distribution beeing averaged for a time step (typically a day) + optionally add one source per hour for sun.\n",
    "Time step could be dwnscaled to hour (or less).\n",
    "The next cells allows to compute such sources for different time steps and different strategy. (Spatial discretisation is fixed)."
   ]
  },
  {
   "cell_type": "code",
   "execution_count": 8,
   "metadata": {},
   "outputs": [],
   "source": [
    "from alinea.astk.sun_and_sky import sky_sources, sun_sky_sources\n",
    "sun_sky_sources?\n",
    "sky_sources?"
   ]
  },
  {
   "cell_type": "code",
   "execution_count": 10,
   "metadata": {
    "scrolled": false
   },
   "outputs": [
    {
     "data": {
      "text/plain": [
       "((array([  7.28688656,  17.57855488,  28.33392306,  39.21389787,\n",
       "          49.81618575,  59.41561634,  66.392851  ,  67.89550027,\n",
       "          62.9680953 ,  54.24523228,  43.96618237,  33.15504616,\n",
       "          22.31285067,  11.78210754,   2.02408033]),\n",
       "  array([  67.11601909,   76.69719625,   86.33945709,   96.86633678,\n",
       "          109.65012578,  127.30662911,  154.21648213,  190.43797067,\n",
       "          222.29931747,  243.45156403,  257.95481049,  269.25914887,\n",
       "          279.17222981,  288.70244141,  298.5207382 ]),\n",
       "  array([  5.46865692e-01,   3.35160233e+00,   6.87949215e+00,\n",
       "           1.03107607e+01,   1.32494423e+01,   1.54346583e+01,\n",
       "           1.66912000e+01,   1.69225346e+01,   1.61113106e+01,\n",
       "           1.43196344e+01,   1.16882224e+01,   8.43820284e+00,\n",
       "           4.89311710e+00,   1.60956193e+00,   1.04199659e-02])),\n",
       " ([9.23,\n",
       "   9.23,\n",
       "   9.23,\n",
       "   9.23,\n",
       "   9.23,\n",
       "   9.23,\n",
       "   9.23,\n",
       "   9.23,\n",
       "   9.23,\n",
       "   9.23,\n",
       "   10.81,\n",
       "   10.81,\n",
       "   10.81,\n",
       "   10.81,\n",
       "   10.81,\n",
       "   26.57,\n",
       "   26.57,\n",
       "   26.57,\n",
       "   26.57,\n",
       "   26.57,\n",
       "   31.08,\n",
       "   31.08,\n",
       "   31.08,\n",
       "   31.08,\n",
       "   31.08,\n",
       "   31.08,\n",
       "   31.08,\n",
       "   31.08,\n",
       "   31.08,\n",
       "   31.08,\n",
       "   47.41,\n",
       "   47.41,\n",
       "   47.41,\n",
       "   47.41,\n",
       "   47.41,\n",
       "   52.62,\n",
       "   52.62,\n",
       "   52.62,\n",
       "   52.62,\n",
       "   52.62,\n",
       "   69.16,\n",
       "   69.16,\n",
       "   69.16,\n",
       "   69.16,\n",
       "   69.16,\n",
       "   90],\n",
       "  [12.23,\n",
       "   59.77,\n",
       "   84.23,\n",
       "   131.77,\n",
       "   156.23,\n",
       "   203.77,\n",
       "   228.23,\n",
       "   275.77,\n",
       "   300.23,\n",
       "   347.77,\n",
       "   36,\n",
       "   108,\n",
       "   180,\n",
       "   252,\n",
       "   324,\n",
       "   0,\n",
       "   72,\n",
       "   144,\n",
       "   216,\n",
       "   288,\n",
       "   23.27,\n",
       "   48.73,\n",
       "   95.27,\n",
       "   120.73,\n",
       "   167.27,\n",
       "   192.73,\n",
       "   239.27,\n",
       "   264.73,\n",
       "   311.27,\n",
       "   336.73,\n",
       "   0,\n",
       "   72,\n",
       "   144,\n",
       "   216,\n",
       "   288,\n",
       "   36,\n",
       "   108,\n",
       "   180,\n",
       "   252,\n",
       "   324,\n",
       "   0,\n",
       "   72,\n",
       "   144,\n",
       "   216,\n",
       "   288,\n",
       "   180],\n",
       "  array([   8.10270596,    9.84221289,   10.57918464,    9.11375321,\n",
       "            8.66577933,    8.66274797,    9.11016787,   10.59237879,\n",
       "            9.88978619,    8.11119737,   11.02068553,   12.63019886,\n",
       "           11.00750414,   12.63063251,   11.05998541,   27.64431557,\n",
       "           32.02308496,   30.05978407,   30.05516506,   32.07193064,\n",
       "           39.64129322,   41.26665982,   46.39428403,   44.19366949,\n",
       "           41.87721342,   41.87487768,   44.1909712 ,   46.52221603,\n",
       "           41.30738703,   39.66090703,   66.95046988,   71.53393658,\n",
       "           73.34457125,   73.34027386,   71.56079654,   80.45089488,\n",
       "           89.11022759,   86.1640396 ,   88.92637551,   80.46737371,\n",
       "           97.25649464,  100.15528423,  105.86558517,  105.75167755,\n",
       "          100.16844681,   96.10981094])))"
      ]
     },
     "execution_count": 10,
     "metadata": {},
     "output_type": "execute_result"
    }
   ],
   "source": [
    "sun_sky_sources(ghi_obs, dates = ghi_obs.index)"
   ]
  },
  {
   "cell_type": "code",
   "execution_count": null,
   "metadata": {
    "collapsed": true
   },
   "outputs": [],
   "source": []
  }
 ],
 "metadata": {
  "kernelspec": {
   "display_name": "Python 3",
   "language": "python",
   "name": "python3"
  },
  "language_info": {
   "codemirror_mode": {
    "name": "ipython",
    "version": 3
   },
   "file_extension": ".py",
   "mimetype": "text/x-python",
   "name": "python",
   "nbconvert_exporter": "python",
   "pygments_lexer": "ipython3",
   "version": "3.8.6"
  }
 },
 "nbformat": 4,
 "nbformat_minor": 1
}
