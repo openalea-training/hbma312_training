{
 "cells": [
  {
   "cell_type": "markdown",
   "metadata": {},
   "source": [
    "# Photosynthesis and Radiation use"
   ]
  },
  {
   "cell_type": "markdown",
   "metadata": {},
   "source": [
    "We will use the same architecture as for light interception"
   ]
  },
  {
   "cell_type": "code",
   "execution_count": 1,
   "metadata": {},
   "outputs": [],
   "source": [
    "%gui qt4\n",
    "from td_light import simple_tree, mtg_tree, mtg_nenuphar, display_leaves, light_response, pm_acclimated"
   ]
  },
  {
   "cell_type": "code",
   "execution_count": 2,
   "metadata": {},
   "outputs": [
    {
     "data": {
      "text/plain": [
       "<openalea.plantgl.scenegraph._pglsg.Scene at 0x1bba3e4a670>"
      ]
     },
     "execution_count": 2,
     "metadata": {},
     "output_type": "execute_result"
    }
   ],
   "source": [
    "gtree = mtg_tree()\n",
    "gnen = mtg_nenuphar()\n",
    "display_leaves(gtree)"
   ]
  },
  {
   "cell_type": "markdown",
   "metadata": {},
   "source": [
    "## Light response curve for leaves"
   ]
  },
  {
   "cell_type": "code",
   "execution_count": 3,
   "metadata": {},
   "outputs": [],
   "source": [
    "#We consider a simple model for simulting a hypothetic response to irradiance of individual leaves.\n",
    "light_response??"
   ]
  },
  {
   "cell_type": "markdown",
   "metadata": {},
   "source": [
    "* plot light response to irradiance and choose Pm so that leaf phothosynthesis equals 70% of maximum capacity \n",
    "for irradiance = 1. (solution see pm_accclimated)"
   ]
  },
  {
   "cell_type": "markdown",
   "metadata": {},
   "source": [
    "## Light response curve for plants"
   ]
  },
  {
   "cell_type": "markdown",
   "metadata": {},
   "source": [
    "* Considering a continuous irradance for a 12h period, compute plant biomass production as a function of mean incident irradiance for overcast conditions (solution in plant_response_curve function)"
   ]
  },
  {
   "cell_type": "markdown",
   "metadata": {},
   "source": [
    "* Compare the three architecture"
   ]
  },
  {
   "cell_type": "markdown",
   "metadata": {},
   "source": [
    "## Acclimated light response curve for plants"
   ]
  },
  {
   "cell_type": "markdown",
   "metadata": {},
   "source": [
    "We hypothesise that pm can be controlled by plants by re-allocating nitrogen between leaves. \n",
    "The equilibrium for this acclimatation is reached when leaf photosynthesis equals 70% of maximum capacity \n",
    "at mean leaf irradiance.\n",
    "* Establish the plant biomass response curve to light considering perfect acclimatation but only using nitrogen\n",
    "re-allocation (each gain in Pm should be compensated by a loss of Pm in another leaf)"
   ]
  },
  {
   "cell_type": "code",
   "execution_count": null,
   "metadata": {
    "collapsed": true
   },
   "outputs": [],
   "source": []
  }
 ],
 "metadata": {
  "kernelspec": {
   "display_name": "Python 3",
   "language": "python",
   "name": "python3"
  },
  "language_info": {
   "codemirror_mode": {
    "name": "ipython",
    "version": 3
   },
   "file_extension": ".py",
   "mimetype": "text/x-python",
   "name": "python",
   "nbconvert_exporter": "python",
   "pygments_lexer": "ipython3",
   "version": "3.8.6"
  }
 },
 "nbformat": 4,
 "nbformat_minor": 1
}
