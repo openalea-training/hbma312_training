{
 "cells": [
  {
   "cell_type": "markdown",
   "metadata": {},
   "source": [
    "# Simulation of the growth and development of an apple tree 2 - Architecture"
   ]
  },
  {
   "cell_type": "code",
   "execution_count": 1,
   "metadata": {},
   "outputs": [],
   "source": [
    "from imp import reload\n",
    "import namedenum ; reload(namedenum)\n",
    "from namedenum import enum\n",
    "import numpy as np\n",
    "\n",
    "gutypes = enum('ShortGU', 'LongGU', 'Inflo', 'TrunkGU')\n",
    "gufate  = enum('Proleptic','Sylleptic','Blind')\n",
    "\n",
    "def is_sylleptic(gufate):\n",
    "    return gufate == Sylleptic\n",
    "\n",
    "def is_proleptic(gufate):\n",
    "    return gufate == Proleptic\n",
    "    \n",
    "\n",
    "    "
   ]
  },
  {
   "cell_type": "markdown",
   "metadata": {},
   "source": [
    "## Growth unit succession and flowering among years"
   ]
  },
  {
   "cell_type": "code",
   "execution_count": 2,
   "metadata": {},
   "outputs": [],
   "source": [
    "sucessiontypes = [ShortGU, LongGU, Inflo]\n",
    "successionmatrix = [[0.6,  0.0,  0.4],\n",
    "                    [0.35, 0.25, 0.4],\n",
    "                    [0.95, 0.05,  0]\n",
    "                   ]\n",
    "#from random import uniform, seed\n",
    "from numpy import cumsum\n",
    "from numpy.random import uniform\n",
    "\n",
    "\n",
    "def realization_in_probaranges(probas):\n",
    "    cumsum_probs = cumsum(probas)\n",
    "    totalprob = cumsum_probs[-1]\n",
    "    cumsum_probs /= totalprob\n",
    "    assert abs(cumsum_probs[-1] -1) < 1e-5\n",
    "    unif_realization = float( uniform(0,1) )\n",
    "    i = 0\n",
    "    while unif_realization >= cumsum_probs[i] : i += 1\n",
    "    return i\n",
    "\n",
    "def succession(gutype, successionmatrix = successionmatrix):\n",
    "    if gutype == TrunkGU : return LongGU\n",
    "    probas = successionmatrix[gutype]\n",
    "    return sucessiontypes[realization_in_probaranges(probas)]\n"
   ]
  },
  {
   "cell_type": "code",
   "execution_count": 3,
   "metadata": {
    "example": true,
    "tags": [
     "example"
    ]
   },
   "outputs": [
    {
     "name": "stdout",
     "output_type": "stream",
     "text": [
      "Inflo\n",
      "ShortGU\n",
      "Succession Probabilities\n"
     ]
    },
    {
     "data": {
      "image/png": "[encoded data removed]",
      "text/plain": [
       "<Figure size 432x288 with 1 Axes>"
      ]
     },
     "metadata": {
      "needs_background": "light"
     },
     "output_type": "display_data"
    }
   ],
   "source": [
    "# Example of Use\n",
    "from matplotlib.pyplot import *\n",
    "%matplotlib inline\n",
    "\n",
    "print(succession(LongGU))\n",
    "print(succession(Inflo))\n",
    "\n",
    "print('Succession Probabilities')\n",
    "imshow(successionmatrix, cmap='jet', vmin = 0, vmax = 1)\n",
    "xticks(range(3),map(str,sucessiontypes))\n",
    "yticks(range(3),map(str,sucessiontypes))\n",
    "for i in range(3):\n",
    "    for j in range(3):\n",
    "        text(i,j,str(successionmatrix[j][i]), color='w')\n",
    "show()"
   ]
  },
  {
   "cell_type": "markdown",
   "metadata": {},
   "source": [
    "## Branching probability"
   ]
  },
  {
   "cell_type": "code",
   "execution_count": 8,
   "metadata": {},
   "outputs": [],
   "source": [
    "def normalize(matrix):\n",
    "    def nml(a):\n",
    "        s = sum(a)\n",
    "        return a/s\n",
    "    matrix = np.array(matrix)\n",
    "    return np.array([nml(probas) for probas in matrix])\n",
    "    \n",
    "lateralfates = [Blind, Proleptic, Sylleptic]\n",
    "branchingmatrixfate = normalize([\n",
    "    [0.4,0.6,0],\n",
    "    [0.3,0.7,0],\n",
    "    [0.4,0.6,0],\n",
    "    [0.7,0.3,0],\n",
    "    [0.4,0.25,0.35],\n",
    "    [0.4,0.25,0.35],\n",
    "    [0.35,0.2,0.45],\n",
    "    [0.35,0.3,0.35],\n",
    "    [0.3,0.55,0.15],\n",
    "    [0.65,0.35,0]\n",
    "])\n",
    "\n",
    "\n",
    "lateraltypes = [ShortGU, LongGU, Inflo]\n",
    "branchingmatrixtype = normalize([\n",
    "    [0.5,0.5,0],\n",
    "    [0.5,0.5,0],\n",
    "    [0.75,0.25,0],\n",
    "    [1,0,0],\n",
    "    [1,0,0],\n",
    "    [0.5,0.5,0],\n",
    "    [0.25,0,0.75],\n",
    "    [0.15,0.35,0.5],\n",
    "    [0.15,0.7,0.15],\n",
    "    [0.4,0.6,0]\n",
    "])\n",
    "\n",
    "branchingmatrixtype = np.array(branchingmatrixtype)\n",
    "\n",
    "def branching(gutype, u, branchingmatrixfate = branchingmatrixfate, branchingmatrixtype = branchingmatrixtype):\n",
    "    if gutype in [ShortGU, Inflo] : return Blind, None\n",
    "    i, _ = divmod(u, 0.1)\n",
    "    probafate = branchingmatrixfate[int(i)]\n",
    "    fate = lateralfates[realization_in_probaranges(probafate)]\n",
    "    if fate == Blind: return Blind, None\n",
    "    probatype = branchingmatrixtype[int(i)]\n",
    "    ptype = lateraltypes[realization_in_probaranges(probatype)]\n",
    "    if fate == Sylleptic and ptype == Inflo:\n",
    "        fate = Proleptic\n",
    "    return fate, ptype\n",
    "\n",
    "num2str = lambda v : '%.1f' % v\n",
    "from matplotlib.pyplot import *\n",
    "def plot_matrix(matrix, labels):\n",
    "    imshow(matrix, cmap='jet', vmin = 0, vmax = 1)\n",
    "    xticks(range(len(labels)),map(str,labels),rotation=90)\n",
    "    nb = len(matrix)\n",
    "    yticks(range(nb),map(num2str,[0.1*i for i in range(nb)]))\n",
    "    for i in range(len(labels)):\n",
    "        for j in range(nb):\n",
    "            text(i-0.5,j,num2str(matrix[j][i]), color='w')\n",
    "    show()\n",
    "    "
   ]
  },
  {
   "cell_type": "code",
   "execution_count": 9,
   "metadata": {
    "example": true,
    "tags": [
     "example"
    ]
   },
   "outputs": [
    {
     "name": "stdout",
     "output_type": "stream",
     "text": [
      "Branching Fate Probabilities \n"
     ]
    },
    {
     "data": {
      "image/png": "[encoded data removed]",
      "text/plain": [
       "<Figure size 432x288 with 1 Axes>"
      ]
     },
     "metadata": {
      "needs_background": "light"
     },
     "output_type": "display_data"
    },
    {
     "name": "stdout",
     "output_type": "stream",
     "text": [
      "Branching Type Probabilities\n"
     ]
    },
    {
     "data": {
      "image/png": "[encoded data removed]",
      "text/plain": [
       "<Figure size 432x288 with 1 Axes>"
      ]
     },
     "metadata": {
      "needs_background": "light"
     },
     "output_type": "display_data"
    }
   ],
   "source": [
    "# Example of Use\n",
    "\n",
    "print('Branching Fate Probabilities ')\n",
    "plot_matrix(branchingmatrixfate, lateralfates)\n",
    "\n",
    "\n",
    "print('Branching Type Probabilities')\n",
    "plot_matrix(branchingmatrixtype, lateraltypes)\n"
   ]
  },
  {
   "cell_type": "code",
   "execution_count": 10,
   "metadata": {},
   "outputs": [],
   "source": [
    "def probalong(u,maxrank = 0.5, probamax = 0.5, rankspan = 0.5):\n",
    "    if maxrank < 0: maxrank = 0\n",
    "    elif maxrank >=1 : maxrank = 0.9\n",
    "    if rankspan > 0.5 : rankspan = 0.5\n",
    "    elif rankspan < 0 : rankspan = 0\n",
    "    \n",
    "    minu = maxrank-rankspan\n",
    "    maxu = maxrank+rankspan\n",
    "    if minu < -0.1:\n",
    "        maxu = maxu-minu\n",
    "        minu = -0.1\n",
    "    if maxu > 1:\n",
    "        minu -= (maxu-1)\n",
    "        maxu = 1\n",
    "    \n",
    "    if u < minu or u > maxu:\n",
    "        return 0\n",
    "    if u < maxrank:\n",
    "       return probamax*(u-minu)/(maxrank-minu)\n",
    "    else:\n",
    "       return probamax*(maxu-u)/(maxu-maxrank)\n",
    "    "
   ]
  },
  {
   "cell_type": "code",
   "execution_count": 11,
   "metadata": {
    "tags": [
     "example"
    ]
   },
   "outputs": [
    {
     "data": {
      "image/png": "[encoded data removed]",
      "text/plain": [
       "<Figure size 432x288 with 1 Axes>"
      ]
     },
     "metadata": {
      "needs_background": "light"
     },
     "output_type": "display_data"
    }
   ],
   "source": [
    "from numpy import arange\n",
    "plot(arange(0,1.01,0.1),list(map(lambda u: probalong(u, 0.4, probamax=0.3,rankspan=0.8),arange(0,1.01,0.1))))\n",
    "show()"
   ]
  },
  {
   "cell_type": "code",
   "execution_count": 12,
   "metadata": {},
   "outputs": [],
   "source": [
    "def estimatebranchingmatrixtype(maxrank = 0.5, probamax = 0.5, rankspan = 0.5):\n",
    "    longs = [probalong(u, maxrank, probamax, rankspan) for u in np.arange(0,1,0.1)]\n",
    "    shorts = branchingmatrixtype[:,0]\n",
    "    inflos = branchingmatrixtype[:,2]\n",
    "    def normalizeprobas(a,b,c):\n",
    "        f = (1-b)/(a+c)\n",
    "        ap = a*f\n",
    "        cp = c*f\n",
    "        return (ap,b,cp)\n",
    "    matrix = [normalizeprobas(a,b,c) for a,b,c in zip(shorts,longs, inflos)]\n",
    "    return matrix\n",
    "    \n",
    "    \n",
    "    "
   ]
  },
  {
   "cell_type": "code",
   "execution_count": 13,
   "metadata": {
    "tags": [
     "example"
    ]
   },
   "outputs": [
    {
     "data": {
      "image/png": "[encoded data removed]",
      "text/plain": [
       "<Figure size 432x288 with 1 Axes>"
      ]
     },
     "metadata": {
      "needs_background": "light"
     },
     "output_type": "display_data"
    }
   ],
   "source": [
    "matrix = estimatebranchingmatrixtype(0.4, 1, 0.5)\n",
    "plot_matrix(matrix, lateraltypes)"
   ]
  },
  {
   "cell_type": "markdown",
   "metadata": {},
   "source": [
    "## Modelling architecture development\n",
    "\n",
    "Open in L-Py [the model architecture.lpy](./architecture.lpy).\n",
    "\n",
    "- Change Probability of succession and  branching\n",
    "- Add rule for flowering GU that always create a lateral short GU and a Flower in terminal position.\n"
   ]
  },
  {
   "cell_type": "markdown",
   "metadata": {},
   "source": [
    "# Pipe model\n",
    "\n",
    "Radius of each internode depends of the number of descendants. \n",
    "\n",
    "<center>\n",
    "    $r_i = r_0 . n_i^{p}$\n",
    "</center>\n",
    "with $n_i$ the number of descendants of internode $i$, $r_0$ the radius of the extremity and $p$ the pipe exponent.\n",
    "\n",
    "Open the model [pipemodel.lpy](./pipemodel.lpy) and test different value of $r_0$ and $p$."
   ]
  },
  {
   "cell_type": "code",
   "execution_count": null,
   "metadata": {},
   "outputs": [],
   "source": []
  }
 ],
 "metadata": {
  "celltoolbar": "Tags",
  "kernelspec": {
   "display_name": "Python 3",
   "language": "python",
   "name": "python3"
  },
  "language_info": {
   "codemirror_mode": {
    "name": "ipython",
    "version": 3
   },
   "file_extension": ".py",
   "mimetype": "text/x-python",
   "name": "python",
   "nbconvert_exporter": "python",
   "pygments_lexer": "ipython3",
   "version": "3.8.6"
  }
 },
 "nbformat": 4,
 "nbformat_minor": 2
}
