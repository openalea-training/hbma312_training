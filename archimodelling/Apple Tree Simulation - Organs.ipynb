{
 "cells": [
  {
   "cell_type": "markdown",
   "metadata": {},
   "source": [
    "# Simulation of the growth and development of an apple tree 1 - Organ Development"
   ]
  },
  {
   "cell_type": "code",
   "execution_count": 1,
   "metadata": {},
   "outputs": [],
   "source": [
    "from pgljupyter import *\n",
    "from math import *"
   ]
  },
  {
   "cell_type": "markdown",
   "metadata": {},
   "source": [
    "# Generating organ shape\n",
    "\n",
    "## Patch object\n",
    "\n",
    "A geometrical object can be created to represent the leaf. L-Py offer the possibility to edit Nurbs patch. Notebook version only allow for now to defined them programmatically.\n"
   ]
  },
  {
   "cell_type": "code",
   "execution_count": 2,
   "metadata": {},
   "outputs": [],
   "source": [
    "from openalea.plantgl.all import *\n",
    "\n",
    "leafshape = NurbsPatch([[(-0.0241355, -0.0549754, -0.00804807, 1), (-0.00877065, -0.00933309, 0.00100194, 1), (0.0221632, 0.0405477, -0.00898557, 1), (-0.00223729, -0.00247516, 0.000385988, 1)], \n",
    "                        [(0.314084, -0.472921, 0.392759, 1), (0.000957513, 0.000400347, 0.33376, 1), (-0.00092555, 0.00517653, 0.332921, 1), (0.408856, 0.483731, 0.413612, 1)], \n",
    "                        [(0.329337, -0.501345, 0.730665, 1), (0.000326354, 0.0164005, 0.665257, 1), (-0.000118909, 0.019707, 0.66817, 1), (0.414001, 0.558038, 0.74373, 1)], \n",
    "                        [(0.00223079, 0.0223592, 0.999352, 1), (0.00112035, 0.028812, 1.0005, 1), (-0.000767699, 0.0327184, 0.999658, 1), (-0.0011293, 0.0361733, 1.00279, 1)]])\n",
    "leafshape.ustride = 6\n",
    "leafshape.vstride = 6\n"
   ]
  },
  {
   "cell_type": "markdown",
   "metadata": {},
   "source": [
    "## Question:\n",
    "\n",
    "Complete the following model using the leafshape defined previously and the symbol @g to plot such symbol.\n",
    "\n",
    "\n",
    " * `@g`: \n",
    "    - Draw a geometry at the turtle's current location and orientation. \n",
    "    - Parameters : \n",
    "       - `geometric_model` : the model to display \n",
    "       - `scale_factor` : the scale to apply to the model. optional, should be positive.\n"
   ]
  },
  {
   "cell_type": "code",
   "execution_count": 3,
   "metadata": {
    "tags": [
     "example"
    ]
   },
   "outputs": [
    {
     "name": "stderr",
     "output_type": "stream",
     "text": [
      "<string>:22: Warning: Found symbol '#' after Lstring. Considered as begining of comments\n"
     ]
    },
    {
     "data": {
      "application/vnd.jupyter.widget-view+json": {
       "model_id": "e94ca83abcca458da759290d3a53e000",
       "version_major": 2,
       "version_minor": 0
      },
      "text/plain": [
       "LsystemWidget(derivationLength=2, is_magic=True, scene={'data': b'x\\xdaSLrw\\xf5\\xf7e`Pp\\xe0\\xe5RPVVdf```be\\x08…"
      ]
     },
     "metadata": {},
     "output_type": "display_data"
    }
   ],
   "source": [
    "%%lpy -w 20\n",
    "\n",
    "module Leaf(parameters)\n",
    "module Internode(parameters)\n",
    "\n",
    "# ParameterSet will be used as parameters. They allow to store any type of parameter and access them by their name\n",
    "# Example :\n",
    "# p = ParamerterSet(area=3)\n",
    "# p.area --> 3\n",
    "# p.area = 2\n",
    "\n",
    "Axiom:  Internode(ParameterSet(length = 2, width=0.1)) [&(60) Leaf(ParameterSet(area = 35,ttime = 0)) ]\n",
    "\n",
    "derivation length: 1\n",
    "production:\n",
    "interpretation:\n",
    "\n",
    "Internode(p) --> _(p.width) F(p.length)\n",
    "\n",
    "Leaf(p) :\n",
    "  if p.area > 0:\n",
    "    length = sqrt(p.area / 1.4)\n",
    "    produce # TOCOMPLETE  \n"
   ]
  },
  {
   "cell_type": "markdown",
   "metadata": {},
   "source": [
    "# Modelling organ growth\n",
    "\n",
    "## Loading meteo data"
   ]
  },
  {
   "cell_type": "code",
   "execution_count": 4,
   "metadata": {},
   "outputs": [],
   "source": [
    "# Loading meteo data\n",
    "import training.utils.meteo as meteo\n",
    "from training.utils.meteo import *\n",
    "init_temperatures()"
   ]
  },
  {
   "cell_type": "code",
   "execution_count": 5,
   "metadata": {
    "example": true,
    "tags": [
     "example"
    ]
   },
   "outputs": [
    {
     "data": {
      "image/png": "[encoded data removed]",
      "text/plain": [
       "<Figure size 432x288 with 1 Axes>"
      ]
     },
     "metadata": {
      "needs_background": "light"
     },
     "output_type": "display_data"
    }
   ],
   "source": [
    "# Example of Use\n",
    "\n",
    "get_temperature(date(2010,1,1))\n",
    "\n",
    "from matplotlib.pyplot import *\n",
    "%matplotlib inline\n",
    "\n",
    "plot(get_all_dates(), get_all_temperatures())\n",
    "show()"
   ]
  },
  {
   "cell_type": "markdown",
   "metadata": {},
   "source": [
    "## Modelling thermal time\n",
    "\n",
    "Thermal time consists in accumulating each day the temperature above a given base temperature $t_0$. \n",
    "\n",
    "<center>\n",
    "    $tt = \\sum_{t}{t-t_0}$ if t>t_0\n",
    "</center>\n",
    "\n",
    "## Question :\n",
    "\n",
    "Complete the function `get_effective_temperature` so that the temperature above `self.base_temperature` is returned in the `ThermalTime`object."
   ]
  },
  {
   "cell_type": "code",
   "execution_count": null,
   "metadata": {},
   "outputs": [],
   "source": [
    "base_temperature = 5\n",
    "\n",
    "class ThermalTime:\n",
    "    def __init__(self, base_temperature):\n",
    "        self.base_temperature = base_temperature\n",
    "    def get_effective_temperature(self, cdate):\n",
    "        ctemp = get_temperature(cdate)\n",
    "        ## TOCOMPLETE\n",
    "        return \n",
    "    def get_effective_temperatures(self, beg_date, end_date):\n",
    "        return [max(0,ctemp-self.base_temperature) for ctemp in get_temperatures(beg_date, end_date)]\n",
    "\n",
    "# a global variable that makes it possible to compute effective temperature\n",
    "mthermaltime = ThermalTime(base_temperature)"
   ]
  },
  {
   "cell_type": "markdown",
   "metadata": {},
   "source": [
    "## Organ final size\n",
    "\n",
    "We distinguish the organ produced at the begining of the growth unit (preformed) from the other ones."
   ]
  },
  {
   "cell_type": "code",
   "execution_count": null,
   "metadata": {},
   "outputs": [],
   "source": [
    "# Parameters\n",
    "FinalLeafArea1 = 12.\n",
    "FinalLeafArea2 = 25.\n",
    "\n",
    "InternodeLength1 = 1\n",
    "InternodeMaxLength = 2.0\n",
    "\n",
    "InternodeRadius = 0.3 "
   ]
  },
  {
   "cell_type": "code",
   "execution_count": null,
   "metadata": {},
   "outputs": [],
   "source": [
    "def leaf_area(rank):\n",
    "    if rank < 7:   return FinalLeafArea1\n",
    "    else:          return FinalLeafArea2\n",
    "\n",
    "def internode_length(rank, maxlength = InternodeMaxLength):\n",
    "    if rank < 7:   return maxlength/3\n",
    "    else:          return maxlength        "
   ]
  },
  {
   "cell_type": "markdown",
   "metadata": {},
   "source": [
    "## Organ expansion"
   ]
  },
  {
   "cell_type": "markdown",
   "metadata": {},
   "source": [
    "Growth will be modelled with a logistic function of the shape.\n",
    "\n",
    "<center>\n",
    "$ s(t) = \\frac{A}{1+exp^{-\\frac{t-t_{ip}}{b}}}$\n",
    "</center>\n",
    "\n",
    "With $A$ the maximum size, $t_{ip}$ the time at inflexion point and $b$ a slope parameter.\n",
    "\n",
    "The rate of growth, defined as the derivative of the previous logistic function, will be\n",
    "\n",
    "<center>\n",
    "$ \\frac{ds}{dt} = \\frac{A.exp^{-\\frac{t-t_{ip}}{b}} }{ b.(1+exp^{-\\frac{t-t_{ip}}{b}})^2}$\n",
    "</center>"
   ]
  },
  {
   "cell_type": "markdown",
   "metadata": {},
   "source": [
    "## Question :\n",
    "Complete the following function using the previous equations"
   ]
  },
  {
   "cell_type": "code",
   "execution_count": null,
   "metadata": {},
   "outputs": [],
   "source": [
    "from math import exp\n",
    "\n",
    "def growth_logistic(ttime, finalsize, tip, b):\n",
    "    ## TOCOMPLETE\n",
    "    return \n",
    "\n",
    "def growth_rate(ttime, finalsize, tip, b):\n",
    "    ## TOCOMPLETE\n",
    "    return \n"
   ]
  },
  {
   "cell_type": "markdown",
   "metadata": {},
   "source": [
    "Utility functions to integrate the previous functions over a period."
   ]
  },
  {
   "cell_type": "code",
   "execution_count": null,
   "metadata": {},
   "outputs": [],
   "source": [
    "def growth_logistic_at_date(begdate, cdate, finalsize, tip, b):\n",
    "    ttime = sum(mthermaltime.get_effective_temperatures(begdate, cdate))\n",
    "    return growth_logistic(ttime, finalsize, tip, b)\n",
    "\n",
    "def growth_rate_at_date(begdate, cdate, finalsize, tip, b):\n",
    "    ttime = sum(mthermaltime.get_effective_temperatures(begdate, cdate))\n",
    "    return growth_rate(ttime, finalsize, tip, b)"
   ]
  },
  {
   "cell_type": "markdown",
   "metadata": {},
   "source": [
    "Plot of the growth logistic over a period."
   ]
  },
  {
   "cell_type": "code",
   "execution_count": null,
   "metadata": {
    "tags": [
     "example"
    ]
   },
   "outputs": [],
   "source": [
    "from matplotlib.pyplot import *\n",
    "%matplotlib inline\n",
    "\n",
    "r = range(10, 400, 10)\n",
    "plot(r, [growth_logistic(ttime, 3, 200, 50.) for ttime in r])\n",
    "show()"
   ]
  },
  {
   "cell_type": "markdown",
   "metadata": {},
   "source": [
    "We can parameterize the previous function with the following value for the leaf and internode."
   ]
  },
  {
   "cell_type": "code",
   "execution_count": null,
   "metadata": {},
   "outputs": [],
   "source": [
    "# Parameters\n",
    "tip_leaf = 100.\n",
    "tip_internode = 100.\n",
    "\n",
    "b_leaf = 30.\n",
    "b_internode = 30."
   ]
  },
  {
   "cell_type": "markdown",
   "metadata": {},
   "source": [
    "## Question :\n",
    "With the following code check whether if you integrate the `growth_rate` over the period you reach similar result than with `growth_logistic`"
   ]
  },
  {
   "cell_type": "code",
   "execution_count": null,
   "metadata": {
    "example": true,
    "tags": [
     "example"
    ]
   },
   "outputs": [],
   "source": [
    "from matplotlib.pyplot import *\n",
    "%matplotlib inline\n",
    "\n",
    "# Example of Use\n",
    "begdate = date(2010,4,1)\n",
    "growthperiod = [begdate+timedelta(days=i-1) for i in range(50)]\n",
    "\n",
    "plot(growthperiod, list(map(lambda d : growth_logistic_at_date(begdate, d, FinalLeafArea2, tip_leaf, b_leaf), growthperiod)))\n",
    "xticks(rotation= 60)\n",
    "show()\n",
    "\n",
    "rate = list(map(lambda d : growth_rate_at_date(begdate, d, FinalLeafArea2, tip_leaf, b_leaf), growthperiod))\n",
    "plot(growthperiod, rate)\n",
    "xticks(rotation= 60)\n",
    "show()\n",
    "\n",
    "from numpy import dot, cumsum\n",
    "integration = [a*b for a,b in zip(mthermaltime.get_effective_temperatures(begdate, begdate+timedelta(days=50)),rate)]\n",
    "plot(growthperiod, cumsum(integration))\n",
    "xticks(rotation= 60)\n",
    "show()"
   ]
  },
  {
   "cell_type": "markdown",
   "metadata": {},
   "source": [
    "## Modeling organ development\n",
    "\n",
    "Using L-Py and the previous equations, we will model the developement of leaves and internodes.\n"
   ]
  },
  {
   "cell_type": "code",
   "execution_count": null,
   "metadata": {},
   "outputs": [],
   "source": [
    "cdate = None\n",
    "\n",
    "def get_cdate():\n",
    "  return cdate\n",
    "\n",
    "def init_cdate():\n",
    "  global cdate\n",
    "  cdate = meteo.get_first_day_for_temperature()+timedelta(days=120)\n",
    "  return cdate\n",
    "\n",
    "def increment_cdate():\n",
    "  global cdate\n",
    "  cdate += timedelta(days=1)\n",
    "\n",
    "init_cdate()\n",
    "\n",
    "def Start():\n",
    "  init_cdate()\n",
    "\n",
    "def StartEach():\n",
    "  increment_cdate()"
   ]
  },
  {
   "cell_type": "markdown",
   "metadata": {},
   "source": [
    "## Question\n",
    "Complete the following lpy model.\n",
    "\n",
    "If you prefer to edit in lpystudio, open and complete in L-Py [organdevelop.lpy](./organdevelop.lpy)\n"
   ]
  },
  {
   "cell_type": "code",
   "execution_count": null,
   "metadata": {},
   "outputs": [],
   "source": [
    "%%lpy -w 5\n",
    "\n",
    "\n",
    "module Meristem(parameters)\n",
    "module Leaf(parameters)\n",
    "module Internode(parameters)\n",
    "\n",
    "# ParameterSet will be used as parameters.\n",
    "\n",
    "Axiom: Internode(ParameterSet(length=0.01, finallength = internode_length(rank = 1), width=0.01, ttime = 0)) [&(60) Leaf(ParameterSet(area=0, finalarea = leaf_area(rank = 1), ttime = 0)) ]\n",
    "\n",
    "derivation length: 100\n",
    "production:\n",
    "\n",
    "Internode(p) :\n",
    "  p = p.copy()\n",
    "  \n",
    "  # Use mthermaltime to get the effective temperature of the day \n",
    "  # and store it in variable ctime.\n",
    "  cttime = mthermaltime.get_effective_temperature(cdate)\n",
    "  \n",
    "  # Compute length increment with growth_rate function. \n",
    "  # Parameterize it with p.finallength, tip_internode and b_internode.\n",
    "  # Integrate growth_rate on ctime to have length increase. \n",
    "  # Add it to p.length variable\n",
    "  \n",
    "  # p.length += ... to complete\n",
    "  \n",
    "  # Do the same on the width variable\n",
    "  # p.width += ... to complete\n",
    "  \n",
    "  # Accumulate thermal time into variable p.ttime.\n",
    "  p.ttime += cttime\n",
    "  \n",
    "  produce Internode(p)\n",
    "\n",
    "Leaf(p):\n",
    "  p = p.copy()\n",
    "  # Similar approach than with Internode but apply it for the growth of area\n",
    "  # Use variable p.finalarea, tip_leaf, b_leaf to parameterize growth_rate function\n",
    "  \n",
    "  produce Leaf(p)\n",
    "\n",
    "interpretation:\n",
    "\n",
    "Internode(p) --> _(p.width) F(p.length)\n",
    "\n",
    "Leaf(p) :\n",
    "  if p.area > 0:\n",
    "    length = sqrt(p.area / 1.4)\n",
    "    produce ,(10) @g(leafshape, length)\n",
    "\n",
    "endlsystem"
   ]
  },
  {
   "cell_type": "markdown",
   "metadata": {},
   "source": [
    "# Modeling growth units development\n",
    "\n",
    "## Growth unit length"
   ]
  },
  {
   "cell_type": "code",
   "execution_count": null,
   "metadata": {},
   "outputs": [],
   "source": [
    "from training.utils.namedenum import enum\n",
    "enum('ShortGU', 'LongGU', 'Inflo', 'TrunkGU')\n",
    "\n",
    "gulengthlaw = { \n",
    "    ShortGU : (5, 0.5),\n",
    "    LongGU : (18, 7),\n",
    "    Inflo : (3, 0.2),\n",
    "    TrunkGU : (50, 6.5)\n",
    "              }\n",
    "\n",
    "from random import gauss\n",
    "\n",
    "def growth_unit_length(gutype, parentlength = None):\n",
    "    mean, sd = gulengthlaw[gutype]\n",
    "    res = int(gauss(mean,sd))\n",
    "    if parentlength != None and gutype == LongGU:\n",
    "        parentlength *= 0.9\n",
    "        while parentlength < res:\n",
    "            res = int(gauss(mean,sd))\n",
    "    return res\n"
   ]
  },
  {
   "cell_type": "markdown",
   "metadata": {},
   "source": [
    "## Growth Unit production\n",
    "\n",
    "The rate of production of metamers by the apex of the GU is given with the following equation\n",
    "\n",
    "$R_i(d) = r_i * T_{eff}(d)$ if $N_i(d)<N_{f,i}$ and $d < D_e$\n",
    "\n",
    "       = 0 else\n",
    "\n",
    "with $r_i$ the rate of metamer production in thermal time, $T_{eff}(d)$ the accumulated thermal time at date $d$, $N_{f,i}$ the final number of metamer and $D_e$ the date of plant growth arrest.\n",
    "\n",
    "This equation will be modeled by the `MetamerProduction` structure that will accumulate thermal time and determine the number of metamer to produce accordingly."
   ]
  },
  {
   "cell_type": "code",
   "execution_count": null,
   "metadata": {},
   "outputs": [],
   "source": [
    "metamerprodrate = 0.05\n",
    "date_end_production = 252"
   ]
  },
  {
   "cell_type": "code",
   "execution_count": null,
   "metadata": {},
   "outputs": [],
   "source": [
    "class MetamerProduction:\n",
    "    def __init__(self, rate, nbfinalmetamer, maxdate = date_end_production):\n",
    "        self.rate = rate\n",
    "        self.nbfinalmetamer = nbfinalmetamer\n",
    "        self.nbmetamer = 0\n",
    "        self.maxdate = maxdate\n",
    "    \n",
    "    def copy(self):\n",
    "        from copy import deepcopy\n",
    "        return deepcopy(self)\n",
    "    \n",
    "    def accumulate(self, cdate):\n",
    "        # Accumulate the degree days corresponding to the day. \n",
    "        # According to the rate of production, some metamers are produced.\n",
    "        # Return the number of metamer to produce\n",
    "        ttime = mthermaltime.get_effective_temperature(cdate)\n",
    "        if self.nbmetamer < self.nbfinalmetamer and (cdate -date(cdate.year,1,1)).days < self.maxdate :\n",
    "            production = self.rate*ttime\n",
    "            prevnbmetamer = int(self.nbmetamer)\n",
    "            self.nbmetamer += production\n",
    "            if int(self.nbmetamer) >  prevnbmetamer:\n",
    "                return int(self.nbmetamer) - prevnbmetamer\n",
    "            return 0\n",
    "        return 0\n",
    "    \n",
    "    def accumulate_range(self, prevdate, cdate):\n",
    "        # Accumulate degree days over a range of date\n",
    "        sumi = 0\n",
    "        for i in range(1,(cdate-prevdate).days+1):\n",
    "            sumi += self.accumulate(prevdate+timedelta(days=i))\n",
    "        return sumi"
   ]
  },
  {
   "cell_type": "code",
   "execution_count": null,
   "metadata": {
    "tags": [
     "example"
    ]
   },
   "outputs": [],
   "source": [
    "from matplotlib.pyplot import *\n",
    "%matplotlib inline\n",
    "from numpy import cumsum\n",
    "\n",
    "m = MetamerProduction(0.01, 100)\n",
    "dates = [begdate+timedelta(days=i-1) for i in range(200)]\n",
    "production = cumsum([m.accumulate(d) for d in dates])\n",
    "\n",
    "plot(dates, production)\n",
    "show()"
   ]
  },
  {
   "cell_type": "markdown",
   "metadata": {},
   "source": [
    "## Modeling GU development\n",
    "\n",
    "\n",
    "## Question\n",
    "\n",
    "Complete the rule for meristem to account for the GU development.\n",
    "\n",
    "If you prefer to edit in lpystudio, open and complete in L-Py the model [axis.lpy](./axis.lpy)"
   ]
  },
  {
   "cell_type": "code",
   "execution_count": null,
   "metadata": {},
   "outputs": [],
   "source": [
    "%%lpy\n",
    "\n",
    "module Leaf(parameters)\n",
    "module Internode(parameters)\n",
    "# ParameterSet will be used as parameters.\n",
    "\n",
    "module Meristem(parameters)\n",
    "# MetamerProduction will be used as parameters.\n",
    "\n",
    "Axiom:\n",
    "  nbmetamer = growth_unit_length(TrunkGU)\n",
    "  produce Meristem(MetamerProduction(metamerprodrate, nbmetamer))\n",
    "\n",
    "derivation length: 100\n",
    "production:\n",
    "\n",
    "Meristem(p):\n",
    "  p = p.copy()\n",
    "  # Retrieve current nb of metamers produce by the meristem (p.metamer)\n",
    "  # accumulate the temperature and retrieve the nb of new metamers to produce\n",
    "  previousnbmetamer = p.nbmetamer\n",
    "  nbnewmetamer = p.accumulate(cdate)\n",
    "  for i in range(nbnewmetamer):\n",
    "    #    produce an Internode whose finallength is given by the internode_length function, length and width and ttime set to 0\n",
    "    #    produce symbol for phyllotaxy (144 for the apple tree)\n",
    "    #    produce lateraly (with a branching angle of 60) a leaf whose finalarea is given by function leaf_area, and area and width and ttime set to 0\n",
    "    pass\n",
    "  produce Meristem(p)\n",
    "\n",
    "\n",
    "Internode(p) :\n",
    "  cttime = mthermaltime.get_effective_temperature(cdate)\n",
    "  \n",
    "  p.length += growth_rate(p.ttime, p.finallength, tip_internode, b_internode)*cttime\n",
    "  p.width += growth_rate(p.ttime, InternodeRadius, tip_internode, b_internode)*cttime\n",
    "  p.ttime += cttime\n",
    "  \n",
    "  produce Internode(p)\n",
    "\n",
    "Leaf(p):\n",
    "  cttime = mthermaltime.get_effective_temperature(cdate)\n",
    "  \n",
    "  p.area += growth_rate(p.ttime, p.finalarea, tip_leaf, b_leaf)*cttime\n",
    "  p.ttime += cttime\n",
    "  \n",
    "  produce Leaf(p)\n",
    "\n",
    "interpretation:\n",
    "\n",
    "Internode(p) --> _(p.width) F(p.length)\n",
    "\n",
    "Leaf(p) :\n",
    "  if p.area > 0:\n",
    "    length = sqrt(p.area / 1.4)\n",
    "    produce ,(2) @g(leafshape, length)\n"
   ]
  },
  {
   "cell_type": "markdown",
   "metadata": {},
   "source": [
    "To continue, you should look at the [notebook on architecture](./\"Apple Tree Simulation - Architecture.ipynb\")."
   ]
  }
 ],
 "metadata": {
  "celltoolbar": "Tags",
  "kernelspec": {
   "display_name": "Python 3",
   "language": "python",
   "name": "python3"
  },
  "language_info": {
   "codemirror_mode": {
    "name": "ipython",
    "version": 3
   },
   "file_extension": ".py",
   "mimetype": "text/x-python",
   "name": "python",
   "nbconvert_exporter": "python",
   "pygments_lexer": "ipython3",
   "version": "3.8.6"
  },
  "widgets": {
   "application/vnd.jupyter.widget-state+json": {
    "state": {
     "01b9904048c14089832cc3b27ef4846c": {
      "model_module": "pgljupyter",
      "model_module_version": "^0.2.0",
      "model_name": "LsystemWidgetModel",
      "state": {
       "_model_module_version": "^0.2.0",
       "_view_module_version": "^0.2.0",
       "axes_helper": false,
       "derivationLength": 2,
       "is_magic": true,
       "layout": "IPY_MODEL_dada01b4f5e84cd8a11632538489d5a1",
       "light_helper": false,
       "plane": true,
       "size_display": [
        400,
        400
       ],
       "size_world": 20,
       "unit": 0
      }
     },
     "2027eb8b63134727ae602eecddeb70d2": {
      "model_module": "@jupyter-widgets/base",
      "model_module_version": "1.2.0",
      "model_name": "LayoutModel",
      "state": {}
     },
     "214df6ffc06b4720a3b06b6930c7d24c": {
      "model_module": "pgljupyter",
      "model_module_version": "^0.2.0",
      "model_name": "LsystemWidgetModel",
      "state": {
       "_model_module_version": "^0.2.0",
       "_view_module_version": "^0.2.0",
       "axes_helper": false,
       "derivationLength": 101,
       "is_magic": true,
       "layout": "IPY_MODEL_a0951fa7efd6420099ecf706cd659cee",
       "light_helper": false,
       "plane": true,
       "size_display": [
        400,
        400
       ],
       "size_world": 1,
       "unit": 0
      }
     },
     "23fd2640ff1342c1a36682988a22d4a9": {
      "model_module": "pgljupyter",
      "model_module_version": "^0.2.0",
      "model_name": "LsystemWidgetModel",
      "state": {
       "_model_module_version": "^0.2.0",
       "_view_module_version": "^0.2.0",
       "axes_helper": false,
       "derivationLength": 2,
       "is_magic": true,
       "layout": "IPY_MODEL_2027eb8b63134727ae602eecddeb70d2",
       "light_helper": false,
       "plane": true,
       "size_display": [
        400,
        400
       ],
       "size_world": 20,
       "unit": 0
      }
     },
     "2597da3e5d2f4d02a5e2772cdb420ca3": {
      "model_module": "pgljupyter",
      "model_module_version": "^0.2.0",
      "model_name": "LsystemWidgetModel",
      "state": {
       "_model_module_version": "^0.2.0",
       "_view_module_version": "^0.2.0",
       "axes_helper": false,
       "derivationLength": 101,
       "is_magic": true,
       "layout": "IPY_MODEL_b1625ed6da274708a053b20034b5fee3",
       "light_helper": false,
       "plane": true,
       "size_display": [
        400,
        400
       ],
       "size_world": 1,
       "unit": 0
      }
     },
     "2ed715c9529145cab2b83dfc944aad51": {
      "model_module": "@jupyter-widgets/base",
      "model_module_version": "1.2.0",
      "model_name": "LayoutModel",
      "state": {}
     },
     "2efd99b684214f2db7640aa9bb921570": {
      "model_module": "pgljupyter",
      "model_module_version": "^0.2.0",
      "model_name": "LsystemWidgetModel",
      "state": {
       "_model_module_version": "^0.2.0",
       "_view_module_version": "^0.2.0",
       "axes_helper": false,
       "derivationLength": 101,
       "is_magic": true,
       "layout": "IPY_MODEL_48ad18041a08423b892ecd7b3c677a2f",
       "light_helper": false,
       "plane": true,
       "size_display": [
        400,
        400
       ],
       "size_world": 1,
       "unit": 0
      }
     },
     "3ba4437f69814b60bf72c33f29ef17a8": {
      "model_module": "pgljupyter",
      "model_module_version": "^0.2.0",
      "model_name": "LsystemWidgetModel",
      "state": {
       "_model_module_version": "^0.2.0",
       "_view_module_version": "^0.2.0",
       "axes_helper": false,
       "derivationLength": 2,
       "is_magic": true,
       "layout": "IPY_MODEL_83e6e7479ebc4b6f957a6d82788ccda7",
       "light_helper": false,
       "plane": true,
       "size_display": [
        400,
        400
       ],
       "size_world": 20,
       "unit": 0
      }
     },
     "4408296d71834bbd9f0b3b4d2586f8f0": {
      "model_module": "@jupyter-widgets/base",
      "model_module_version": "1.2.0",
      "model_name": "LayoutModel",
      "state": {}
     },
     "48ad18041a08423b892ecd7b3c677a2f": {
      "model_module": "@jupyter-widgets/base",
      "model_module_version": "1.2.0",
      "model_name": "LayoutModel",
      "state": {}
     },
     "51dfe12b463849ddac20ddb27bdef8d9": {
      "model_module": "pgljupyter",
      "model_module_version": "^0.2.0",
      "model_name": "LsystemWidgetModel",
      "state": {
       "_model_module_version": "^0.2.0",
       "_view_module_version": "^0.2.0",
       "axes_helper": false,
       "derivationLength": 101,
       "is_magic": true,
       "layout": "IPY_MODEL_7c8e14d2ac2e4fbb802434e0ac719d0e",
       "light_helper": false,
       "plane": true,
       "size_display": [
        400,
        400
       ],
       "size_world": 20,
       "unit": 0
      }
     },
     "70feeec6b8444e3aba81f83d5adacba7": {
      "model_module": "pgljupyter",
      "model_module_version": "^0.2.0",
      "model_name": "LsystemWidgetModel",
      "state": {
       "_model_module_version": "^0.2.0",
       "_view_module_version": "^0.2.0",
       "animate": true,
       "axes_helper": false,
       "derivationLength": 101,
       "is_magic": true,
       "layout": "IPY_MODEL_ff9615f26ad44feaa774183df4596ea7",
       "light_helper": false,
       "plane": true,
       "size_display": [
        400,
        400
       ],
       "size_world": 20,
       "unit": 0
      }
     },
     "77cd50324cb54d90a7f2efa1cecb3f38": {
      "model_module": "pgljupyter",
      "model_module_version": "^0.2.0",
      "model_name": "LsystemWidgetModel",
      "state": {
       "_model_module_version": "^0.2.0",
       "_view_module_version": "^0.2.0",
       "axes_helper": false,
       "derivationLength": 101,
       "is_magic": true,
       "layout": "IPY_MODEL_b89b49291e5f47a7935f9f403a22e87e",
       "light_helper": false,
       "plane": true,
       "size_display": [
        400,
        400
       ],
       "size_world": 20,
       "unit": 0
      }
     },
     "7c8e14d2ac2e4fbb802434e0ac719d0e": {
      "model_module": "@jupyter-widgets/base",
      "model_module_version": "1.2.0",
      "model_name": "LayoutModel",
      "state": {}
     },
     "7f685fee04594641b062cc3439471588": {
      "model_module": "pgljupyter",
      "model_module_version": "^0.2.0",
      "model_name": "LsystemWidgetModel",
      "state": {
       "_model_module_version": "^0.2.0",
       "_view_module_version": "^0.2.0",
       "axes_helper": false,
       "derivationLength": 101,
       "is_magic": true,
       "layout": "IPY_MODEL_8669149edb9c4ff9b1355d92e7d76760",
       "light_helper": false,
       "plane": true,
       "size_display": [
        400,
        400
       ],
       "size_world": 20,
       "unit": 0
      }
     },
     "83e6e7479ebc4b6f957a6d82788ccda7": {
      "model_module": "@jupyter-widgets/base",
      "model_module_version": "1.2.0",
      "model_name": "LayoutModel",
      "state": {}
     },
     "8401fe16e7ce453289cfcc39162ac8a1": {
      "model_module": "pgljupyter",
      "model_module_version": "^0.2.0",
      "model_name": "LsystemWidgetModel",
      "state": {
       "_model_module_version": "^0.2.0",
       "_view_module_version": "^0.2.0",
       "axes_helper": false,
       "derivationLength": 101,
       "is_magic": true,
       "layout": "IPY_MODEL_2ed715c9529145cab2b83dfc944aad51",
       "light_helper": false,
       "plane": true,
       "size_display": [
        400,
        400
       ],
       "size_world": 20,
       "unit": 0
      }
     },
     "8669149edb9c4ff9b1355d92e7d76760": {
      "model_module": "@jupyter-widgets/base",
      "model_module_version": "1.2.0",
      "model_name": "LayoutModel",
      "state": {}
     },
     "868ea7e97530405b9f0090e59e58c44b": {
      "model_module": "pgljupyter",
      "model_module_version": "^0.2.0",
      "model_name": "LsystemWidgetModel",
      "state": {
       "_model_module_version": "^0.2.0",
       "_view_module_version": "^0.2.0",
       "axes_helper": false,
       "derivationLength": 101,
       "is_magic": true,
       "layout": "IPY_MODEL_eefca78796cb4daaaca8b2c1b6282197",
       "light_helper": false,
       "plane": true,
       "size_display": [
        400,
        400
       ],
       "size_world": 20,
       "unit": 0
      }
     },
     "9542c5fd706147e3b721f33bd165a061": {
      "model_module": "@jupyter-widgets/base",
      "model_module_version": "1.2.0",
      "model_name": "LayoutModel",
      "state": {}
     },
     "99700b95dd024e5691c15573956c7d35": {
      "model_module": "@jupyter-widgets/base",
      "model_module_version": "1.2.0",
      "model_name": "LayoutModel",
      "state": {}
     },
     "a0951fa7efd6420099ecf706cd659cee": {
      "model_module": "@jupyter-widgets/base",
      "model_module_version": "1.2.0",
      "model_name": "LayoutModel",
      "state": {}
     },
     "a2303399a0b249c98ffdaa3764ea1ad5": {
      "model_module": "@jupyter-widgets/base",
      "model_module_version": "1.2.0",
      "model_name": "LayoutModel",
      "state": {}
     },
     "a49c23c234074a2591b03cca1fc5a29e": {
      "model_module": "pgljupyter",
      "model_module_version": "^0.2.0",
      "model_name": "LsystemWidgetModel",
      "state": {
       "_model_module_version": "^0.2.0",
       "_view_module_version": "^0.2.0",
       "axes_helper": false,
       "derivationLength": 101,
       "is_magic": true,
       "layout": "IPY_MODEL_9542c5fd706147e3b721f33bd165a061",
       "light_helper": false,
       "plane": true,
       "size_display": [
        400,
        400
       ],
       "size_world": 1,
       "unit": 0
      }
     },
     "a7a04a058e4a4e4aae33a3b0b6c73687": {
      "model_module": "pgljupyter",
      "model_module_version": "^0.2.0",
      "model_name": "LsystemWidgetModel",
      "state": {
       "_model_module_version": "^0.2.0",
       "_view_module_version": "^0.2.0",
       "axes_helper": false,
       "derivationLength": 2,
       "is_magic": true,
       "layout": "IPY_MODEL_99700b95dd024e5691c15573956c7d35",
       "light_helper": false,
       "plane": true,
       "size_display": [
        400,
        400
       ],
       "size_world": 20,
       "unit": 0
      }
     },
     "b1625ed6da274708a053b20034b5fee3": {
      "model_module": "@jupyter-widgets/base",
      "model_module_version": "1.2.0",
      "model_name": "LayoutModel",
      "state": {}
     },
     "b5f91ba24e50460a9b11e1ddfcedb0dd": {
      "model_module": "pgljupyter",
      "model_module_version": "^0.2.0",
      "model_name": "LsystemWidgetModel",
      "state": {
       "_model_module_version": "^0.2.0",
       "_view_module_version": "^0.2.0",
       "axes_helper": false,
       "derivationLength": 101,
       "is_magic": true,
       "layout": "IPY_MODEL_c9cc1c085fb642128a35e34e4c78d78d",
       "light_helper": false,
       "plane": true,
       "size_display": [
        400,
        400
       ],
       "size_world": 20,
       "unit": 0
      }
     },
     "b89b49291e5f47a7935f9f403a22e87e": {
      "model_module": "@jupyter-widgets/base",
      "model_module_version": "1.2.0",
      "model_name": "LayoutModel",
      "state": {}
     },
     "baecb2b4e0dd431397bc9922fe09b237": {
      "model_module": "pgljupyter",
      "model_module_version": "^0.2.0",
      "model_name": "LsystemWidgetModel",
      "state": {
       "_model_module_version": "^0.2.0",
       "_view_module_version": "^0.2.0",
       "axes_helper": false,
       "derivationLength": 101,
       "is_magic": true,
       "layout": "IPY_MODEL_4408296d71834bbd9f0b3b4d2586f8f0",
       "light_helper": false,
       "plane": true,
       "size_display": [
        400,
        400
       ],
       "size_world": 20,
       "unit": 0
      }
     },
     "beaafe59ec8649f88395fb7bf216b540": {
      "model_module": "pgljupyter",
      "model_module_version": "^0.2.0",
      "model_name": "LsystemWidgetModel",
      "state": {
       "_model_module_version": "^0.2.0",
       "_view_module_version": "^0.2.0",
       "axes_helper": false,
       "derivationLength": 101,
       "is_magic": true,
       "layout": "IPY_MODEL_d1e1d7ac4e9d404cbf4fb55fa8d23e7d",
       "light_helper": false,
       "plane": true,
       "size_display": [
        400,
        400
       ],
       "size_world": 5,
       "unit": 0
      }
     },
     "c5bbf270977246b594ac6d9f2cb4bfc6": {
      "model_module": "pgljupyter",
      "model_module_version": "^0.2.0",
      "model_name": "LsystemWidgetModel",
      "state": {
       "_model_module_version": "^0.2.0",
       "_view_module_version": "^0.2.0",
       "axes_helper": false,
       "derivationLength": 101,
       "is_magic": true,
       "layout": "IPY_MODEL_d8de377b74524edfb01ceececaa39ada",
       "light_helper": false,
       "plane": true,
       "size_display": [
        400,
        400
       ],
       "size_world": 20,
       "unit": 0
      }
     },
     "c9cc1c085fb642128a35e34e4c78d78d": {
      "model_module": "@jupyter-widgets/base",
      "model_module_version": "1.2.0",
      "model_name": "LayoutModel",
      "state": {}
     },
     "d1e1d7ac4e9d404cbf4fb55fa8d23e7d": {
      "model_module": "@jupyter-widgets/base",
      "model_module_version": "1.2.0",
      "model_name": "LayoutModel",
      "state": {}
     },
     "d8de377b74524edfb01ceececaa39ada": {
      "model_module": "@jupyter-widgets/base",
      "model_module_version": "1.2.0",
      "model_name": "LayoutModel",
      "state": {}
     },
     "dada01b4f5e84cd8a11632538489d5a1": {
      "model_module": "@jupyter-widgets/base",
      "model_module_version": "1.2.0",
      "model_name": "LayoutModel",
      "state": {}
     },
     "ebe5b07fce454c29b213ba1d65decfef": {
      "model_module": "pgljupyter",
      "model_module_version": "^0.2.0",
      "model_name": "LsystemWidgetModel",
      "state": {
       "_model_module_version": "^0.2.0",
       "_view_module_version": "^0.2.0",
       "axes_helper": false,
       "derivationLength": 101,
       "is_magic": true,
       "layout": "IPY_MODEL_a2303399a0b249c98ffdaa3764ea1ad5",
       "light_helper": false,
       "plane": true,
       "size_display": [
        400,
        400
       ],
       "size_world": 1,
       "unit": 0
      }
     },
     "eefca78796cb4daaaca8b2c1b6282197": {
      "model_module": "@jupyter-widgets/base",
      "model_module_version": "1.2.0",
      "model_name": "LayoutModel",
      "state": {}
     },
     "ff9615f26ad44feaa774183df4596ea7": {
      "model_module": "@jupyter-widgets/base",
      "model_module_version": "1.2.0",
      "model_name": "LayoutModel",
      "state": {}
     }
    },
    "version_major": 2,
    "version_minor": 0
   }
  }
 },
 "nbformat": 4,
 "nbformat_minor": 2
}
