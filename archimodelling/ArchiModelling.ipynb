{
 "cells": [
  {
   "cell_type": "markdown",
   "metadata": {},
   "source": [
    "# Architecture modelling"
   ]
  },
  {
   "cell_type": "code",
   "execution_count": 1,
   "metadata": {},
   "outputs": [],
   "source": [
    "from pgljupyter import *"
   ]
  },
  {
   "cell_type": "markdown",
   "metadata": {},
   "source": [
    "### Creation of a polygon\n",
    "\n",
    "Complete the axiom that will generate the following polygonal shape. Use the command F, + et -. By default, non indicated angles are equal to 90° and length to 1.\n",
    "\n",
    "```python\n",
    "Axiom: ,(2) _(0.02) { . F    ....  } (True)\n",
    "```\n",
    "\n",
    "![mappleleaf](./img/mappleleaf.png)\n",
    "\n"
   ]
  },
  {
   "cell_type": "code",
   "execution_count": null,
   "metadata": {},
   "outputs": [],
   "source": [
    "%%lpy -w 5\n",
    "\n",
    "Axiom: ,(2) _(0.02) { . F    ....  } (True)"
   ]
  },
  {
   "cell_type": "markdown",
   "metadata": {},
   "source": [
    "## Phyllotaxie\n",
    "\n",
    "Reproduire ces organisations\n",
    "\n",
    "\n",
    "<img src=\"./img/phyllotaxie.png\" width=\"600\">"
   ]
  },
  {
   "cell_type": "code",
   "execution_count": 10,
   "metadata": {},
   "outputs": [
    {
     "data": {
      "application/vnd.jupyter.widget-view+json": {
       "model_id": "33cbe1133f4f4fe6ad069628d2093ec9",
       "version_major": 2,
       "version_minor": 0
      },
      "text/plain": [
       "LsystemWidget(derivationLength=2, is_magic=True, scene={'data': b'x\\xda\\xa5\\x98Oh\\x9be\\x1c\\xc7\\x9f\\xa4.-\\xd5\\x…"
      ]
     },
     "metadata": {},
     "output_type": "display_data"
    }
   ],
   "source": [
    "%%lpy -w 10\n",
    "Axiom: \n",
    "  for i in range(7):\n",
    "    nproduce F(1) /(30) \n",
    "    for j in range(6) :\n",
    "        nproduce /(60) [ &(90) ,(2) ~l(2) ] \n"
   ]
  },
  {
   "cell_type": "markdown",
   "metadata": {},
   "source": [
    "## Branch shape\n",
    "\n",
    " - Load the [recursive tree structure](./recursivetree.lpy)\n",
    "\n",
    " - Insert an helio-tropism into the axiom. Test different values of the elasticity. Use command `@Tp` and `@Ts`\n",
    "\n",
    " - Remove tropism and insert a guide at the beginning of each branch. Edit graphically the guide to achieve curved architecture. Use `SetGuide`.\n"
   ]
  },
  {
   "cell_type": "code",
   "execution_count": 11,
   "metadata": {},
   "outputs": [],
   "source": [
    "from openalea.lpy.lsysparameters import LsystemParameters\n",
    "from openalea.plantgl.all import *\n",
    "lp = LsystemParameters()\n",
    "trunk = NurbsCurve2D([(0.00852268, -0.329545, 1),(-0.0501894, -0.0568182, 1),(0.0700758, 0.167614, 1),(0.0170455, 0.46875, 1)])\n",
    "lp.add('trunk', trunk)\n",
    "branchpath = NurbsCurve2D([(-0.551136, -0.00284096, 1),(-0.212121, 0.107955, 1),(-0.0719697, 0.0568182, 1),(0.301136, 0.0965909, 1),(0.299465, 0.415776, 1)])\n",
    "lp.add('branchpath', branchpath)\n"
   ]
  },
  {
   "cell_type": "code",
   "execution_count": 15,
   "metadata": {},
   "outputs": [
    {
     "data": {
      "application/vnd.jupyter.widget-view+json": {
       "model_id": "62c7a1b5c2244649930d151b3586b561",
       "version_major": 2,
       "version_minor": 0
      },
      "text/plain": [
       "HBox(children=(HBox(children=(LsystemWidget(animate=True, derivationLength=51, is_magic=True, scene={'data': b…"
      ]
     },
     "metadata": {},
     "output_type": "display_data"
    }
   ],
   "source": [
    "%%lpy -w 100 -a True -p lp\n",
    "\n",
    "from openalea.plantgl.all import *\n",
    "from math import degrees,pi,cos\n",
    "from random import uniform, seed\n",
    "\n",
    "seed(0)\n",
    "l = 50.\n",
    "nl = 5\n",
    "phyllotaxy = 90\n",
    "max_order = 6\n",
    "diameter = lambda u : 0.05+0.5*(1-u)\n",
    "branching = lambda u : 40*cos(pi/2*u)+10\n",
    "\n",
    "module  A\n",
    "Axiom:   _(diameter(0)) @Gc A(l-1,0)\n",
    "\n",
    "derivation length: int(l)\n",
    "production:\n",
    "\n",
    "A(x, order) :\n",
    "    u = 1-x/l \n",
    "    if x <= 0 : produce\n",
    "    if x % nl == 0.0 and order < max_order:\n",
    "       nproduce   [ /(phyllotaxy*(x/nl))  &(branching(u)) SetGuide(branchpath, x-1)  A(x-1,  order+1) ]\n",
    "    produce F(1, diameter(u)) A(x-1, order)\n"
   ]
  },
  {
   "cell_type": "markdown",
   "metadata": {},
   "source": [
    "## The pipe model\n",
    "\n",
    "Change the pipe exponent to increase or decrease the width of the branches."
   ]
  },
  {
   "cell_type": "code",
   "execution_count": 16,
   "metadata": {},
   "outputs": [
    {
     "data": {
      "application/vnd.jupyter.widget-view+json": {
       "model_id": "807467bf9b29408bb12120b4cf478ad2",
       "version_major": 2,
       "version_minor": 0
      },
      "text/plain": [
       "LsystemWidget(animate=True, derivationLength=2, is_magic=True, scene={'data': b'x\\xdaSLrw\\xf5\\xf7e`Pp\\xe0\\xe5R…"
      ]
     },
     "metadata": {},
     "output_type": "display_data"
    }
   ],
   "source": [
    "%%lpy -w 10 -a True\n",
    "\n",
    "r1 = 0.05\n",
    "e = 1.2\n",
    "\n",
    "backward()\n",
    "\n",
    "def piperadius(ris):  \n",
    "    return pow(sum([pow(ri,e) for ri in ris]),1./e)\n",
    "\n",
    "Axiom: _(r1) I(r1) [ +(30) I(r1) [ +(30) I(r1) ] [ -(45) I(r1) ] ] [ -(45) I(r1) ]\n",
    "\n",
    "derivation length: 1\n",
    "production:\n",
    "\n",
    "ignore: +-\n",
    "I(r) >> [ I(r1) ] [ I(r2) ] --> I(piperadius([r1,r2]))\n",
    "\n",
    "interpretation:\n",
    "\n",
    "I(r) --> _(r) F\n"
   ]
  },
  {
   "cell_type": "markdown",
   "metadata": {},
   "source": [
    "## Pruning"
   ]
  },
  {
   "cell_type": "code",
   "execution_count": 18,
   "metadata": {},
   "outputs": [
    {
     "data": {
      "application/vnd.jupyter.widget-view+json": {
       "model_id": "8fe02c74e12c4e4c8e40f25bec6854fd",
       "version_major": 2,
       "version_minor": 0
      },
      "text/plain": [
       "LsystemWidget(animate=True, derivationLength=11, is_magic=True, scene={'data': b'x\\xdaSLrw\\xf5\\xf7e`Pp\\xe0\\xe5…"
      ]
     },
     "metadata": {},
     "output_type": "display_data"
    }
   ],
   "source": [
    "%%lpy -w 20 -a True\n",
    "\n",
    "Axiom : A\n",
    "derivation length:10\n",
    "production:\n",
    "A --> F(1)[-X(3)B][+X(3)B]A\n",
    "B --> F(1) B\n",
    "X(0) --> F(0.3)%\n",
    "X(d) --> X(d-1)\n",
    "\n",
    "interpretation:\n",
    "X(x) --> @O(0.2)\n"
   ]
  },
  {
   "cell_type": "code",
   "execution_count": null,
   "metadata": {},
   "outputs": [],
   "source": []
  }
 ],
 "metadata": {
  "kernelspec": {
   "display_name": "Python 3",
   "language": "python",
   "name": "python3"
  },
  "language_info": {
   "codemirror_mode": {
    "name": "ipython",
    "version": 3
   },
   "file_extension": ".py",
   "mimetype": "text/x-python",
   "name": "python",
   "nbconvert_exporter": "python",
   "pygments_lexer": "ipython3",
   "version": "3.8.6"
  },
  "widgets": {
   "application/vnd.jupyter.widget-state+json": {
    "state": {},
    "version_major": 2,
    "version_minor": 0
   }
  }
 },
 "nbformat": 4,
 "nbformat_minor": 4
}
