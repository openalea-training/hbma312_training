{
 "cells": [
  {
   "cell_type": "markdown",
   "metadata": {},
   "source": [
    "# Simulation of the growth and development of an apple tree 2 - Architecture"
   ]
  },
  {
   "cell_type": "code",
   "execution_count": null,
   "metadata": {},
   "outputs": [],
   "source": [
    "from pgljupyter import *\n",
    "from openalea.lpy import *"
   ]
  },
  {
   "cell_type": "code",
   "execution_count": null,
   "metadata": {},
   "outputs": [],
   "source": [
    "from training.utils.namedenum import enum\n",
    "import numpy as np\n",
    "\n",
    "gutypes = enum('ShortGU', 'LongGU', 'Inflo', 'TrunkGU')\n",
    "gufate  = enum('Proleptic','Sylleptic','Blind')\n",
    "\n",
    "def is_sylleptic(gufate):\n",
    "    return gufate == Sylleptic\n",
    "\n",
    "def is_proleptic(gufate):\n",
    "    return gufate == Proleptic\n"
   ]
  },
  {
   "cell_type": "markdown",
   "metadata": {},
   "source": [
    "## Growth unit succession and flowering among years"
   ]
  },
  {
   "cell_type": "code",
   "execution_count": null,
   "metadata": {},
   "outputs": [],
   "source": [
    "sucessiontypes = [ShortGU, LongGU, Inflo]\n",
    "successionmatrix = [[0.6,  0.0,  0.4],\n",
    "                    [0.35, 0.25, 0.4],\n",
    "                    [0.95, 0.05,  0]\n",
    "                   ]\n",
    "#from random import uniform, seed\n",
    "from numpy import cumsum\n",
    "from numpy.random import uniform\n",
    "\n",
    "\n",
    "def realization_in_probaranges(probas):\n",
    "    cumsum_probs = cumsum(probas)\n",
    "    totalprob = cumsum_probs[-1]\n",
    "    cumsum_probs /= totalprob\n",
    "    assert abs(cumsum_probs[-1] -1) < 1e-5\n",
    "    unif_realization = float( uniform(0,1) )\n",
    "    i = 0\n",
    "    while unif_realization >= cumsum_probs[i] : i += 1\n",
    "    return i\n",
    "\n",
    "def succession(gutype, successionmatrix = successionmatrix):\n",
    "    if gutype == TrunkGU : return LongGU\n",
    "    probas = successionmatrix[gutype]\n",
    "    return sucessiontypes[realization_in_probaranges(probas)]\n"
   ]
  },
  {
   "cell_type": "code",
   "execution_count": null,
   "metadata": {
    "example": true,
    "tags": [
     "example"
    ]
   },
   "outputs": [],
   "source": [
    "# Example of Use\n",
    "from matplotlib.pyplot import *\n",
    "%matplotlib inline\n",
    "\n",
    "print(succession(LongGU))\n",
    "print(succession(Inflo))\n",
    "\n",
    "print('Succession Probabilities')\n",
    "imshow(successionmatrix, cmap='jet', vmin = 0, vmax = 1)\n",
    "xticks(range(3),map(str,sucessiontypes))\n",
    "yticks(range(3),map(str,sucessiontypes))\n",
    "for i in range(3):\n",
    "    for j in range(3):\n",
    "        text(i,j,str(successionmatrix[j][i]), color='w')\n",
    "show()"
   ]
  },
  {
   "cell_type": "markdown",
   "metadata": {},
   "source": [
    "## Branching probability"
   ]
  },
  {
   "cell_type": "code",
   "execution_count": null,
   "metadata": {},
   "outputs": [],
   "source": [
    "def normalize(matrix):\n",
    "    def nml(a):\n",
    "        s = sum(a)\n",
    "        return a/s\n",
    "    matrix = np.array(matrix)\n",
    "    return np.array([nml(probas) for probas in matrix])\n",
    "    \n",
    "lateralfates = [Blind, Proleptic, Sylleptic]\n",
    "branchingmatrixfate = normalize([\n",
    "    [0.4,0.6,0],\n",
    "    [0.3,0.7,0],\n",
    "    [0.4,0.6,0],\n",
    "    [0.7,0.3,0],\n",
    "    [0.4,0.25,0.35],\n",
    "    [0.4,0.25,0.35],\n",
    "    [0.35,0.2,0.45],\n",
    "    [0.35,0.3,0.35],\n",
    "    [0.3,0.55,0.15],\n",
    "    [0.65,0.35,0]\n",
    "])\n",
    "\n",
    "\n",
    "lateraltypes = [ShortGU, LongGU, Inflo]\n",
    "branchingmatrixtype = normalize([\n",
    "    [0.5,  0.0, 0],\n",
    "    [0.5,  0.5, 0],\n",
    "    [0.75, 0.25,0],\n",
    "    [1,    0,   0],\n",
    "    [1,    0,   0],\n",
    "    [0.5,  0.5, 0],\n",
    "    [0.25, 0,   0.75],\n",
    "    [0.15, 0.35,0.5],\n",
    "    [0.15, 0.7, 0.15],\n",
    "    [0.4,  0.6, 0]\n",
    "])\n",
    "\n",
    "branchingmatrixtype = np.array(branchingmatrixtype)\n",
    "\n",
    "def branching(gutype, u, branchingmatrixfate = branchingmatrixfate, branchingmatrixtype = branchingmatrixtype):\n",
    "    if gutype in [ShortGU, Inflo] : return Blind, None\n",
    "    i, _ = divmod(u, 0.1)\n",
    "    probafate = branchingmatrixfate[int(i)]\n",
    "    fate = lateralfates[realization_in_probaranges(probafate)]\n",
    "    if fate == Blind: return Blind, None\n",
    "    probatype = branchingmatrixtype[int(i)]\n",
    "    ptype = lateraltypes[realization_in_probaranges(probatype)]\n",
    "    if fate == Sylleptic and ptype == Inflo:\n",
    "        fate = Proleptic\n",
    "    return fate, ptype\n",
    "\n",
    "num2str = lambda v : '%.1f' % v\n",
    "from matplotlib.pyplot import *\n",
    "def plot_matrix(matrix, labels):\n",
    "    imshow(matrix, cmap='jet', vmin = 0, vmax = 1)\n",
    "    xticks(range(len(labels)),map(str,labels),rotation=90)\n",
    "    nb = len(matrix)\n",
    "    yticks(range(nb),map(num2str,[0.1*i for i in range(nb)]))\n",
    "    for i in range(len(labels)):\n",
    "        for j in range(nb):\n",
    "            text(i-0.5,j,num2str(matrix[j][i]), color='w')\n",
    "    show()\n",
    "    "
   ]
  },
  {
   "cell_type": "code",
   "execution_count": null,
   "metadata": {
    "example": true,
    "tags": [
     "example"
    ]
   },
   "outputs": [],
   "source": [
    "# Example of Use\n",
    "\n",
    "print('Branching Fate Probabilities ')\n",
    "plot_matrix(branchingmatrixfate, lateralfates)\n",
    "\n",
    "\n",
    "print('Branching Type Probabilities')\n",
    "plot_matrix(branchingmatrixtype, lateraltypes)\n"
   ]
  },
  {
   "cell_type": "code",
   "execution_count": null,
   "metadata": {},
   "outputs": [],
   "source": [
    "def probalong(u,maxrank = 0.5, probamax = 0.5, rankspan = 0.5):\n",
    "    if maxrank < 0: maxrank = 0\n",
    "    elif maxrank >=1 : maxrank = 0.9\n",
    "    if rankspan > 0.5 : rankspan = 0.5\n",
    "    elif rankspan < 0 : rankspan = 0\n",
    "    \n",
    "    minu = maxrank-rankspan\n",
    "    maxu = maxrank+rankspan\n",
    "    if minu < -0.1:\n",
    "        maxu = maxu-minu\n",
    "        minu = -0.1\n",
    "    if maxu > 1:\n",
    "        minu -= (maxu-1)\n",
    "        maxu = 1\n",
    "    \n",
    "    if u < minu or u > maxu:\n",
    "        return 0\n",
    "    if u < maxrank:\n",
    "       return probamax*(u-minu)/(maxrank-minu)\n",
    "    else:\n",
    "       return probamax*(maxu-u)/(maxu-maxrank)\n",
    "    "
   ]
  },
  {
   "cell_type": "code",
   "execution_count": null,
   "metadata": {
    "tags": [
     "example"
    ]
   },
   "outputs": [],
   "source": [
    "from numpy import arange\n",
    "plot(arange(0,1.01,0.1),list(map(lambda u: probalong(u, 0.4, probamax=0.3,rankspan=0.8),arange(0,1.01,0.1))))\n",
    "show()"
   ]
  },
  {
   "cell_type": "code",
   "execution_count": null,
   "metadata": {},
   "outputs": [],
   "source": [
    "def estimatebranchingmatrixtype(maxrank = 0.5, probamax = 0.5, rankspan = 0.5):\n",
    "    longs = [probalong(u, maxrank, probamax, rankspan) for u in np.arange(0,1,0.1)]\n",
    "    shorts = branchingmatrixtype[:,0]\n",
    "    inflos = branchingmatrixtype[:,2]\n",
    "    def normalizeprobas(a,b,c):\n",
    "        f = (1-b)/(a+c)\n",
    "        ap = a*f\n",
    "        cp = c*f\n",
    "        return (ap,b,cp)\n",
    "    matrix = [normalizeprobas(a,b,c) for a,b,c in zip(shorts,longs, inflos)]\n",
    "    return matrix\n",
    "    \n",
    "    \n",
    "    "
   ]
  },
  {
   "cell_type": "code",
   "execution_count": null,
   "metadata": {
    "tags": [
     "example"
    ]
   },
   "outputs": [],
   "source": [
    "matrix = estimatebranchingmatrixtype(0.4, 1, 0.5)\n",
    "plot_matrix(matrix, lateraltypes)"
   ]
  },
  {
   "cell_type": "markdown",
   "metadata": {},
   "source": [
    "## Modelling architecture development\n",
    "\n",
    "Open in L-Py the model [architecture.lpy](./architecture.lpy) or edit the followig code.\n",
    "\n",
    "- Change Probability of succession and  branching\n",
    "- Add rule for flowering GU that always create a lateral short GU and a Flower in terminal position.\n"
   ]
  },
  {
   "cell_type": "markdown",
   "metadata": {},
   "source": [
    "### Import of the development function of organs"
   ]
  },
  {
   "cell_type": "code",
   "execution_count": null,
   "metadata": {},
   "outputs": [],
   "source": [
    "import os\n",
    "from openalea.lpy.lsysparameters import LsystemParameters\n",
    "from training.utils.notebook_util import notebook\n",
    "organnotebook = 'Apple Tree Simulation - Organs.ipynb'\n",
    "exec(notebook(organnotebook))\n",
    "assert('growth_logistic' in globals())\n"
   ]
  },
  {
   "cell_type": "code",
   "execution_count": null,
   "metadata": {},
   "outputs": [],
   "source": [
    "def seed(value):\n",
    "    from random import seed\n",
    "    from numpy.random import seed as rseed\n",
    "    seed(value)\n",
    "    rseed(value)"
   ]
  },
  {
   "cell_type": "markdown",
   "metadata": {},
   "source": [
    "### Graphical parameters"
   ]
  },
  {
   "cell_type": "code",
   "execution_count": null,
   "metadata": {},
   "outputs": [],
   "source": [
    "from math import *\n",
    "from openalea.plantgl.all import Revolution\n",
    "\n",
    "applesection = NurbsCurve2D([(-0.000874121, -0.389685, 1),(0.0162006, -0.606468, 1),(0.629545, -0.424825, 1),(0.712296, 0.0104895, 1),(0.645105, 0.516783, 1),(-0.00961528, 0.627098, 1),(-0.0171328, 0.394231, 1)])\n",
    "graphical = LsystemParameters()\n",
    "graphical.add('applesection', applesection)\n",
    "graphical.add('SEED',10)\n",
    "graphical.set_color(10,Material((200,200,200),1))"
   ]
  },
  {
   "cell_type": "markdown",
   "metadata": {},
   "source": [
    "### Scheduling\n",
    "\n",
    "These functions manage the current date.\n",
    "By default, we suppose that group 3 is for mortality. It is call in december."
   ]
  },
  {
   "cell_type": "code",
   "execution_count": null,
   "metadata": {},
   "outputs": [],
   "source": [
    "cdate = None\n",
    "\n",
    "def get_cdate():\n",
    "  return cdate\n",
    "\n",
    "def init_cdate():\n",
    "  global cdate\n",
    "  cdate = meteo.get_first_day_for_temperature()+timedelta(days=120)\n",
    "  return cdate\n",
    "\n",
    "def increment_cdate():\n",
    "  global cdate\n",
    "  # in winter, we only compute one day per month\n",
    "  if cdate.month in list(range(7,13))+list(range(1,4)):\n",
    "    deltatime = 30\n",
    "  else:\n",
    "    deltatime = 1\n",
    "  cdate += timedelta(days=deltatime)\n",
    "  return cdate\n",
    "\n",
    "def Start():\n",
    "  init_cdate()\n",
    "\n",
    "def StartEach():\n",
    "  # mortality in december\n",
    "  if get_cdate().month == 12:   useGroup(3) \n",
    "  # standart rules\n",
    "  else:    useGroup(0)\n",
    "  increment_cdate()\n"
   ]
  },
  {
   "cell_type": "markdown",
   "metadata": {},
   "source": [
    "The function init_meristem should initialize the meristem parameters according to the given fate and type."
   ]
  },
  {
   "cell_type": "code",
   "execution_count": null,
   "metadata": {},
   "outputs": [],
   "source": [
    "def init_meristem(gufate, gutype, parentdate = None, parentlength = None):\n",
    "  if parentdate is None:\n",
    "    init_date = date(get_cdate().year, 4, 1)\n",
    "  elif gufate == Sylleptic:\n",
    "    init_date = cdate\n",
    "  else:\n",
    "    init_date = date(parentdate.year+1, 4, 1)\n",
    "  assert gutype in [ShortGU, LongGU, Inflo, TrunkGU]\n",
    "  nbmetamer = growth_unit_length(gutype, parentlength)\n",
    "  p = ParameterSet(gutype = gutype,\n",
    "                   gufate = gufate,\n",
    "                   mp = MetamerProduction(metamerprodrate, nbmetamer),\n",
    "                   init_date = init_date,\n",
    "                   processed_date = init_date - timedelta(days=1))\n",
    "  return p"
   ]
  },
  {
   "cell_type": "markdown",
   "metadata": {},
   "source": [
    "## Questions:\n",
    "\n",
    " - Change probabilities of succession and branching\n",
    " - Add rule for flowering GU that always create a lateral short GU and a Flower in terminal position.\n"
   ]
  },
  {
   "cell_type": "code",
   "execution_count": null,
   "metadata": {},
   "outputs": [],
   "source": [
    "%%lpy -w 200 -p graphical \n",
    "\n",
    "# Pseudo random generation seed\n",
    "extern(SEED = 0)\n",
    "seed(SEED)\n",
    "\n",
    "module Meristem\n",
    "module Leaf\n",
    "module Internode\n",
    "\n",
    "Axiom:\n",
    "  init_cdate()\n",
    "  produce  Meristem(init_meristem(Proleptic,TrunkGU))\n",
    "\n",
    "derivation length: 200\n",
    "production:\n",
    "group 0:\n",
    "\n",
    "Meristem(p):\n",
    "  if p.processed_date < get_cdate():\n",
    "    p.processed_date = get_cdate()\n",
    "    previousnbmetamer = p.mp.nbmetamer\n",
    "    nbnewmetamer = p.mp.accumulate_range(p.init_date, get_cdate())\n",
    "    for i in range(nbnewmetamer):\n",
    "      rank =  previousnbmetamer+i\n",
    "      normalizedrank = rank / p.mp.nbfinalmetamer\n",
    "      nproduce Internode(ParameterSet(length=0.01, finallength = internode_length(rank = rank), width=0.01, ttime = 0, nbchildren = 1))\n",
    "      nproduce   /(144) [  &(60) Leaf(ParameterSet(area=0, finalarea = leaf_area(rank = rank), ttime = 0)) ]\n",
    "      ramiffate, ramiftype = branching(p.gutype, normalizedrank, branchingmatrixtype =branchingmatrixtype)\n",
    "      if ramiffate == Sylleptic and (get_cdate().year >= 2011 or p.gufate == Sylleptic):\n",
    "        ramiffate = Proleptic\n",
    "      if ramiffate != Blind:\n",
    "        nproduce [ &(30) @Tp(0,0,-1) @Ts(0.01) Meristem(init_meristem(ramiffate, ramiftype, p.init_date, p.mp.nbfinalmetamer)) ]\n",
    "    \n",
    "    if p.mp.nbmetamer < p.mp.nbfinalmetamer:\n",
    "      nproduce Meristem(p)\n",
    "    else:\n",
    "      # succession\n",
    "      if p.gutype == Inflo:\n",
    "        #    to be completed\n",
    "        #    generate a lateral sylleptic GU\n",
    "        #    generate a flower        \n",
    "      else:\n",
    "        # succession\n",
    "        if p.gutype == TrunkGU:\n",
    "          nproduce @Tp(0,0,-1) @Ts(0.005)\n",
    "        \n",
    "        produce Meristem(init_meristem(Proleptic, succession(p.gutype), p.init_date, p.mp.nbfinalmetamer))\n",
    "\n",
    "Internode(p) :\n",
    "  cttime = mthermaltime.get_effective_temperature(get_cdate())\n",
    "  p.ttime += cttime\n",
    "  p.length += growth_rate(p.ttime, p.finallength, tip_internode, b_internode)*cttime\n",
    "  p.width += growth_rate(p.ttime, InternodeRadius, tip_internode, b_internode)*cttime\n",
    "  produce Internode(p)\n",
    "\n",
    "Leaf(p):\n",
    "  cttime = mthermaltime.get_effective_temperature(get_cdate())\n",
    "  p.ttime += cttime\n",
    "  p.area += growth_rate(p.ttime, p.finalarea, tip_leaf, b_leaf)*cttime\n",
    "  produce Leaf(p)\n",
    "\n",
    "\n",
    "Flower(t):\n",
    "  if t < 30: produce Flower(t+1)\n",
    "  else : produce Fruit\n",
    "\n",
    "group 3:\n",
    "\n",
    "Leaf(p) --> %\n",
    "Fruit --> %\n",
    "\n",
    "interpretation:\n",
    "group 0:\n",
    "\n",
    "Internode(p) --> _(p.width) F(p.length)\n",
    "\n",
    "Leaf(p) :\n",
    "  if p.area > 0:\n",
    "    produce ,(2) @g(leafshape, sqrt(p.area / 1.4))\n",
    "\n",
    "\n",
    "Flower(t) --> [ F(3) ,(10) ,(4) _(0.001) F(3*cos(pi*(t/60.)),3*sin(pi*(t/60.)))  ]\n",
    "Fruit --> [ @v @h &(90) @Tp(0,0,-1) @Ts(0.1) ,(2) _(0.05) nF(1,0.1)  ,(3) f(1.5) @g(Revolution(applesection),3) ]\n",
    "\n",
    "endlsystem\n"
   ]
  },
  {
   "cell_type": "code",
   "execution_count": null,
   "metadata": {},
   "outputs": [],
   "source": []
  },
  {
   "cell_type": "markdown",
   "metadata": {},
   "source": [
    "# Pipe model\n",
    "\n",
    "Radius of each internode depends of the number of descendants. \n",
    "\n",
    "<center>\n",
    "    $r_i = r_0 . n_i^{p}$\n",
    "</center>\n",
    "with $n_i$ the number of descendants of internode $i$, $r_0$ the radius of the extremity and $p$ the pipe exponent.\n",
    "\n",
    "Test different value of $r_0$ and $p$."
   ]
  },
  {
   "cell_type": "code",
   "execution_count": null,
   "metadata": {},
   "outputs": [],
   "source": [
    "%%lpy -w 200 -p graphical \n",
    "\n",
    "# Pseudo random generation seed\n",
    "extern(SEED = 0)\n",
    "seed(SEED)\n",
    "\n",
    "def StartEach(lstring):\n",
    "  backward()\n",
    "  if get_cdate().month == 12:       useGroup(3)\n",
    "  # every 3 day we compute the pipe model\n",
    "  elif getIterationNb() % 3 == 0 :   useGroup(2)\n",
    "  else : useGroup(0)\n",
    "  increment_cdate()\n",
    "\n",
    "def End():\n",
    "    print(get_cdate())\n",
    "\n",
    "module Meristem, Leaf, Internode\n",
    "\n",
    "radiusconstant = 0.27\n",
    "radiusexponent = 0.27\n",
    "\n",
    "Axiom:\n",
    "  init_cdate()\n",
    "  produce  Meristem(init_meristem(Proleptic,TrunkGU))\n",
    "\n",
    "derivation length: 219\n",
    "production:\n",
    "group 0:\n",
    "\n",
    "Meristem(p):\n",
    "  if p.processed_date < get_cdate():\n",
    "    p.processed_date = get_cdate()\n",
    "    previousnbmetamer = p.mp.nbmetamer\n",
    "    nbnewmetamer = p.mp.accumulate_range(p.init_date, get_cdate())\n",
    "    for i in range(nbnewmetamer):\n",
    "      rank =  previousnbmetamer+i\n",
    "      normalizedrank = rank / p.mp.nbfinalmetamer\n",
    "      nproduce Internode(ParameterSet(length=0.01, finallength = internode_length(rank = rank), width=0.01, ttime = 0, nbchildren = 1))\n",
    "      nproduce   /(144) [  &(60) Leaf(ParameterSet(area=0, finalarea = leaf_area(rank = rank), ttime = 0)) ]\n",
    "      ramiffate, ramiftype = branching(p.gutype, normalizedrank, branchingmatrixtype =branchingmatrixtype)\n",
    "      if ramiffate == Sylleptic and (get_cdate().year >= 2011 or p.gufate == Sylleptic):\n",
    "        ramiffate = Proleptic\n",
    "      if ramiffate != Blind:\n",
    "        nproduce [ &(30) @Tp(0,0,-1) @Ts(0.01) Meristem(init_meristem(ramiffate, ramiftype, p.init_date, p.mp.nbfinalmetamer)) ]\n",
    "    \n",
    "    if p.mp.nbmetamer < p.mp.nbfinalmetamer:\n",
    "      nproduce Meristem(p)\n",
    "    else:\n",
    "      # succession\n",
    "      if p.gutype == Inflo:\n",
    "        nproduce [ &(15) Meristem(init_meristem(Sylleptic, succession(p.gutype), p.init_date, p.mp.nbfinalmetamer)) ]\n",
    "        produce Flower(0)\n",
    "      else:\n",
    "        # succession\n",
    "        if p.gutype == TrunkGU:\n",
    "          nproduce @Tp(0,0,-1) @Ts(0.005)\n",
    "        \n",
    "        produce Meristem(init_meristem(Proleptic, succession(p.gutype), p.init_date, p.mp.nbfinalmetamer))        \n",
    "\n",
    "group 2:\n",
    "consider: Internode, Meristem\n",
    "Internode(p) >> []  x([Internode(pb)]) x([Meristem(pm)]) x(Internode(pa),1) :\n",
    "  p.nbchildren = sum([pi.nbchildren for pi in pb])+sum([pi.nbchildren for pi in pa])+1\n",
    "  \n",
    "  if p.ttime < tip_internode*5:\n",
    "    cttime = mthermaltime.get_effective_temperature(cdate)\n",
    "    p.ttime += cttime\n",
    "  \n",
    "    p.length += growth_rate(p.ttime, p.finallength, tip_internode, b_internode)*cttime\n",
    "    p.width = radiusconstant * pow(p.nbchildren, radiusexponent)\n",
    "  \n",
    "  produce Internode(p)\n",
    "\n",
    "group 0:        \n",
    "Internode(p) :\n",
    "  if p.ttime < tip_internode*5:\n",
    "      cttime = mthermaltime.get_effective_temperature(get_cdate())\n",
    "      p.ttime += cttime\n",
    "      p.length += growth_rate(p.ttime, p.finallength, tip_internode, b_internode)*cttime\n",
    "      produce Internode(p)\n",
    "\n",
    "Leaf(p):\n",
    "  cttime = mthermaltime.get_effective_temperature(get_cdate())\n",
    "  p.ttime += cttime\n",
    "  p.area += growth_rate(p.ttime, p.finalarea, tip_leaf, b_leaf)*cttime\n",
    "  produce Leaf(p)\n",
    "\n",
    "\n",
    "Flower(t):\n",
    "  if t < 30: produce Flower(t+1)\n",
    "  else : produce Fruit\n",
    "\n",
    "group 3:\n",
    "\n",
    "Leaf(p) --> %\n",
    "Fruit --> %\n",
    "\n",
    "interpretation:\n",
    "group 0:\n",
    "\n",
    "Internode(p) --> _(p.width) F(p.length)\n",
    "\n",
    "Leaf(p) :\n",
    "  if p.area > 0:\n",
    "    produce ,(2) @g(leafshape, sqrt(p.area / 1.4))\n",
    "\n",
    "\n",
    "Flower(t) --> [ F(3) ,(10) ,(4) _(0.001) F(3*cos(pi*(t/60.)),3*sin(pi*(t/60.)))  ]\n",
    "Fruit --> [ @v @h &(90) @Tp(0,0,-1) @Ts(0.1) ,(2) _(0.05) nF(1,0.1)  ,(3) f(1.5) @g(Revolution(applesection),3) ]\n",
    "\n",
    "endlsystem\n"
   ]
  },
  {
   "cell_type": "code",
   "execution_count": null,
   "metadata": {},
   "outputs": [],
   "source": []
  }
 ],
 "metadata": {
  "celltoolbar": "Tags",
  "kernelspec": {
   "display_name": "Python 3",
   "language": "python",
   "name": "python3"
  },
  "language_info": {
   "codemirror_mode": {
    "name": "ipython",
    "version": 3
   },
   "file_extension": ".py",
   "mimetype": "text/x-python",
   "name": "python",
   "nbconvert_exporter": "python",
   "pygments_lexer": "ipython3",
   "version": "3.8.6"
  },
  "widgets": {
   "application/vnd.jupyter.widget-state+json": {
    "state": {},
    "version_major": 2,
    "version_minor": 0
   }
  }
 },
 "nbformat": 4,
 "nbformat_minor": 2
}
