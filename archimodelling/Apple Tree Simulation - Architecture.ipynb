{
 "cells": [
  {
   "cell_type": "markdown",
   "metadata": {},
   "source": [
    "# Simulation of the growth and development of an apple tree 2 - Architecture"
   ]
  },
  {
   "cell_type": "code",
   "execution_count": null,
   "metadata": {},
   "outputs": [],
   "source": [
    "from pgljupyter import *\n",
    "from openalea.lpy import *"
   ]
  },
  {
   "cell_type": "code",
   "execution_count": null,
   "metadata": {},
   "outputs": [],
   "source": [
    "from training.utils.namedenum import enum\n",
    "import numpy as np\n",
    "\n",
    "gutypes = enum('ShortGU', 'LongGU', 'Inflo', 'TrunkGU')\n",
    "gufate  = enum('Proleptic','Sylleptic','Blind')\n",
    "\n",
    "def is_sylleptic(gufate):\n",
    "    return gufate == Sylleptic\n",
    "\n",
    "def is_proleptic(gufate):\n",
    "    return gufate == Proleptic\n"
   ]
  },
  {
   "cell_type": "markdown",
   "metadata": {},
   "source": [
    "## Growth unit succession and flowering among years"
   ]
  },
  {
   "cell_type": "code",
   "execution_count": null,
   "metadata": {},
   "outputs": [],
   "source": [
    "sucessiontypes = [ShortGU, LongGU, Inflo]\n",
    "successionmatrix = [[0.6,  0.0,  0.4],\n",
    "                    [0.35, 0.25, 0.4],\n",
    "                    [0.95, 0.05,  0]\n",
    "                   ]\n",
    "#from random import uniform, seed\n",
    "from numpy import cumsum\n",
    "from numpy.random import uniform\n",
    "\n",
    "\n",
    "def realization_in_probaranges(probas):\n",
    "    cumsum_probs = cumsum(probas)\n",
    "    totalprob = cumsum_probs[-1]\n",
    "    cumsum_probs /= totalprob\n",
    "    assert abs(cumsum_probs[-1] -1) < 1e-5\n",
    "    unif_realization = float( uniform(0,1) )\n",
    "    i = 0\n",
    "    while unif_realization >= cumsum_probs[i] : i += 1\n",
    "    return i\n",
    "\n",
    "def succession(gutype, successionmatrix = successionmatrix):\n",
    "    if gutype == TrunkGU : return LongGU\n",
    "    probas = successionmatrix[gutype]\n",
    "    return sucessiontypes[realization_in_probaranges(probas)]\n"
   ]
  },
  {
   "cell_type": "code",
   "execution_count": null,
   "metadata": {
    "example": true,
    "tags": [
     "example"
    ]
   },
   "outputs": [],
   "source": [
    "# Example of Use\n",
    "from matplotlib.pyplot import *\n",
    "%matplotlib inline\n",
    "\n",
    "print(succession(LongGU))\n",
    "print(succession(Inflo))\n",
    "\n",
    "print('Succession Probabilities')\n",
    "imshow(successionmatrix, cmap='jet', vmin = 0, vmax = 1)\n",
    "xticks(range(3),map(str,sucessiontypes))\n",
    "yticks(range(3),map(str,sucessiontypes))\n",
    "for i in range(3):\n",
    "    for j in range(3):\n",
    "        text(i,j,str(successionmatrix[j][i]), color='w')\n",
    "show()"
   ]
  },
  {
   "cell_type": "markdown",
   "metadata": {},
   "source": [
    "## Branching probability"
   ]
  },
  {
   "cell_type": "code",
   "execution_count": null,
   "metadata": {},
   "outputs": [],
   "source": [
    "def normalize(matrix):\n",
    "    def nml(a):\n",
    "        s = sum(a)\n",
    "        return a/s\n",
    "    matrix = np.array(matrix)\n",
    "    return np.array([nml(probas) for probas in matrix])\n",
    "    \n",
    "lateralfates = [Blind, Proleptic, Sylleptic]\n",
    "branchingmatrixfate = normalize([\n",
    "    [0.4,0.6,0],\n",
    "    [0.3,0.7,0],\n",
    "    [0.4,0.6,0],\n",
    "    [0.7,0.3,0],\n",
    "    [0.4,0.25,0.35],\n",
    "    [0.4,0.25,0.35],\n",
    "    [0.35,0.2,0.45],\n",
    "    [0.35,0.3,0.35],\n",
    "    [0.3,0.55,0.15],\n",
    "    [0.65,0.35,0]\n",
    "])\n",
    "\n",
    "\n",
    "lateraltypes = [ShortGU, LongGU, Inflo]\n",
    "branchingmatrixtype = normalize([\n",
    "    [0.5,  0.0, 0],\n",
    "    [0.5,  0.5, 0],\n",
    "    [0.75, 0.25,0],\n",
    "    [1,    0,   0],\n",
    "    [1,    0,   0],\n",
    "    [0.5,  0.5, 0],\n",
    "    [0.25, 0,   0.75],\n",
    "    [0.15, 0.35,0.5],\n",
    "    [0.15, 0.7, 0.15],\n",
    "    [0.4,  0.6, 0]\n",
    "])\n",
    "\n",
    "branchingmatrixtype = np.array(branchingmatrixtype)\n",
    "\n",
    "def branching(gutype, u, branchingmatrixfate = branchingmatrixfate, branchingmatrixtype = branchingmatrixtype):\n",
    "    if gutype in [ShortGU, Inflo] : return Blind, None\n",
    "    i, _ = divmod(u, 0.1)\n",
    "    probafate = branchingmatrixfate[int(i)]\n",
    "    fate = lateralfates[realization_in_probaranges(probafate)]\n",
    "    if fate == Blind: return Blind, None\n",
    "    probatype = branchingmatrixtype[int(i)]\n",
    "    ptype = lateraltypes[realization_in_probaranges(probatype)]\n",
    "    if fate == Sylleptic and ptype == Inflo:\n",
    "        fate = Proleptic\n",
    "    return fate, ptype\n",
    "\n",
    "num2str = lambda v : '%.1f' % v\n",
    "from matplotlib.pyplot import *\n",
    "def plot_matrix(matrix, labels):\n",
    "    imshow(matrix, cmap='jet', vmin = 0, vmax = 1)\n",
    "    xticks(range(len(labels)),map(str,labels),rotation=90)\n",
    "    nb = len(matrix)\n",
    "    yticks(range(nb),map(num2str,[0.1*i for i in range(nb)]))\n",
    "    for i in range(len(labels)):\n",
    "        for j in range(nb):\n",
    "            text(i-0.5,j,num2str(matrix[j][i]), color='w')\n",
    "    show()\n",
    "    "
   ]
  },
  {
   "cell_type": "code",
   "execution_count": null,
   "metadata": {
    "example": true,
    "tags": [
     "example"
    ]
   },
   "outputs": [],
   "source": [
    "# Example of Use\n",
    "\n",
    "print('Branching Fate Probabilities ')\n",
    "plot_matrix(branchingmatrixfate, lateralfates)\n",
    "\n",
    "\n",
    "print('Branching Type Probabilities')\n",
    "plot_matrix(branchingmatrixtype, lateraltypes)\n"
   ]
  },
  {
   "cell_type": "code",
   "execution_count": null,
   "metadata": {},
   "outputs": [],
   "source": [
    "def probalong(u,maxrank = 0.5, probamax = 0.5, rankspan = 0.5):\n",
    "    if maxrank < 0: maxrank = 0\n",
    "    elif maxrank >=1 : maxrank = 0.9\n",
    "    if rankspan > 0.5 : rankspan = 0.5\n",
    "    elif rankspan < 0 : rankspan = 0\n",
    "    \n",
    "    minu = maxrank-rankspan\n",
    "    maxu = maxrank+rankspan\n",
    "    if minu < -0.1:\n",
    "        maxu = maxu-minu\n",
    "        minu = -0.1\n",
    "    if maxu > 1:\n",
    "        minu -= (maxu-1)\n",
    "        maxu = 1\n",
    "    \n",
    "    if u < minu or u > maxu:\n",
    "        return 0\n",
    "    if u < maxrank:\n",
    "       return probamax*(u-minu)/(maxrank-minu)\n",
    "    else:\n",
    "       return probamax*(maxu-u)/(maxu-maxrank)\n",
    "    "
   ]
  },
  {
   "cell_type": "code",
   "execution_count": null,
   "metadata": {
    "tags": [
     "example"
    ]
   },
   "outputs": [],
   "source": [
    "from numpy import arange\n",
    "plot(arange(0,1.01,0.1),list(map(lambda u: probalong(u, 0.4, probamax=0.3,rankspan=0.8),arange(0,1.01,0.1))))\n",
    "show()"
   ]
  },
  {
   "cell_type": "code",
   "execution_count": null,
   "metadata": {},
   "outputs": [],
   "source": [
    "def estimatebranchingmatrixtype(maxrank = 0.5, probamax = 0.5, rankspan = 0.5):\n",
    "    longs = [probalong(u, maxrank, probamax, rankspan) for u in np.arange(0,1,0.1)]\n",
    "    shorts = branchingmatrixtype[:,0]\n",
    "    inflos = branchingmatrixtype[:,2]\n",
    "    def normalizeprobas(a,b,c):\n",
    "        f = (1-b)/(a+c)\n",
    "        ap = a*f\n",
    "        cp = c*f\n",
    "        return (ap,b,cp)\n",
    "    matrix = [normalizeprobas(a,b,c) for a,b,c in zip(shorts,longs, inflos)]\n",
    "    return matrix\n",
    "    \n",
    "    \n",
    "    "
   ]
  },
  {
   "cell_type": "code",
   "execution_count": null,
   "metadata": {
    "tags": [
     "example"
    ]
   },
   "outputs": [],
   "source": [
    "matrix = estimatebranchingmatrixtype(0.4, 1, 0.5)\n",
    "plot_matrix(matrix, lateraltypes)"
   ]
  },
  {
   "cell_type": "markdown",
   "metadata": {},
   "source": [
    "## Modelling architecture development\n",
    "\n",
    "Open in L-Py the model [architecture.lpy](./architecture.lpy) or edit the followig code.\n",
    "\n",
    "- Change Probability of succession and  branching\n",
    "- Add rule for flowering GU that always create a lateral short GU and a Flower in terminal position.\n"
   ]
  },
  {
   "cell_type": "markdown",
   "metadata": {},
   "source": [
    "### Import of the development function of organs"
   ]
  },
  {
   "cell_type": "code",
   "execution_count": null,
   "metadata": {},
   "outputs": [],
   "source": [
    "import os\n",
    "from openalea.lpy.lsysparameters import LsystemParameters\n",
    "from training.utils.notebook_util import notebook\n",
    "organnotebook = 'Apple Tree Simulation - Organs.ipynb'\n",
    "exec(notebook(organnotebook))\n",
    "assert('growth_logistic' in globals())\n"
   ]
  },
  {
   "cell_type": "code",
   "execution_count": null,
   "metadata": {},
   "outputs": [],
   "source": [
    "def seed(value):\n",
    "    from random import seed\n",
    "    from numpy.random import seed as rseed\n",
    "    seed(value)\n",
    "    rseed(value)"
   ]
  },
  {
   "cell_type": "markdown",
   "metadata": {},
   "source": [
    "### Graphical parameters"
   ]
  },
  {
   "cell_type": "code",
   "execution_count": null,
   "metadata": {},
   "outputs": [],
   "source": [
    "from math import *\n",
    "from openalea.plantgl.all import Revolution\n",
    "\n",
    "applesection = NurbsCurve2D([(-0.000874121, -0.389685, 1),(0.0162006, -0.606468, 1),(0.629545, -0.424825, 1),(0.712296, 0.0104895, 1),(0.645105, 0.516783, 1),(-0.00961528, 0.627098, 1),(-0.0171328, 0.394231, 1)])\n",
    "graphical = LsystemParameters()\n",
    "graphical.add('applesection', applesection)\n",
    "graphical.add('SEED',10)\n",
    "graphical.set_color(10,Material((200,200,200),1))"
   ]
  },
  {
   "cell_type": "markdown",
   "metadata": {},
   "source": [
    "### Scheduling\n",
    "\n",
    "These functions manage the current date.\n",
    "By default, we suppose that group 3 is for mortality. It is call in december."
   ]
  },
  {
   "cell_type": "code",
   "execution_count": null,
   "metadata": {},
   "outputs": [],
   "source": [
    "cdate = None\n",
    "\n",
    "def get_cdate():\n",
    "  return cdate\n",
    "\n",
    "def init_cdate():\n",
    "  global cdate\n",
    "  cdate = meteo.get_first_day_for_temperature()+timedelta(days=120)\n",
    "  return cdate\n",
    "\n",
    "def increment_cdate():\n",
    "  global cdate\n",
    "  # in winter, we only compute one day per month\n",
    "  if cdate.month in list(range(7,13))+list(range(1,4)):\n",
    "    deltatime = 30\n",
    "  else:\n",
    "    deltatime = 1\n",
    "  cdate += timedelta(days=deltatime)\n",
    "  return cdate\n",
    "\n",
    "def Start():\n",
    "  init_cdate()\n",
    "\n",
    "def StartEach():\n",
    "  # mortality in december\n",
    "  if get_cdate().month == 12:   useGroup(3) \n",
    "  # standart rules\n",
    "  else:    useGroup(0)\n",
    "  increment_cdate()\n"
   ]
  },
  {
   "cell_type": "markdown",
   "metadata": {},
   "source": [
    "The function init_meristem should initialize the meristem parameters according to the given fate and type."
   ]
  },
  {
   "cell_type": "code",
   "execution_count": null,
   "metadata": {},
   "outputs": [],
   "source": [
    "def init_meristem(gufate, gutype, parentdate = None, parentlength = None):\n",
    "  if parentdate is None:\n",
    "    init_date = date(get_cdate().year, 4, 1)\n",
    "  elif gufate == Sylleptic:\n",
    "    init_date = cdate\n",
    "  else:\n",
    "    init_date = date(parentdate.year+1, 4, 1)\n",
    "  assert gutype in [ShortGU, LongGU, Inflo, TrunkGU]\n",
    "  nbmetamer = growth_unit_length(gutype, parentlength)\n",
    "  p = ParameterSet(gutype = gutype,\n",
    "                   gufate = gufate,\n",
    "                   mp = MetamerProduction(metamerprodrate, nbmetamer),\n",
    "                   init_date = init_date,\n",
    "                   processed_date = init_date - timedelta(days=1))\n",
    "  return p"
   ]
  },
  {
   "cell_type": "markdown",
   "metadata": {},
   "source": [
    "## Questions:\n",
    "\n",
    " - Change probabilities of succession and branching\n",
    " - Add rule for flowering GU that always create a lateral short GU and a Flower in terminal position.\n"
   ]
  },
  {
   "cell_type": "code",
   "execution_count": null,
   "metadata": {},
   "outputs": [],
   "source": [
    "%%lpy -w 200 -p graphical \n",
    "\n",
    "# Pseudo random generation seed\n",
    "extern(SEED = 0)\n",
    "seed(SEED)\n",
    "\n",
    "module Meristem\n",
    "module Leaf\n",
    "module Internode\n",
    "\n",
    "Axiom:\n",
    "  init_cdate()\n",
    "  produce  Meristem(init_meristem(Proleptic,TrunkGU))\n",
    "\n",
    "derivation length: 200\n",
    "production:\n",
    "group 0:\n",
    "\n",
    "Meristem(p):\n",
    "  if p.processed_date < get_cdate():\n",
    "    p.processed_date = get_cdate()\n",
    "    previousnbmetamer = p.mp.nbmetamer\n",
    "    nbnewmetamer = p.mp.accumulate_range(p.init_date, get_cdate())\n",
    "    for i in range(nbnewmetamer):\n",
    "      rank =  previousnbmetamer+i\n",
    "      normalizedrank = rank / p.mp.nbfinalmetamer\n",
    "      nproduce Internode(ParameterSet(length=0.01, finallength = internode_length(rank = rank), width=0.01, ttime = 0, nbchildren = 1))\n",
    "      nproduce   /(144) [  &(60) Leaf(ParameterSet(area=0, finalarea = leaf_area(rank = rank), ttime = 0)) ]\n",
    "      ramiffate, ramiftype = branching(p.gutype, normalizedrank, branchingmatrixtype =branchingmatrixtype)\n",
    "      if ramiffate == Sylleptic and (get_cdate().year >= 2011 or p.gufate == Sylleptic):\n",
    "        ramiffate = Proleptic\n",
    "      if ramiffate != Blind:\n",
    "        nproduce [ &(30) @Tp(0,0,-1) @Ts(0.01) Meristem(init_meristem(ramiffate, ramiftype, p.init_date, p.mp.nbfinalmetamer)) ]\n",
    "    \n",
    "    if p.mp.nbmetamer < p.mp.nbfinalmetamer:\n",
    "      nproduce Meristem(p)\n",
    "    else:\n",
    "      # succession\n",
    "      if p.gutype == Inflo:\n",
    "        #    to be completed\n",
    "        #    generate a lateral sylleptic GU\n",
    "        #    generate a flower\n",
    "        pass\n",
    "      else:\n",
    "        # succession\n",
    "        if p.gutype == TrunkGU:\n",
    "          nproduce @Tp(0,0,-1) @Ts(0.005)\n",
    "        \n",
    "        produce Meristem(init_meristem(Proleptic, succession(p.gutype), p.init_date, p.mp.nbfinalmetamer))\n",
    "\n",
    "Internode(p) :\n",
    "  cttime = mthermaltime.get_effective_temperature(get_cdate())\n",
    "  p.ttime += cttime\n",
    "  p.length += growth_rate(p.ttime, p.finallength, tip_internode, b_internode)*cttime\n",
    "  p.width += growth_rate(p.ttime, InternodeRadius, tip_internode, b_internode)*cttime\n",
    "  produce Internode(p)\n",
    "\n",
    "Leaf(p):\n",
    "  cttime = mthermaltime.get_effective_temperature(get_cdate())\n",
    "  p.ttime += cttime\n",
    "  p.area += growth_rate(p.ttime, p.finalarea, tip_leaf, b_leaf)*cttime\n",
    "  produce Leaf(p)\n",
    "\n",
    "\n",
    "Flower(t):\n",
    "  if t < 30: produce Flower(t+1)\n",
    "  else : produce Fruit\n",
    "\n",
    "group 3:\n",
    "\n",
    "Leaf(p) --> %\n",
    "Fruit --> %\n",
    "\n",
    "interpretation:\n",
    "group 0:\n",
    "\n",
    "Internode(p) --> _(p.width) F(p.length)\n",
    "\n",
    "Leaf(p) :\n",
    "  if p.area > 0:\n",
    "    produce ,(2) @g(leafshape, sqrt(p.area / 1.4))\n",
    "\n",
    "\n",
    "Flower(t) --> [ F(3) ,(10) ,(4) _(0.001) F(3*cos(pi*(t/60.)),3*sin(pi*(t/60.)))  ]\n",
    "Fruit --> [ @v @h &(90) @Tp(0,0,-1) @Ts(0.1) ,(2) _(0.05) nF(1,0.1)  ,(3) f(1.5) @g(Revolution(applesection),3) ]\n",
    "\n",
    "endlsystem\n"
   ]
  },
  {
   "cell_type": "markdown",
   "metadata": {},
   "source": [
    "# Pipe model\n",
    "\n",
    "Radius of each internode depends of the number of descendants. \n",
    "\n",
    "<center>\n",
    "    $r_i = r_0 . n_i^{p}$\n",
    "</center>\n",
    "with $n_i$ the number of descendants of internode $i$, $r_0$ the radius of the extremity and $p$ the pipe exponent.\n",
    "\n",
    "Test different value of $r_0$ and $p$."
   ]
  },
  {
   "cell_type": "code",
   "execution_count": 1,
   "metadata": {},
   "outputs": [
    {
     "name": "stderr",
     "output_type": "stream",
     "text": [
      "UsageError: Cell magic `%%lpy` not found.\n"
     ]
    }
   ],
   "source": [
    "%%lpy -w 200 -p graphical \n",
    "\n",
    "# Pseudo random generation seed\n",
    "extern(SEED = 0)\n",
    "seed(SEED)\n",
    "\n",
    "def StartEach(lstring):\n",
    "  backward()\n",
    "  if get_cdate().month == 12:       \n",
    "        useGroup(3)\n",
    "  # every 3 day we compute the pipe model\n",
    "  #elif getIterationNb() % 3 == 0 :   useGroup(2)\n",
    "  else : useGroup(0)\n",
    "  increment_cdate(1,3)\n",
    "\n",
    "\n",
    "def EndEach():\n",
    "  if get_cdate().year == 2012 and get_cdate().month == 9:\n",
    "    print(getIterationNb())\n",
    "    Stop()\n",
    "    \n",
    "def End():\n",
    "    print(get_cdate())\n",
    "\n",
    "module Meristem\n",
    "module Leaf\n",
    "module Internode\n",
    "\n",
    "radiusconstant = 0.27\n",
    "radiusexponent = 0.27\n",
    "\n",
    "Axiom:\n",
    "  init_cdate()\n",
    "  produce  Meristem(init_meristem(Proleptic,TrunkGU))\n",
    "\n",
    "derivation length: 450\n",
    "production:\n",
    "group 0:\n",
    "\n",
    "Meristem(p):\n",
    "  if p.processed_date < get_cdate():\n",
    "    p.processed_date = get_cdate()\n",
    "    previousnbmetamer = p.mp.nbmetamer\n",
    "    nbnewmetamer = p.mp.accumulate_range(p.init_date, get_cdate())\n",
    "    for i in range(nbnewmetamer):\n",
    "      rank =  previousnbmetamer+i\n",
    "      normalizedrank = rank / p.mp.nbfinalmetamer\n",
    "      nproduce Internode(ParameterSet(length=0.01, finallength = internode_length(rank = rank), width=0.01, ttime = 0, nbchildren = 1))\n",
    "      nproduce   /(144) # [  &(60) Leaf(ParameterSet(area=0, finalarea = leaf_area(rank = rank), ttime = 0)) ]\n",
    "      ramiffate, ramiftype = branching(p.gutype, normalizedrank, branchingmatrixtype =branchingmatrixtype)\n",
    "      if ramiffate == Sylleptic and (get_cdate().year >= 2011 or p.gufate == Sylleptic):\n",
    "        ramiffate = Proleptic\n",
    "      if ramiffate != Blind:\n",
    "        nproduce [ &(30) @Tp(0,0,-1) @Ts(0.01) Meristem(init_meristem(ramiffate, ramiftype, p.init_date, p.mp.nbfinalmetamer)) ]\n",
    "    \n",
    "    if p.mp.nbmetamer < p.mp.nbfinalmetamer:\n",
    "      nproduce Meristem(p)\n",
    "    else:\n",
    "      # succession\n",
    "      if p.gutype == Inflo:\n",
    "        nproduce [ &(15) Meristem(init_meristem(Sylleptic, succession(p.gutype), p.init_date, p.mp.nbfinalmetamer)) ]\n",
    "        # produce Flower(0)\n",
    "      else:\n",
    "        # succession\n",
    "        if p.gutype == TrunkGU:\n",
    "          nproduce @Tp(0,0,-1) @Ts(0.005)\n",
    "        \n",
    "        produce Meristem(init_meristem(Proleptic, succession(p.gutype), p.init_date, p.mp.nbfinalmetamer))        \n",
    "\n",
    "# group 2:\n",
    "consider: Internode, Meristem\n",
    "Internode(p) >> []  x([Internode(pb)]) x([Meristem(pm)]) x(Internode(pa),1) :\n",
    "    p.nbchildren = sum([pi.nbchildren for pi in pb])+sum([pi.nbchildren for pi in pa])+1\n",
    "  \n",
    "    cttime = mthermaltime.get_effective_temperature(cdate)\n",
    "    p.ttime += cttime\n",
    "  \n",
    "    p.length += growth_rate(p.ttime, p.finallength, tip_internode, b_internode)*cttime\n",
    "    p.width = radiusconstant * pow(p.nbchildren, radiusexponent)\n",
    "  \n",
    "    produce Internode(p)\n",
    "\n",
    "group 0:        \n",
    "Internode(p) :\n",
    "      cttime = mthermaltime.get_effective_temperature(get_cdate())\n",
    "      p.ttime += cttime\n",
    "      p.length += growth_rate(p.ttime, p.finallength, tip_internode, b_internode)*cttime\n",
    "      produce Internode(p)\n",
    "\n",
    "Leaf(p):\n",
    "  cttime = mthermaltime.get_effective_temperature(get_cdate())\n",
    "  p.ttime += cttime\n",
    "  p.area += growth_rate(p.ttime, p.finalarea, tip_leaf, b_leaf)*cttime\n",
    "  produce Leaf(p)\n",
    "\n",
    "\n",
    "Flower(t):\n",
    "  if t < 30: produce Flower(t+1)\n",
    "  else : produce Fruit\n",
    "\n",
    "group 3:\n",
    "\n",
    "Leaf(p) --> %\n",
    "Fruit --> %\n",
    "\n",
    "interpretation:\n",
    "group 0:\n",
    "\n",
    "Internode(p) --> _(p.width) F(p.length)\n",
    "\n",
    "Leaf(p) :\n",
    "  if p.area > 0:\n",
    "    produce ,(2) @g(leafshape, sqrt(p.area / 1.4))\n",
    "\n",
    "\n",
    "Flower(t) --> [ F(3) ,(10) ,(4) _(0.001) F(3*cos(pi*(t/60.)),3*sin(pi*(t/60.)))  ]\n",
    "Fruit --> [ @v @h &(90) @Tp(0,0,-1) @Ts(0.1) ,(2) _(0.05) nF(1,0.1)  ,(3) f(1.5) @g(Revolution(applesection),3) ]\n",
    "\n",
    "endlsystem\n"
   ]
  },
  {
   "cell_type": "code",
   "execution_count": null,
   "metadata": {},
   "outputs": [],
   "source": []
  }
 ],
 "metadata": {
  "celltoolbar": "Tags",
  "kernelspec": {
   "display_name": "Python 3",
   "language": "python",
   "name": "python3"
  },
  "language_info": {
   "codemirror_mode": {
    "name": "ipython",
    "version": 3
   },
   "file_extension": ".py",
   "mimetype": "text/x-python",
   "name": "python",
   "nbconvert_exporter": "python",
   "pygments_lexer": "ipython3",
   "version": "3.8.6"
  },
  "widgets": {
   "application/vnd.jupyter.widget-state+json": {
    "state": {
     "00c0f07de912402087412e4613e6ac7c": {
      "model_module": "@jupyter-widgets/base",
      "model_module_version": "1.2.0",
      "model_name": "LayoutModel",
      "state": {}
     },
     "01cd72bb500d48fb97ab2d7775e578fa": {
      "model_module": "@jupyter-widgets/base",
      "model_module_version": "1.2.0",
      "model_name": "LayoutModel",
      "state": {}
     },
     "03dd4d16d40d4399a8899e6af61f8506": {
      "model_module": "@jupyter-widgets/controls",
      "model_module_version": "1.5.0",
      "model_name": "TextModel",
      "state": {
       "continuous_update": false,
       "description": "name",
       "layout": "IPY_MODEL_e63bca7e7d264f869c6ea9e15900b152",
       "style": "IPY_MODEL_e656e2bbf111403b83ae688ba75e9e87",
       "value": "applesection"
      }
     },
     "0484b7ba5bba4cc7be807c28f927bfac": {
      "model_module": "@jupyter-widgets/controls",
      "model_module_version": "1.5.0",
      "model_name": "DescriptionStyleModel",
      "state": {
       "description_width": ""
      }
     },
     "05aeaba225804e73b992c25e18c20da5": {
      "model_module": "@jupyter-widgets/controls",
      "model_module_version": "1.5.0",
      "model_name": "BoundedIntTextModel",
      "state": {
       "description": "index",
       "layout": "IPY_MODEL_00c0f07de912402087412e4613e6ac7c",
       "style": "IPY_MODEL_0925f9789592467b9bd890de60ec32ac",
       "value": 10
      }
     },
     "08b444cd51ca45388e8c7c1c639a33c6": {
      "model_module": "@jupyter-widgets/controls",
      "model_module_version": "1.5.0",
      "model_name": "SliderStyleModel",
      "state": {
       "description_width": ""
      }
     },
     "0925f9789592467b9bd890de60ec32ac": {
      "model_module": "@jupyter-widgets/controls",
      "model_module_version": "1.5.0",
      "model_name": "DescriptionStyleModel",
      "state": {
       "description_width": ""
      }
     },
     "0a359fc7f2284d06b43f51e876c1083e": {
      "model_module": "@jupyter-widgets/base",
      "model_module_version": "1.2.0",
      "model_name": "LayoutModel",
      "state": {}
     },
     "0a54da5b367c485f91cc06929b46b14c": {
      "model_module": "@jupyter-widgets/controls",
      "model_module_version": "1.5.0",
      "model_name": "DescriptionStyleModel",
      "state": {
       "description_width": ""
      }
     },
     "0bdb57d7dcdd42a398119a37ad9233bf": {
      "model_module": "@jupyter-widgets/controls",
      "model_module_version": "1.5.0",
      "model_name": "IntSliderModel",
      "state": {
       "continuous_update": false,
       "description": "SEED",
       "layout": "IPY_MODEL_72042689144f43e18e894aa648bb9e43",
       "style": "IPY_MODEL_b8bc2b02e1f84007a7dfe7ebc1de873d",
       "value": 10
      }
     },
     "1404f0b6efc04ec1b0fa9ef7fc89e80b": {
      "model_module": "pgljupyter",
      "model_module_version": "^0.2.0",
      "model_name": "MaterialEditorModel",
      "state": {
       "_model_module_version": "^0.2.0",
       "_view_module_version": "^0.2.0",
       "children": [
        "IPY_MODEL_05aeaba225804e73b992c25e18c20da5",
        "IPY_MODEL_268eb76de87b42a28aedf1dc875061ba",
        "IPY_MODEL_cfdf699947654db5b9b13f041a2e1927",
        "IPY_MODEL_6b05a3a166a54b7f9bbaacf868aaf4eb",
        "IPY_MODEL_26a0541271a84fd2a56730028937ef1d",
        "IPY_MODEL_5a56e4bcae5f4ac18b719b55fe1914a7",
        "IPY_MODEL_d99f60132b7f45a4a7f2e7f1cdc5e16c"
       ],
       "layout": "IPY_MODEL_d154018ae1574b4597806347d08553db"
      }
     },
     "157a1df846b7481ebf96270ff03007fb": {
      "model_module": "@jupyter-widgets/base",
      "model_module_version": "1.2.0",
      "model_name": "LayoutModel",
      "state": {}
     },
     "1988b86dd17547a1a53af0cc869528cb": {
      "model_module": "@jupyter-widgets/base",
      "model_module_version": "1.2.0",
      "model_name": "LayoutModel",
      "state": {}
     },
     "21554c8d606b4f8099e4ecdd6fb7f16d": {
      "model_module": "@jupyter-widgets/base",
      "model_module_version": "1.2.0",
      "model_name": "LayoutModel",
      "state": {
       "margin": "10px 10px"
      }
     },
     "244d54daf76e4e14bd2223f339bb69c2": {
      "model_module": "@jupyter-widgets/base",
      "model_module_version": "1.2.0",
      "model_name": "LayoutModel",
      "state": {}
     },
     "2457df6094104cdb8a7b5f999daff0ef": {
      "model_module": "@jupyter-widgets/controls",
      "model_module_version": "1.5.0",
      "model_name": "HBoxModel",
      "state": {
       "children": [
        "IPY_MODEL_9f649d789c2f412bac01f33d25e70c10",
        "IPY_MODEL_8ac0f0b6543b4202983f00049f3c468c"
       ],
       "layout": "IPY_MODEL_244d54daf76e4e14bd2223f339bb69c2"
      }
     },
     "25a2734dd8254d09b48e874ec54c9a61": {
      "model_module": "@jupyter-widgets/base",
      "model_module_version": "1.2.0",
      "model_name": "LayoutModel",
      "state": {}
     },
     "268eb76de87b42a28aedf1dc875061ba": {
      "model_module": "@jupyter-widgets/controls",
      "model_module_version": "1.5.0",
      "model_name": "ColorPickerModel",
      "state": {
       "description": "ambient",
       "disabled": false,
       "layout": "IPY_MODEL_3432e873bcd246afa8d548e16b1d1e68",
       "style": "IPY_MODEL_0a54da5b367c485f91cc06929b46b14c",
       "value": "#c8c8c8"
      }
     },
     "26a0541271a84fd2a56730028937ef1d": {
      "model_module": "@jupyter-widgets/controls",
      "model_module_version": "1.5.0",
      "model_name": "FloatSliderModel",
      "state": {
       "continuous_update": false,
       "description": "diffuse",
       "layout": "IPY_MODEL_157a1df846b7481ebf96270ff03007fb",
       "max": 3,
       "step": 0.1,
       "style": "IPY_MODEL_3a5e3d79679d49b58afe5e38bb75638a",
       "value": 1
      }
     },
     "3318678c74044a4fa961145edb36e5b5": {
      "model_module": "@jupyter-widgets/controls",
      "model_module_version": "1.5.0",
      "model_name": "DescriptionStyleModel",
      "state": {
       "description_width": ""
      }
     },
     "3432e873bcd246afa8d548e16b1d1e68": {
      "model_module": "@jupyter-widgets/base",
      "model_module_version": "1.2.0",
      "model_name": "LayoutModel",
      "state": {}
     },
     "35c3347426a34d7892a70622ad71e3ab": {
      "model_module": "@jupyter-widgets/base",
      "model_module_version": "1.2.0",
      "model_name": "LayoutModel",
      "state": {}
     },
     "3a1477a1e19141da97a44a4ed353ed5f": {
      "model_module": "@jupyter-widgets/base",
      "model_module_version": "1.2.0",
      "model_name": "LayoutModel",
      "state": {}
     },
     "3a5e3d79679d49b58afe5e38bb75638a": {
      "model_module": "@jupyter-widgets/controls",
      "model_module_version": "1.5.0",
      "model_name": "SliderStyleModel",
      "state": {
       "description_width": ""
      }
     },
     "3ce8803122dc4d6fa9f6a9c994d4c448": {
      "model_module": "@jupyter-widgets/base",
      "model_module_version": "1.2.0",
      "model_name": "LayoutModel",
      "state": {
       "flex_flow": "row wrap",
       "margin": "0"
      }
     },
     "3d93d9e817944f0ca52fe5449b874755": {
      "model_module": "@jupyter-widgets/controls",
      "model_module_version": "1.5.0",
      "model_name": "DescriptionStyleModel",
      "state": {
       "description_width": ""
      }
     },
     "41958d0af8834ee1b9c7c9c89fa7a83c": {
      "model_module": "pgljupyter",
      "model_module_version": "^0.2.0",
      "model_name": "_CurveEditorModel",
      "state": {
       "_model_module_version": "^0.2.0",
       "_view_module_version": "^0.2.0",
       "layout": "IPY_MODEL_01cd72bb500d48fb97ab2d7775e578fa",
       "name": "applesection",
       "points": [
        [
         -0.000874121,
         -0.389685
        ],
        [
         0.0162006,
         -0.606468
        ],
        [
         0.629545,
         -0.424825
        ],
        [
         0.712296,
         0.0104895
        ],
        [
         0.645105,
         0.516783
        ],
        [
         -0.00961528,
         0.627098
        ],
        [
         -0.0171328,
         0.394231
        ]
       ],
       "type": "NurbsCurve2D"
      }
     },
     "41eb755a398d457e9e732416b0c28925": {
      "model_module": "pgljupyter",
      "model_module_version": "^0.2.0",
      "model_name": "LsystemWidgetModel",
      "state": {
       "_model_module_version": "^0.2.0",
       "_view_module_version": "^0.2.0",
       "animate": true,
       "axes_helper": false,
       "derivationLength": 220,
       "is_magic": true,
       "layout": "IPY_MODEL_9e1cb3e6916144859615787d6c09e959",
       "light_helper": false,
       "plane": true,
       "size_display": [
        400,
        400
       ],
       "size_world": 200,
       "unit": 0
      }
     },
     "444e053bbff34d6e8c7e7c5361b124d8": {
      "model_module": "@jupyter-widgets/controls",
      "model_module_version": "1.5.0",
      "model_name": "SliderStyleModel",
      "state": {
       "description_width": ""
      }
     },
     "454d2462ece74f87a43ca63ec8aa32ef": {
      "model_module": "@jupyter-widgets/controls",
      "model_module_version": "1.5.0",
      "model_name": "TextModel",
      "state": {
       "continuous_update": false,
       "description": "name",
       "layout": "IPY_MODEL_1988b86dd17547a1a53af0cc869528cb",
       "style": "IPY_MODEL_3d93d9e817944f0ca52fe5449b874755",
       "value": "Color_10"
      }
     },
     "46ba34cdd223458dad86c69425d85e28": {
      "model_module": "@jupyter-widgets/base",
      "model_module_version": "1.2.0",
      "model_name": "LayoutModel",
      "state": {
       "margin": "10px 10px"
      }
     },
     "4c4ffa07558941f7aba313591a724b4f": {
      "model_module": "@jupyter-widgets/controls",
      "model_module_version": "1.5.0",
      "model_name": "HBoxModel",
      "state": {
       "children": [
        "IPY_MODEL_b3ea72d5732a43568fdfb24894e55571",
        "IPY_MODEL_1404f0b6efc04ec1b0fa9ef7fc89e80b",
        "IPY_MODEL_64cf02cb098a438f840ca94153bfa5af"
       ],
       "layout": "IPY_MODEL_3ce8803122dc4d6fa9f6a9c994d4c448"
      }
     },
     "4d65340b4b194156b9824dea8367dd24": {
      "model_module": "@jupyter-widgets/controls",
      "model_module_version": "1.5.0",
      "model_name": "HBoxModel",
      "state": {
       "children": [
        "IPY_MODEL_41eb755a398d457e9e732416b0c28925"
       ],
       "layout": "IPY_MODEL_dd38041b299f4aa48397b1ef98ad2c46"
      }
     },
     "4db5afaef0ad4bc18a62671154ad5114": {
      "model_module": "@jupyter-widgets/controls",
      "model_module_version": "1.5.0",
      "model_name": "ColorPickerModel",
      "state": {
       "description": "specular",
       "disabled": false,
       "layout": "IPY_MODEL_0a359fc7f2284d06b43f51e876c1083e",
       "style": "IPY_MODEL_e3b2e20c4dd348e5aee1b26b3f368df0",
       "value": "#000000"
      }
     },
     "5083713df54e4b36b570fc3c8c5c4b82": {
      "model_module": "@jupyter-widgets/base",
      "model_module_version": "1.2.0",
      "model_name": "LayoutModel",
      "state": {}
     },
     "55af0f517c7c42e6a465f930c14d6951": {
      "model_module": "pgljupyter",
      "model_module_version": "^0.2.0",
      "model_name": "_CurveEditorModel",
      "state": {
       "_model_module_version": "^0.2.0",
       "_view_module_version": "^0.2.0",
       "layout": "IPY_MODEL_5083713df54e4b36b570fc3c8c5c4b82",
       "name": "applesection",
       "points": [
        [
         -0.000874121,
         -0.389685
        ],
        [
         0.0162006,
         -0.606468
        ],
        [
         0.629545,
         -0.424825
        ],
        [
         0.712296,
         0.0104895
        ],
        [
         0.645105,
         0.516783
        ],
        [
         -0.00961528,
         0.627098
        ],
        [
         -0.0171328,
         0.394231
        ]
       ],
       "type": "NurbsCurve2D"
      }
     },
     "5630d3d3a66e48b7a98979333fa5ab8a": {
      "model_module": "@jupyter-widgets/base",
      "model_module_version": "1.2.0",
      "model_name": "LayoutModel",
      "state": {
       "margin": "10px",
       "min_height": "400px",
       "min_width": "400px"
      }
     },
     "56707dc90a9047b8a31c43b60553e17d": {
      "model_module": "@jupyter-widgets/base",
      "model_module_version": "1.2.0",
      "model_name": "LayoutModel",
      "state": {}
     },
     "5a56e4bcae5f4ac18b719b55fe1914a7": {
      "model_module": "@jupyter-widgets/controls",
      "model_module_version": "1.5.0",
      "model_name": "FloatSliderModel",
      "state": {
       "continuous_update": false,
       "description": "transparency",
       "layout": "IPY_MODEL_56707dc90a9047b8a31c43b60553e17d",
       "max": 1,
       "step": 0.1,
       "style": "IPY_MODEL_f7c00542aac64612965e1bad1c54124d"
      }
     },
     "64a89034a3a74aa6bdcc5c2fce5f27eb": {
      "model_module": "@jupyter-widgets/base",
      "model_module_version": "1.2.0",
      "model_name": "LayoutModel",
      "state": {
       "margin": "10px 10px"
      }
     },
     "64cf02cb098a438f840ca94153bfa5af": {
      "model_module": "pgljupyter",
      "model_module_version": "^0.2.0",
      "model_name": "CurveEditorModel",
      "state": {
       "_model_module_version": "^0.2.0",
       "_view_module_version": "^0.2.0",
       "children": [
        "IPY_MODEL_41958d0af8834ee1b9c7c9c89fa7a83c"
       ],
       "layout": "IPY_MODEL_bd35b4351aa045f69644f245bd5a6e96"
      }
     },
     "6b05a3a166a54b7f9bbaacf868aaf4eb": {
      "model_module": "@jupyter-widgets/controls",
      "model_module_version": "1.5.0",
      "model_name": "ColorPickerModel",
      "state": {
       "description": "emission",
       "disabled": false,
       "layout": "IPY_MODEL_a022095d105f4defb750160b8cbc6857",
       "style": "IPY_MODEL_7a562629f81c4a8d8e5e108bcca74527",
       "value": "#000000"
      }
     },
     "6cba9cd7d6164afda3625f51127b8f68": {
      "model_module": "@jupyter-widgets/base",
      "model_module_version": "1.2.0",
      "model_name": "LayoutModel",
      "state": {}
     },
     "72042689144f43e18e894aa648bb9e43": {
      "model_module": "@jupyter-widgets/base",
      "model_module_version": "1.2.0",
      "model_name": "LayoutModel",
      "state": {}
     },
     "73e0ff27ea80427197e0f9b116d90a97": {
      "model_module": "@jupyter-widgets/controls",
      "model_module_version": "1.5.0",
      "model_name": "TextModel",
      "state": {
       "continuous_update": false,
       "description": "name",
       "layout": "IPY_MODEL_7715f6038ded4910bf5dbeeb4b9595ad",
       "style": "IPY_MODEL_7fc0d261c5ec4083853ab4ea5ba5552d",
       "value": "SEED"
      }
     },
     "7715f6038ded4910bf5dbeeb4b9595ad": {
      "model_module": "@jupyter-widgets/base",
      "model_module_version": "1.2.0",
      "model_name": "LayoutModel",
      "state": {}
     },
     "7745d02b27b94ceea772ee2450ad8476": {
      "model_module": "@jupyter-widgets/controls",
      "model_module_version": "1.5.0",
      "model_name": "FloatSliderModel",
      "state": {
       "continuous_update": false,
       "description": "shininess",
       "layout": "IPY_MODEL_3a1477a1e19141da97a44a4ed353ed5f",
       "max": 1,
       "step": 0.1,
       "style": "IPY_MODEL_08b444cd51ca45388e8c7c1c639a33c6",
       "value": 0.2
      }
     },
     "7a562629f81c4a8d8e5e108bcca74527": {
      "model_module": "@jupyter-widgets/controls",
      "model_module_version": "1.5.0",
      "model_name": "DescriptionStyleModel",
      "state": {
       "description_width": ""
      }
     },
     "7b8483a0c4464a3f9bebe60311cf28b3": {
      "model_module": "@jupyter-widgets/base",
      "model_module_version": "1.2.0",
      "model_name": "LayoutModel",
      "state": {}
     },
     "7fc0d261c5ec4083853ab4ea5ba5552d": {
      "model_module": "@jupyter-widgets/controls",
      "model_module_version": "1.5.0",
      "model_name": "DescriptionStyleModel",
      "state": {
       "description_width": ""
      }
     },
     "815296790e1546d4bc6b9bae5942c633": {
      "model_module": "@jupyter-widgets/controls",
      "model_module_version": "1.5.0",
      "model_name": "FloatSliderModel",
      "state": {
       "continuous_update": false,
       "description": "diffuse",
       "layout": "IPY_MODEL_986c6257868a4af6a2b21158c5e6b7f4",
       "max": 3,
       "step": 0.1,
       "style": "IPY_MODEL_baa8bd0cb53d420db44c9e733d609c03",
       "value": 1
      }
     },
     "81f98e6d7e24456d9052a9bac7fdaa40": {
      "model_module": "@jupyter-widgets/base",
      "model_module_version": "1.2.0",
      "model_name": "LayoutModel",
      "state": {
       "margin": "10px 10px"
      }
     },
     "889be737ce444f52b9a1a837f2005b00": {
      "model_module": "@jupyter-widgets/controls",
      "model_module_version": "1.5.0",
      "model_name": "FloatSliderModel",
      "state": {
       "continuous_update": false,
       "description": "transparency",
       "layout": "IPY_MODEL_dbac6989cfbc494fbf72b871868941cd",
       "max": 1,
       "step": 0.1,
       "style": "IPY_MODEL_444e053bbff34d6e8c7e7c5361b124d8"
      }
     },
     "8aaabfd2da994bcbb3aa97d5ffd7934d": {
      "model_module": "@jupyter-widgets/controls",
      "model_module_version": "1.5.0",
      "model_name": "SliderStyleModel",
      "state": {
       "description_width": ""
      }
     },
     "8ac0f0b6543b4202983f00049f3c468c": {
      "model_module": "@jupyter-widgets/controls",
      "model_module_version": "1.5.0",
      "model_name": "HBoxModel",
      "state": {
       "children": [
        "IPY_MODEL_e3cd6d872be74d9887635b44ae19334d",
        "IPY_MODEL_fe0531a7f81e40e0aa528bcdb58988e1",
        "IPY_MODEL_f3c17107b2a94d9c935ef64bdeb8e4d5"
       ],
       "layout": "IPY_MODEL_d41d2747a411489498927b6361186893"
      }
     },
     "8bf9218b42cc4bb98c6bcff8d2a05c19": {
      "model_module": "@jupyter-widgets/controls",
      "model_module_version": "1.5.0",
      "model_name": "DescriptionStyleModel",
      "state": {
       "description_width": ""
      }
     },
     "94288da1b22048f98ad27547d6a9eff8": {
      "model_module": "@jupyter-widgets/controls",
      "model_module_version": "1.5.0",
      "model_name": "TextModel",
      "state": {
       "continuous_update": false,
       "description": "name",
       "layout": "IPY_MODEL_25a2734dd8254d09b48e874ec54c9a61",
       "style": "IPY_MODEL_3318678c74044a4fa961145edb36e5b5",
       "value": "applesection"
      }
     },
     "986c6257868a4af6a2b21158c5e6b7f4": {
      "model_module": "@jupyter-widgets/base",
      "model_module_version": "1.2.0",
      "model_name": "LayoutModel",
      "state": {}
     },
     "9e1cb3e6916144859615787d6c09e959": {
      "model_module": "@jupyter-widgets/base",
      "model_module_version": "1.2.0",
      "model_name": "LayoutModel",
      "state": {}
     },
     "9f649d789c2f412bac01f33d25e70c10": {
      "model_module": "@jupyter-widgets/controls",
      "model_module_version": "1.5.0",
      "model_name": "HBoxModel",
      "state": {
       "children": [
        "IPY_MODEL_d0e88d09e6bf4798b59f6fc3334ef93b"
       ],
       "layout": "IPY_MODEL_5630d3d3a66e48b7a98979333fa5ab8a"
      }
     },
     "a022095d105f4defb750160b8cbc6857": {
      "model_module": "@jupyter-widgets/base",
      "model_module_version": "1.2.0",
      "model_name": "LayoutModel",
      "state": {}
     },
     "a486c90af4aa4bc9b2051b999d28807b": {
      "model_module": "@jupyter-widgets/controls",
      "model_module_version": "1.5.0",
      "model_name": "TextModel",
      "state": {
       "continuous_update": false,
       "description": "name",
       "layout": "IPY_MODEL_ac1d4a1925e6459bb4343aa566ad970a",
       "style": "IPY_MODEL_0484b7ba5bba4cc7be807c28f927bfac",
       "value": "SEED"
      }
     },
     "ac1d4a1925e6459bb4343aa566ad970a": {
      "model_module": "@jupyter-widgets/base",
      "model_module_version": "1.2.0",
      "model_name": "LayoutModel",
      "state": {}
     },
     "ad1edbc18d7b436ab42662fb0ca1d18e": {
      "model_module": "@jupyter-widgets/base",
      "model_module_version": "1.2.0",
      "model_name": "LayoutModel",
      "state": {}
     },
     "b219c2eeb3bf4cd38752298d04bfd93d": {
      "model_module": "@jupyter-widgets/controls",
      "model_module_version": "1.5.0",
      "model_name": "DescriptionStyleModel",
      "state": {
       "description_width": ""
      }
     },
     "b3ea72d5732a43568fdfb24894e55571": {
      "model_module": "pgljupyter",
      "model_module_version": "^0.2.0",
      "model_name": "IntEditorModel",
      "state": {
       "_model_module_version": "^0.2.0",
       "_view_module_version": "^0.2.0",
       "children": [
        "IPY_MODEL_de9e5333d7324e55b2f679d0b4e1369c"
       ],
       "layout": "IPY_MODEL_64a89034a3a74aa6bdcc5c2fce5f27eb"
      }
     },
     "b8bc2b02e1f84007a7dfe7ebc1de873d": {
      "model_module": "@jupyter-widgets/controls",
      "model_module_version": "1.5.0",
      "model_name": "SliderStyleModel",
      "state": {
       "description_width": ""
      }
     },
     "b932af626a294bfa9abb323844029dde": {
      "model_module": "@jupyter-widgets/controls",
      "model_module_version": "1.5.0",
      "model_name": "DescriptionStyleModel",
      "state": {
       "description_width": ""
      }
     },
     "baa8bd0cb53d420db44c9e733d609c03": {
      "model_module": "@jupyter-widgets/controls",
      "model_module_version": "1.5.0",
      "model_name": "SliderStyleModel",
      "state": {
       "description_width": ""
      }
     },
     "bd35b4351aa045f69644f245bd5a6e96": {
      "model_module": "@jupyter-widgets/base",
      "model_module_version": "1.2.0",
      "model_name": "LayoutModel",
      "state": {
       "margin": "10px 10px"
      }
     },
     "c4e28de4139647348b86253835bdbf02": {
      "model_module": "@jupyter-widgets/controls",
      "model_module_version": "1.5.0",
      "model_name": "ColorPickerModel",
      "state": {
       "description": "emission",
       "disabled": false,
       "layout": "IPY_MODEL_6cba9cd7d6164afda3625f51127b8f68",
       "style": "IPY_MODEL_b219c2eeb3bf4cd38752298d04bfd93d",
       "value": "#000000"
      }
     },
     "c6871fdfc70e47baa8ab5a9223205aae": {
      "model_module": "@jupyter-widgets/controls",
      "model_module_version": "1.5.0",
      "model_name": "DescriptionStyleModel",
      "state": {
       "description_width": ""
      }
     },
     "cce05e0314b94c039d6e562812961240": {
      "model_module": "@jupyter-widgets/base",
      "model_module_version": "1.2.0",
      "model_name": "LayoutModel",
      "state": {}
     },
     "cfdf699947654db5b9b13f041a2e1927": {
      "model_module": "@jupyter-widgets/controls",
      "model_module_version": "1.5.0",
      "model_name": "ColorPickerModel",
      "state": {
       "description": "specular",
       "disabled": false,
       "layout": "IPY_MODEL_35c3347426a34d7892a70622ad71e3ab",
       "style": "IPY_MODEL_8bf9218b42cc4bb98c6bcff8d2a05c19",
       "value": "#000000"
      }
     },
     "d0a6ed8dcbe6405bb4d3adcb9554600a": {
      "model_module": "@jupyter-widgets/controls",
      "model_module_version": "1.5.0",
      "model_name": "HBoxModel",
      "state": {
       "children": [
        "IPY_MODEL_4d65340b4b194156b9824dea8367dd24",
        "IPY_MODEL_4c4ffa07558941f7aba313591a724b4f"
       ],
       "layout": "IPY_MODEL_cce05e0314b94c039d6e562812961240"
      }
     },
     "d0e88d09e6bf4798b59f6fc3334ef93b": {
      "model_module": "pgljupyter",
      "model_module_version": "^0.2.0",
      "model_name": "LsystemWidgetModel",
      "state": {
       "_model_module_version": "^0.2.0",
       "_view_module_version": "^0.2.0",
       "axes_helper": false,
       "derivationLength": 201,
       "is_magic": true,
       "layout": "IPY_MODEL_e6ccfc43e76149c4b20d7e46835f6e2a",
       "light_helper": false,
       "plane": true,
       "size_display": [
        400,
        400
       ],
       "size_world": 200,
       "unit": 0
      }
     },
     "d154018ae1574b4597806347d08553db": {
      "model_module": "@jupyter-widgets/base",
      "model_module_version": "1.2.0",
      "model_name": "LayoutModel",
      "state": {
       "margin": "10px 10px"
      }
     },
     "d41d2747a411489498927b6361186893": {
      "model_module": "@jupyter-widgets/base",
      "model_module_version": "1.2.0",
      "model_name": "LayoutModel",
      "state": {
       "flex_flow": "row wrap",
       "margin": "0"
      }
     },
     "d8c2773c177b4ea8b440c369a29ffb62": {
      "model_module": "@jupyter-widgets/controls",
      "model_module_version": "1.5.0",
      "model_name": "SliderStyleModel",
      "state": {
       "description_width": ""
      }
     },
     "d99f60132b7f45a4a7f2e7f1cdc5e16c": {
      "model_module": "@jupyter-widgets/controls",
      "model_module_version": "1.5.0",
      "model_name": "FloatSliderModel",
      "state": {
       "continuous_update": false,
       "description": "shininess",
       "layout": "IPY_MODEL_7b8483a0c4464a3f9bebe60311cf28b3",
       "max": 1,
       "step": 0.1,
       "style": "IPY_MODEL_d8c2773c177b4ea8b440c369a29ffb62",
       "value": 0.2
      }
     },
     "dbac6989cfbc494fbf72b871868941cd": {
      "model_module": "@jupyter-widgets/base",
      "model_module_version": "1.2.0",
      "model_name": "LayoutModel",
      "state": {}
     },
     "dd38041b299f4aa48397b1ef98ad2c46": {
      "model_module": "@jupyter-widgets/base",
      "model_module_version": "1.2.0",
      "model_name": "LayoutModel",
      "state": {
       "margin": "10px",
       "min_height": "400px",
       "min_width": "400px"
      }
     },
     "de9e5333d7324e55b2f679d0b4e1369c": {
      "model_module": "@jupyter-widgets/controls",
      "model_module_version": "1.5.0",
      "model_name": "IntSliderModel",
      "state": {
       "continuous_update": false,
       "description": "SEED",
       "layout": "IPY_MODEL_ff223c91d6434c30ae100e1d68194055",
       "style": "IPY_MODEL_8aaabfd2da994bcbb3aa97d5ffd7934d",
       "value": 10
      }
     },
     "e3b2e20c4dd348e5aee1b26b3f368df0": {
      "model_module": "@jupyter-widgets/controls",
      "model_module_version": "1.5.0",
      "model_name": "DescriptionStyleModel",
      "state": {
       "description_width": ""
      }
     },
     "e3cd6d872be74d9887635b44ae19334d": {
      "model_module": "pgljupyter",
      "model_module_version": "^0.2.0",
      "model_name": "IntEditorModel",
      "state": {
       "_model_module_version": "^0.2.0",
       "_view_module_version": "^0.2.0",
       "children": [
        "IPY_MODEL_0bdb57d7dcdd42a398119a37ad9233bf"
       ],
       "layout": "IPY_MODEL_21554c8d606b4f8099e4ecdd6fb7f16d"
      }
     },
     "e63bca7e7d264f869c6ea9e15900b152": {
      "model_module": "@jupyter-widgets/base",
      "model_module_version": "1.2.0",
      "model_name": "LayoutModel",
      "state": {}
     },
     "e656e2bbf111403b83ae688ba75e9e87": {
      "model_module": "@jupyter-widgets/controls",
      "model_module_version": "1.5.0",
      "model_name": "DescriptionStyleModel",
      "state": {
       "description_width": ""
      }
     },
     "e6ccfc43e76149c4b20d7e46835f6e2a": {
      "model_module": "@jupyter-widgets/base",
      "model_module_version": "1.2.0",
      "model_name": "LayoutModel",
      "state": {}
     },
     "ea75f8af2db542938ec85ea38749e5c3": {
      "model_module": "@jupyter-widgets/base",
      "model_module_version": "1.2.0",
      "model_name": "LayoutModel",
      "state": {}
     },
     "f38cb0b8131644b686e70a3b0532595a": {
      "model_module": "@jupyter-widgets/controls",
      "model_module_version": "1.5.0",
      "model_name": "TextModel",
      "state": {
       "continuous_update": false,
       "description": "name",
       "layout": "IPY_MODEL_f700c4586b2b4fb4a11c65add39876ac",
       "style": "IPY_MODEL_f4aaac3a887c4109acc6649c3f25f346",
       "value": "Color_10"
      }
     },
     "f3c17107b2a94d9c935ef64bdeb8e4d5": {
      "model_module": "pgljupyter",
      "model_module_version": "^0.2.0",
      "model_name": "CurveEditorModel",
      "state": {
       "_model_module_version": "^0.2.0",
       "_view_module_version": "^0.2.0",
       "children": [
        "IPY_MODEL_55af0f517c7c42e6a465f930c14d6951"
       ],
       "layout": "IPY_MODEL_46ba34cdd223458dad86c69425d85e28"
      }
     },
     "f4aaac3a887c4109acc6649c3f25f346": {
      "model_module": "@jupyter-widgets/controls",
      "model_module_version": "1.5.0",
      "model_name": "DescriptionStyleModel",
      "state": {
       "description_width": ""
      }
     },
     "f6957709d52248f591d32df84f1b8c57": {
      "model_module": "@jupyter-widgets/controls",
      "model_module_version": "1.5.0",
      "model_name": "BoundedIntTextModel",
      "state": {
       "description": "index",
       "layout": "IPY_MODEL_ea75f8af2db542938ec85ea38749e5c3",
       "style": "IPY_MODEL_c6871fdfc70e47baa8ab5a9223205aae",
       "value": 10
      }
     },
     "f700c4586b2b4fb4a11c65add39876ac": {
      "model_module": "@jupyter-widgets/base",
      "model_module_version": "1.2.0",
      "model_name": "LayoutModel",
      "state": {}
     },
     "f7c00542aac64612965e1bad1c54124d": {
      "model_module": "@jupyter-widgets/controls",
      "model_module_version": "1.5.0",
      "model_name": "SliderStyleModel",
      "state": {
       "description_width": ""
      }
     },
     "fe0531a7f81e40e0aa528bcdb58988e1": {
      "model_module": "pgljupyter",
      "model_module_version": "^0.2.0",
      "model_name": "MaterialEditorModel",
      "state": {
       "_model_module_version": "^0.2.0",
       "_view_module_version": "^0.2.0",
       "children": [
        "IPY_MODEL_f6957709d52248f591d32df84f1b8c57",
        "IPY_MODEL_fe063b148f5b4a6db57da48c82d4de0f",
        "IPY_MODEL_4db5afaef0ad4bc18a62671154ad5114",
        "IPY_MODEL_c4e28de4139647348b86253835bdbf02",
        "IPY_MODEL_815296790e1546d4bc6b9bae5942c633",
        "IPY_MODEL_889be737ce444f52b9a1a837f2005b00",
        "IPY_MODEL_7745d02b27b94ceea772ee2450ad8476"
       ],
       "layout": "IPY_MODEL_81f98e6d7e24456d9052a9bac7fdaa40"
      }
     },
     "fe063b148f5b4a6db57da48c82d4de0f": {
      "model_module": "@jupyter-widgets/controls",
      "model_module_version": "1.5.0",
      "model_name": "ColorPickerModel",
      "state": {
       "description": "ambient",
       "disabled": false,
       "layout": "IPY_MODEL_ad1edbc18d7b436ab42662fb0ca1d18e",
       "style": "IPY_MODEL_b932af626a294bfa9abb323844029dde",
       "value": "#c8c8c8"
      }
     },
     "ff223c91d6434c30ae100e1d68194055": {
      "model_module": "@jupyter-widgets/base",
      "model_module_version": "1.2.0",
      "model_name": "LayoutModel",
      "state": {}
     }
    },
    "version_major": 2,
    "version_minor": 0
   }
  }
 },
 "nbformat": 4,
 "nbformat_minor": 2
}
