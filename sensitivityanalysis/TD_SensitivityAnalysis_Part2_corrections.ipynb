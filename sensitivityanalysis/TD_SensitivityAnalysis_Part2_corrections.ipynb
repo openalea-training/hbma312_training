{
 "cells": [
  {
   "cell_type": "markdown",
   "metadata": {},
   "source": [
    "# TD SENSITIVITY ANALYSIS PART 2"
   ]
  },
  {
   "cell_type": "markdown",
   "metadata": {},
   "source": [
    "#### In this TD we will perform a sensitivity analysis on FSPM models, to estimate the influence of architectural traits in light interception\n",
    "##### Students should refer to the codes in TD_SensitivityAnalysis_Part1"
   ]
  },
  {
   "cell_type": "code",
   "execution_count": 35,
   "metadata": {},
   "outputs": [
    {
     "data": {
      "text/html": [
       "<ol>\n",
       "\t<li>TRUE</li>\n",
       "\t<li>TRUE</li>\n",
       "\t<li>TRUE</li>\n",
       "\t<li>TRUE</li>\n",
       "\t<li>TRUE</li>\n",
       "\t<li>TRUE</li>\n",
       "</ol>\n"
      ],
      "text/latex": [
       "\\begin{enumerate}\n",
       "\\item TRUE\n",
       "\\item TRUE\n",
       "\\item TRUE\n",
       "\\item TRUE\n",
       "\\item TRUE\n",
       "\\item TRUE\n",
       "\\end{enumerate}\n"
      ],
      "text/markdown": [
       "1. TRUE\n",
       "2. TRUE\n",
       "3. TRUE\n",
       "4. TRUE\n",
       "5. TRUE\n",
       "6. TRUE\n",
       "\n",
       "\n"
      ],
      "text/plain": [
       "[[1]]\n",
       "[1] TRUE\n",
       "\n",
       "[[2]]\n",
       "[1] TRUE\n",
       "\n",
       "[[3]]\n",
       "[1] TRUE\n",
       "\n",
       "[[4]]\n",
       "[1] TRUE\n",
       "\n",
       "[[5]]\n",
       "[1] TRUE\n",
       "\n",
       "[[6]]\n",
       "[1] TRUE\n"
      ]
     },
     "metadata": {},
     "output_type": "display_data"
    }
   ],
   "source": [
    "# load/install the packages\n",
    "\n",
    "packs <- c( \"sensitivity\", \"lhs\", \"ggplot2\",'dplyr','ggrepel','plotly')\n",
    "InstIfNec<-function (pack) {\n",
    "  if (!do.call(require,as.list(pack))) {\n",
    "    do.call(install.packages,as.list(pack))  }\n",
    "  do.call(require,as.list(pack)) }\n",
    "lapply(packs, InstIfNec)\n",
    "\n"
   ]
  },
  {
   "cell_type": "code",
   "execution_count": 2,
   "metadata": {},
   "outputs": [],
   "source": [
    "#set random sampling method and seed\n",
    "RNGkind(kind=\"L'Ecuyer-CMRG\")\n",
    "set.seed(1)"
   ]
  },
  {
   "cell_type": "markdown",
   "metadata": {},
   "source": [
    "# Exercice 1: light interception of maize using the Morris' Method"
   ]
  },
  {
   "cell_type": "markdown",
   "metadata": {},
   "source": [
    "![Expample of illuminated 3D mock ups of Maize](img/exempleMaize.JPG)"
   ]
  },
  {
   "cell_type": "markdown",
   "metadata": {},
   "source": [
    "### Description of model parameters (name, definition and range values)"
   ]
  },
  {
   "cell_type": "markdown",
   "metadata": {},
   "source": [
    "#### plant_height: plant height (cm) [50,300]\n",
    "#### rmax: relative position in height where the leaf with highest area is located [0.1,0.9]\n",
    "#### skew: skewness of leaf area distribution [0.05,1]\n",
    "#### wl: ratio width/length of leaf [0.01,0.5]\n",
    "#### incli_top: leaf insertion inclination of the lowest leaf on the stem (degree) 0,75]\n",
    "####  delta_angle_top: difference angle between insertion and leaf tip ~leaf curavture parameter (degree)  [0,250]\n",
    "####  plant_orientation: plant orientation in azimtuh (degree) (0°= inter-row)  [0,90]\n",
    "#### phyllotactic_angle: difference angle between two vertical rows of leaves on the stem (degree) (0° = superposed, 180° = oposed)  [0,180]\n",
    "####  phyllotactic_deviation: leaf azimuth deviation from phyllotactic_angle (degree)  [0,90]"
   ]
  },
  {
   "cell_type": "markdown",
   "metadata": {},
   "source": [
    "## $\\Rrightarrow$ Design a Morris plan with 30 trajectories, 5 discretisation levels and 2 steps"
   ]
  },
  {
   "cell_type": "code",
   "execution_count": 169,
   "metadata": {},
   "outputs": [
    {
     "name": "stdout",
     "output_type": "stream",
     "text": [
      "                                    parameter   min   max\n",
      "plant_height                     plant_height 50.00 300.0\n",
      "rmax                                     rmax  0.10   0.9\n",
      "skew                                     skew  0.05   1.0\n",
      "wl                                         wl  0.01   0.5\n",
      "incli_top                           incli_top  0.00  75.0\n",
      "delta_angle_top               delta_angle_top  0.00 250.0\n",
      "plant_orientation           plant_orientation  0.00  90.0\n",
      "phyllotactic_angle         phyllotactic_angle  0.00 180.0\n",
      "phyllotactic_deviation phyllotactic_deviation  0.00  90.0\n"
     ]
    }
   ],
   "source": [
    "# generate the data frame\n",
    "parameters=c('plant_height','rmax','skew','wl','incli_top','delta_angle_top','plant_orientation','phyllotactic_angle','phyllotactic_deviation')\n",
    "\n",
    "Pvar=data.frame(parameter=parameters,min=NA,max=NA) #generate a data frame\n",
    "rownames(Pvar)=parameters\n",
    "\n",
    "Pvar['plant_height',c('min','max')]=c(50,300) \n",
    "#relative position of the leaf with highest area\n",
    "Pvar['rmax',c('min','max')]=c(0.1,0.9) \n",
    "#skewness of leaf area distribution \n",
    "Pvar['skew',c('min','max')]=c(0.05,1)\n",
    "#ratio width/length of leaf\n",
    "Pvar['wl',c('min','max')]=c(0.01,0.5)  \n",
    "#insertion inclination of the lowest leaf on the stem (degree)\n",
    "Pvar['incli_top',c('min','max')]=c(0,75) \n",
    "#difference angle between insertion and leaf tip (degree)\n",
    "Pvar['delta_angle_top',c('min','max')]=c(0,250) \n",
    "#plant orientation in azimtuh (degree) (0°= inter-row)\n",
    "Pvar['plant_orientation',c('min','max')]=c(0,90) \n",
    "#difference angle between two vertical rows of leaves on the stem (degree) (0° = superposed, 180° = oposed)\n",
    "Pvar['phyllotactic_angle',c('min','max')]=c(0,180) \n",
    "#leaf azimuth deviation from phyllotactic_angle (degree)\n",
    "Pvar['phyllotactic_deviation',c('min','max')]=c(0,90)\n",
    "\n",
    "#check the data frame\n",
    "print(Pvar)"
   ]
  },
  {
   "cell_type": "code",
   "execution_count": 170,
   "metadata": {},
   "outputs": [],
   "source": [
    "#number of factors (parameters)\n",
    "nFact= parameters\n",
    "#number of trajectories\n",
    "r=30\n",
    "#inf limit\n",
    "binf=Pvar[,'min']; names(binf)=parameters\n",
    "#sup limit \n",
    "bsup=Pvar[,'max'];names(bsup)=parameters\n",
    "#discretisation levels\n",
    "Q=5\n",
    "#discretisation step\n",
    "step=2"
   ]
  },
  {
   "cell_type": "markdown",
   "metadata": {},
   "source": [
    "### ⇛visualize the sampling"
   ]
  },
  {
   "cell_type": "code",
   "execution_count": 174,
   "metadata": {},
   "outputs": [
    {
     "data": {
      "image/png": "[encoded data removed]",
      "text/plain": [
       "plot without title"
      ]
     },
     "metadata": {
      "image/png": {
       "height": 420,
       "width": 420
      }
     },
     "output_type": "display_data"
    }
   ],
   "source": [
    "#plan\n",
    "etude.morris=morris(model=NULL,factors=as.character(nFact),r=r,design=list(type='oat',levels=Q, grid.jump=step),scale=T,binf= binf,bsup=bsup)\n",
    "\n",
    "planMorris=etude.morris$X\n",
    "\n",
    "plot(as.data.frame(planMorris))"
   ]
  },
  {
   "cell_type": "markdown",
   "metadata": {},
   "source": [
    "### The 3D mocks up are then coupled to a light interception model.  Because of the computational time required, the simulations on the Morris plan were performed upstream and are given in the file  data/ouput_Maize_Morris.csv. The model output extracted is the fraction of indicent light intercepted by the leaves (Ei)"
   ]
  },
  {
   "cell_type": "code",
   "execution_count": 175,
   "metadata": {},
   "outputs": [
    {
     "data": {
      "text/plain": [
       "      Simu              Ei        \n",
       " Min.   :  0.00   Min.   :0.2310  \n",
       " 1st Qu.: 74.75   1st Qu.:0.5236  \n",
       " Median :149.50   Median :0.6159  \n",
       " Mean   :149.50   Mean   :0.6083  \n",
       " 3rd Qu.:224.25   3rd Qu.:0.6886  \n",
       " Max.   :299.00   Max.   :0.9029  "
      ]
     },
     "metadata": {},
     "output_type": "display_data"
    }
   ],
   "source": [
    "### import simulations outputs\n",
    "outputMorris=read.table('./data/output_Maize_Morris.csv',sep=';',dec='.',header=T)\n",
    "summary(outputMorris)\n"
   ]
  },
  {
   "cell_type": "markdown",
   "metadata": {},
   "source": [
    "##### ⇛ visualize the response in Ei to each parameters variation"
   ]
  },
  {
   "cell_type": "code",
   "execution_count": 176,
   "metadata": {},
   "outputs": [
    {
     "data": {
      "image/png": "[encoded data removed]",
      "text/plain": [
       "plot without title"
      ]
     },
     "metadata": {
      "image/png": {
       "height": 420,
       "width": 420
      }
     },
     "output_type": "display_data"
    }
   ],
   "source": [
    "### run simulations of the model on the Morris plan\n",
    "outputMorris=planMorris%>%\n",
    "  as.data.frame()%>%\n",
    "  mutate(Ei=outputMorris$Ei)\n",
    "\n",
    "    ### visualize the response of the simple model to each parameters variation\n",
    "par(mfcol=c(3,3))\n",
    "    for (p in parameters){\n",
    " boxplot(split(outputMorris$Ei,outputMorris[,p]),xlab=p,ylab='Ei')\n",
    "}"
   ]
  },
  {
   "cell_type": "markdown",
   "metadata": {},
   "source": [
    "#### ⇛ Estimate and visualize Morris sensitivity indices "
   ]
  },
  {
   "cell_type": "code",
   "execution_count": 177,
   "metadata": {},
   "outputs": [
    {
     "name": "stdout",
     "output_type": "stream",
     "text": [
      "\n",
      "Call:\n",
      "morris(model = NULL, factors = as.character(nFact), r = r, design = list(type = \"oat\",     levels = Q, grid.jump = step), binf = binf, bsup = bsup,     scale = T)\n",
      "\n",
      "Model runs: 300 \n",
      "                                 mu    mu.star      sigma\n",
      "plant_height           -0.005187938 0.12489572 0.19330158\n",
      "rmax                   -0.016022562 0.12055919 0.15734590\n",
      "skew                   -0.052958421 0.12549225 0.18954247\n",
      "wl                     -0.023154305 0.10195966 0.13797009\n",
      "incli_top              -0.001344204 0.03576975 0.04985142\n",
      "delta_angle_top        -0.032168442 0.13668369 0.23675245\n",
      "plant_orientation       0.007869079 0.08538774 0.13427407\n",
      "phyllotactic_angle      0.013788201 0.09817416 0.16101308\n",
      "phyllotactic_deviation  0.021100622 0.09125594 0.15786652\n"
     ]
    }
   ],
   "source": [
    "out=tell(etude.morris,y= outputMorris$Ei)\n",
    "print(etude.morris)"
   ]
  },
  {
   "cell_type": "code",
   "execution_count": 178,
   "metadata": {},
   "outputs": [
    {
     "data": {
      "image/png": "[encoded data removed]",
      "text/plain": [
       "plot without title"
      ]
     },
     "metadata": {
      "image/png": {
       "height": 420,
       "width": 420
      }
     },
     "output_type": "display_data"
    }
   ],
   "source": [
    "## visualize Morris sensitivity indices\n",
    "res=data.frame(t(out$ee))\n",
    "don_out=data.frame(parameter=parameters,mu=apply(X=res,MARGIN = 1,mean),mu_star=apply(X=abs(res),MARGIN = 1,mean),sd=apply(X=res,MARGIN = 1,sd))\n",
    "\n",
    "\n",
    "###----graphs----####\n",
    "# plot(etude.morris,main=paste('Morris indices for ',var))\n",
    "\n",
    "graphMorris=ggplot(data=don_out,aes(x=mu_star,y=sd,label=parameter))+\n",
    "  geom_point()+\n",
    "  geom_label_repel()+\n",
    "  xlab(expression(mu^'*'))+\n",
    "  ylab(expression(sigma))+\n",
    "  ggtitle(paste('Morris indices'))\n",
    "\n",
    "print(graphMorris)"
   ]
  },
  {
   "cell_type": "markdown",
   "metadata": {},
   "source": [
    "# Exercice 2: Light interception of apple tree using a metamodel"
   ]
  },
  {
   "cell_type": "markdown",
   "metadata": {},
   "source": [
    "![Expample of illuminated 3D mock ups](img/illumAppelTree.JPG)"
   ]
  },
  {
   "cell_type": "markdown",
   "metadata": {},
   "source": [
    "### Description of model parameters (name, definition and range values)"
   ]
  },
  {
   "cell_type": "markdown",
   "metadata": {},
   "source": [
    "#### INSERTION_ANGLE: inclination angle of branches on the principal axe [0,90]\n",
    "#### PHYLLOTAXY: azimuth angle between successives branches [0,359]\n",
    "#### BRANCH_ELASTICITY: mechanical property of the branch [0,0.1]\n",
    "#### INTERNODE_FLENGTH: internode final lenght [0,5]\n",
    "#### LONGGU_PEAK_POSITION: relative position of the longest GU in the branch [0,0.9]\n"
   ]
  },
  {
   "cell_type": "code",
   "execution_count": 182,
   "metadata": {},
   "outputs": [
    {
     "name": "stdout",
     "output_type": "stream",
     "text": [
      "                                parameter min   max\n",
      "INSERTION_ANGLE           INSERTION_ANGLE   0  90.0\n",
      "PHYLLOTAXY                     PHYLLOTAXY   0 359.0\n",
      "BRANCH_ELASTICITY       BRANCH_ELASTICITY   0   0.1\n",
      "INTERNODE_FLENGTH       INTERNODE_FLENGTH   0   5.0\n",
      "LONGGU_PEAK_POSITION LONGGU_PEAK_POSITION   0   0.9\n"
     ]
    }
   ],
   "source": [
    "parameters=c('INSERTION_ANGLE','PHYLLOTAXY','BRANCH_ELASTICITY','INTERNODE_FLENGTH','LONGGU_PEAK_POSITION')\n",
    "\n",
    "Pvar=data.frame(parameter=parameters,min=NA,max=NA) #generate a data frame\n",
    "rownames(Pvar)=parameters\n",
    "\n",
    "###----fix  min and max paramater values----####\n",
    "#INSERTION_ANGLE\n",
    "Pvar['INSERTION_ANGLE',c('min','max')]=c(0,90) #45\n",
    "#PHYLLOTAXY\n",
    "Pvar['PHYLLOTAXY',c('min','max')]=c(0,359) #144\n",
    "#BRANCH_ELASTICITY \n",
    "Pvar['BRANCH_ELASTICITY',c('min','max')]=c(0,0.1) #0.06\n",
    "#INTERNODE_FLENGTH\n",
    "Pvar['INTERNODE_FLENGTH',c('min','max')]=c(0,5)  #3.5\n",
    "#LONGGU_PEAK_POSITION\n",
    "Pvar['LONGGU_PEAK_POSITION',c('min','max')]=c(0,0.9)   #0.5\n",
    "\n",
    "#check the data frame\n",
    "print(Pvar)\n"
   ]
  },
  {
   "cell_type": "markdown",
   "metadata": {},
   "source": [
    "## $\\Rrightarrow$ Design a LHS plan with 4**5 = 3125 parameters sets"
   ]
  },
  {
   "cell_type": "code",
   "execution_count": 183,
   "metadata": {},
   "outputs": [],
   "source": [
    "####function to generate the LHS plan\n",
    "RandomLHS=function(factors,distribParameters,size,preserveDraw=FALSE){\n",
    "  \n",
    "  #set random seed\n",
    "  RNGkind(kind=\"L'Ecuyer-CMRG\")\n",
    "  set.seed(1) \n",
    "  \n",
    "  nbf=length(factors)\n",
    "  design=randomLHS(n=size,k=nbf,preserveDraw = preserveDraw)\n",
    "  for (i in 1:nbf){\n",
    "    design[,i]=distribParameters[[1]][[i]]+design[,i]*(distribParameters[[2]][[i]]-distribParameters[[1]][[i]])\n",
    "  }\n",
    "  colnames(design)=factors\n",
    "  resultats=as.data.frame(design)\n",
    "  return(resultats)\n",
    "}"
   ]
  },
  {
   "cell_type": "code",
   "execution_count": 184,
   "metadata": {},
   "outputs": [
    {
     "name": "stdout",
     "output_type": "stream",
     "text": [
      "[1] \"Sample size = 3125\"\n"
     ]
    }
   ],
   "source": [
    "distribParameters=Pvar[,c('min','max')]\n",
    "size=length(parameters)**5\n",
    "print(paste('Sample size =',size))\n",
    "planLHS=RandomLHS(factors = parameters,size=size,distribParameters = distribParameters,preserveDraw=FALSE)"
   ]
  },
  {
   "cell_type": "markdown",
   "metadata": {},
   "source": [
    "### ⇛visualize the sampling"
   ]
  },
  {
   "cell_type": "code",
   "execution_count": 185,
   "metadata": {},
   "outputs": [
    {
     "data": {
      "image/png": "[encoded data removed]",
      "text/plain": [
       "plot without title"
      ]
     },
     "metadata": {
      "image/png": {
       "height": 420,
       "width": 420
      }
     },
     "output_type": "display_data"
    }
   ],
   "source": [
    "### visualize lhs\n",
    "plot(planLHS)"
   ]
  },
  {
   "cell_type": "markdown",
   "metadata": {},
   "source": [
    "### ⇛visualize the histogram of parameters value"
   ]
  },
  {
   "cell_type": "code",
   "execution_count": 186,
   "metadata": {},
   "outputs": [
    {
     "data": {
      "image/png": "[encoded data removed]",
      "text/plain": [
       "Plot with title \"histogram of LONGGU_PEAK_POSITION\""
      ]
     },
     "metadata": {
      "image/png": {
       "height": 420,
       "width": 420
      }
     },
     "output_type": "display_data"
    }
   ],
   "source": [
    "# histogram of parameters value\n",
    "par(mfcol=c(3,2))\n",
    "for (p in parameters){\n",
    "    hist(planLHS[,p],xlab=p,main=paste('histogram of',p))\n",
    "}"
   ]
  },
  {
   "cell_type": "markdown",
   "metadata": {},
   "source": [
    "#### The 3D mocks up are then couple to a light interception model . Because of the computational time required, the simulations on the lhs plan were performed upstream and are given in the file  data/ouput_Apple_Lhs.csv. The model output extracted are: the fraction of indicent light intercepted by the leaves (Leaf_Ei), total leaf area (Leaf_area) and Fruit number (Fruit_nb)."
   ]
  },
  {
   "cell_type": "code",
   "execution_count": 187,
   "metadata": {},
   "outputs": [
    {
     "data": {
      "text/plain": [
       "      Simu         Leaf_Ei          Leaf_area         Fruit_nb    \n",
       " Min.   :   0   Min.   :0.01045   Min.   :0.7114   Min.   : 5.00  \n",
       " 1st Qu.: 781   1st Qu.:0.16847   1st Qu.:0.9776   1st Qu.:12.00  \n",
       " Median :1562   Median :0.30383   Median :1.3035   Median :15.00  \n",
       " Mean   :1562   Mean   :0.28761   Mean   :1.3327   Mean   :14.82  \n",
       " 3rd Qu.:2343   3rd Qu.:0.41049   3rd Qu.:1.5314   3rd Qu.:16.00  \n",
       " Max.   :3124   Max.   :0.55181   Max.   :2.5484   Max.   :30.00  "
      ]
     },
     "metadata": {},
     "output_type": "display_data"
    }
   ],
   "source": [
    "### import simulations outputs\n",
    "LhsOutputs=read.table('./data/output_Apple_Lhs.csv',sep=';',dec='.',header=T)\n",
    "summary(LhsOutputs)\n"
   ]
  },
  {
   "cell_type": "markdown",
   "metadata": {},
   "source": [
    "### Define the metamodel\n",
    "\n",
    "##### Here we will consider a ponynomial function of degree 3. Calibrate the model for each output (Leaf_area, Leaf_Ei and Fruit_nb) and perform the sensitivity analysis of the metamodel"
   ]
  },
  {
   "cell_type": "code",
   "execution_count": 188,
   "metadata": {},
   "outputs": [],
   "source": [
    "## choosing the var\n",
    "y='Leaf_area'"
   ]
  },
  {
   "cell_type": "code",
   "execution_count": 189,
   "metadata": {},
   "outputs": [],
   "source": [
    "### add simulations outputs to the data frame\n",
    "planLHS_sim=planLHS%>%\n",
    "  mutate(y=LhsOutputs[,y])"
   ]
  },
  {
   "cell_type": "markdown",
   "metadata": {},
   "source": [
    "### ⇛calibrate the metamodel"
   ]
  },
  {
   "cell_type": "code",
   "execution_count": 190,
   "metadata": {},
   "outputs": [],
   "source": [
    "# calibration\n",
    "\n",
    "MM=lm(formula=planLHS_sim$y~polym(INSERTION_ANGLE,PHYLLOTAXY,BRANCH_ELASTICITY,INTERNODE_FLENGTH,LONGGU_PEAK_POSITION,degree=3),data=planLHS_sim)\n"
   ]
  },
  {
   "cell_type": "markdown",
   "metadata": {},
   "source": [
    "### ⇛ Estimate the variance explained by the model"
   ]
  },
  {
   "cell_type": "code",
   "execution_count": 197,
   "metadata": {},
   "outputs": [
    {
     "name": "stdout",
     "output_type": "stream",
     "text": [
      "[1] 0.6458979\n"
     ]
    }
   ],
   "source": [
    "# explained variance fort Leaf area\n",
    "r2_total=summary(MM)$adj.r.squared\n",
    "print(r2_total)"
   ]
  },
  {
   "cell_type": "markdown",
   "metadata": {},
   "source": [
    "### ⇛  check and visualize model adjustment"
   ]
  },
  {
   "cell_type": "code",
   "execution_count": 198,
   "metadata": {},
   "outputs": [
    {
     "name": "stderr",
     "output_type": "stream",
     "text": [
      "`geom_smooth()` using formula 'y ~ x'\n",
      "\n"
     ]
    },
    {
     "data": {
      "image/png": "[encoded data removed]",
      "text/plain": [
       "plot without title"
      ]
     },
     "metadata": {
      "image/png": {
       "height": 420,
       "width": 420
      }
     },
     "output_type": "display_data"
    }
   ],
   "source": [
    "#check for model adjustment\n",
    "\n",
    "graph_ajust=ggplot(data=planLHS_sim,aes(x=y,y=predict(MM)))+\n",
    "  geom_point()+\n",
    "  geom_smooth(method='lm')+\n",
    "    ggtitle(var)\n",
    "\n",
    "print(graph_ajust)\n"
   ]
  },
  {
   "cell_type": "markdown",
   "metadata": {},
   "source": [
    "### ⇛  estimate the contribution of each term to the explained variance"
   ]
  },
  {
   "cell_type": "code",
   "execution_count": 200,
   "metadata": {},
   "outputs": [
    {
     "name": "stdout",
     "output_type": "stream",
     "text": [
      "                             Alone      Specific  Interaction Confusion\n",
      "INSERTION_ANGLE      -8.072797e-04 -0.0006214879 0.0001857918         0\n",
      "PHYLLOTAXY            2.582942e-05  0.0009465698 0.0009207404         0\n",
      "BRANCH_ELASTICITY     4.306045e-04  0.0016731672 0.0012425627         0\n",
      "INTERNODE_FLENGTH    -4.991016e-04  0.0015641170 0.0020632186         0\n",
      "LONGGU_PEAK_POSITION  6.448728e-01  0.6468176656 0.0019448208         0\n"
     ]
    }
   ],
   "source": [
    "## estimating the contribution of each term to the explained variance\n",
    "\n",
    "tableLHS=NULL\n",
    "V=planLHS[,1:(ncol(planLHS_sim)-1)]\n",
    "for (i in 1:ncol(V)){\n",
    "  v=paste(colnames(V)[i])\n",
    "  \n",
    "  model_seul=lm(formula=planLHS_sim[,'y']~polym(V[,i],degree=3),data=planLHS_sim)\n",
    "  r2_seul=summary(model_seul)$adj.r.squared\n",
    "  \n",
    "  vecteur=data.frame(r=c(1:length(parameters)),c=c(1:length(parameters)))\n",
    "  w=which(vecteur$c!=i)  \n",
    "  \n",
    "  model_sauf=lm(formula=planLHS_sim[,'y']~polym(V[,w[1]],V[,w[2]],V[,w[3]],V[,w[4]],degree=3),data=planLHS_sim) ##to adapt depending on V\n",
    "  r2_sauf=summary(model_sauf)$adj.r.squared\n",
    "  \n",
    "  r2_spe=r2_total-r2_sauf  ##specific effect of the parameter\n",
    "  r2_int_conf=r2_total-r2_sauf-r2_seul\n",
    "  r2_int=ifelse(r2_int_conf>0,r2_int_conf,0) ### interaction effect\n",
    "  r2_conf=ifelse(r2_int_conf>0,0,abs(r2_int_conf)) ###confusion effect (cannot differenciate if the effect comes from the parameters or the others)\n",
    "  \n",
    "  tableLHS_sub=data.frame(Alone=r2_seul,Specific=r2_spe,Interaction=r2_int,Confusion=r2_conf,row.names=v)\n",
    "  tableLHS=rbind(tableLHS, tableLHS_sub)\n",
    "}\n",
    "\n",
    "assign(paste('table',var),tableLHS)\n",
    "\n",
    "print(tableLHS)"
   ]
  },
  {
   "cell_type": "markdown",
   "metadata": {},
   "source": [
    "### ⇛ represent the contribution of parameters to explained variance"
   ]
  },
  {
   "cell_type": "code",
   "execution_count": 201,
   "metadata": {},
   "outputs": [
    {
     "name": "stderr",
     "output_type": "stream",
     "text": [
      "Warning message:\n",
      "\"Removed 1 rows containing missing values (position_stack).\"\n"
     ]
    },
    {
     "data": {
      "image/png": "[encoded data removed]",
      "text/plain": [
       "plot without title"
      ]
     },
     "metadata": {
      "image/png": {
       "height": 420,
       "width": 420
      }
     },
     "output_type": "display_data"
    }
   ],
   "source": [
    "### contribution of parameters to explained variance\n",
    "data_bar=data.frame(r2=c(tableLHS[,'Specific'],tableLHS[,'Interaction'],tableLHS[,'Confusion']),Effect=c(rep('Specific',nrow(tableLHS)),rep('Interaction',nrow(tableLHS)),rep('Confusion',nrow(tableLHS))),Parameter=rep(rownames(tableLHS),3))\n",
    "\n",
    "graphDecomp=ggplot() + \n",
    "  geom_hline(yintercept=r2_total,lty=2)+\n",
    "  geom_bar(data=data_bar, aes(fill=Effect,y=r2, x=Parameter), stat=\"identity\",col=1,lwd=0.1)+\n",
    "  ylab('')+\n",
    "  ylim(0,1)+\n",
    "  theme_classic()+\n",
    "  ylab('% of explained variance')+\n",
    "  theme(legend.position=c(0.8,0.8))\n",
    "\n",
    "print(graphDecomp)"
   ]
  },
  {
   "cell_type": "markdown",
   "metadata": {},
   "source": [
    "#### 3D mock up with the best Leaf_Ei --> ideotyping"
   ]
  },
  {
   "cell_type": "markdown",
   "metadata": {},
   "source": [
    "![](img/optimAppleEi.png)"
   ]
  },
  {
   "cell_type": "code",
   "execution_count": 195,
   "metadata": {},
   "outputs": [],
   "source": [
    "#### 3D mock up with the worst Leaf_Ei"
   ]
  },
  {
   "cell_type": "markdown",
   "metadata": {},
   "source": [
    "![](img/worstAppleEi.png)"
   ]
  },
  {
   "cell_type": "code",
   "execution_count": null,
   "metadata": {},
   "outputs": [],
   "source": []
  }
 ],
 "metadata": {
  "kernelspec": {
   "display_name": "R",
   "language": "R",
   "name": "ir"
  },
  "language_info": {
   "codemirror_mode": "r",
   "file_extension": ".r",
   "mimetype": "text/x-r-source",
   "name": "R",
   "pygments_lexer": "r",
   "version": "3.6.3"
  }
 },
 "nbformat": 4,
 "nbformat_minor": 4
}
