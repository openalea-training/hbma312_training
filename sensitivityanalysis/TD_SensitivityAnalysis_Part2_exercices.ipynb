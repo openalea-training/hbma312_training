{
 "cells": [
  {
   "cell_type": "markdown",
   "metadata": {},
   "source": [
    "# TD SENSITIVITY ANALYSIS PART 2"
   ]
  },
  {
   "cell_type": "markdown",
   "metadata": {},
   "source": [
    "#### In this TD we will perform a sensitivity analysis on FSPM models, to estimate the influence of architectural traits in light interception\n",
    "##### Students should refer to the codes in TD_SensitivityAnalysis_Part1"
   ]
  },
  {
   "cell_type": "code",
   "execution_count": 35,
   "metadata": {},
   "outputs": [
    {
     "data": {
      "text/html": [
       "<ol>\n",
       "\t<li>TRUE</li>\n",
       "\t<li>TRUE</li>\n",
       "\t<li>TRUE</li>\n",
       "\t<li>TRUE</li>\n",
       "\t<li>TRUE</li>\n",
       "\t<li>TRUE</li>\n",
       "</ol>\n"
      ],
      "text/latex": [
       "\\begin{enumerate}\n",
       "\\item TRUE\n",
       "\\item TRUE\n",
       "\\item TRUE\n",
       "\\item TRUE\n",
       "\\item TRUE\n",
       "\\item TRUE\n",
       "\\end{enumerate}\n"
      ],
      "text/markdown": [
       "1. TRUE\n",
       "2. TRUE\n",
       "3. TRUE\n",
       "4. TRUE\n",
       "5. TRUE\n",
       "6. TRUE\n",
       "\n",
       "\n"
      ],
      "text/plain": [
       "[[1]]\n",
       "[1] TRUE\n",
       "\n",
       "[[2]]\n",
       "[1] TRUE\n",
       "\n",
       "[[3]]\n",
       "[1] TRUE\n",
       "\n",
       "[[4]]\n",
       "[1] TRUE\n",
       "\n",
       "[[5]]\n",
       "[1] TRUE\n",
       "\n",
       "[[6]]\n",
       "[1] TRUE\n"
      ]
     },
     "metadata": {},
     "output_type": "display_data"
    }
   ],
   "source": [
    "# load/install the packages\n",
    "\n",
    "packs <- c( \"sensitivity\", \"lhs\", \"ggplot2\",'dplyr','ggrepel','plotly')\n",
    "InstIfNec<-function (pack) {\n",
    "  if (!do.call(require,as.list(pack))) {\n",
    "    do.call(install.packages,as.list(pack))  }\n",
    "  do.call(require,as.list(pack)) }\n",
    "lapply(packs, InstIfNec)\n",
    "\n"
   ]
  },
  {
   "cell_type": "code",
   "execution_count": 2,
   "metadata": {},
   "outputs": [],
   "source": [
    "#set random sampling method and seed\n",
    "RNGkind(kind=\"L'Ecuyer-CMRG\")\n",
    "set.seed(1)"
   ]
  },
  {
   "cell_type": "markdown",
   "metadata": {},
   "source": [
    "# Exercice 1: light interception of maize using the Morris' Method"
   ]
  },
  {
   "cell_type": "markdown",
   "metadata": {},
   "source": [
    "![Expample of illuminated 3D mock ups of Maize](img/exempleMaize.JPG)"
   ]
  },
  {
   "cell_type": "markdown",
   "metadata": {},
   "source": [
    "### Description of model parameters (name, definition and range values)"
   ]
  },
  {
   "cell_type": "markdown",
   "metadata": {},
   "source": [
    "#### plant_height: plant height (cm) [50,300]\n",
    "#### rmax: relative position in height where the leaf with highest area is located [0.1,0.9]\n",
    "#### skew: skewness of leaf area distribution [0.05,1]\n",
    "#### wl: ratio width/length of leaf [0.01,0.5]\n",
    "#### incli_top: leaf insertion inclination of the lowest leaf on the stem (degree) 0,75]\n",
    "####  delta_angle_top: difference angle between insertion and leaf tip ~leaf curavture parameter (degree)  [0,250]\n",
    "####  plant_orientation: plant orientation in azimtuh (degree) (0°= inter-row)  [0,90]\n",
    "#### phyllotactic_angle: difference angle between two vertical rows of leaves on the stem (degree) (0° = superposed, 180° = oposed)  [0,180]\n",
    "####  phyllotactic_deviation: leaf azimuth deviation from phyllotactic_angle (degree)  [0,90]"
   ]
  },
  {
   "cell_type": "markdown",
   "metadata": {},
   "source": [
    "## $\\Rrightarrow$ Design a Morris plan with 30 trajectories, 5 discretisation levels and 2 steps"
   ]
  },
  {
   "cell_type": "markdown",
   "metadata": {},
   "source": [
    "### ⇛visualize the sampling"
   ]
  },
  {
   "cell_type": "markdown",
   "metadata": {},
   "source": [
    "### The 3D mocks up are then coupled to a light interception model.  Because of the computational time required, the simulations on the Morris plan were performed upstream and are given in the file  data/ouput_Maize_Morris.csv. The model output extracted is the fraction of indicent light intercepted by the leaves (Ei)"
   ]
  },
  {
   "cell_type": "code",
   "execution_count": 175,
   "metadata": {},
   "outputs": [
    {
     "data": {
      "text/plain": [
       "      Simu              Ei        \n",
       " Min.   :  0.00   Min.   :0.2310  \n",
       " 1st Qu.: 74.75   1st Qu.:0.5236  \n",
       " Median :149.50   Median :0.6159  \n",
       " Mean   :149.50   Mean   :0.6083  \n",
       " 3rd Qu.:224.25   3rd Qu.:0.6886  \n",
       " Max.   :299.00   Max.   :0.9029  "
      ]
     },
     "metadata": {},
     "output_type": "display_data"
    }
   ],
   "source": [
    "### import simulations outputs\n",
    "outputMorris=read.table('./data/output_Maize_Morris.csv',sep=';',dec='.',header=T)\n",
    "summary(outputMorris)\n"
   ]
  },
  {
   "cell_type": "markdown",
   "metadata": {},
   "source": [
    "##### ⇛ visualize the response in Ei to each parameters variation"
   ]
  },
  {
   "cell_type": "markdown",
   "metadata": {},
   "source": [
    "#### ⇛ Estimate and visualize Morris sensitivity indices "
   ]
  },
  {
   "cell_type": "markdown",
   "metadata": {},
   "source": [
    "# Exercice 2: Light interception of apple tree using a metamodel"
   ]
  },
  {
   "cell_type": "markdown",
   "metadata": {},
   "source": [
    "![Expample of illuminated 3D mock ups](img/illumAppelTree.JPG)"
   ]
  },
  {
   "cell_type": "markdown",
   "metadata": {},
   "source": [
    "### Description of model parameters (name, definition and range values)"
   ]
  },
  {
   "cell_type": "markdown",
   "metadata": {},
   "source": [
    "#### INSERTION_ANGLE: inclination angle of branches on the principal axe [0,90]\n",
    "#### PHYLLOTAXY: azimuth angle between successives branches [0,359]\n",
    "#### BRANCH_ELASTICITY: mechanical property of the branch [0,0.1]\n",
    "#### INTERNODE_FLENGTH: internode final lenght [0,5]\n",
    "#### LONGGU_PEAK_POSITION: relative position of the longest GU in the branch [0,0.9]\n"
   ]
  },
  {
   "cell_type": "markdown",
   "metadata": {},
   "source": [
    "## $\\Rrightarrow$ Design a LHS plan with 4**5 = 3125 parameters sets"
   ]
  },
  {
   "cell_type": "markdown",
   "metadata": {},
   "source": [
    "### ⇛visualize the sampling"
   ]
  },
  {
   "cell_type": "markdown",
   "metadata": {},
   "source": [
    "### ⇛visualize the histogram of parameters value"
   ]
  },
  {
   "cell_type": "markdown",
   "metadata": {},
   "source": [
    "#### The 3D mocks up are then couple to a light interception model . Because of the computational time required, the simulations on the lhs plan were performed upstream and are given in the file  data/ouput_Apple_Lhs.csv. The model output extracted are: the fraction of indicent light intercepted by the leaves (Leaf_Ei), total leaf area (Leaf_area) and Fruit number (Fruit_nb)."
   ]
  },
  {
   "cell_type": "code",
   "execution_count": 187,
   "metadata": {},
   "outputs": [
    {
     "data": {
      "text/plain": [
       "      Simu         Leaf_Ei          Leaf_area         Fruit_nb    \n",
       " Min.   :   0   Min.   :0.01045   Min.   :0.7114   Min.   : 5.00  \n",
       " 1st Qu.: 781   1st Qu.:0.16847   1st Qu.:0.9776   1st Qu.:12.00  \n",
       " Median :1562   Median :0.30383   Median :1.3035   Median :15.00  \n",
       " Mean   :1562   Mean   :0.28761   Mean   :1.3327   Mean   :14.82  \n",
       " 3rd Qu.:2343   3rd Qu.:0.41049   3rd Qu.:1.5314   3rd Qu.:16.00  \n",
       " Max.   :3124   Max.   :0.55181   Max.   :2.5484   Max.   :30.00  "
      ]
     },
     "metadata": {},
     "output_type": "display_data"
    }
   ],
   "source": [
    "### import simulations outputs\n",
    "LhsOutputs=read.table('./data/output_Apple_Lhs.csv',sep=';',dec='.',header=T)\n",
    "summary(LhsOutputs)\n"
   ]
  },
  {
   "cell_type": "markdown",
   "metadata": {},
   "source": [
    "### Define the metamodel\n",
    "\n",
    "##### Here we will consider a ponynomial function of degree 3. Calibrate the model for each output (Leaf_area, Leaf_Ei and Fruit_nb) and perform the sensitivity analysis of the metamodel"
   ]
  },
  {
   "cell_type": "code",
   "execution_count": 188,
   "metadata": {},
   "outputs": [],
   "source": [
    "## choosing the var\n",
    "y='Leaf_area' ###to adapt "
   ]
  },
  {
   "cell_type": "markdown",
   "metadata": {},
   "source": [
    "### ⇛calibrate the metamodel"
   ]
  },
  {
   "cell_type": "markdown",
   "metadata": {},
   "source": [
    "### ⇛ Estimate the variance explained by the model"
   ]
  },
  {
   "cell_type": "markdown",
   "metadata": {},
   "source": [
    "### ⇛  check and visualize model adjustment"
   ]
  },
  {
   "cell_type": "markdown",
   "metadata": {},
   "source": [
    "### ⇛  estimate the contribution of each term to the explained variance"
   ]
  },
  {
   "cell_type": "markdown",
   "metadata": {},
   "source": [
    "### ⇛ represent the contribution of parameters to explained variance"
   ]
  },
  {
   "cell_type": "code",
   "execution_count": null,
   "metadata": {},
   "outputs": [],
   "source": []
  }
 ],
 "metadata": {
  "kernelspec": {
   "display_name": "R",
   "language": "R",
   "name": "ir"
  },
  "language_info": {
   "codemirror_mode": "r",
   "file_extension": ".r",
   "mimetype": "text/x-r-source",
   "name": "R",
   "pygments_lexer": "r",
   "version": "3.6.3"
  }
 },
 "nbformat": 4,
 "nbformat_minor": 4
}
