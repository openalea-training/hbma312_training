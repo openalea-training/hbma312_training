{
 "cells": [
  {
   "cell_type": "markdown",
   "metadata": {},
   "source": [
    "# TD SENSITIVITY ANALYSIS PART 2"
   ]
  },
  {
   "cell_type": "markdown",
   "metadata": {},
   "source": [
    "#### In this TD we will perform a sensitivity analysis on FSPM model of apple tree, to estimate the influence of architectural traits in light interception\n",
    "##### Students should refer to the codes in TD_SensitivityAnalysis_Part1"
   ]
  },
  {
   "cell_type": "code",
   "execution_count": 4,
   "metadata": {},
   "outputs": [
    {
     "data": {
      "text/html": [
       "<ol>\n",
       "\t<li>TRUE</li>\n",
       "\t<li>TRUE</li>\n",
       "\t<li>TRUE</li>\n",
       "\t<li>TRUE</li>\n",
       "\t<li>TRUE</li>\n",
       "\t<li>TRUE</li>\n",
       "</ol>\n"
      ],
      "text/latex": [
       "\\begin{enumerate}\n",
       "\\item TRUE\n",
       "\\item TRUE\n",
       "\\item TRUE\n",
       "\\item TRUE\n",
       "\\item TRUE\n",
       "\\item TRUE\n",
       "\\end{enumerate}\n"
      ],
      "text/markdown": [
       "1. TRUE\n",
       "2. TRUE\n",
       "3. TRUE\n",
       "4. TRUE\n",
       "5. TRUE\n",
       "6. TRUE\n",
       "\n",
       "\n"
      ],
      "text/plain": [
       "[[1]]\n",
       "[1] TRUE\n",
       "\n",
       "[[2]]\n",
       "[1] TRUE\n",
       "\n",
       "[[3]]\n",
       "[1] TRUE\n",
       "\n",
       "[[4]]\n",
       "[1] TRUE\n",
       "\n",
       "[[5]]\n",
       "[1] TRUE\n",
       "\n",
       "[[6]]\n",
       "[1] TRUE\n"
      ]
     },
     "metadata": {},
     "output_type": "display_data"
    }
   ],
   "source": [
    "# load/install the packages\n",
    "\n",
    "packs <- c( \"sensitivity\", \"lhs\", \"ggplot2\",'dplyr','ggrepel','plotly')\n",
    "InstIfNec<-function (pack) {\n",
    "  if (!do.call(require,as.list(pack))) {\n",
    "    do.call(install.packages,as.list(pack))  }\n",
    "  do.call(require,as.list(pack)) }\n",
    "lapply(packs, InstIfNec)\n",
    "\n"
   ]
  },
  {
   "cell_type": "markdown",
   "metadata": {},
   "source": [
    "### Description of model parameters\n",
    "\n"
   ]
  },
  {
   "cell_type": "markdown",
   "metadata": {},
   "source": [
    "![Expample of illuminated 3D mock ups](img/illumAppelTree.JPG)"
   ]
  },
  {
   "cell_type": "markdown",
   "metadata": {},
   "source": [
    "### Five parameters are studied:\n",
    "\n",
    "#### INSERTION_ANGLE: angle of branches on the principal axe\n",
    "#### PHYLLOTAXY: azimuth angle between successives branches\n",
    "#### BRANCH_ELASTICITY: mechanical property of the branch (à compléter)\n",
    "#### INTERNODE_FLENGTH: internode final lenght\n",
    "#### LONGGU_PEAK_POSITION: (à compléter)\n"
   ]
  },
  {
   "cell_type": "markdown",
   "metadata": {},
   "source": [
    "#### The 3D mocks up are then couple to a light interception modeland the  three following outputs are studied:\n",
    "#### Ei_leaf_isol: Light intercepted by all the leaves over a given day when the mock up is alone (isolated) in a scene\n",
    "#### Ei_leaf_canop: Light intercepted by all the leaves over a given day when the mock up isplace in orchard\n",
    "#### Mutual shading: "
   ]
  }
 ],
 "metadata": {
  "kernelspec": {
   "display_name": "R",
   "language": "R",
   "name": "ir"
  },
  "language_info": {
   "codemirror_mode": "r",
   "file_extension": ".r",
   "mimetype": "text/x-r-source",
   "name": "R",
   "pygments_lexer": "r",
   "version": "3.6.3"
  }
 },
 "nbformat": 4,
 "nbformat_minor": 4
}
