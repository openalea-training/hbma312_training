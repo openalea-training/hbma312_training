{
 "cells": [
  {
   "cell_type": "code",
   "execution_count": 2,
   "metadata": {},
   "outputs": [],
   "source": [
    "from pgljupyter import *"
   ]
  },
  {
   "cell_type": "markdown",
   "metadata": {},
   "source": [
    "## Topology\n",
    "\n",
    "### String interpretation\n",
    "Interpret the following structure as an Lstring.\n",
    "\n",
    "![axialtree](./img/axialtree.png)\n"
   ]
  },
  {
   "cell_type": "code",
   "execution_count": null,
   "metadata": {},
   "outputs": [],
   "source": [
    "%%lpy\n",
    "Axiom: A B [ C [D] E [F G ] H [I] J] K L [ M N [O] P] Q R [ S] T"
   ]
  },
  {
   "cell_type": "markdown",
   "metadata": {},
   "source": [
    "### Drawing a simple triangle\n",
    "\n",
    "Complete the following axiom to draw a simple triangle similar to the following picture.\n",
    "\n",
    "![triangle](img/triangle.png)"
   ]
  },
  {
   "cell_type": "code",
   "execution_count": 3,
   "metadata": {},
   "outputs": [
    {
     "data": {
      "application/vnd.jupyter.widget-view+json": {
       "model_id": "e9aadd5c9e374915bf2ef061fdcfcbff",
       "version_major": 2,
       "version_minor": 0
      },
      "text/plain": [
       "LsystemWidget(derivationLength=2, is_magic=True, scene={'data': b'x\\xdaSLrw\\xf5\\xf7e`Pp\\xe0\\xe5RPVVde```be\\x08…"
      ]
     },
     "metadata": {},
     "output_type": "display_data"
    }
   ],
   "source": [
    "%%lpy -w 10\n",
    "\n",
    "Axiom: -(90) F(5) +(120) F(5) +(120) F(5)"
   ]
  },
  {
   "cell_type": "markdown",
   "metadata": {},
   "source": [
    "# Fractals\n",
    "\n",
    "## The peano curve\n",
    "\n",
    "Reproduce the following rule and generate the resulting fractal shape until iteration 3.\n",
    "\n",
    "![peanocurve](./img/peanocurve.png)\n",
    "\n"
   ]
  },
  {
   "cell_type": "code",
   "execution_count": 3,
   "metadata": {},
   "outputs": [
    {
     "data": {
      "application/vnd.jupyter.widget-view+json": {
       "model_id": "ddf2d7d52f90419a995a3eadad8d2186",
       "version_major": 2,
       "version_minor": 0
      },
      "text/plain": [
       "LsystemWidget(animate=True, derivationLength=4, is_magic=True, scene={'data': b'x\\xdaSLrw\\xf5\\xf7e`Pp\\xe0\\xe5R…"
      ]
     },
     "metadata": {},
     "output_type": "display_data"
    }
   ],
   "source": [
    "%%lpy -w 5 -a True\n",
    "\n",
    "context().turtle.setAngleIncrement(90)\n",
    "Axiom:  -(90)F(1) \n",
    "\n",
    "derivation length: 3\n",
    "production:\n",
    "\n",
    "F(x) --> F(x) +  F(x) - F(x) - F(x) -  F(x) + F(x)  + F(x) + F(x) - F(x)\n"
   ]
  },
  {
   "cell_type": "markdown",
   "metadata": {},
   "source": [
    "## The cantor dust\n",
    "\n",
    "Reproduce the following rule and generate the resulting fractal shape until iteration 3.\n",
    "\n",
    "![cantordust](./img/cantordust.png)\n"
   ]
  },
  {
   "cell_type": "code",
   "execution_count": 4,
   "metadata": {},
   "outputs": [
    {
     "data": {
      "application/vnd.jupyter.widget-view+json": {
       "model_id": "bfd4a69894bc4c8d8103918697154aa0",
       "version_major": 2,
       "version_minor": 0
      },
      "text/plain": [
       "LsystemWidget(animate=True, derivationLength=6, is_magic=True, scene={'data': b'x\\xdaSLrw\\xf5\\xf7e`Pp\\xe0\\xe5R…"
      ]
     },
     "metadata": {},
     "output_type": "display_data"
    }
   ],
   "source": [
    "%%lpy -a True\n",
    "Axiom: -(90) f(-0.5) F(1)\n",
    "derivation length: 5\n",
    "production:\n",
    "F(x) --> F(x/3.)f(x/3.)F(x/3.)"
   ]
  },
  {
   "cell_type": "markdown",
   "metadata": {},
   "source": [
    "## Tree structure\n",
    "\n",
    "Generate a broccoli shape:\n",
    "\n",
    "Each node has 4 lateral children internode and an apical one.\n",
    "   - Insertion angle for lateral: 40 \n",
    "   - 90 degree between each lateral children\n",
    "Width depends on the order of ramification\n",
    "Scaling factor of 0.5 between each order\n",
    "Finish structure with sphere with size double from terminal internode\n",
    "\n",
    "![broccoli](./img/broccoli.png)"
   ]
  },
  {
   "cell_type": "code",
   "execution_count": 5,
   "metadata": {},
   "outputs": [
    {
     "data": {
      "application/vnd.jupyter.widget-view+json": {
       "model_id": "05cca62864de46f0bcc57affd3c331e4",
       "version_major": 2,
       "version_minor": 0
      },
      "text/plain": [
       "LsystemWidget(animate=True, derivationLength=6, is_magic=True, scene={'data': b'x\\xdaSLrw\\xf5\\xf7e`Pp\\xe0\\xe5R…"
      ]
     },
     "metadata": {},
     "output_type": "display_data"
    }
   ],
   "source": [
    "%%lpy -w 6 -a True\n",
    "a = 40\n",
    "def nextscale(s) :  return s/2.\n",
    "Axiom: ,(2) _(0.3) FA(1)\n",
    "production:\n",
    "derivation length:5\n",
    "A(s) :\n",
    "    nproduce _(0.2*s)\n",
    "    for i in range(4):\n",
    "        nproduce [/(90*i)^(a)F(s)A(nextscale(s))]\n",
    "    produce /(137.5)F(s)A(nextscale(s))\n",
    "interpretation:\n",
    "A(s) --> @O(2*s)\n"
   ]
  },
  {
   "cell_type": "markdown",
   "metadata": {},
   "source": [
    "Generate a tree such as a the end of each segment, a random number of lateral segment children (between 2 and 4) are generated.\n",
    "  - Insertion angle: 60\n",
    "  - Divergence angle between segments at the same node: proportionnal to number of segments i.e. 360/nb\n",
    "\n",
    "![randomtree](./img/randomtree.png)"
   ]
  },
  {
   "cell_type": "code",
   "execution_count": 6,
   "metadata": {},
   "outputs": [
    {
     "data": {
      "application/vnd.jupyter.widget-view+json": {
       "model_id": "b76b8d38711b449aa0936a02696e99d7",
       "version_major": 2,
       "version_minor": 0
      },
      "text/plain": [
       "LsystemWidget(animate=True, derivationLength=7, is_magic=True, scene={'data': b'x\\xdaSLrw\\xf5\\xf7e`Pp\\xe0\\xe5R…"
      ]
     },
     "metadata": {},
     "output_type": "display_data"
    }
   ],
   "source": [
    "%%lpy -w 10 -a True\n",
    "from random import *\n",
    "\n",
    "dl = 0.5\n",
    "seed(0)\n",
    "\n",
    "Axiom: Elasticity(0.05)  A\n",
    "\n",
    "derivation length: 6\n",
    "production:\n",
    "\n",
    "A:\n",
    "  nproduce /(137.5) nF(1, 0.1)\n",
    "  nblateralchild = randint(1, 3)\n",
    "  for i in range(nblateralchild):\n",
    "     nproduce [  /(i*360./nblateralchild) ^(60) A ]\n",
    "\n",
    "interpretation:\n",
    "\n",
    "A --> [,(3) @O(0.15) ]\n",
    "endlsystem"
   ]
  },
  {
   "cell_type": "markdown",
   "metadata": {},
   "source": [
    "## Signals\n",
    "\n",
    "Complete the model to simulate the propagation of a signal\n",
    "\n"
   ]
  },
  {
   "cell_type": "code",
   "execution_count": 4,
   "metadata": {},
   "outputs": [
    {
     "name": "stderr",
     "output_type": "stream",
     "text": [
      "<string>:13: Warning: Found symbol '#' after Lstring. Considered as begining of comments\n",
      "<string>:14: Warning: Found symbol '#' after Lstring. Considered as begining of comments\n",
      "<string>:16: Warning: Found symbol '#' after Lstring. Considered as begining of comments\n",
      "<string>:17: Warning: Found symbol '#' after Lstring. Considered as begining of comments\n"
     ]
    },
    {
     "data": {
      "application/vnd.jupyter.widget-view+json": {
       "model_id": "cf3a8123872d44a8a789cc2ecbc6de98",
       "version_major": 2,
       "version_minor": 0
      },
      "text/plain": [
       "LsystemWidget(animate=True, derivationLength=151, is_magic=True, scene={'data': b'x\\xdaSLrw\\xf5\\xf7e`Pp\\xe0\\xe…"
      ]
     },
     "metadata": {},
     "output_type": "display_data"
    }
   ],
   "source": [
    "%%lpy -w 50 -a True\n",
    "\n",
    "Delay = 5\n",
    "LDelay = 10\n",
    "T = 120\n",
    "\n",
    "Axiom: R(T) I(0) A(Delay, 0)\n",
    "\n",
    "derivation length: 150\n",
    "production:\n",
    "consider: R I A B\n",
    "\n",
    "I(x) < A(d,o) :\n",
    "  if x == 1 : produce W   # produce flower\n",
    "  elif d > 0: produce A(d-1, o) # continue to growth\n",
    "  else:\n",
    "    if o == 0: nproduce [ +(60) A(0,o+1) ] # produce lateral apex\n",
    "    else : nproduce [ +(60) /(60) ,(2) ~l ] # or lateral leaf\n",
    "    produce I(0) /(180)  A(Delay if o == 0 else LDelay, o)\n",
    "\n",
    "R(t) --> R(t-1)\n",
    "\n",
    "R(t) < I(x):\n",
    "    # Wait for the root to propagate\n",
    "    if t < 0: produce I(1)\n",
    "\n",
    "I(x) < I(s) --> I(x)\n",
    "\n",
    "\n",
    "interpretation:\n",
    "\n",
    "W --> _(0.3) ,(3) @O\n",
    "I(x) --> ,(2 if x ==0 else 4) _(0.1 if x ==0 else 0.2) F\n",
    "\n",
    "endlsystem\n"
   ]
  },
  {
   "cell_type": "code",
   "execution_count": 5,
   "metadata": {},
   "outputs": [
    {
     "name": "stderr",
     "output_type": "stream",
     "text": [
      "<string>:14: Warning: Found symbol '#' after Lstring. Considered as begining of comments\n",
      "<string>:15: Warning: Found symbol '#' after Lstring. Considered as begining of comments\n",
      "<string>:17: Warning: Found symbol '#' after Lstring. Considered as begining of comments\n",
      "<string>:18: Warning: Found symbol '#' after Lstring. Considered as begining of comments\n"
     ]
    },
    {
     "data": {
      "application/vnd.jupyter.widget-view+json": {
       "model_id": "85d4f46ef6394893b821cbe34dc6b543",
       "version_major": 2,
       "version_minor": 0
      },
      "text/plain": [
       "LsystemWidget(animate=True, derivationLength=151, is_magic=True, scene={'data': b'x\\xdaSLrw\\xf5\\xf7e`Pp\\xe0\\xe…"
      ]
     },
     "metadata": {},
     "output_type": "display_data"
    }
   ],
   "source": [
    "%%lpy -w 50 -a True\n",
    "\n",
    "Delay = 5\n",
    "LDelay = 10\n",
    "SDelay = 5\n",
    "T = 70\n",
    "\n",
    "Axiom: R(T) I(0) A(Delay, 0)\n",
    "\n",
    "derivation length: 150\n",
    "production:\n",
    "consider: R I A B\n",
    "\n",
    "I(x) < A(d,o) :\n",
    "  if x == 1 : produce W   # produce flower\n",
    "  elif d > 0: produce A(d-1, o) # continue to growth\n",
    "  else:\n",
    "    if o == 0: nproduce [ +(60) A(0,o+1) ] # produce lateral apex\n",
    "    else : nproduce [ +(60) /(60) ,(2) ~l ] # or lateral leaf\n",
    "    produce I(0) /(180)  A(Delay if o == 0 else LDelay, o)\n",
    "\n",
    "R(t) --> R(t-1)\n",
    "\n",
    "R(t) < I(v):\n",
    "    if t < 0 and v == 0:\n",
    "        produce I(1)\n",
    "        \n",
    "I(v1) < I(v2) :\n",
    "    if v1 == SDelay and v2 == 0:\n",
    "        produce I(1)\n",
    "\n",
    "I(v) :\n",
    "    if 0 < v < SDelay:\n",
    "        produce I(v+1)\n",
    "\n",
    "interpretation:\n",
    "\n",
    "W --> _(0.3) ,(3) @O\n",
    "I(x) --> ,(2 if x ==0 else 4) _(0.1 if x ==0 else 0.2) F\n",
    "\n",
    "endlsystem"
   ]
  },
  {
   "cell_type": "code",
   "execution_count": null,
   "metadata": {},
   "outputs": [],
   "source": []
  }
 ],
 "metadata": {
  "kernelspec": {
   "display_name": "Python 3",
   "language": "python",
   "name": "python3"
  },
  "language_info": {
   "codemirror_mode": {
    "name": "ipython",
    "version": 3
   },
   "file_extension": ".py",
   "mimetype": "text/x-python",
   "name": "python",
   "nbconvert_exporter": "python",
   "pygments_lexer": "ipython3",
   "version": "3.8.6"
  }
 },
 "nbformat": 4,
 "nbformat_minor": 4
}
