{
 "cells": [
  {
   "cell_type": "markdown",
   "metadata": {},
   "source": [
    "# L-systems\n"
   ]
  },
  {
   "cell_type": "code",
   "execution_count": 1,
   "metadata": {},
   "outputs": [],
   "source": [
    "from pgljupyter import *"
   ]
  },
  {
   "cell_type": "markdown",
   "metadata": {},
   "source": [
    "## L-Py syntax\n",
    "Here comes simple examples of L-systems"
   ]
  },
  {
   "cell_type": "code",
   "execution_count": 2,
   "metadata": {},
   "outputs": [
    {
     "data": {
      "application/vnd.jupyter.widget-view+json": {
       "model_id": "53a2dbacb32c40ad97c7fd366027a6c4",
       "version_major": 2,
       "version_minor": 0
      },
      "text/plain": [
       "LsystemWidget(animate=True, derivationLength=6, is_magic=True, scene={'data': b'x\\xdaSLrw\\xf5\\xf7e`Pp\\xe0\\xe5R…"
      ]
     },
     "metadata": {},
     "output_type": "display_data"
    }
   ],
   "source": [
    "%%lpy -w 10 -a True\n",
    "from random import random \n",
    "MAX_AGE, dr = 10, 0.03 # constants\n",
    "module Apex(age), Internode(length,radius)\n",
    "Axiom: @Gc Apex(0)\n",
    "derivation length: 5\n",
    "production:\n",
    "Apex(age) :\n",
    "  if age < MAX_AGE:\n",
    "    produce Internode(1+ random(),0.03) /(137)[+(30)Apex(age+1)]Apex(age+1)\n",
    "\n",
    "Internode(l,r) --> Internode(l,r+dr)\n",
    "interpretation:\n",
    "Internode(l,r) --> _(r) F(l)\n",
    "endlsystem"
   ]
  },
  {
   "cell_type": "markdown",
   "metadata": {},
   "source": [
    "## Topology\n",
    "\n",
    "Try to interpret the following lstring code.\n",
    "\n",
    "`module S : scale = 1`\n",
    "\n",
    "`module B : scale = 1`\n",
    "\n",
    "`module N : scale = 1`\n",
    "\n",
    "$S_1B_1N_0N_1 [S_2B_2N_2 [N_3] B_3 N_4 [N_5N_6] N_7[N_8]N_9]N_{10}B_4N_{11} [S_3B_5N_{12}N_{13}[N_{14}]N_{15}]N_{16}N_{17} [N_{18}]N_{19}$\n",
    "\n",
    "- Draw a geometrical interpretation \n",
    "- What are the complexes at scale 2 of N3, N10 ,N15 ,N16 ?\n",
    "- What are the complexes at scale 1 of B3, B5?\n",
    "- What are the components at scale 3 of B3, B4, B5, S1?\n",
    "- What are the parents at scale 2 of B3, B5? at scale 3 of N2, N12?\n",
    "- What are the children at scale 3 of N4, N10 ?\n"
   ]
  },
  {
   "cell_type": "markdown",
   "metadata": {},
   "source": [
    "## Turtle Geometry\n",
    "\n",
    "A basic example of turtle syntax with F and + and - symbols."
   ]
  },
  {
   "cell_type": "code",
   "execution_count": 4,
   "metadata": {},
   "outputs": [
    {
     "data": {
      "application/vnd.jupyter.widget-view+json": {
       "model_id": "fd69466c45924d55aff22a4806e53f8f",
       "version_major": 2,
       "version_minor": 0
      },
      "text/plain": [
       "LsystemWidget(derivationLength=2, is_magic=True, scene={'data': b'x\\xda\\x9d\\xd4\\xcbN\\xc2@\\x14\\x06\\xe0\\xc3-\\xdc…"
      ]
     },
     "metadata": {},
     "output_type": "display_data"
    }
   ],
   "source": [
    "%%lpy -w 10\n",
    "# Sert default angle to 90\n",
    "execContext().turtle.setAngleIncrement(90)\n",
    "\n",
    "Axiom: FFF-FF-F-F+F+FF-F-FFF"
   ]
  },
  {
   "cell_type": "markdown",
   "metadata": {},
   "source": [
    "### Drawing a simple triangle\n",
    "\n",
    "Complete the following axiom to draw a simple triangle similar to the following picture.\n",
    "\n",
    "![triangle](img/triangle.png)"
   ]
  },
  {
   "cell_type": "code",
   "execution_count": 5,
   "metadata": {},
   "outputs": [
    {
     "data": {
      "application/vnd.jupyter.widget-view+json": {
       "model_id": "a32d72f5297c4f0984bedf4720051bfc",
       "version_major": 2,
       "version_minor": 0
      },
      "text/plain": [
       "LsystemWidget(derivationLength=2, is_magic=True, scene={'data': b'x\\xdaSLrw\\xf5\\xf7e`Pp\\xe0\\xe5RPVVdf```be\\x08…"
      ]
     },
     "metadata": {},
     "output_type": "display_data"
    }
   ],
   "source": [
    "%%lpy -w 10\n",
    "\n",
    "Axiom: F"
   ]
  },
  {
   "cell_type": "markdown",
   "metadata": {},
   "source": [
    "## Branch shape\n",
    "\n",
    " - Load the [recursive tree structure](./recursivetree.lpy)\n",
    "\n",
    " - Insert an helio-tropism into the axiom. Test different values of the elasticity. Use command `@Tp` and `@Ts`\n",
    "\n",
    " - Remove tropism and insert a guide at the beginning of each branch. Edit graphically the guide to achieve curved architecture. Use `SetGuide`.\n"
   ]
  },
  {
   "cell_type": "code",
   "execution_count": 7,
   "metadata": {},
   "outputs": [],
   "source": [
    "from openalea.lpy.lsysparameters import LsystemParameters\n",
    "from openalea.plantgl.all import *\n",
    "lp = LsystemParameters()\n",
    "trunk = NurbsCurve2D([(0.00852268, -0.329545, 1),(-0.0501894, -0.0568182, 1),(0.0700758, 0.167614, 1),(0.0170455, 0.46875, 1)])\n",
    "lp.add('trunk', trunk)\n",
    "branchpath = NurbsCurve2D([(-0.551136, -0.00284096, 1),(-0.212121, 0.107955, 1),(-0.0719697, 0.0568182, 1),(0.301136, 0.0965909, 1),(0.299465, 0.415776, 1)])\n",
    "lp.add('branchpath', branchpath)\n"
   ]
  },
  {
   "cell_type": "code",
   "execution_count": 8,
   "metadata": {},
   "outputs": [
    {
     "data": {
      "application/vnd.jupyter.widget-view+json": {
       "model_id": "a3010f65ef4042c79cd47682192892de",
       "version_major": 2,
       "version_minor": 0
      },
      "text/plain": [
       "HBox(children=(HBox(children=(LsystemWidget(animate=True, derivationLength=51, is_magic=True, scene={'data': b…"
      ]
     },
     "metadata": {},
     "output_type": "display_data"
    }
   ],
   "source": [
    "%%lpy -w 100 -a True -p lp\n",
    "\n",
    "from openalea.plantgl.all import *\n",
    "from math import degrees,pi,cos\n",
    "from random import uniform, seed\n",
    "\n",
    "seed(0)\n",
    "l = 50.\n",
    "nl = 5\n",
    "phyllotaxy = 90\n",
    "max_order = 6\n",
    "diameter = lambda u : 0.05+0.5*(1-u)\n",
    "branching = lambda u : 40*cos(pi/2*u)+10\n",
    "\n",
    "module  A\n",
    "Axiom:   _(diameter(0)) SetGuide(trunk, l) @Gc A(l-1,0)\n",
    "\n",
    "derivation length: int(l)\n",
    "production:\n",
    "\n",
    "A(x, order) :\n",
    "    u = 1-x/l \n",
    "    if x <= 0 : produce\n",
    "    if x % nl == 0.0 and order < max_order:\n",
    "       nproduce   [ /(phyllotaxy*(x/nl))  &(branching(u)) A(x-1,  order+1) ]\n",
    "    produce F(1, diameter(u)) A(x-1, order)\n"
   ]
  },
  {
   "cell_type": "markdown",
   "metadata": {},
   "source": [
    "# Fractals\n",
    "\n",
    "## The peano curve\n",
    "\n",
    "Reproduce the following rule and generate the resulting fractal shape until iteration 3.\n",
    "\n",
    "![peanocurve](./img/peanocurve.png)\n",
    "\n"
   ]
  },
  {
   "cell_type": "code",
   "execution_count": 9,
   "metadata": {},
   "outputs": [
    {
     "name": "stderr",
     "output_type": "stream",
     "text": [
      "<string>:5: Warning: Found symbol '#' after Lstring. Considered as begining of comments\n"
     ]
    },
    {
     "data": {
      "application/vnd.jupyter.widget-view+json": {
       "model_id": "1a4a124e39764560a1c7a109070e0202",
       "version_major": 2,
       "version_minor": 0
      },
      "text/plain": [
       "LsystemWidget(derivationLength=4, is_magic=True, scene={'data': b'x\\xdaSLrw\\xf5\\xf7e`Pp\\xe0\\xe5RPVVda```be\\x08…"
      ]
     },
     "metadata": {},
     "output_type": "display_data"
    }
   ],
   "source": [
    "%%lpy -w 5\n",
    "\n",
    "Axiom: -(90)  F\n",
    "derivation length: 3\n",
    "production:\n",
    "F --> # TOCOMPLETE"
   ]
  },
  {
   "cell_type": "markdown",
   "metadata": {},
   "source": [
    "## The cantor dust\n",
    "\n",
    "Reproduce the following rule and generate the resulting fractal shap euntil iteration 3.\n",
    "\n",
    "![cantordust](./img/cantordust.png)\n"
   ]
  },
  {
   "cell_type": "code",
   "execution_count": 10,
   "metadata": {},
   "outputs": [
    {
     "data": {
      "application/vnd.jupyter.widget-view+json": {
       "model_id": "83b3b47525ad44708fc44aec5c4fc36e",
       "version_major": 2,
       "version_minor": 0
      },
      "text/plain": [
       "LsystemWidget(derivationLength=4, is_magic=True, scene={'data': b'x\\xdaSLrw\\xf5\\xf7e`Pp\\xe0\\xe5RPVVde```be\\x08…"
      ]
     },
     "metadata": {},
     "output_type": "display_data"
    }
   ],
   "source": [
    "%%lpy\n",
    "Axiom: -(90) f(-0.5) F(1)\n",
    "derivation length: 3\n",
    "production:\n",
    "F --> #"
   ]
  },
  {
   "cell_type": "markdown",
   "metadata": {},
   "source": [
    "## Hilbert curve in 3D"
   ]
  },
  {
   "cell_type": "code",
   "execution_count": 25,
   "metadata": {},
   "outputs": [
    {
     "data": {
      "application/vnd.jupyter.widget-view+json": {
       "model_id": "6f53c161696a4c9ea52dcf5b18075658",
       "version_major": 2,
       "version_minor": 0
      },
      "text/plain": [
       "LsystemWidget(derivationLength=5, is_magic=True, scene={'data': b'x\\xdaSLrw\\xf5\\xf7e`Pp\\xe0\\xe5RPVVd\\x00\\x020\\…"
      ]
     },
     "metadata": {},
     "output_type": "display_data"
    }
   ],
   "source": [
    "%%lpy -w 40\n",
    "Axiom: A\n",
    "context().turtle.setAngleIncrement(90)\n",
    "\n",
    "derivation length: 4\n",
    "production:\n",
    "\n",
    "A  --> B-F+CFC+F-D&F^D-F+&&CFC+F+B// \n",
    "B  --> A&F^CFB^F^D^^-F-D^|F^B|FC^F^A// \n",
    "C  --> |D^|F^B-F+C^F^A&&FA&F^C+F+B^F^D// \n",
    "D  --> |CFB-F+B|FA&F^A&&FB-F+B|FC// \n",
    "\n",
    "interpretation:\n",
    "A --> ,(2)\n",
    "B --> ,(3)\n",
    "C --> ,(4)\n",
    "D --> ,(5)\n"
   ]
  },
  {
   "cell_type": "markdown",
   "metadata": {},
   "source": [
    "# Barnley Fern \n",
    "\n",
    "Try to construct "
   ]
  },
  {
   "cell_type": "code",
   "execution_count": null,
   "metadata": {},
   "outputs": [],
   "source": [
    "%%lpy\n"
   ]
  },
  {
   "cell_type": "markdown",
   "metadata": {},
   "source": [
    "## Signals\n",
    "\n",
    "Complete the [model signal.lpy](./signal.lpy) to simulate the propagation of a signal\n",
    "\n"
   ]
  },
  {
   "cell_type": "code",
   "execution_count": 62,
   "metadata": {},
   "outputs": [
    {
     "name": "stderr",
     "output_type": "stream",
     "text": [
      "<string>:13: Warning: Found symbol '#' after Lstring. Considered as begining of comments\n",
      "<string>:14: Warning: Found symbol '#' after Lstring. Considered as begining of comments\n",
      "<string>:16: Warning: Found symbol '#' after Lstring. Considered as begining of comments\n",
      "<string>:17: Warning: Found symbol '#' after Lstring. Considered as begining of comments\n"
     ]
    },
    {
     "data": {
      "application/vnd.jupyter.widget-view+json": {
       "model_id": "9e6fc7141ab243f0aa2f0e2d3b4cdf50",
       "version_major": 2,
       "version_minor": 0
      },
      "text/plain": [
       "LsystemWidget(animate=True, derivationLength=151, is_magic=True, scene={'data': b'x\\xdaSLrw\\xf5\\xf7e`Pp\\xe0\\xe…"
      ]
     },
     "metadata": {},
     "output_type": "display_data"
    }
   ],
   "source": [
    "%%lpy -w 50 -a True\n",
    "\n",
    "Delay = 5\n",
    "LDelay = 10\n",
    "T = 120\n",
    "\n",
    "Axiom: R(T) I(0) A(Delay, 0)\n",
    "\n",
    "derivation length: 150\n",
    "production:\n",
    "consider: R I A B\n",
    "\n",
    "I(x) < A(d,o) :\n",
    "  if x == 1 : produce W   # produce flower\n",
    "  elif d > 0: produce A(d-1, o) # continue to growth\n",
    "  else:\n",
    "    if o == 0: nproduce [ +(60) A(0,o+1) ] # produce lateral apex\n",
    "    else : nproduce [ +(60) /(60) ,(2) ~l ] # or lateral leaf\n",
    "    produce I(0) /(180)  A(Delay if o == 0 else LDelay, o)\n",
    "\n",
    "R(t) --> R(t-1)\n",
    "\n",
    "\n",
    "\n",
    "interpretation:\n",
    "\n",
    "W --> _(0.3) ,(3) @O\n",
    "I(x) --> ,(2 if x ==0 else 4) _(0.1 if x ==0 else 0.2) F\n",
    "\n",
    "endlsystem\n"
   ]
  },
  {
   "cell_type": "code",
   "execution_count": 8,
   "metadata": {},
   "outputs": [
    {
     "data": {
      "application/vnd.jupyter.widget-view+json": {
       "model_id": "032527f97aaf4563900a7979da88cd73",
       "version_major": 2,
       "version_minor": 0
      },
      "text/plain": [
       "LsystemWidget(derivationLength=4, is_magic=True, scene={'data': b'x\\xdaSLrw\\xf5\\xf7e`Pp\\xe0\\xe5RPVVde```be\\x08…"
      ]
     },
     "metadata": {},
     "output_type": "display_data"
    }
   ],
   "source": [
    "%%lpy -w 5\n",
    "from math import *\n",
    "Axiom: F(10) R(90) F(10) R(90) F(10) R(-90) F(10)\n",
    "production:\n",
    "derivation length:3\n",
    "\n",
    "F(x) --> F(x/3)\n",
    "\n",
    "F(l) < R(x) --> R(x/2) F(l*sqrt(2)/3) R(x/2)  \n",
    "interpretation:\n",
    "R(x) --> +(x)"
   ]
  },
  {
   "cell_type": "markdown",
   "metadata": {},
   "source": [
    "## Environment\n",
    "\n",
    "Test the root model : [grid-rootinsoil2.lpy](./env/grid-rootinsoil2.lpy) with [grid.py](./env/grid.py)\n",
    "\n",
    "Test the light model : [light-growth.lpy](./env/light-growth.lpy) with [light.py](./env/sunDome.py) and [sunDome.py](./env/light.py)"
   ]
  },
  {
   "cell_type": "markdown",
   "metadata": {},
   "source": [
    "### Creation of a polygon\n",
    "\n",
    "Complete the axiom that will generate the following polygonal shape. Use the command F, + et -. By default, non indicated angles are equal to 90° and length to 1.\n",
    "\n",
    "```python\n",
    "Axiom: ,(2) _(0.02) { . F    ....  } (True)\n",
    "```\n",
    "\n",
    "![mappleleaf](./img/mappleleaf.png)\n",
    "\n"
   ]
  },
  {
   "cell_type": "code",
   "execution_count": 6,
   "metadata": {
    "scrolled": true
   },
   "outputs": [
    {
     "name": "stderr",
     "output_type": "stream",
     "text": [
      "openalea.plantgl:799: Warning: Provided contour auto intersect. Cannot apply triangulation\n"
     ]
    },
    {
     "data": {
      "application/vnd.jupyter.widget-view+json": {
       "model_id": "c2561c09777545f3838f4c4d47b0be63",
       "version_major": 2,
       "version_minor": 0
      },
      "text/plain": [
       "LsystemWidget(derivationLength=2, is_magic=True, scene={'data': b'x\\xdaSLrw\\xf5\\xf7e`Pp\\xe0\\xe5RPVVda```be\\x08…"
      ]
     },
     "metadata": {},
     "output_type": "display_data"
    }
   ],
   "source": [
    "%%lpy -w 5\n",
    "\n",
    "Axiom: ,(2) _(0.02) { . F    ....  } (True)\n"
   ]
  },
  {
   "cell_type": "markdown",
   "metadata": {},
   "source": [
    "## Phyllotaxie\n",
    "\n",
    "Reproduire ces organisations\n",
    "\n",
    "\n",
    "<img src=\"./img/phyllotaxie.png\" width=\"600\">"
   ]
  },
  {
   "cell_type": "code",
   "execution_count": 63,
   "metadata": {},
   "outputs": [
    {
     "data": {
      "application/vnd.jupyter.widget-view+json": {
       "model_id": "eab4a51bea4443518afb2380081ebfcf",
       "version_major": 2,
       "version_minor": 0
      },
      "text/plain": [
       "LsystemWidget(derivationLength=2, is_magic=True, scene={'data': b'x\\xda\\x95\\x93\\xcfk\\xd3`\\x18\\xc7\\x9f\\xb66\\xe9…"
      ]
     },
     "metadata": {},
     "output_type": "display_data"
    }
   ],
   "source": [
    "%%lpy -w 10\n",
    "Axiom: \n",
    "  for i in range(5):\n",
    "    nproduce F(1) /(137.5) [ &(120) ,(2) ~l(2) ]\n"
   ]
  },
  {
   "cell_type": "markdown",
   "metadata": {},
   "source": [
    "## Arborescence\n",
    "\n",
    "A partir d'une structure binaire et planaire [binarytree.lpy ](./binarytree.lpy ), générer une structure 3D avec un nombre aléatoire de ramifications compris entre 2 et 4.\n",
    "\n",
    "Ajouter de l'heliotropisme."
   ]
  },
  {
   "cell_type": "code",
   "execution_count": 64,
   "metadata": {},
   "outputs": [
    {
     "data": {
      "application/vnd.jupyter.widget-view+json": {
       "model_id": "9a01df69330b4cd5bce8893d270278ba",
       "version_major": 2,
       "version_minor": 0
      },
      "text/plain": [
       "LsystemWidget(derivationLength=7, is_magic=True, scene={'data': b'x\\xdaSLrw\\xf5\\xf7e`Pp\\xe0\\xe5RPVVd\\x00\\x020\\…"
      ]
     },
     "metadata": {},
     "output_type": "display_data"
    }
   ],
   "source": [
    "%%lpy -w 10\n",
    "Axiom: A\n",
    "\n",
    "derivation length: 6\n",
    "production:\n",
    "\n",
    "A --> F[+(30) A][-(30) A]P\n",
    "\n",
    "interpretation:\n",
    "\n",
    "P --> [,(3) @O(0.15) ]\n",
    "endlsystem"
   ]
  },
  {
   "cell_type": "code",
   "execution_count": null,
   "metadata": {},
   "outputs": [],
   "source": []
  }
 ],
 "metadata": {
  "kernelspec": {
   "display_name": "Python 3",
   "language": "python",
   "name": "python3"
  },
  "language_info": {
   "codemirror_mode": {
    "name": "ipython",
    "version": 3
   },
   "file_extension": ".py",
   "mimetype": "text/x-python",
   "name": "python",
   "nbconvert_exporter": "python",
   "pygments_lexer": "ipython3",
   "version": "3.8.6"
  },
  "widgets": {
   "application/vnd.jupyter.widget-state+json": {
    "state": {
     "01265f4541164ffeb3c1cc7ffea1d370": {
      "model_module": "@jupyter-widgets/base",
      "model_module_version": "1.2.0",
      "model_name": "LayoutModel",
      "state": {}
     },
     "04b867a2845241a1999936885d1d4755": {
      "model_module": "@jupyter-widgets/base",
      "model_module_version": "1.2.0",
      "model_name": "LayoutModel",
      "state": {}
     },
     "05fa19ecf9e544e2832e14177d26e600": {
      "buffers": [
       {
        "data": "eNpTTHJ39fdlYFBw4OVSUFZWZGFgYGBiZQjOSCxIZQSymTkYfBNLUosyE3NAXF4OBufKnMy8lNQiEFecg8G/KDM1ryQ1BcRVBBFMkgzBHo4Brp4u8YbxhiYGRoZGphZmBoZA2gIk/x8IxBnAAMRtKO7fvAZI7eeFiHGdPXPGloGZncE5Pye/KN7wwqLEkzaOuvwMDA4OAIFbJg0=",
        "encoding": "base64",
        "path": [
         "scene",
         "data"
        ]
       }
      ],
      "model_module": "pgljupyter",
      "model_module_version": "^0.1.21",
      "model_name": "LsystemWidgetModel",
      "state": {
       "_model_module_version": "^0.1.21",
       "_view_module_version": "^0.1.21",
       "axes_helper": false,
       "derivationLength": 4,
       "is_magic": true,
       "layout": "IPY_MODEL_601d16b5362f49d581f750bee85dc3d5",
       "light_helper": false,
       "plane": true,
       "scene": {
        "data": {},
        "derivationStep": 0,
        "id": 0,
        "scene": "<openalea.plantgl.scenegraph._pglsg.Scene object at 0x7f85d6371530>"
       },
       "size_display": [
        400,
        400
       ],
       "size_world": 5
      }
     },
     "06b6bbf064114111a645a4389fb6bf5f": {
      "model_module": "@jupyter-widgets/base",
      "model_module_version": "1.2.0",
      "model_name": "LayoutModel",
      "state": {}
     },
     "06eaf4cf57cf4ef9858177778f4f277d": {
      "model_module": "pgljupyter",
      "model_module_version": "^0.1.21",
      "model_name": "LsystemWidgetModel",
      "state": {
       "_model_module_version": "^0.1.21",
       "_view_module_version": "^0.1.21",
       "axes_helper": false,
       "derivationLength": 2,
       "is_magic": true,
       "layout": "IPY_MODEL_3edae1f825084dd99cc2cdca62d37d07",
       "light_helper": false,
       "plane": true,
       "size_display": [
        400,
        400
       ],
       "size_world": 1
      }
     },
     "076d02e8e8a44e58b416e51b7acba177": {
      "buffers": [
       {
        "data": "eNpTTHJ39fdlYFBw4OVSUFZWZGFgYGBiZQjOSCxIZQKymTkYfBNLUosyE3MYgVxeDgbnypzMvJTUIhBXkJ3BLTE5NTi1BMRTBGlgkmQI9nAMcPV0iTeJNzQxMDI0Mrc0NLA0NzIzARsOMoUBDLi4ri+2YWBmZ3DOz8kvijcqYJ591UbOhouBwcEByRgjmDGmRuaGloZmFkxQYwQhxvxnZ2PABRrsSWWDPAIzjxFqETMQg9zOChIDuRIA2B4ofQ==",
        "encoding": "base64",
        "path": [
         "scene",
         "data"
        ]
       }
      ],
      "model_module": "pgljupyter",
      "model_module_version": "^0.1.21",
      "model_name": "LsystemWidgetModel",
      "state": {
       "_model_module_version": "^0.1.21",
       "_view_module_version": "^0.1.21",
       "axes_helper": false,
       "derivationLength": 2,
       "is_magic": true,
       "layout": "IPY_MODEL_16b66f6e2d5a40a9a8a9f100f3f83b6a",
       "light_helper": false,
       "plane": true,
       "scene": {
        "data": {},
        "derivationStep": 0,
        "id": 0,
        "scene": "<openalea.plantgl.scenegraph._pglsg.Scene object at 0x7f85d524bd00>"
       },
       "size_display": [
        400,
        400
       ],
       "size_world": 5
      }
     },
     "078bfbca195246e6aa38344a091c503f": {
      "model_module": "@jupyter-widgets/base",
      "model_module_version": "1.2.0",
      "model_name": "LayoutModel",
      "state": {}
     },
     "0b1752c696d147c0bee7c0107d64bede": {
      "model_module": "pgljupyter",
      "model_module_version": "^0.1.21",
      "model_name": "LsystemWidgetModel",
      "state": {
       "_model_module_version": "^0.1.21",
       "_view_module_version": "^0.1.21",
       "axes_helper": false,
       "derivationLength": 6,
       "is_magic": true,
       "layout": "IPY_MODEL_6e996d427a65401ea28535113a5b3063",
       "light_helper": false,
       "plane": true,
       "size_display": [
        400,
        400
       ],
       "size_world": 10
      }
     },
     "0d98462d4fb34226bc2e94c09f65bcd4": {
      "model_module": "pgljupyter",
      "model_module_version": "^0.1.21",
      "model_name": "LsystemWidgetModel",
      "state": {
       "_model_module_version": "^0.1.21",
       "_view_module_version": "^0.1.21",
       "axes_helper": false,
       "derivationLength": 51,
       "is_magic": true,
       "layout": "IPY_MODEL_6c4725a19292456fa042225276b2bd63",
       "light_helper": false,
       "plane": true,
       "size_display": [
        400,
        400
       ],
       "size_world": 10
      }
     },
     "0e5b6c064ba840448dee5b1fb1095b8e": {
      "model_module": "@jupyter-widgets/base",
      "model_module_version": "1.2.0",
      "model_name": "LayoutModel",
      "state": {}
     },
     "0ed2edb524024aea99764b156a323cbc": {
      "model_module": "@jupyter-widgets/base",
      "model_module_version": "1.2.0",
      "model_name": "LayoutModel",
      "state": {}
     },
     "0ef38bce80bb4a2b90d6286628e0184c": {
      "model_module": "@jupyter-widgets/base",
      "model_module_version": "1.2.0",
      "model_name": "LayoutModel",
      "state": {}
     },
     "0f137193527a46c58e118c35144b2a57": {
      "model_module": "@jupyter-widgets/base",
      "model_module_version": "1.2.0",
      "model_name": "LayoutModel",
      "state": {}
     },
     "0ff409b40dae4476bc25c786394fc26b": {
      "model_module": "@jupyter-widgets/base",
      "model_module_version": "1.2.0",
      "model_name": "LayoutModel",
      "state": {}
     },
     "1148447c494d40e6a25f840e3ce406dd": {
      "model_module": "pgljupyter",
      "model_module_version": "^0.1.21",
      "model_name": "LsystemWidgetModel",
      "state": {
       "_model_module_version": "^0.1.21",
       "_view_module_version": "^0.1.21",
       "axes_helper": false,
       "derivationLength": 4,
       "is_magic": true,
       "layout": "IPY_MODEL_b27883f6313844519d6cb79d06f4f9ca",
       "light_helper": false,
       "plane": true,
       "size_display": [
        400,
        400
       ],
       "size_world": 5
      }
     },
     "13a0af463a8e42388932f9ec6a5cb0ec": {
      "model_module": "pgljupyter",
      "model_module_version": "^0.1.21",
      "model_name": "LsystemWidgetModel",
      "state": {
       "_model_module_version": "^0.1.21",
       "_view_module_version": "^0.1.21",
       "axes_helper": false,
       "derivationLength": 6,
       "is_magic": true,
       "layout": "IPY_MODEL_14a90b780fe34ed186c2387e1ade449c",
       "light_helper": false,
       "plane": true,
       "size_display": [
        400,
        400
       ],
       "size_world": 10
      }
     },
     "14596cd04c874a3fa97c05ebe6d98985": {
      "model_module": "pgljupyter",
      "model_module_version": "^0.1.21",
      "model_name": "LsystemWidgetModel",
      "state": {
       "_model_module_version": "^0.1.21",
       "_view_module_version": "^0.1.21",
       "axes_helper": false,
       "derivationLength": 2,
       "is_magic": true,
       "layout": "IPY_MODEL_e633b92d39f04c00810a841c21842356",
       "light_helper": false,
       "plane": true,
       "size_display": [
        400,
        400
       ],
       "size_world": 5
      }
     },
     "14a90b780fe34ed186c2387e1ade449c": {
      "model_module": "@jupyter-widgets/base",
      "model_module_version": "1.2.0",
      "model_name": "LayoutModel",
      "state": {}
     },
     "14ca9d9c210641deaab347d8318e139d": {
      "buffers": [
       {
        "data": "eNqlVH9MW0Ucf21hFNj8RSIb+GNt2RZUTF/7fq7l3c1RxyQEEIbGTAGBCaMpWiDAdLKZYLMYxxwbsAVZRhan66bOzYhie4Qxt2LUTNlWnTP7w78mTDNCdHOC79rC7pX6WOJL7nL33ufe9/P53OfO8OI6R0E+RS2HS5KWm0yGeIqitPFUcU3Fy9X3yGOdnsqvaKx211Y4NfI0JZFytDS6mxpq6134c5qeKqx3tjprXSH0yqS5qSUHvzDgTptGFeeuKXSszymj2TKaMVtoi2BmeNFsFZi7ZUAy/jMVetK1ctcxPGUn29aUXHBVsxSNT6z1p4VxGPbN8KiUfr0OdOm6YdHm+8Ff9otgsgRB/F2zkqL0yc4LiSH0NoD7yTgW4NbQceIofiePEZ7LY9TQYT0WmaMu75tZ+F0Ej2bXa3QJ1Np6Z727jC7/qu6CfU2WTB5CUh5NyBNEwcJgaQmEPF1IXlN2uClljk63orEdov+W/ZovIhPDC/hA9uCZKjDmr4ak5MBpCCp3NAL7s8NhyRosWIOpEZSspOMCz3NmUxSlWI5//ms+qOmk0HMH+yXC8ePlfb4tL/SCruPvwOtPL0a5nlXwk8KBeeWXzZXnFfvNCUJCRNVs9Ti5Gy8ayMbtv4ypsqaCngwj3gQUYYOXGfcMSk+tCkjr+xIgaRLJ8tLUd/7V/1wF3s1fq5jEigqTLDRnk7H8Aib90Twt6YM2dO2RCTKW34/dAnRqKQh8tBNmmhj47YenwdlWr1p5xamgBZbjo1xSi82NHBeaeuPG6hlxUCJic0TMBQ99VgpyLHmQpHTovAO+u30DuPLgpyqUeFGxcSLDFERRiuXIhiIHSLlkRK/+fJePcORy6i5Q1b4ffNy+He42eoHnFy3UXN6rEhsrWd1qtjC68N/mqseHq2MzsheKT3jJNoT7CKt46vYzZOoBZJRI40jmoyOnwLHfz4E/S/rnMU+/fQWYycgLHM0wdTL4pQWce6ClFBzarUfE2ccw8NtbqLd83B9kD8Iv9h1Fnh6PP/PRs6r1Fd6xtJXDtSvvMExdmc+jTa80+4ijhuEHhK3o/OG3fTWmNkhyKnb2o8Qlu9CPS39S42RRXAMMwwhtUZxiebJuIiuUJiLYGHaKuoL+7rvpMwY/gIeb0oaaK2ek1zICKmEWFWFmWU6ojIrTndxC7u7HwYxoA0SM4ogY3RTuhaRNJM2KMyuGaraI/nOeoJpNLK2IPcNbumVw5wI2deY9BnrbkxGxZRhmb/lBel/y+h9+fQ88adgEnjgy/uX04hG1+oxim3jWynVG+aQWnY3lbfLB3+kj/NER/jxznwuSnGyuvaBE50aBvFE1TrzCE8Esct4oTrE8SZp8EmSkG8gjryW4ZF48CVveG/BttGUABwqqXERmRXVG5Kio6ovkbv++ZRJu/+NCWkTFfvDlRCaMdJNUMzs+MTJPzb97Ge5d",
        "encoding": "base64",
        "path": [
         "scene",
         "data"
        ]
       }
      ],
      "model_module": "pgljupyter",
      "model_module_version": "^0.1.21",
      "model_name": "LsystemWidgetModel",
      "state": {
       "_model_module_version": "^0.1.21",
       "_view_module_version": "^0.1.21",
       "axes_helper": false,
       "derivationLength": 6,
       "is_magic": true,
       "layout": "IPY_MODEL_3664ed3c571844898f2a0fab7315d3b3",
       "light_helper": false,
       "plane": true,
       "scene": {
        "data": {},
        "derivationStep": 5,
        "id": 5,
        "scene": "<openalea.plantgl.scenegraph._pglsg.Scene object at 0x7f85d524bda0>"
       },
       "size_display": [
        400,
        400
       ],
       "size_world": 10
      }
     },
     "15c001fcf6514ce49daf66a2c51c7e44": {
      "model_module": "pgljupyter",
      "model_module_version": "^0.1.21",
      "model_name": "LsystemWidgetModel",
      "state": {
       "_model_module_version": "^0.1.21",
       "_view_module_version": "^0.1.21",
       "axes_helper": false,
       "derivationLength": 51,
       "is_magic": true,
       "layout": "IPY_MODEL_d88f41b116e04e8395213dea8658860f",
       "light_helper": false,
       "plane": true,
       "size_display": [
        400,
        400
       ],
       "size_world": 50
      }
     },
     "16b66f6e2d5a40a9a8a9f100f3f83b6a": {
      "model_module": "@jupyter-widgets/base",
      "model_module_version": "1.2.0",
      "model_name": "LayoutModel",
      "state": {}
     },
     "1919bc41a1ee482885684afa0fde28d9": {
      "model_module": "@jupyter-widgets/base",
      "model_module_version": "1.2.0",
      "model_name": "LayoutModel",
      "state": {}
     },
     "1976f6b703864244a6f65db2036f5a7f": {
      "model_module": "@jupyter-widgets/base",
      "model_module_version": "1.2.0",
      "model_name": "LayoutModel",
      "state": {}
     },
     "1a21aa89df6044d5943ace6e4217b61a": {
      "model_module": "pgljupyter",
      "model_module_version": "^0.1.21",
      "model_name": "LsystemWidgetModel",
      "state": {
       "_model_module_version": "^0.1.21",
       "_view_module_version": "^0.1.21",
       "axes_helper": false,
       "derivationLength": 101,
       "is_magic": true,
       "layout": "IPY_MODEL_d0a7b52169ed4e96b82d3d649b60ae61",
       "light_helper": false,
       "plane": true,
       "size_display": [
        400,
        400
       ],
       "size_world": 10
      }
     },
     "1aa5761f998b491b9f9e59f1b5bcccc1": {
      "model_module": "pgljupyter",
      "model_module_version": "^0.1.21",
      "model_name": "LsystemWidgetModel",
      "state": {
       "_model_module_version": "^0.1.21",
       "_view_module_version": "^0.1.21",
       "axes_helper": false,
       "derivationLength": 2,
       "is_magic": true,
       "layout": "IPY_MODEL_f485d98420864b3faedc0b16d39614ec",
       "light_helper": false,
       "plane": true,
       "size_display": [
        400,
        400
       ],
       "size_world": 10
      }
     },
     "1b24c4628b8e4acbb0ef69458dd66776": {
      "model_module": "pgljupyter",
      "model_module_version": "^0.1.21",
      "model_name": "LsystemWidgetModel",
      "state": {
       "_model_module_version": "^0.1.21",
       "_view_module_version": "^0.1.21",
       "axes_helper": false,
       "derivationLength": 6,
       "is_magic": true,
       "layout": "IPY_MODEL_ead8b60c457b43aa8166607b78c11b33",
       "light_helper": false,
       "plane": true,
       "size_display": [
        400,
        400
       ],
       "size_world": 10
      }
     },
     "1bc6e794710c42cea6e88e6277cac56b": {
      "model_module": "@jupyter-widgets/base",
      "model_module_version": "1.2.0",
      "model_name": "LayoutModel",
      "state": {}
     },
     "1d343990c9644e85a62756db99bfc028": {
      "model_module": "@jupyter-widgets/base",
      "model_module_version": "1.2.0",
      "model_name": "LayoutModel",
      "state": {}
     },
     "1e245c2d53624deb8e9d97631e9af4c8": {
      "model_module": "@jupyter-widgets/base",
      "model_module_version": "1.2.0",
      "model_name": "LayoutModel",
      "state": {}
     },
     "2210a3c3a443487ba72ae45415beb9f8": {
      "model_module": "@jupyter-widgets/base",
      "model_module_version": "1.2.0",
      "model_name": "LayoutModel",
      "state": {}
     },
     "2508c8306ee44f4db4e587980d1930b9": {
      "model_module": "pgljupyter",
      "model_module_version": "^0.1.21",
      "model_name": "LsystemWidgetModel",
      "state": {
       "_model_module_version": "^0.1.21",
       "_view_module_version": "^0.1.21",
       "axes_helper": false,
       "derivationLength": 51,
       "is_magic": true,
       "layout": "IPY_MODEL_06b6bbf064114111a645a4389fb6bf5f",
       "light_helper": false,
       "plane": true,
       "size_display": [
        400,
        400
       ],
       "size_world": 50
      }
     },
     "26bb9b23859747f2aeac323b8f87906f": {
      "model_module": "pgljupyter",
      "model_module_version": "^0.1.21",
      "model_name": "LsystemWidgetModel",
      "state": {
       "_model_module_version": "^0.1.21",
       "_view_module_version": "^0.1.21",
       "axes_helper": false,
       "derivationLength": 6,
       "is_magic": true,
       "layout": "IPY_MODEL_f5c037235b33478b98589693dc53514f",
       "light_helper": false,
       "plane": true,
       "size_display": [
        400,
        400
       ],
       "size_world": 6
      }
     },
     "26f2e6a84d2a430daa51f5d93af58b99": {
      "model_module": "pgljupyter",
      "model_module_version": "^0.1.21",
      "model_name": "LsystemWidgetModel",
      "state": {
       "_model_module_version": "^0.1.21",
       "_view_module_version": "^0.1.21",
       "axes_helper": false,
       "derivationLength": 51,
       "is_magic": true,
       "layout": "IPY_MODEL_6a7a49fffed34c76b80607498a387329",
       "light_helper": false,
       "plane": true,
       "size_display": [
        400,
        400
       ],
       "size_world": 50
      }
     },
     "2700544d069a4366aadded269e91a0d1": {
      "model_module": "pgljupyter",
      "model_module_version": "^0.1.21",
      "model_name": "LsystemWidgetModel",
      "state": {
       "_model_module_version": "^0.1.21",
       "_view_module_version": "^0.1.21",
       "axes_helper": false,
       "derivationLength": 7,
       "is_magic": true,
       "layout": "IPY_MODEL_fd4042078c7c46f69f41c35235b85f33",
       "light_helper": false,
       "plane": true,
       "size_display": [
        400,
        400
       ],
       "size_world": 10
      }
     },
     "28655bd44127458d8d3ce4abce718b65": {
      "model_module": "@jupyter-widgets/base",
      "model_module_version": "1.2.0",
      "model_name": "LayoutModel",
      "state": {}
     },
     "2983f4bd04ae48ac88ae58eb8ea934be": {
      "model_module": "pgljupyter",
      "model_module_version": "^0.1.21",
      "model_name": "LsystemWidgetModel",
      "state": {
       "_model_module_version": "^0.1.21",
       "_view_module_version": "^0.1.21",
       "axes_helper": false,
       "derivationLength": 151,
       "is_magic": true,
       "layout": "IPY_MODEL_87d43e0f066f4828809cb683775dc8d0",
       "light_helper": false,
       "plane": true,
       "size_display": [
        400,
        400
       ],
       "size_world": 50
      }
     },
     "2b71c4dec1f64b89b78c86eb2aaa9ef9": {
      "model_module": "pgljupyter",
      "model_module_version": "^0.1.21",
      "model_name": "LsystemWidgetModel",
      "state": {
       "_model_module_version": "^0.1.21",
       "_view_module_version": "^0.1.21",
       "axes_helper": false,
       "derivationLength": 2,
       "is_magic": true,
       "layout": "IPY_MODEL_e26549e01c8a445db3cc8f547a77aa1f",
       "light_helper": false,
       "plane": true,
       "size_display": [
        400,
        400
       ],
       "size_world": 10
      }
     },
     "2bd1ab4d23cb49d38e4684795d50b6aa": {
      "model_module": "@jupyter-widgets/base",
      "model_module_version": "1.2.0",
      "model_name": "LayoutModel",
      "state": {}
     },
     "2c6a4c16855944a393fd8c69860784fb": {
      "model_module": "pgljupyter",
      "model_module_version": "^0.1.21",
      "model_name": "LsystemWidgetModel",
      "state": {
       "_model_module_version": "^0.1.21",
       "_view_module_version": "^0.1.21",
       "axes_helper": false,
       "derivationLength": 4,
       "is_magic": true,
       "layout": "IPY_MODEL_7ded7faecae84515bf5f854fc1073c4d",
       "light_helper": false,
       "plane": true,
       "size_display": [
        400,
        400
       ],
       "size_world": 1
      }
     },
     "3286389fef4540d9abd6c8954cd967a6": {
      "model_module": "@jupyter-widgets/base",
      "model_module_version": "1.2.0",
      "model_name": "LayoutModel",
      "state": {}
     },
     "33eb009335b9432a8351faa0ffdcb536": {
      "model_module": "pgljupyter",
      "model_module_version": "^0.1.21",
      "model_name": "LsystemWidgetModel",
      "state": {
       "_model_module_version": "^0.1.21",
       "_view_module_version": "^0.1.21",
       "axes_helper": false,
       "derivationLength": 6,
       "is_magic": true,
       "layout": "IPY_MODEL_3e8c11a465c04f6db2f83240754ec546",
       "light_helper": false,
       "plane": true,
       "size_display": [
        400,
        400
       ],
       "size_world": 10
      }
     },
     "34c800cd8a2c48e0a72b8ae968e962e0": {
      "model_module": "pgljupyter",
      "model_module_version": "^0.1.21",
      "model_name": "LsystemWidgetModel",
      "state": {
       "_model_module_version": "^0.1.21",
       "_view_module_version": "^0.1.21",
       "axes_helper": false,
       "derivationLength": 101,
       "is_magic": true,
       "layout": "IPY_MODEL_5e83d2ccc54141d3a4d60db6f377fcb6",
       "light_helper": false,
       "plane": true,
       "size_display": [
        400,
        400
       ],
       "size_world": 40
      }
     },
     "360b015913fa4ab086eef58c47417c53": {
      "model_module": "pgljupyter",
      "model_module_version": "^0.1.21",
      "model_name": "LsystemWidgetModel",
      "state": {
       "_model_module_version": "^0.1.21",
       "_view_module_version": "^0.1.21",
       "axes_helper": false,
       "derivationLength": 51,
       "is_magic": true,
       "layout": "IPY_MODEL_df43c19128dc4c45bb59820814215827",
       "light_helper": false,
       "plane": true,
       "size_display": [
        400,
        400
       ],
       "size_world": 50
      }
     },
     "3664ed3c571844898f2a0fab7315d3b3": {
      "model_module": "@jupyter-widgets/base",
      "model_module_version": "1.2.0",
      "model_name": "LayoutModel",
      "state": {}
     },
     "3679ddc723c14c29b2c12b711776f9c2": {
      "model_module": "@jupyter-widgets/base",
      "model_module_version": "1.2.0",
      "model_name": "LayoutModel",
      "state": {}
     },
     "376d5949d34a4b8c85b32d3e45b4778e": {
      "model_module": "@jupyter-widgets/base",
      "model_module_version": "1.2.0",
      "model_name": "LayoutModel",
      "state": {}
     },
     "38486cff51ca4164b3c4d3a668865a55": {
      "model_module": "pgljupyter",
      "model_module_version": "^0.1.21",
      "model_name": "LsystemWidgetModel",
      "state": {
       "_model_module_version": "^0.1.21",
       "_view_module_version": "^0.1.21",
       "axes_helper": false,
       "derivationLength": 51,
       "is_magic": true,
       "layout": "IPY_MODEL_3a29bfe6752d45efa5c649782784bb8d",
       "light_helper": false,
       "plane": true,
       "size_display": [
        400,
        400
       ],
       "size_world": 50
      }
     },
     "39805206230349099843ce70123b44da": {
      "model_module": "pgljupyter",
      "model_module_version": "^0.1.21",
      "model_name": "LsystemWidgetModel",
      "state": {
       "_model_module_version": "^0.1.21",
       "_view_module_version": "^0.1.21",
       "axes_helper": false,
       "derivationLength": 51,
       "is_magic": true,
       "layout": "IPY_MODEL_8c07a5c6b2fc4634ae351add87458eee",
       "light_helper": false,
       "plane": true,
       "size_display": [
        400,
        400
       ],
       "size_world": 50
      }
     },
     "39df5f3f901a4ea090d5616ab9a4dd42": {
      "model_module": "pgljupyter",
      "model_module_version": "^0.1.21",
      "model_name": "LsystemWidgetModel",
      "state": {
       "_model_module_version": "^0.1.21",
       "_view_module_version": "^0.1.21",
       "axes_helper": false,
       "derivationLength": 4,
       "is_magic": true,
       "layout": "IPY_MODEL_7cb426723d8b4a8da4c4beb812332c61",
       "light_helper": false,
       "plane": true,
       "size_display": [
        400,
        400
       ],
       "size_world": 1
      }
     },
     "3a29bfe6752d45efa5c649782784bb8d": {
      "model_module": "@jupyter-widgets/base",
      "model_module_version": "1.2.0",
      "model_name": "LayoutModel",
      "state": {}
     },
     "3c860579fce04a5e99eba9380036865e": {
      "model_module": "pgljupyter",
      "model_module_version": "^0.1.21",
      "model_name": "LsystemWidgetModel",
      "state": {
       "_model_module_version": "^0.1.21",
       "_view_module_version": "^0.1.21",
       "axes_helper": false,
       "derivationLength": 51,
       "is_magic": true,
       "layout": "IPY_MODEL_0f137193527a46c58e118c35144b2a57",
       "light_helper": false,
       "plane": true,
       "size_display": [
        400,
        400
       ],
       "size_world": 50
      }
     },
     "3d3a154201924575a6439bf65f681a30": {
      "model_module": "@jupyter-widgets/base",
      "model_module_version": "1.2.0",
      "model_name": "LayoutModel",
      "state": {}
     },
     "3e8c11a465c04f6db2f83240754ec546": {
      "model_module": "@jupyter-widgets/base",
      "model_module_version": "1.2.0",
      "model_name": "LayoutModel",
      "state": {}
     },
     "3edae1f825084dd99cc2cdca62d37d07": {
      "model_module": "@jupyter-widgets/base",
      "model_module_version": "1.2.0",
      "model_name": "LayoutModel",
      "state": {}
     },
     "40257ef1f9c345ad972b04a8a8b51d83": {
      "buffers": [
       {
        "data": "eNpTTHJ39fdlYFBw4OVSUFZWZGVgYGBiZQjOSCxIZQSymTkYfBNLUosyE3NAXF4OBufKnMy8lNQiEFecg8G/KDM1ryQ1BcRV4GIIKUrMK85JhAoogggmSYZgD8cAV0+XeKN4QxMDI0MjCwMTCyMLU0sjJqD8fyBQYEAG+4v7jXXEIWyQCQ3F/ZvXAKn9vBAxrrNnztgyMLMzOOfn5BfFGzIsLbpm46jLz8Dg4AAA4bMr6w==",
        "encoding": "base64",
        "path": [
         "scene",
         "data"
        ]
       }
      ],
      "model_module": "pgljupyter",
      "model_module_version": "^0.1.21",
      "model_name": "LsystemWidgetModel",
      "state": {
       "_model_module_version": "^0.1.21",
       "_view_module_version": "^0.1.21",
       "axes_helper": false,
       "derivationLength": 4,
       "is_magic": true,
       "layout": "IPY_MODEL_a815c3c175714c0fa83ae2803419e2cc",
       "light_helper": false,
       "plane": true,
       "scene": {
        "data": {},
        "derivationStep": 0,
        "id": 0,
        "scene": "<openalea.plantgl.scenegraph._pglsg.Scene object at 0x7f85d39e1ee0>"
       },
       "size_display": [
        400,
        400
       ],
       "size_world": 1
      }
     },
     "41aba108f90649b788ac8e760baa6110": {
      "model_module": "pgljupyter",
      "model_module_version": "^0.1.21",
      "model_name": "LsystemWidgetModel",
      "state": {
       "_model_module_version": "^0.1.21",
       "_view_module_version": "^0.1.21",
       "axes_helper": false,
       "derivationLength": 2,
       "is_magic": true,
       "layout": "IPY_MODEL_f5bddce91dbd4b7cb180d25f96dbfd91",
       "light_helper": false,
       "plane": true,
       "size_display": [
        400,
        400
       ],
       "size_world": 1
      }
     },
     "43f35ef982fe4cfa9154b98971895c66": {
      "model_module": "@jupyter-widgets/base",
      "model_module_version": "1.2.0",
      "model_name": "LayoutModel",
      "state": {}
     },
     "4533ea5fb14e448cae6fef243ee2b9f3": {
      "model_module": "pgljupyter",
      "model_module_version": "^0.1.21",
      "model_name": "LsystemWidgetModel",
      "state": {
       "_model_module_version": "^0.1.21",
       "_view_module_version": "^0.1.21",
       "axes_helper": false,
       "derivationLength": 151,
       "is_magic": true,
       "layout": "IPY_MODEL_fe370208faba4952abbcd67bfbcfe36f",
       "light_helper": false,
       "plane": true,
       "size_display": [
        400,
        400
       ],
       "size_world": 50
      }
     },
     "464471c7d3914b708df69d274476836e": {
      "model_module": "@jupyter-widgets/base",
      "model_module_version": "1.2.0",
      "model_name": "LayoutModel",
      "state": {}
     },
     "46475f6762154ef789b5a4852e672c19": {
      "model_module": "pgljupyter",
      "model_module_version": "^0.1.21",
      "model_name": "LsystemWidgetModel",
      "state": {
       "_model_module_version": "^0.1.21",
       "_view_module_version": "^0.1.21",
       "axes_helper": false,
       "derivationLength": 2,
       "is_magic": true,
       "layout": "IPY_MODEL_eb0892df558a4a57a903572c1c800c08",
       "light_helper": false,
       "plane": true,
       "size_display": [
        400,
        400
       ],
       "size_world": 5
      }
     },
     "4654306f204441f392c03879bb198e85": {
      "model_module": "@jupyter-widgets/base",
      "model_module_version": "1.2.0",
      "model_name": "LayoutModel",
      "state": {}
     },
     "490c410bd00e4b2f8dad2d7e1713107a": {
      "model_module": "pgljupyter",
      "model_module_version": "^0.1.21",
      "model_name": "LsystemWidgetModel",
      "state": {
       "_model_module_version": "^0.1.21",
       "_view_module_version": "^0.1.21",
       "axes_helper": false,
       "derivationLength": 101,
       "is_magic": true,
       "layout": "IPY_MODEL_b0f5526a36484a1ea9e8e397b17c6a4a",
       "light_helper": false,
       "plane": true,
       "size_display": [
        400,
        400
       ],
       "size_world": 10
      }
     },
     "4cdda4bbe8aa4a32a668e460890c9ded": {
      "model_module": "pgljupyter",
      "model_module_version": "^0.1.21",
      "model_name": "LsystemWidgetModel",
      "state": {
       "_model_module_version": "^0.1.21",
       "_view_module_version": "^0.1.21",
       "axes_helper": false,
       "derivationLength": 2,
       "is_magic": true,
       "layout": "IPY_MODEL_0ff409b40dae4476bc25c786394fc26b",
       "light_helper": false,
       "plane": true,
       "size_display": [
        400,
        400
       ],
       "size_world": 1
      }
     },
     "5696f56bc56d49f2a6c3a104db77c503": {
      "model_module": "@jupyter-widgets/base",
      "model_module_version": "1.2.0",
      "model_name": "LayoutModel",
      "state": {}
     },
     "58ce43e4150c498b8f52deabef669dee": {
      "model_module": "@jupyter-widgets/base",
      "model_module_version": "1.2.0",
      "model_name": "LayoutModel",
      "state": {}
     },
     "5a7021b00f4c476e97fe8bc4c720d8b0": {
      "model_module": "@jupyter-widgets/base",
      "model_module_version": "1.2.0",
      "model_name": "LayoutModel",
      "state": {}
     },
     "5bbad3c7d0964bda9e15415a7240eec9": {
      "model_module": "@jupyter-widgets/base",
      "model_module_version": "1.2.0",
      "model_name": "LayoutModel",
      "state": {}
     },
     "5e5d035c164d4ce3b6d25365940616b5": {
      "model_module": "@jupyter-widgets/base",
      "model_module_version": "1.2.0",
      "model_name": "LayoutModel",
      "state": {}
     },
     "5e83d2ccc54141d3a4d60db6f377fcb6": {
      "model_module": "@jupyter-widgets/base",
      "model_module_version": "1.2.0",
      "model_name": "LayoutModel",
      "state": {}
     },
     "5ee71ac234db4ae986ffccecc893022a": {
      "model_module": "@jupyter-widgets/base",
      "model_module_version": "1.2.0",
      "model_name": "LayoutModel",
      "state": {}
     },
     "5f6598c7dcb94fd0bcf15abd86a973dd": {
      "model_module": "pgljupyter",
      "model_module_version": "^0.1.21",
      "model_name": "LsystemWidgetModel",
      "state": {
       "_model_module_version": "^0.1.21",
       "_view_module_version": "^0.1.21",
       "axes_helper": false,
       "derivationLength": 6,
       "is_magic": true,
       "layout": "IPY_MODEL_078bfbca195246e6aa38344a091c503f",
       "light_helper": false,
       "plane": true,
       "size_display": [
        400,
        400
       ],
       "size_world": 10
      }
     },
     "601d16b5362f49d581f750bee85dc3d5": {
      "model_module": "@jupyter-widgets/base",
      "model_module_version": "1.2.0",
      "model_name": "LayoutModel",
      "state": {}
     },
     "6138c2bcf1c849878af3be6b4837b4f8": {
      "model_module": "pgljupyter",
      "model_module_version": "^0.1.21",
      "model_name": "LsystemWidgetModel",
      "state": {
       "_model_module_version": "^0.1.21",
       "_view_module_version": "^0.1.21",
       "axes_helper": false,
       "derivationLength": 101,
       "is_magic": true,
       "layout": "IPY_MODEL_889621877b68429a824799a3bfd36951",
       "light_helper": false,
       "plane": true,
       "size_display": [
        400,
        400
       ],
       "size_world": 100
      }
     },
     "61aee0f72ccf422785caf4f87d9aed37": {
      "model_module": "pgljupyter",
      "model_module_version": "^0.1.21",
      "model_name": "LsystemWidgetModel",
      "state": {
       "_model_module_version": "^0.1.21",
       "_view_module_version": "^0.1.21",
       "axes_helper": false,
       "derivationLength": 2,
       "is_magic": true,
       "layout": "IPY_MODEL_1e245c2d53624deb8e9d97631e9af4c8",
       "light_helper": false,
       "plane": true,
       "size_display": [
        400,
        400
       ],
       "size_world": 10
      }
     },
     "61eb156d32f64eebab9b20511b6ff633": {
      "model_module": "pgljupyter",
      "model_module_version": "^0.1.21",
      "model_name": "LsystemWidgetModel",
      "state": {
       "_model_module_version": "^0.1.21",
       "_view_module_version": "^0.1.21",
       "axes_helper": false,
       "derivationLength": 2,
       "is_magic": true,
       "layout": "IPY_MODEL_5a7021b00f4c476e97fe8bc4c720d8b0",
       "light_helper": false,
       "plane": true,
       "size_display": [
        400,
        400
       ],
       "size_world": 5
      }
     },
     "6255a773b6964e2b80f1013bb3a205c3": {
      "model_module": "@jupyter-widgets/base",
      "model_module_version": "1.2.0",
      "model_name": "LayoutModel",
      "state": {}
     },
     "633cfa3ebca24a1fbce0b60e868c6e84": {
      "model_module": "pgljupyter",
      "model_module_version": "^0.1.21",
      "model_name": "LsystemWidgetModel",
      "state": {
       "_model_module_version": "^0.1.21",
       "_view_module_version": "^0.1.21",
       "axes_helper": false,
       "derivationLength": 2,
       "is_magic": true,
       "layout": "IPY_MODEL_6255a773b6964e2b80f1013bb3a205c3",
       "light_helper": false,
       "plane": true,
       "size_display": [
        400,
        400
       ],
       "size_world": 1
      }
     },
     "6714d54b792f48e0a8185b8ae76abd93": {
      "model_module": "pgljupyter",
      "model_module_version": "^0.1.21",
      "model_name": "LsystemWidgetModel",
      "state": {
       "_model_module_version": "^0.1.21",
       "_view_module_version": "^0.1.21",
       "axes_helper": false,
       "derivationLength": 2,
       "is_magic": true,
       "layout": "IPY_MODEL_f2809ea5f6194017b37b2795905c38ca",
       "light_helper": false,
       "plane": true,
       "size_display": [
        400,
        400
       ],
       "size_world": 5
      }
     },
     "6a612cdc417b4c519595de83aec0a437": {
      "model_module": "pgljupyter",
      "model_module_version": "^0.1.21",
      "model_name": "LsystemWidgetModel",
      "state": {
       "_model_module_version": "^0.1.21",
       "_view_module_version": "^0.1.21",
       "axes_helper": false,
       "derivationLength": 51,
       "is_magic": true,
       "layout": "IPY_MODEL_6d0d050a171341f7a7c10c2d92cfda5d",
       "light_helper": false,
       "plane": true,
       "size_display": [
        400,
        400
       ],
       "size_world": 100
      }
     },
     "6a7a49fffed34c76b80607498a387329": {
      "model_module": "@jupyter-widgets/base",
      "model_module_version": "1.2.0",
      "model_name": "LayoutModel",
      "state": {}
     },
     "6a81f51cc1654edc81b429e8070fcba0": {
      "model_module": "pgljupyter",
      "model_module_version": "^0.1.21",
      "model_name": "LsystemWidgetModel",
      "state": {
       "_model_module_version": "^0.1.21",
       "_view_module_version": "^0.1.21",
       "axes_helper": false,
       "derivationLength": 2,
       "is_magic": true,
       "layout": "IPY_MODEL_5e5d035c164d4ce3b6d25365940616b5",
       "light_helper": false,
       "plane": true,
       "size_display": [
        400,
        400
       ],
       "size_world": 5
      }
     },
     "6a87d49dadf94855b065a4f4f29cee1a": {
      "model_module": "@jupyter-widgets/base",
      "model_module_version": "1.2.0",
      "model_name": "LayoutModel",
      "state": {}
     },
     "6b4ad2955d904b9db89e2d307e82a541": {
      "model_module": "pgljupyter",
      "model_module_version": "^0.1.21",
      "model_name": "LsystemWidgetModel",
      "state": {
       "_model_module_version": "^0.1.21",
       "_view_module_version": "^0.1.21",
       "axes_helper": false,
       "derivationLength": 2,
       "is_magic": true,
       "layout": "IPY_MODEL_c3673f932afa4a87a2a71dd4ad689a31",
       "light_helper": false,
       "plane": true,
       "size_display": [
        400,
        400
       ],
       "size_world": 10
      }
     },
     "6c4725a19292456fa042225276b2bd63": {
      "model_module": "@jupyter-widgets/base",
      "model_module_version": "1.2.0",
      "model_name": "LayoutModel",
      "state": {}
     },
     "6d0d050a171341f7a7c10c2d92cfda5d": {
      "model_module": "@jupyter-widgets/base",
      "model_module_version": "1.2.0",
      "model_name": "LayoutModel",
      "state": {}
     },
     "6d1868d395a74ddc9a7c2952b006db06": {
      "model_module": "@jupyter-widgets/base",
      "model_module_version": "1.2.0",
      "model_name": "LayoutModel",
      "state": {}
     },
     "6d4e4f0c96804e3ca6149c2b796038bf": {
      "model_module": "pgljupyter",
      "model_module_version": "^0.1.21",
      "model_name": "LsystemWidgetModel",
      "state": {
       "_model_module_version": "^0.1.21",
       "_view_module_version": "^0.1.21",
       "axes_helper": false,
       "derivationLength": 6,
       "is_magic": true,
       "layout": "IPY_MODEL_1d343990c9644e85a62756db99bfc028",
       "light_helper": false,
       "plane": true,
       "size_display": [
        400,
        400
       ],
       "size_world": 10
      }
     },
     "6e996d427a65401ea28535113a5b3063": {
      "model_module": "@jupyter-widgets/base",
      "model_module_version": "1.2.0",
      "model_name": "LayoutModel",
      "state": {}
     },
     "7073776fd1464301bb6fd2b92b7e4d72": {
      "model_module": "pgljupyter",
      "model_module_version": "^0.1.21",
      "model_name": "LsystemWidgetModel",
      "state": {
       "_model_module_version": "^0.1.21",
       "_view_module_version": "^0.1.21",
       "axes_helper": false,
       "derivationLength": 151,
       "is_magic": true,
       "layout": "IPY_MODEL_5bbad3c7d0964bda9e15415a7240eec9",
       "light_helper": false,
       "plane": true,
       "size_display": [
        400,
        400
       ],
       "size_world": 50
      }
     },
     "714091440c5f4c89b4562b9b7709ef11": {
      "model_module": "pgljupyter",
      "model_module_version": "^0.1.21",
      "model_name": "LsystemWidgetModel",
      "state": {
       "_model_module_version": "^0.1.21",
       "_view_module_version": "^0.1.21",
       "axes_helper": false,
       "derivationLength": 4,
       "is_magic": true,
       "layout": "IPY_MODEL_04b867a2845241a1999936885d1d4755",
       "light_helper": false,
       "plane": true,
       "size_display": [
        400,
        400
       ],
       "size_world": 1
      }
     },
     "72067d44b34a4f988f146636531c6e48": {
      "buffers": [
       {
        "data": "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",
        "encoding": "base64",
        "path": [
         "scene",
         "data"
        ]
       }
      ],
      "model_module": "pgljupyter",
      "model_module_version": "^0.1.21",
      "model_name": "LsystemWidgetModel",
      "state": {
       "_model_module_version": "^0.1.21",
       "_view_module_version": "^0.1.21",
       "axes_helper": false,
       "derivationLength": 101,
       "is_magic": true,
       "layout": "IPY_MODEL_3286389fef4540d9abd6c8954cd967a6",
       "light_helper": false,
       "plane": true,
       "scene": {
        "data": {},
        "derivationStep": 0,
        "id": 0,
        "scene": "<openalea.plantgl.scenegraph._pglsg.Scene object at 0x7f85d63df080>"
       },
       "size_display": [
        400,
        400
       ],
       "size_world": 30
      }
     },
     "72bd7150f446470a9ff675609750ab68": {
      "model_module": "pgljupyter",
      "model_module_version": "^0.1.21",
      "model_name": "LsystemWidgetModel",
      "state": {
       "_model_module_version": "^0.1.21",
       "_view_module_version": "^0.1.21",
       "axes_helper": false,
       "derivationLength": 2,
       "is_magic": true,
       "layout": "IPY_MODEL_3679ddc723c14c29b2c12b711776f9c2",
       "light_helper": false,
       "plane": true,
       "size_display": [
        400,
        400
       ],
       "size_world": 10
      }
     },
     "73a3c81d83c9481292038cadcce3f074": {
      "model_module": "pgljupyter",
      "model_module_version": "^0.1.21",
      "model_name": "LsystemWidgetModel",
      "state": {
       "_model_module_version": "^0.1.21",
       "_view_module_version": "^0.1.21",
       "axes_helper": false,
       "derivationLength": 51,
       "is_magic": true,
       "layout": "IPY_MODEL_a36c9209221549aeb65c07eebae16423",
       "light_helper": false,
       "plane": true,
       "size_display": [
        400,
        400
       ],
       "size_world": 100
      }
     },
     "7a09ab1ef58244d59ae4e01f100efd01": {
      "model_module": "@jupyter-widgets/base",
      "model_module_version": "1.2.0",
      "model_name": "LayoutModel",
      "state": {}
     },
     "7bf2130eea0b43a5a42709e3c1faa492": {
      "model_module": "pgljupyter",
      "model_module_version": "^0.1.21",
      "model_name": "LsystemWidgetModel",
      "state": {
       "_model_module_version": "^0.1.21",
       "_view_module_version": "^0.1.21",
       "axes_helper": false,
       "derivationLength": 4,
       "is_magic": true,
       "layout": "IPY_MODEL_f8fad95521244abba1418a24d0b1ecc5",
       "light_helper": false,
       "plane": true,
       "size_display": [
        400,
        400
       ],
       "size_world": 5
      }
     },
     "7cb426723d8b4a8da4c4beb812332c61": {
      "model_module": "@jupyter-widgets/base",
      "model_module_version": "1.2.0",
      "model_name": "LayoutModel",
      "state": {}
     },
     "7cd8defc41b54fa3a0b27132dc583da9": {
      "model_module": "pgljupyter",
      "model_module_version": "^0.1.21",
      "model_name": "LsystemWidgetModel",
      "state": {
       "_model_module_version": "^0.1.21",
       "_view_module_version": "^0.1.21",
       "axes_helper": false,
       "derivationLength": 2,
       "is_magic": true,
       "layout": "IPY_MODEL_e929e3c48ab9446f84e1f9e42c4391c3",
       "light_helper": false,
       "plane": true,
       "size_display": [
        400,
        400
       ],
       "size_world": 1
      }
     },
     "7ded7faecae84515bf5f854fc1073c4d": {
      "model_module": "@jupyter-widgets/base",
      "model_module_version": "1.2.0",
      "model_name": "LayoutModel",
      "state": {}
     },
     "8130ac81ec874f84bd67c3aebb962a8d": {
      "model_module": "@jupyter-widgets/base",
      "model_module_version": "1.2.0",
      "model_name": "LayoutModel",
      "state": {}
     },
     "833e45a5fba74118b64f7c7ee390afdd": {
      "model_module": "@jupyter-widgets/base",
      "model_module_version": "1.2.0",
      "model_name": "LayoutModel",
      "state": {}
     },
     "8766dc909c6445ccb9b6e1adcddd8dc0": {
      "model_module": "pgljupyter",
      "model_module_version": "^0.1.21",
      "model_name": "LsystemWidgetModel",
      "state": {
       "_model_module_version": "^0.1.21",
       "_view_module_version": "^0.1.21",
       "axes_helper": false,
       "derivationLength": 4,
       "is_magic": true,
       "layout": "IPY_MODEL_833e45a5fba74118b64f7c7ee390afdd",
       "light_helper": false,
       "plane": true,
       "size_display": [
        400,
        400
       ],
       "size_world": 1
      }
     },
     "87d43e0f066f4828809cb683775dc8d0": {
      "model_module": "@jupyter-widgets/base",
      "model_module_version": "1.2.0",
      "model_name": "LayoutModel",
      "state": {}
     },
     "889621877b68429a824799a3bfd36951": {
      "model_module": "@jupyter-widgets/base",
      "model_module_version": "1.2.0",
      "model_name": "LayoutModel",
      "state": {}
     },
     "8b82d493df7b4597abf75f1926721641": {
      "model_module": "@jupyter-widgets/base",
      "model_module_version": "1.2.0",
      "model_name": "LayoutModel",
      "state": {}
     },
     "8c07a5c6b2fc4634ae351add87458eee": {
      "model_module": "@jupyter-widgets/base",
      "model_module_version": "1.2.0",
      "model_name": "LayoutModel",
      "state": {}
     },
     "8cab1771eb4f4146a7d5f25917e87001": {
      "model_module": "pgljupyter",
      "model_module_version": "^0.1.21",
      "model_name": "LsystemWidgetModel",
      "state": {
       "_model_module_version": "^0.1.21",
       "_view_module_version": "^0.1.21",
       "axes_helper": false,
       "derivationLength": 4,
       "is_magic": true,
       "layout": "IPY_MODEL_dfc991d2c06741d99a84d721ac993213",
       "light_helper": false,
       "plane": true,
       "size_display": [
        400,
        400
       ],
       "size_world": 1
      }
     },
     "8d40a3da485548b18941e7d84f18571f": {
      "model_module": "@jupyter-widgets/base",
      "model_module_version": "1.2.0",
      "model_name": "LayoutModel",
      "state": {}
     },
     "8d5d17eecf7e4f359308866a41ffbff1": {
      "model_module": "@jupyter-widgets/base",
      "model_module_version": "1.2.0",
      "model_name": "LayoutModel",
      "state": {}
     },
     "9172ddc733ab4ae5af1ce7609730aef8": {
      "model_module": "@jupyter-widgets/base",
      "model_module_version": "1.2.0",
      "model_name": "LayoutModel",
      "state": {}
     },
     "91d624f18b664e1abc7ea653da0c8cb2": {
      "model_module": "pgljupyter",
      "model_module_version": "^0.1.21",
      "model_name": "LsystemWidgetModel",
      "state": {
       "_model_module_version": "^0.1.21",
       "_view_module_version": "^0.1.21",
       "axes_helper": false,
       "derivationLength": 51,
       "is_magic": true,
       "layout": "IPY_MODEL_9eddf03f7ee8447c85dad85e0eb1c889",
       "light_helper": false,
       "plane": true,
       "size_display": [
        400,
        400
       ],
       "size_world": 100
      }
     },
     "940b09b5bd5840adb30c2f6f5c8f292f": {
      "model_module": "@jupyter-widgets/base",
      "model_module_version": "1.2.0",
      "model_name": "LayoutModel",
      "state": {}
     },
     "9540623670bb4e0e917b7a4f290e7704": {
      "model_module": "pgljupyter",
      "model_module_version": "^0.1.21",
      "model_name": "LsystemWidgetModel",
      "state": {
       "_model_module_version": "^0.1.21",
       "_view_module_version": "^0.1.21",
       "axes_helper": false,
       "derivationLength": 2,
       "is_magic": true,
       "layout": "IPY_MODEL_f081a36f5b64486d8a9a4caf13102ec1",
       "light_helper": false,
       "plane": true,
       "size_display": [
        400,
        400
       ],
       "size_world": 10
      }
     },
     "9575e48ac37b456390f3b5af3a468018": {
      "buffers": [
       {
        "data": "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",
        "encoding": "base64",
        "path": [
         "scene",
         "data"
        ]
       }
      ],
      "model_module": "pgljupyter",
      "model_module_version": "^0.1.21",
      "model_name": "LsystemWidgetModel",
      "state": {
       "_model_module_version": "^0.1.21",
       "_view_module_version": "^0.1.21",
       "axes_helper": false,
       "derivationLength": 51,
       "is_magic": true,
       "layout": "IPY_MODEL_5696f56bc56d49f2a6c3a104db77c503",
       "light_helper": false,
       "plane": true,
       "scene": {
        "data": {},
        "derivationStep": 50,
        "id": 50,
        "scene": "<openalea.plantgl.scenegraph._pglsg.Scene object at 0x7f85d63dfc10>"
       },
       "size_display": [
        400,
        400
       ],
       "size_world": 100
      }
     },
     "97c81c3c80124516928d82dd6596fe02": {
      "model_module": "pgljupyter",
      "model_module_version": "^0.1.21",
      "model_name": "LsystemWidgetModel",
      "state": {
       "_model_module_version": "^0.1.21",
       "_view_module_version": "^0.1.21",
       "axes_helper": false,
       "derivationLength": 4,
       "is_magic": true,
       "layout": "IPY_MODEL_fca36e2366754269b232289ded798bc2",
       "light_helper": false,
       "plane": true,
       "size_display": [
        400,
        400
       ],
       "size_world": 1
      }
     },
     "998b8d845afb435c956febfc7f9da1ff": {
      "model_module": "@jupyter-widgets/base",
      "model_module_version": "1.2.0",
      "model_name": "LayoutModel",
      "state": {}
     },
     "9a01df69330b4cd5bce8893d270278ba": {
      "buffers": [
       {
        "data": "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",
        "encoding": "base64",
        "path": [
         "scene",
         "data"
        ]
       }
      ],
      "model_module": "pgljupyter",
      "model_module_version": "^0.1.21",
      "model_name": "LsystemWidgetModel",
      "state": {
       "_model_module_version": "^0.1.21",
       "_view_module_version": "^0.1.21",
       "axes_helper": false,
       "derivationLength": 7,
       "is_magic": true,
       "layout": "IPY_MODEL_a2197cdc053946f9920be6023443c579",
       "light_helper": false,
       "plane": true,
       "scene": {
        "data": {},
        "derivationStep": 6,
        "id": 6,
        "scene": "<openalea.plantgl.scenegraph._pglsg.Scene object at 0x7f85d63c9da0>"
       },
       "size_display": [
        400,
        400
       ],
       "size_world": 10
      }
     },
     "9bab2fc61a424e8eb64c24d4d8bc6ad3": {
      "model_module": "@jupyter-widgets/base",
      "model_module_version": "1.2.0",
      "model_name": "LayoutModel",
      "state": {}
     },
     "9e6fc7141ab243f0aa2f0e2d3b4cdf50": {
      "buffers": [
       {
        "data": "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",
        "encoding": "base64",
        "path": [
         "scene",
         "data"
        ]
       }
      ],
      "model_module": "pgljupyter",
      "model_module_version": "^0.1.21",
      "model_name": "LsystemWidgetModel",
      "state": {
       "_model_module_version": "^0.1.21",
       "_view_module_version": "^0.1.21",
       "axes_helper": false,
       "derivationLength": 151,
       "is_magic": true,
       "layout": "IPY_MODEL_ee0c7286bb8e458da0cc6fbb2928fc98",
       "light_helper": false,
       "plane": true,
       "scene": {
        "data": {},
        "derivationStep": 150,
        "id": 150,
        "scene": "<openalea.plantgl.scenegraph._pglsg.Scene object at 0x7f85d6367da0>"
       },
       "size_display": [
        400,
        400
       ],
       "size_world": 50
      }
     },
     "9eddf03f7ee8447c85dad85e0eb1c889": {
      "model_module": "@jupyter-widgets/base",
      "model_module_version": "1.2.0",
      "model_name": "LayoutModel",
      "state": {}
     },
     "a2197cdc053946f9920be6023443c579": {
      "model_module": "@jupyter-widgets/base",
      "model_module_version": "1.2.0",
      "model_name": "LayoutModel",
      "state": {}
     },
     "a2dbe26c85ac4b6ebfe169409c855ce7": {
      "model_module": "@jupyter-widgets/base",
      "model_module_version": "1.2.0",
      "model_name": "LayoutModel",
      "state": {}
     },
     "a2e2e2b7073e4e9ba745fbf815858553": {
      "model_module": "pgljupyter",
      "model_module_version": "^0.1.21",
      "model_name": "LsystemWidgetModel",
      "state": {
       "_model_module_version": "^0.1.21",
       "_view_module_version": "^0.1.21",
       "axes_helper": false,
       "derivationLength": 151,
       "is_magic": true,
       "layout": "IPY_MODEL_a576e7e1262742509adce7c10712557b",
       "light_helper": false,
       "plane": true,
       "size_display": [
        400,
        400
       ],
       "size_world": 50
      }
     },
     "a36c9209221549aeb65c07eebae16423": {
      "model_module": "@jupyter-widgets/base",
      "model_module_version": "1.2.0",
      "model_name": "LayoutModel",
      "state": {}
     },
     "a576e7e1262742509adce7c10712557b": {
      "model_module": "@jupyter-widgets/base",
      "model_module_version": "1.2.0",
      "model_name": "LayoutModel",
      "state": {}
     },
     "a5cc6b4f5e404e77b1822a396d8d9a76": {
      "model_module": "pgljupyter",
      "model_module_version": "^0.1.21",
      "model_name": "LsystemWidgetModel",
      "state": {
       "_model_module_version": "^0.1.21",
       "_view_module_version": "^0.1.21",
       "axes_helper": false,
       "derivationLength": 101,
       "is_magic": true,
       "layout": "IPY_MODEL_2bd1ab4d23cb49d38e4684795d50b6aa",
       "light_helper": false,
       "plane": true,
       "size_display": [
        400,
        400
       ],
       "size_world": 100
      }
     },
     "a815c3c175714c0fa83ae2803419e2cc": {
      "model_module": "@jupyter-widgets/base",
      "model_module_version": "1.2.0",
      "model_name": "LayoutModel",
      "state": {}
     },
     "aa350c2185f94b1abf9419be6d25e14d": {
      "model_module": "pgljupyter",
      "model_module_version": "^0.1.21",
      "model_name": "LsystemWidgetModel",
      "state": {
       "_model_module_version": "^0.1.21",
       "_view_module_version": "^0.1.21",
       "axes_helper": false,
       "derivationLength": 51,
       "is_magic": true,
       "layout": "IPY_MODEL_8130ac81ec874f84bd67c3aebb962a8d",
       "light_helper": false,
       "plane": true,
       "size_display": [
        400,
        400
       ],
       "size_world": 50
      }
     },
     "adf379eb61864597831b7bf56a69afbf": {
      "model_module": "pgljupyter",
      "model_module_version": "^0.1.21",
      "model_name": "LsystemWidgetModel",
      "state": {
       "_model_module_version": "^0.1.21",
       "_view_module_version": "^0.1.21",
       "axes_helper": false,
       "derivationLength": 6,
       "is_magic": true,
       "layout": "IPY_MODEL_998b8d845afb435c956febfc7f9da1ff",
       "light_helper": false,
       "plane": true,
       "size_display": [
        400,
        400
       ],
       "size_world": 10
      }
     },
     "b0f5526a36484a1ea9e8e397b17c6a4a": {
      "model_module": "@jupyter-widgets/base",
      "model_module_version": "1.2.0",
      "model_name": "LayoutModel",
      "state": {}
     },
     "b27883f6313844519d6cb79d06f4f9ca": {
      "model_module": "@jupyter-widgets/base",
      "model_module_version": "1.2.0",
      "model_name": "LayoutModel",
      "state": {}
     },
     "b5aca2f0dc8b47b1bc6b373aebae39ae": {
      "model_module": "pgljupyter",
      "model_module_version": "^0.1.21",
      "model_name": "LsystemWidgetModel",
      "state": {
       "_model_module_version": "^0.1.21",
       "_view_module_version": "^0.1.21",
       "axes_helper": false,
       "derivationLength": 4,
       "is_magic": true,
       "layout": "IPY_MODEL_6a87d49dadf94855b065a4f4f29cee1a",
       "light_helper": false,
       "plane": true,
       "size_display": [
        400,
        400
       ],
       "size_world": 5
      }
     },
     "b74241a2bc694c77b2567350a1dea798": {
      "model_module": "pgljupyter",
      "model_module_version": "^0.1.21",
      "model_name": "LsystemWidgetModel",
      "state": {
       "_model_module_version": "^0.1.21",
       "_view_module_version": "^0.1.21",
       "axes_helper": false,
       "derivationLength": 51,
       "is_magic": true,
       "layout": "IPY_MODEL_e351b1385bc745b6b78dafb7d60fde4c",
       "light_helper": false,
       "plane": true,
       "size_display": [
        400,
        400
       ],
       "size_world": 100
      }
     },
     "b80c6601898148c09dee268a3cc97486": {
      "model_module": "pgljupyter",
      "model_module_version": "^0.1.21",
      "model_name": "LsystemWidgetModel",
      "state": {
       "_model_module_version": "^0.1.21",
       "_view_module_version": "^0.1.21",
       "axes_helper": false,
       "derivationLength": 51,
       "is_magic": true,
       "layout": "IPY_MODEL_9bab2fc61a424e8eb64c24d4d8bc6ad3",
       "light_helper": false,
       "plane": true,
       "size_display": [
        400,
        400
       ],
       "size_world": 10
      }
     },
     "b8ac68c19a0f4d8a878373c9ed3343f0": {
      "model_module": "pgljupyter",
      "model_module_version": "^0.1.21",
      "model_name": "LsystemWidgetModel",
      "state": {
       "_model_module_version": "^0.1.21",
       "_view_module_version": "^0.1.21",
       "axes_helper": false,
       "derivationLength": 51,
       "is_magic": true,
       "layout": "IPY_MODEL_6d1868d395a74ddc9a7c2952b006db06",
       "light_helper": false,
       "plane": true,
       "size_display": [
        400,
        400
       ],
       "size_world": 10
      }
     },
     "bae87cad4f9b4f16bbbf994aeed71f3a": {
      "buffers": [
       {
        "data": "eNqd001OwkAUB/DHV/gKSMCE6KqENUk7nU7bREMJEjWRYIJ7gqGJJA2Ylo27rtyy8xKy8wBeAJfuPYKeQN+EhR1aSXE27bT//jp989q4Pe8N+gCSVSpIzWYjAwDJDAzvxvd2Gc9TOeiPF7Y7HTsJnJZy0H1wprOJ7fK79RwM3Kk9W9iTIk6lAty445nn4BOTEl5o8FDyCIYXneve5dlIHilUJgrRTaZTU1cI3oZvHDyMo/C2Xp9CKgvduTN3R8rn1df7Sad1AGBZAUYJMJpMqJzYPA4SbA2/LcgJDgYgIkA6M5IYTURBYO2EaBBSiMnS/MOjIMuqb074a3xv+bLCw+tOXBNwg1C+Selt3G//C9eDOFE1ksVoJrRyaxvnsLdUWztxU8ANQ85jNBuFg4A/PT+2/ti8498uENpApbLBezAfVReIu/SArgq6qTIeL0bpfjtm1QO60DCUUZn/KaWoyvxHZ0FdU5hRwWx5W7dCerzKGILOTFbFbCVCx7Xuv6tCzzBCaA2z1XBlVrjOvXUiCzo25SFma+FddbyPmPoP7SL79g==",
        "encoding": "base64",
        "path": [
         "scene",
         "data"
        ]
       }
      ],
      "model_module": "pgljupyter",
      "model_module_version": "^0.1.21",
      "model_name": "LsystemWidgetModel",
      "state": {
       "_model_module_version": "^0.1.21",
       "_view_module_version": "^0.1.21",
       "axes_helper": false,
       "derivationLength": 2,
       "is_magic": true,
       "layout": "IPY_MODEL_464471c7d3914b708df69d274476836e",
       "light_helper": false,
       "plane": true,
       "scene": {
        "data": {},
        "derivationStep": 0,
        "id": 0,
        "scene": "<openalea.plantgl.scenegraph._pglsg.Scene object at 0x7f85d63c27b0>"
       },
       "size_display": [
        400,
        400
       ],
       "size_world": 10
      }
     },
     "bb7e9cc8e4cb432db7717522ab562362": {
      "model_module": "pgljupyter",
      "model_module_version": "^0.1.21",
      "model_name": "LsystemWidgetModel",
      "state": {
       "_model_module_version": "^0.1.21",
       "_view_module_version": "^0.1.21",
       "axes_helper": false,
       "derivationLength": 2,
       "is_magic": true,
       "layout": "IPY_MODEL_9172ddc733ab4ae5af1ce7609730aef8",
       "light_helper": false,
       "plane": true,
       "size_display": [
        400,
        400
       ],
       "size_world": 10
      }
     },
     "be0b4ba98ea542b2b4af62915fcc0f30": {
      "model_module": "@jupyter-widgets/base",
      "model_module_version": "1.2.0",
      "model_name": "LayoutModel",
      "state": {}
     },
     "c0e00d58e63443cdbc4500b079d149de": {
      "model_module": "@jupyter-widgets/base",
      "model_module_version": "1.2.0",
      "model_name": "LayoutModel",
      "state": {}
     },
     "c21ccf4075954c79b49141356210eaed": {
      "model_module": "pgljupyter",
      "model_module_version": "^0.1.21",
      "model_name": "LsystemWidgetModel",
      "state": {
       "_model_module_version": "^0.1.21",
       "_view_module_version": "^0.1.21",
       "axes_helper": false,
       "derivationLength": 101,
       "is_magic": true,
       "layout": "IPY_MODEL_8d5d17eecf7e4f359308866a41ffbff1",
       "light_helper": false,
       "plane": true,
       "size_display": [
        400,
        400
       ],
       "size_world": 30
      }
     },
     "c2c1a961662446cf857748e3d089ec8a": {
      "model_module": "@jupyter-widgets/base",
      "model_module_version": "1.2.0",
      "model_name": "LayoutModel",
      "state": {}
     },
     "c3673f932afa4a87a2a71dd4ad689a31": {
      "model_module": "@jupyter-widgets/base",
      "model_module_version": "1.2.0",
      "model_name": "LayoutModel",
      "state": {}
     },
     "c6d1af54bd7342cf941d505c1615c465": {
      "model_module": "@jupyter-widgets/base",
      "model_module_version": "1.2.0",
      "model_name": "LayoutModel",
      "state": {}
     },
     "c7bbe154ef2f426c814eef69e29a24ab": {
      "model_module": "pgljupyter",
      "model_module_version": "^0.1.21",
      "model_name": "LsystemWidgetModel",
      "state": {
       "_model_module_version": "^0.1.21",
       "_view_module_version": "^0.1.21",
       "axes_helper": false,
       "derivationLength": 2,
       "is_magic": true,
       "layout": "IPY_MODEL_8b82d493df7b4597abf75f1926721641",
       "light_helper": false,
       "plane": true,
       "size_display": [
        400,
        400
       ],
       "size_world": 10
      }
     },
     "c8aa179584194988b98f780eb09a240b": {
      "model_module": "pgljupyter",
      "model_module_version": "^0.1.21",
      "model_name": "LsystemWidgetModel",
      "state": {
       "_model_module_version": "^0.1.21",
       "_view_module_version": "^0.1.21",
       "axes_helper": false,
       "derivationLength": 51,
       "is_magic": true,
       "layout": "IPY_MODEL_43f35ef982fe4cfa9154b98971895c66",
       "light_helper": false,
       "plane": true,
       "size_display": [
        400,
        400
       ],
       "size_world": 10
      }
     },
     "c9691474c98d43619ae6bcb3b789c7d4": {
      "model_module": "pgljupyter",
      "model_module_version": "^0.1.21",
      "model_name": "LsystemWidgetModel",
      "state": {
       "_model_module_version": "^0.1.21",
       "_view_module_version": "^0.1.21",
       "axes_helper": false,
       "derivationLength": 6,
       "is_magic": true,
       "layout": "IPY_MODEL_0ef38bce80bb4a2b90d6286628e0184c",
       "light_helper": false,
       "plane": true,
       "size_display": [
        400,
        400
       ],
       "size_world": 10
      }
     },
     "cbbecb534fec4ceb86b588a291a761a7": {
      "model_module": "pgljupyter",
      "model_module_version": "^0.1.21",
      "model_name": "LsystemWidgetModel",
      "state": {
       "_model_module_version": "^0.1.21",
       "_view_module_version": "^0.1.21",
       "axes_helper": false,
       "derivationLength": 101,
       "is_magic": true,
       "layout": "IPY_MODEL_c2c1a961662446cf857748e3d089ec8a",
       "light_helper": false,
       "plane": true,
       "size_display": [
        400,
        400
       ],
       "size_world": 30
      }
     },
     "cff1edae95854ee19285c747dde09437": {
      "model_module": "pgljupyter",
      "model_module_version": "^0.1.21",
      "model_name": "LsystemWidgetModel",
      "state": {
       "_model_module_version": "^0.1.21",
       "_view_module_version": "^0.1.21",
       "axes_helper": false,
       "derivationLength": 51,
       "is_magic": true,
       "layout": "IPY_MODEL_7a09ab1ef58244d59ae4e01f100efd01",
       "light_helper": false,
       "plane": true,
       "size_display": [
        400,
        400
       ],
       "size_world": 10
      }
     },
     "d02f082b25ee4a8fa72192012d6461b9": {
      "model_module": "pgljupyter",
      "model_module_version": "^0.1.21",
      "model_name": "LsystemWidgetModel",
      "state": {
       "_model_module_version": "^0.1.21",
       "_view_module_version": "^0.1.21",
       "axes_helper": false,
       "derivationLength": 2,
       "is_magic": true,
       "layout": "IPY_MODEL_58ce43e4150c498b8f52deabef669dee",
       "light_helper": false,
       "plane": true,
       "size_display": [
        400,
        400
       ],
       "size_world": 5
      }
     },
     "d0a7b52169ed4e96b82d3d649b60ae61": {
      "model_module": "@jupyter-widgets/base",
      "model_module_version": "1.2.0",
      "model_name": "LayoutModel",
      "state": {}
     },
     "d3829414a67145079ea123524611be6e": {
      "model_module": "pgljupyter",
      "model_module_version": "^0.1.21",
      "model_name": "LsystemWidgetModel",
      "state": {
       "_model_module_version": "^0.1.21",
       "_view_module_version": "^0.1.21",
       "axes_helper": false,
       "derivationLength": 2,
       "is_magic": true,
       "layout": "IPY_MODEL_376d5949d34a4b8c85b32d3e45b4778e",
       "light_helper": false,
       "plane": true,
       "size_display": [
        400,
        400
       ],
       "size_world": 10
      }
     },
     "d54a0b9fb0e54d769c30a6c17e5382fa": {
      "model_module": "pgljupyter",
      "model_module_version": "^0.1.21",
      "model_name": "LsystemWidgetModel",
      "state": {
       "_model_module_version": "^0.1.21",
       "_view_module_version": "^0.1.21",
       "axes_helper": false,
       "derivationLength": 151,
       "is_magic": true,
       "layout": "IPY_MODEL_be0b4ba98ea542b2b4af62915fcc0f30",
       "light_helper": false,
       "plane": true,
       "size_display": [
        400,
        400
       ],
       "size_world": 50
      }
     },
     "d5ffcbd2c47d4dadbbe49344dd39f7b6": {
      "model_module": "pgljupyter",
      "model_module_version": "^0.1.21",
      "model_name": "LsystemWidgetModel",
      "state": {
       "_model_module_version": "^0.1.21",
       "_view_module_version": "^0.1.21",
       "axes_helper": false,
       "derivationLength": 101,
       "is_magic": true,
       "layout": "IPY_MODEL_940b09b5bd5840adb30c2f6f5c8f292f",
       "light_helper": false,
       "plane": true,
       "size_display": [
        400,
        400
       ],
       "size_world": 50
      }
     },
     "d8601d55d8144421912cda5b7850fc4f": {
      "model_module": "pgljupyter",
      "model_module_version": "^0.1.21",
      "model_name": "LsystemWidgetModel",
      "state": {
       "_model_module_version": "^0.1.21",
       "_view_module_version": "^0.1.21",
       "axes_helper": false,
       "derivationLength": 2,
       "is_magic": true,
       "layout": "IPY_MODEL_28655bd44127458d8d3ce4abce718b65",
       "light_helper": false,
       "plane": true,
       "size_display": [
        400,
        400
       ],
       "size_world": 10
      }
     },
     "d88f41b116e04e8395213dea8658860f": {
      "model_module": "@jupyter-widgets/base",
      "model_module_version": "1.2.0",
      "model_name": "LayoutModel",
      "state": {}
     },
     "dbb59fa8b8ff43e6883786a6556b5246": {
      "model_module": "pgljupyter",
      "model_module_version": "^0.1.21",
      "model_name": "LsystemWidgetModel",
      "state": {
       "_model_module_version": "^0.1.21",
       "_view_module_version": "^0.1.21",
       "axes_helper": false,
       "derivationLength": 151,
       "is_magic": true,
       "layout": "IPY_MODEL_0ed2edb524024aea99764b156a323cbc",
       "light_helper": false,
       "plane": true,
       "size_display": [
        400,
        400
       ],
       "size_world": 50
      }
     },
     "dcc00ee3a73b434b8cc3f7db21ff8bf9": {
      "model_module": "pgljupyter",
      "model_module_version": "^0.1.21",
      "model_name": "LsystemWidgetModel",
      "state": {
       "_model_module_version": "^0.1.21",
       "_view_module_version": "^0.1.21",
       "axes_helper": false,
       "derivationLength": 101,
       "is_magic": true,
       "layout": "IPY_MODEL_2210a3c3a443487ba72ae45415beb9f8",
       "light_helper": false,
       "plane": true,
       "size_display": [
        400,
        400
       ],
       "size_world": 30
      }
     },
     "ddcf7b25767c4fde9928bb8de7814006": {
      "model_module": "pgljupyter",
      "model_module_version": "^0.1.21",
      "model_name": "LsystemWidgetModel",
      "state": {
       "_model_module_version": "^0.1.21",
       "_view_module_version": "^0.1.21",
       "axes_helper": false,
       "derivationLength": 4,
       "is_magic": true,
       "layout": "IPY_MODEL_1976f6b703864244a6f65db2036f5a7f",
       "light_helper": false,
       "plane": true,
       "size_display": [
        400,
        400
       ],
       "size_world": 1
      }
     },
     "de330da310af44e893ab01bc0bdba081": {
      "model_module": "pgljupyter",
      "model_module_version": "^0.1.21",
      "model_name": "LsystemWidgetModel",
      "state": {
       "_model_module_version": "^0.1.21",
       "_view_module_version": "^0.1.21",
       "axes_helper": false,
       "derivationLength": 101,
       "is_magic": true,
       "layout": "IPY_MODEL_c0e00d58e63443cdbc4500b079d149de",
       "light_helper": false,
       "plane": true,
       "size_display": [
        400,
        400
       ],
       "size_world": 50
      }
     },
     "de965461581b479e91ebdedb16cb30b0": {
      "model_module": "pgljupyter",
      "model_module_version": "^0.1.21",
      "model_name": "LsystemWidgetModel",
      "state": {
       "_model_module_version": "^0.1.21",
       "_view_module_version": "^0.1.21",
       "axes_helper": false,
       "derivationLength": 51,
       "is_magic": true,
       "layout": "IPY_MODEL_1919bc41a1ee482885684afa0fde28d9",
       "light_helper": false,
       "plane": true,
       "size_display": [
        400,
        400
       ],
       "size_world": 50
      }
     },
     "df05d974c84f42ef90159bb581a18c40": {
      "model_module": "pgljupyter",
      "model_module_version": "^0.1.21",
      "model_name": "LsystemWidgetModel",
      "state": {
       "_model_module_version": "^0.1.21",
       "_view_module_version": "^0.1.21",
       "axes_helper": false,
       "derivationLength": 2,
       "is_magic": true,
       "layout": "IPY_MODEL_c6d1af54bd7342cf941d505c1615c465",
       "light_helper": false,
       "plane": true,
       "size_display": [
        400,
        400
       ],
       "size_world": 1
      }
     },
     "df43c19128dc4c45bb59820814215827": {
      "model_module": "@jupyter-widgets/base",
      "model_module_version": "1.2.0",
      "model_name": "LayoutModel",
      "state": {}
     },
     "dfc991d2c06741d99a84d721ac993213": {
      "model_module": "@jupyter-widgets/base",
      "model_module_version": "1.2.0",
      "model_name": "LayoutModel",
      "state": {}
     },
     "e26549e01c8a445db3cc8f547a77aa1f": {
      "model_module": "@jupyter-widgets/base",
      "model_module_version": "1.2.0",
      "model_name": "LayoutModel",
      "state": {}
     },
     "e312b8a1f7d1458f87353eda047b97db": {
      "model_module": "pgljupyter",
      "model_module_version": "^0.1.21",
      "model_name": "LsystemWidgetModel",
      "state": {
       "_model_module_version": "^0.1.21",
       "_view_module_version": "^0.1.21",
       "axes_helper": false,
       "derivationLength": 2,
       "is_magic": true,
       "layout": "IPY_MODEL_5ee71ac234db4ae986ffccecc893022a",
       "light_helper": false,
       "plane": true,
       "size_display": [
        400,
        400
       ],
       "size_world": 10
      }
     },
     "e351b1385bc745b6b78dafb7d60fde4c": {
      "model_module": "@jupyter-widgets/base",
      "model_module_version": "1.2.0",
      "model_name": "LayoutModel",
      "state": {}
     },
     "e5b8dd21c5884c18804c0a5c425f1748": {
      "model_module": "pgljupyter",
      "model_module_version": "^0.1.21",
      "model_name": "LsystemWidgetModel",
      "state": {
       "_model_module_version": "^0.1.21",
       "_view_module_version": "^0.1.21",
       "axes_helper": false,
       "derivationLength": 2,
       "is_magic": true,
       "layout": "IPY_MODEL_4654306f204441f392c03879bb198e85",
       "light_helper": false,
       "plane": true,
       "size_display": [
        400,
        400
       ],
       "size_world": 10
      }
     },
     "e633b92d39f04c00810a841c21842356": {
      "model_module": "@jupyter-widgets/base",
      "model_module_version": "1.2.0",
      "model_name": "LayoutModel",
      "state": {}
     },
     "e911d481fb5647f4924c7fd91ee96391": {
      "model_module": "pgljupyter",
      "model_module_version": "^0.1.21",
      "model_name": "LsystemWidgetModel",
      "state": {
       "_model_module_version": "^0.1.21",
       "_view_module_version": "^0.1.21",
       "axes_helper": false,
       "derivationLength": 101,
       "is_magic": true,
       "layout": "IPY_MODEL_0e5b6c064ba840448dee5b1fb1095b8e",
       "light_helper": false,
       "plane": true,
       "size_display": [
        400,
        400
       ],
       "size_world": 10
      }
     },
     "e929e3c48ab9446f84e1f9e42c4391c3": {
      "model_module": "@jupyter-widgets/base",
      "model_module_version": "1.2.0",
      "model_name": "LayoutModel",
      "state": {}
     },
     "eab4a51bea4443518afb2380081ebfcf": {
      "buffers": [
       {
        "data": "eNqVk89r02AYx5+2NukyOw8yRrdOWnYTheTNrwbaJGMOFRkTKniZlMyGrRI6iT1UNmavwv4DoXiuXpywkyae54QdpgUvXncUdhXq+8YsfTdr7R4IeZ73fd73k+f5Psmv3l5cXgLImWkuNzeXZwEgnoTyuvXU5rCfSMGS1bDdmuXEcZhOwcJzp1av2m4Sh1MpWHZrdr1hV8dwOMtA+bHl2FWyl+PggWvVnzlWuJsfxws1q77m2GW7QVLyhBDPQPnO/P3Fu7cqfEWQeCQgVRNECcmogLehhy0NgXFfDg5KkGBhYcPZcCvCz+/tr8X5m1cATJO6RqaukTVeRck/xyEH56xlTIWe7H3QN0/eet33j4zNkxu+7BV9kjAb5ZqnTx6g+WT8W49lz15mwF/W8t50Onrfv27Q7PCt99eJ39GZMIM0PBb6iTAmdimMiSXDmBgTxhCeI3HULPTpB27WtSJ3rllqv1mCyou8xI7SrKKPmxR8NN2sMzLFiDrx6QgkIFoWUVMKl3EuO4gE5ilpbxt9bDM9ncjSZl4Ye9u7pX/IEiOixEiVNFSiR0pWNGViFOhuCcNISUBDh5en0SQVs67i3IlBJDMi7XdfeVLmczB1Uuaev9+dMS5SHhJoKK8qhclRoDMEFqhHQ4eWhxRaPZ7XlGmcOzlwTiLSSvaXfnT4rkTKOzoU9JXsln+h8go0VBZVJTsKdMvHMI/4NHRoeaJIkyRBkvBfDtlBpNcRqXXc9Zo7L4PhbO6MGa3jh/9X7zcaiQqW",
        "encoding": "base64",
        "path": [
         "scene",
         "data"
        ]
       }
      ],
      "model_module": "pgljupyter",
      "model_module_version": "^0.1.21",
      "model_name": "LsystemWidgetModel",
      "state": {
       "_model_module_version": "^0.1.21",
       "_view_module_version": "^0.1.21",
       "axes_helper": false,
       "derivationLength": 2,
       "is_magic": true,
       "layout": "IPY_MODEL_a2dbe26c85ac4b6ebfe169409c855ce7",
       "light_helper": false,
       "plane": true,
       "scene": {
        "data": {},
        "derivationStep": 0,
        "id": 0,
        "scene": "<openalea.plantgl.scenegraph._pglsg.Scene object at 0x7f85d6378210>"
       },
       "size_display": [
        400,
        400
       ],
       "size_world": 10
      }
     },
     "ead8b60c457b43aa8166607b78c11b33": {
      "model_module": "@jupyter-widgets/base",
      "model_module_version": "1.2.0",
      "model_name": "LayoutModel",
      "state": {}
     },
     "eb0892df558a4a57a903572c1c800c08": {
      "model_module": "@jupyter-widgets/base",
      "model_module_version": "1.2.0",
      "model_name": "LayoutModel",
      "state": {}
     },
     "ed46947ad0134de2abc2da87769c35b6": {
      "model_module": "pgljupyter",
      "model_module_version": "^0.1.21",
      "model_name": "LsystemWidgetModel",
      "state": {
       "_model_module_version": "^0.1.21",
       "_view_module_version": "^0.1.21",
       "axes_helper": false,
       "derivationLength": 2,
       "is_magic": true,
       "layout": "IPY_MODEL_01265f4541164ffeb3c1cc7ffea1d370",
       "light_helper": false,
       "plane": true,
       "size_display": [
        400,
        400
       ],
       "size_world": 10
      }
     },
     "ee0c7286bb8e458da0cc6fbb2928fc98": {
      "model_module": "@jupyter-widgets/base",
      "model_module_version": "1.2.0",
      "model_name": "LayoutModel",
      "state": {}
     },
     "f081a36f5b64486d8a9a4caf13102ec1": {
      "model_module": "@jupyter-widgets/base",
      "model_module_version": "1.2.0",
      "model_name": "LayoutModel",
      "state": {}
     },
     "f2809ea5f6194017b37b2795905c38ca": {
      "model_module": "@jupyter-widgets/base",
      "model_module_version": "1.2.0",
      "model_name": "LayoutModel",
      "state": {}
     },
     "f2c8a00ce20e4f16b8a638b5925bf10d": {
      "model_module": "pgljupyter",
      "model_module_version": "^0.1.21",
      "model_name": "LsystemWidgetModel",
      "state": {
       "_model_module_version": "^0.1.21",
       "_view_module_version": "^0.1.21",
       "axes_helper": false,
       "derivationLength": 6,
       "is_magic": true,
       "layout": "IPY_MODEL_1bc6e794710c42cea6e88e6277cac56b",
       "light_helper": false,
       "plane": true,
       "size_display": [
        400,
        400
       ],
       "size_world": 1
      }
     },
     "f485d98420864b3faedc0b16d39614ec": {
      "model_module": "@jupyter-widgets/base",
      "model_module_version": "1.2.0",
      "model_name": "LayoutModel",
      "state": {}
     },
     "f5bddce91dbd4b7cb180d25f96dbfd91": {
      "model_module": "@jupyter-widgets/base",
      "model_module_version": "1.2.0",
      "model_name": "LayoutModel",
      "state": {}
     },
     "f5c037235b33478b98589693dc53514f": {
      "model_module": "@jupyter-widgets/base",
      "model_module_version": "1.2.0",
      "model_name": "LayoutModel",
      "state": {}
     },
     "f8b08b5ebb264624bff820670fdbb46d": {
      "model_module": "pgljupyter",
      "model_module_version": "^0.1.21",
      "model_name": "LsystemWidgetModel",
      "state": {
       "_model_module_version": "^0.1.21",
       "_view_module_version": "^0.1.21",
       "axes_helper": false,
       "derivationLength": 2,
       "is_magic": true,
       "layout": "IPY_MODEL_8d40a3da485548b18941e7d84f18571f",
       "light_helper": false,
       "plane": true,
       "size_display": [
        400,
        400
       ],
       "size_world": 10
      }
     },
     "f8fad95521244abba1418a24d0b1ecc5": {
      "model_module": "@jupyter-widgets/base",
      "model_module_version": "1.2.0",
      "model_name": "LayoutModel",
      "state": {}
     },
     "fca36e2366754269b232289ded798bc2": {
      "model_module": "@jupyter-widgets/base",
      "model_module_version": "1.2.0",
      "model_name": "LayoutModel",
      "state": {}
     },
     "fce155e378e6405089c258019aa55fca": {
      "model_module": "pgljupyter",
      "model_module_version": "^0.1.21",
      "model_name": "LsystemWidgetModel",
      "state": {
       "_model_module_version": "^0.1.21",
       "_view_module_version": "^0.1.21",
       "axes_helper": false,
       "derivationLength": 51,
       "is_magic": true,
       "layout": "IPY_MODEL_3d3a154201924575a6439bf65f681a30",
       "light_helper": false,
       "plane": true,
       "size_display": [
        400,
        400
       ],
       "size_world": 10
      }
     },
     "fd4042078c7c46f69f41c35235b85f33": {
      "model_module": "@jupyter-widgets/base",
      "model_module_version": "1.2.0",
      "model_name": "LayoutModel",
      "state": {}
     },
     "fe370208faba4952abbcd67bfbcfe36f": {
      "model_module": "@jupyter-widgets/base",
      "model_module_version": "1.2.0",
      "model_name": "LayoutModel",
      "state": {}
     }
    },
    "version_major": 2,
    "version_minor": 0
   }
  }
 },
 "nbformat": 4,
 "nbformat_minor": 2
}
