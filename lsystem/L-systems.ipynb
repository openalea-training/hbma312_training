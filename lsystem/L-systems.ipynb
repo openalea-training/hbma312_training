{
 "cells": [
  {
   "cell_type": "markdown",
   "metadata": {},
   "source": [
    "# L-systems\n"
   ]
  },
  {
   "cell_type": "code",
   "execution_count": 1,
   "metadata": {},
   "outputs": [],
   "source": [
    "from pgljupyter import *"
   ]
  },
  {
   "cell_type": "markdown",
   "metadata": {},
   "source": [
    "## L-Py syntax\n",
    "Here comes simple examples of L-systems"
   ]
  },
  {
   "cell_type": "code",
   "execution_count": 46,
   "metadata": {},
   "outputs": [
    {
     "data": {
      "application/vnd.jupyter.widget-view+json": {
       "model_id": "7abc687b71ef4a23907cf3c44736f626",
       "version_major": 2,
       "version_minor": 0
      },
      "text/plain": [
       "LsystemWidget(animate=True, derivationLength=6, is_magic=True, scene={'data': b'x\\xdaSLrw\\xf5\\xf7e`Pp\\xe0\\xe5R…"
      ]
     },
     "metadata": {},
     "output_type": "display_data"
    }
   ],
   "source": [
    "%%lpy -w 10 -a True\n",
    "from random import random \n",
    "MAX_AGE, dr = 10, 0.03 # constants\n",
    "module Apex(age), Internode(length,radius)\n",
    "Axiom: @Gc Apex(0)\n",
    "derivation length: 5\n",
    "production:\n",
    "Apex(age) :\n",
    "  if age < MAX_AGE:\n",
    "    produce Internode(1+ random(),0.03) /(137)[+(30)Apex(age+1)]Apex(age+1)\n",
    "\n",
    "Internode(l,r) --> Internode(l,r+dr)\n",
    "interpretation:\n",
    "Internode(l,r) --> _(r) F(l)\n",
    "endlsystem"
   ]
  },
  {
   "cell_type": "markdown",
   "metadata": {},
   "source": [
    "## Topology\n",
    "\n",
    "### String interpretation\n",
    "Interpret the following structure as an Lstring.\n",
    "\n",
    "![axialtree](./img/axialtree.png)\n"
   ]
  },
  {
   "cell_type": "markdown",
   "metadata": {},
   "source": [
    "### Multiscale string\n",
    "\n",
    "Try to interpret the following lstring code.\n",
    "\n",
    "`module S : scale = 1`\n",
    "\n",
    "`module B : scale = 1`\n",
    "\n",
    "`module N : scale = 1`\n",
    "\n",
    "$S_1B_1N_0N_1 [S_2B_2N_2 [N_3] B_3 N_4 [N_5N_6] N_7[N_8]N_9]N_{10}B_4N_{11} [S_3B_5N_{12}N_{13}[N_{14}]N_{15}]N_{16}N_{17} [N_{18}]N_{19}$\n",
    "\n",
    "- Draw a geometrical interpretation \n",
    "- What are the complexes at scale 2 of N3, N10 ,N15 ,N16 ?\n",
    "- What are the complexes at scale 1 of B3, B5?\n",
    "- What are the components at scale 3 of B3, B4, B5, S1?\n",
    "- What are the parents at scale 2 of B3, B5? at scale 3 of N2, N12?\n",
    "- What are the children at scale 3 of N4, N10 ?"
   ]
  },
  {
   "cell_type": "markdown",
   "metadata": {},
   "source": [
    "## Turtle Geometry\n",
    "\n",
    "A basic example of turtle syntax with F and + and - symbols."
   ]
  },
  {
   "cell_type": "code",
   "execution_count": 36,
   "metadata": {},
   "outputs": [
    {
     "data": {
      "application/vnd.jupyter.widget-view+json": {
       "model_id": "a1f45b8bdc854f5ea3b3f6768370eefe",
       "version_major": 2,
       "version_minor": 0
      },
      "text/plain": [
       "LsystemWidget(derivationLength=2, is_magic=True, scene={'data': b\"x\\xda\\x9d\\xd4\\xcdj\\xc2@\\x10\\x07\\xf0\\x89\\x1f\\…"
      ]
     },
     "metadata": {},
     "output_type": "display_data"
    }
   ],
   "source": [
    "%%lpy -w 10\n",
    "# Sert default angle to 90\n",
    "execContext().turtle.setAngleIncrement(90)\n",
    "\n",
    "Axiom: FFF-FF-F-F+F+FF-F-FFF"
   ]
  },
  {
   "cell_type": "markdown",
   "metadata": {},
   "source": [
    "### Drawing a simple triangle\n",
    "\n",
    "Complete the following axiom to draw a simple triangle similar to the following picture.\n",
    "\n",
    "![triangle](img/triangle.png)"
   ]
  },
  {
   "cell_type": "code",
   "execution_count": 37,
   "metadata": {},
   "outputs": [
    {
     "data": {
      "application/vnd.jupyter.widget-view+json": {
       "model_id": "cb8b0627037b45c7aeb4b5ef338c2843",
       "version_major": 2,
       "version_minor": 0
      },
      "text/plain": [
       "LsystemWidget(derivationLength=2, is_magic=True, scene={'data': b'x\\xdaSLrw\\xf5\\xf7e`Pp\\xe0\\xe5RPVVdf```be\\x08…"
      ]
     },
     "metadata": {},
     "output_type": "display_data"
    }
   ],
   "source": [
    "%%lpy -w 10\n",
    "\n",
    "Axiom: F"
   ]
  },
  {
   "cell_type": "markdown",
   "metadata": {},
   "source": [
    "## Branching points"
   ]
  },
  {
   "cell_type": "code",
   "execution_count": 38,
   "metadata": {},
   "outputs": [
    {
     "data": {
      "application/vnd.jupyter.widget-view+json": {
       "model_id": "b7131b41cfec423682293ca7c1f310e1",
       "version_major": 2,
       "version_minor": 0
      },
      "text/plain": [
       "LsystemWidget(derivationLength=2, is_magic=True, scene={'data': b'x\\xdaSLrw\\xf5\\xf7e`Pp\\xe0\\xe5RPVVde```be\\x08…"
      ]
     },
     "metadata": {},
     "output_type": "display_data"
    }
   ],
   "source": [
    "%%lpy -w 10\n",
    "\n",
    "Axiom : F(3)  [+(50)F(2) [-(40)F(1)] F(1)] F(2)\n"
   ]
  },
  {
   "cell_type": "markdown",
   "metadata": {},
   "source": [
    "# Fractals\n",
    "\n",
    "## The peano curve\n",
    "\n",
    "Reproduce the following rule and generate the resulting fractal shape until iteration 3.\n",
    "\n",
    "![peanocurve](./img/peanocurve.png)\n",
    "\n"
   ]
  },
  {
   "cell_type": "code",
   "execution_count": 39,
   "metadata": {},
   "outputs": [
    {
     "name": "stderr",
     "output_type": "stream",
     "text": [
      "<string>:5: Warning: Found symbol '#' after Lstring. Considered as begining of comments\n"
     ]
    },
    {
     "data": {
      "application/vnd.jupyter.widget-view+json": {
       "model_id": "edecdb68ddbe483e80c86c49947b1626",
       "version_major": 2,
       "version_minor": 0
      },
      "text/plain": [
       "LsystemWidget(animate=True, derivationLength=4, is_magic=True, scene={'data': b'x\\xdaSLrw\\xf5\\xf7e`Pp\\xe0\\xe5R…"
      ]
     },
     "metadata": {},
     "output_type": "display_data"
    }
   ],
   "source": [
    "%%lpy -w 5 -a True\n",
    "\n",
    "Axiom: -(90)  F\n",
    "derivation length: 3\n",
    "production:\n",
    "F --> # TOCOMPLETE"
   ]
  },
  {
   "cell_type": "markdown",
   "metadata": {},
   "source": [
    "## The cantor dust\n",
    "\n",
    "Reproduce the following rule and generate the resulting fractal shape until iteration 3.\n",
    "\n",
    "![cantordust](./img/cantordust.png)\n"
   ]
  },
  {
   "cell_type": "code",
   "execution_count": 40,
   "metadata": {},
   "outputs": [
    {
     "name": "stderr",
     "output_type": "stream",
     "text": [
      "<string>:4: Warning: Found symbol '#' after Lstring. Considered as begining of comments\n"
     ]
    },
    {
     "data": {
      "application/vnd.jupyter.widget-view+json": {
       "model_id": "2dd9f560156242eea07445a0aaee70a0",
       "version_major": 2,
       "version_minor": 0
      },
      "text/plain": [
       "LsystemWidget(animate=True, derivationLength=4, is_magic=True, scene={'data': b'x\\xdaSLrw\\xf5\\xf7e`Pp\\xe0\\xe5R…"
      ]
     },
     "metadata": {},
     "output_type": "display_data"
    }
   ],
   "source": [
    "%%lpy -a True\n",
    "Axiom: -(90) f(-0.5) F(1)\n",
    "derivation length: 3\n",
    "production:\n",
    "F --> #"
   ]
  },
  {
   "cell_type": "markdown",
   "metadata": {},
   "source": [
    "## Hilbert curve in 3D"
   ]
  },
  {
   "cell_type": "code",
   "execution_count": 41,
   "metadata": {},
   "outputs": [
    {
     "data": {
      "application/vnd.jupyter.widget-view+json": {
       "model_id": "5305f806c588488e80de79d5415a6f5e",
       "version_major": 2,
       "version_minor": 0
      },
      "text/plain": [
       "LsystemWidget(animate=True, derivationLength=5, is_magic=True, scene={'data': b'x\\xdaSLrw\\xf5\\xf7e`Pp\\xe0\\xe5R…"
      ]
     },
     "metadata": {},
     "output_type": "display_data"
    }
   ],
   "source": [
    "%%lpy -w 40 -a True\n",
    "Axiom: A\n",
    "context().turtle.setAngleIncrement(90)\n",
    "\n",
    "derivation length: 4\n",
    "production:\n",
    "\n",
    "A  --> B-F+CFC+F-D&F^D-F+&&CFC+F+B// \n",
    "B  --> A&F^CFB^F^D^^-F-D^|F^B|FC^F^A// \n",
    "C  --> |D^|F^B-F+C^F^A&&FA&F^C+F+B^F^D// \n",
    "D  --> |CFB-F+B|FA&F^A&&FB-F+B|FC// \n",
    "\n",
    "interpretation:\n",
    "A --> ,(2)\n",
    "B --> ,(3)\n",
    "C --> ,(4)\n",
    "D --> ,(5)\n"
   ]
  },
  {
   "cell_type": "markdown",
   "metadata": {},
   "source": [
    "# Barnley Fern \n",
    "\n",
    "Try to construct the barnley fern model.\n",
    "Modify the R value and the angle to achieve other shape.\n",
    "\n",
    "![fern](./img/barnleyfern.png)\n",
    "![fern](./img/barnleyfern-construction.png)\n"
   ]
  },
  {
   "cell_type": "code",
   "execution_count": 42,
   "metadata": {},
   "outputs": [
    {
     "data": {
      "application/vnd.jupyter.widget-view+json": {
       "model_id": "77ee295556d0465bb48d83b9a34a77d7",
       "version_major": 2,
       "version_minor": 0
      },
      "text/plain": [
       "LsystemWidget(derivationLength=17, is_magic=True, scene={'data': b'x\\xdaSLrw\\xf5\\xf7e`Pp\\xe0\\xe5RPVVd\\x00\\x020…"
      ]
     },
     "metadata": {},
     "output_type": "display_data"
    }
   ],
   "source": [
    "%%lpy -w 20 \n",
    "\n",
    "R = 1.5\n",
    "Axiom: _(0.01) ,(2) A(1)\n",
    "derivation length: 16\n",
    "production:\n",
    "A(s) --> F(s)-(5)[+B(s/R)]F(s)-(5)[/(180)+B(s/R)]F(s)A(s/R)\n",
    "B(s) --> A(s/R)\n"
   ]
  },
  {
   "attachments": {},
   "cell_type": "markdown",
   "metadata": {},
   "source": [
    "## Tree structure\n",
    "\n",
    "Generate a broccoli shape:\n",
    "\n",
    "Each node has 4 lateral children internode and an apical one.\n",
    "   - Insertion angle for lateral: 40 \n",
    "   - 90 degree between each lateral children\n",
    "Width depends on the order of ramification\n",
    "Scaling factor of 0.5 between each order\n",
    "Finish structure with sphere with size double from terminal internode\n",
    "\n",
    "![broccoli](./img/broccoli.png)"
   ]
  },
  {
   "cell_type": "code",
   "execution_count": 43,
   "metadata": {},
   "outputs": [
    {
     "name": "stderr",
     "output_type": "stream",
     "text": [
      "<string>:6: Warning: Found symbol '#' after Lstring. Considered as begining of comments\n"
     ]
    },
    {
     "data": {
      "application/vnd.jupyter.widget-view+json": {
       "model_id": "c68d6ba35e9b47a281cf7c4c44734bd3",
       "version_major": 2,
       "version_minor": 0
      },
      "text/plain": [
       "LsystemWidget(animate=True, derivationLength=6, is_magic=True, scene={'data': b'x\\xdaSLrw\\xf5\\xf7e`Pp\\xe0\\xe5R…"
      ]
     },
     "metadata": {},
     "output_type": "display_data"
    }
   ],
   "source": [
    "%%lpy -w 6 -a True\n",
    "a = 40\n",
    "def nextscale(s) :  return s/2.\n",
    "Axiom: ,(2) _(0.3) FA(1)\n",
    "production:\n",
    "derivation length:5\n",
    "A(s) --> # TOCOMPLETE\n",
    "interpretation:\n",
    "A(s) --> @O(2*s)"
   ]
  },
  {
   "attachments": {},
   "cell_type": "markdown",
   "metadata": {},
   "source": [
    "Generate a tree such as a the end of each segment, a random number of lateral segment children (between 2 and 4) are generated.\n",
    "  - Insertion angle: 60\n",
    "  - Divergence angle between segments at the same node: proportionnal to number of segments i.e. 360/nb\n",
    "\n",
    "![randomtree](./img/randomtree.png)"
   ]
  },
  {
   "cell_type": "code",
   "execution_count": 44,
   "metadata": {},
   "outputs": [
    {
     "data": {
      "application/vnd.jupyter.widget-view+json": {
       "model_id": "c437cd14acfc472f86e7c53fdf35c4c3",
       "version_major": 2,
       "version_minor": 0
      },
      "text/plain": [
       "LsystemWidget(animate=True, derivationLength=7, is_magic=True, scene={'data': b'x\\xdaSLrw\\xf5\\xf7e`Pp\\xe0\\xe5R…"
      ]
     },
     "metadata": {},
     "output_type": "display_data"
    }
   ],
   "source": [
    "%%lpy -w 10 -a True\n",
    "from random import *\n",
    "Axiom: A\n",
    "\n",
    "derivation length: 6\n",
    "production:\n",
    "\n",
    "A --> F[+(30) A][-(30) A]P\n",
    "\n",
    "interpretation:\n",
    "\n",
    "P --> [,(3) @O(0.15) ]\n",
    "endlsystem"
   ]
  },
  {
   "cell_type": "markdown",
   "metadata": {},
   "source": [
    "## Signals\n",
    "\n",
    "Complete the model to simulate the propagation of a signal\n",
    "\n"
   ]
  },
  {
   "cell_type": "code",
   "execution_count": 45,
   "metadata": {},
   "outputs": [
    {
     "name": "stderr",
     "output_type": "stream",
     "text": [
      "<string>:13: Warning: Found symbol '#' after Lstring. Considered as begining of comments\n",
      "<string>:14: Warning: Found symbol '#' after Lstring. Considered as begining of comments\n",
      "<string>:16: Warning: Found symbol '#' after Lstring. Considered as begining of comments\n",
      "<string>:17: Warning: Found symbol '#' after Lstring. Considered as begining of comments\n"
     ]
    },
    {
     "data": {
      "application/vnd.jupyter.widget-view+json": {
       "model_id": "61e27833b6424de2bef63751c4760b90",
       "version_major": 2,
       "version_minor": 0
      },
      "text/plain": [
       "LsystemWidget(animate=True, derivationLength=151, is_magic=True, scene={'data': b'x\\xdaSLrw\\xf5\\xf7e`Pp\\xe0\\xe…"
      ]
     },
     "metadata": {},
     "output_type": "display_data"
    }
   ],
   "source": [
    "%%lpy -w 50 -a True\n",
    "\n",
    "Delay = 5\n",
    "LDelay = 10\n",
    "T = 120\n",
    "\n",
    "Axiom: R(T) I(0) A(Delay, 0)\n",
    "\n",
    "derivation length: 150\n",
    "production:\n",
    "consider: R I A B\n",
    "\n",
    "I(x) < A(d,o) :\n",
    "  if x == 1 : produce W   # produce flower\n",
    "  elif d > 0: produce A(d-1, o) # continue to growth\n",
    "  else:\n",
    "    if o == 0: nproduce [ +(60) A(0,o+1) ] # produce lateral apex\n",
    "    else : nproduce [ +(60) /(60) ,(2) ~l ] # or lateral leaf\n",
    "    produce I(0) /(180)  A(Delay if o == 0 else LDelay, o)\n",
    "\n",
    "R(t) --> R(t-1)\n",
    "\n",
    "\n",
    "\n",
    "interpretation:\n",
    "\n",
    "W --> _(0.3) ,(3) @O\n",
    "I(x) --> ,(2 if x ==0 else 4) _(0.1 if x ==0 else 0.2) F\n",
    "\n",
    "endlsystem\n"
   ]
  },
  {
   "cell_type": "markdown",
   "metadata": {},
   "source": [
    "## Environment\n",
    "\n",
    "Test the root model : [grid-rootinsoil2.lpy](./env/grid-rootinsoil2.lpy) with [grid.py](./env/grid.py)\n",
    "\n",
    "Test the light model : [light-growth.lpy](./env/light-growth.lpy) with [light.py](./env/sunDome.py) and [sunDome.py](./env/light.py)"
   ]
  },
  {
   "cell_type": "code",
   "execution_count": null,
   "metadata": {},
   "outputs": [],
   "source": []
  }
 ],
 "metadata": {
  "kernelspec": {
   "display_name": "Python 3",
   "language": "python",
   "name": "python3"
  },
  "language_info": {
   "codemirror_mode": {
    "name": "ipython",
    "version": 3
   },
   "file_extension": ".py",
   "mimetype": "text/x-python",
   "name": "python",
   "nbconvert_exporter": "python",
   "pygments_lexer": "ipython3",
   "version": "3.8.6"
  },
  "widgets": {
   "application/vnd.jupyter.widget-state+json": {
    "state": {
     "01265f4541164ffeb3c1cc7ffea1d370": {
      "model_module": "@jupyter-widgets/base",
      "model_module_version": "1.2.0",
      "model_name": "LayoutModel",
      "state": {}
     },
     "04b867a2845241a1999936885d1d4755": {
      "model_module": "@jupyter-widgets/base",
      "model_module_version": "1.2.0",
      "model_name": "LayoutModel",
      "state": {}
     },
     "05fa19ecf9e544e2832e14177d26e600": {
      "model_module": "pgljupyter",
      "model_module_version": "^0.1.21",
      "model_name": "LsystemWidgetModel",
      "state": {
       "_model_module_version": "^0.1.21",
       "_view_module_version": "^0.1.21",
       "axes_helper": false,
       "derivationLength": 4,
       "is_magic": true,
       "layout": "IPY_MODEL_601d16b5362f49d581f750bee85dc3d5",
       "light_helper": false,
       "plane": true,
       "size_display": [
        400,
        400
       ],
       "size_world": 5
      }
     },
     "0653e86b9f3045958ebe6acb7ea5f25d": {
      "model_module": "pgljupyter",
      "model_module_version": "^0.2.0",
      "model_name": "LsystemWidgetModel",
      "state": {
       "_model_module_version": "^0.2.0",
       "_view_module_version": "^0.2.0",
       "axes_helper": false,
       "derivationLength": 51,
       "is_magic": true,
       "layout": "IPY_MODEL_68f535a7581246898bedd4e3f5839536",
       "light_helper": false,
       "plane": true,
       "size_display": [
        400,
        400
       ],
       "size_world": 100,
       "unit": 0
      }
     },
     "06b6bbf064114111a645a4389fb6bf5f": {
      "model_module": "@jupyter-widgets/base",
      "model_module_version": "1.2.0",
      "model_name": "LayoutModel",
      "state": {}
     },
     "06eaf4cf57cf4ef9858177778f4f277d": {
      "model_module": "pgljupyter",
      "model_module_version": "^0.1.21",
      "model_name": "LsystemWidgetModel",
      "state": {
       "_model_module_version": "^0.1.21",
       "_view_module_version": "^0.1.21",
       "axes_helper": false,
       "derivationLength": 2,
       "is_magic": true,
       "layout": "IPY_MODEL_3edae1f825084dd99cc2cdca62d37d07",
       "light_helper": false,
       "plane": true,
       "size_display": [
        400,
        400
       ],
       "size_world": 1
      }
     },
     "076d02e8e8a44e58b416e51b7acba177": {
      "model_module": "pgljupyter",
      "model_module_version": "^0.1.21",
      "model_name": "LsystemWidgetModel",
      "state": {
       "_model_module_version": "^0.1.21",
       "_view_module_version": "^0.1.21",
       "axes_helper": false,
       "derivationLength": 2,
       "is_magic": true,
       "layout": "IPY_MODEL_16b66f6e2d5a40a9a8a9f100f3f83b6a",
       "light_helper": false,
       "plane": true,
       "size_display": [
        400,
        400
       ],
       "size_world": 5
      }
     },
     "078bfbca195246e6aa38344a091c503f": {
      "model_module": "@jupyter-widgets/base",
      "model_module_version": "1.2.0",
      "model_name": "LayoutModel",
      "state": {}
     },
     "09f842d55fb24bb48106315eb385fc4a": {
      "model_module": "@jupyter-widgets/base",
      "model_module_version": "1.2.0",
      "model_name": "LayoutModel",
      "state": {}
     },
     "0b1752c696d147c0bee7c0107d64bede": {
      "model_module": "pgljupyter",
      "model_module_version": "^0.1.21",
      "model_name": "LsystemWidgetModel",
      "state": {
       "_model_module_version": "^0.1.21",
       "_view_module_version": "^0.1.21",
       "axes_helper": false,
       "derivationLength": 6,
       "is_magic": true,
       "layout": "IPY_MODEL_6e996d427a65401ea28535113a5b3063",
       "light_helper": false,
       "plane": true,
       "size_display": [
        400,
        400
       ],
       "size_world": 10
      }
     },
     "0d98462d4fb34226bc2e94c09f65bcd4": {
      "model_module": "pgljupyter",
      "model_module_version": "^0.1.21",
      "model_name": "LsystemWidgetModel",
      "state": {
       "_model_module_version": "^0.1.21",
       "_view_module_version": "^0.1.21",
       "axes_helper": false,
       "derivationLength": 51,
       "is_magic": true,
       "layout": "IPY_MODEL_6c4725a19292456fa042225276b2bd63",
       "light_helper": false,
       "plane": true,
       "size_display": [
        400,
        400
       ],
       "size_world": 10
      }
     },
     "0e5b6c064ba840448dee5b1fb1095b8e": {
      "model_module": "@jupyter-widgets/base",
      "model_module_version": "1.2.0",
      "model_name": "LayoutModel",
      "state": {}
     },
     "0ed2edb524024aea99764b156a323cbc": {
      "model_module": "@jupyter-widgets/base",
      "model_module_version": "1.2.0",
      "model_name": "LayoutModel",
      "state": {}
     },
     "0ef38bce80bb4a2b90d6286628e0184c": {
      "model_module": "@jupyter-widgets/base",
      "model_module_version": "1.2.0",
      "model_name": "LayoutModel",
      "state": {}
     },
     "0f137193527a46c58e118c35144b2a57": {
      "model_module": "@jupyter-widgets/base",
      "model_module_version": "1.2.0",
      "model_name": "LayoutModel",
      "state": {}
     },
     "0ff409b40dae4476bc25c786394fc26b": {
      "model_module": "@jupyter-widgets/base",
      "model_module_version": "1.2.0",
      "model_name": "LayoutModel",
      "state": {}
     },
     "1148447c494d40e6a25f840e3ce406dd": {
      "model_module": "pgljupyter",
      "model_module_version": "^0.1.21",
      "model_name": "LsystemWidgetModel",
      "state": {
       "_model_module_version": "^0.1.21",
       "_view_module_version": "^0.1.21",
       "axes_helper": false,
       "derivationLength": 4,
       "is_magic": true,
       "layout": "IPY_MODEL_b27883f6313844519d6cb79d06f4f9ca",
       "light_helper": false,
       "plane": true,
       "size_display": [
        400,
        400
       ],
       "size_world": 5
      }
     },
     "114ee47193c8407da10e78736c4cc9e2": {
      "model_module": "@jupyter-widgets/base",
      "model_module_version": "1.2.0",
      "model_name": "LayoutModel",
      "state": {}
     },
     "13a0af463a8e42388932f9ec6a5cb0ec": {
      "model_module": "pgljupyter",
      "model_module_version": "^0.1.21",
      "model_name": "LsystemWidgetModel",
      "state": {
       "_model_module_version": "^0.1.21",
       "_view_module_version": "^0.1.21",
       "axes_helper": false,
       "derivationLength": 6,
       "is_magic": true,
       "layout": "IPY_MODEL_14a90b780fe34ed186c2387e1ade449c",
       "light_helper": false,
       "plane": true,
       "size_display": [
        400,
        400
       ],
       "size_world": 10
      }
     },
     "14253fdbfc3a4d9da77bca28082d957d": {
      "model_module": "pgljupyter",
      "model_module_version": "^0.2.0",
      "model_name": "LsystemWidgetModel",
      "state": {
       "_model_module_version": "^0.2.0",
       "_view_module_version": "^0.2.0",
       "axes_helper": false,
       "derivationLength": 6,
       "is_magic": true,
       "layout": "IPY_MODEL_215c42dbd2954539b20e28e4596e9c01",
       "light_helper": false,
       "plane": true,
       "size_display": [
        400,
        400
       ],
       "size_world": 6,
       "unit": 0
      }
     },
     "14596cd04c874a3fa97c05ebe6d98985": {
      "model_module": "pgljupyter",
      "model_module_version": "^0.1.21",
      "model_name": "LsystemWidgetModel",
      "state": {
       "_model_module_version": "^0.1.21",
       "_view_module_version": "^0.1.21",
       "axes_helper": false,
       "derivationLength": 2,
       "is_magic": true,
       "layout": "IPY_MODEL_e633b92d39f04c00810a841c21842356",
       "light_helper": false,
       "plane": true,
       "size_display": [
        400,
        400
       ],
       "size_world": 5
      }
     },
     "14a90b780fe34ed186c2387e1ade449c": {
      "model_module": "@jupyter-widgets/base",
      "model_module_version": "1.2.0",
      "model_name": "LayoutModel",
      "state": {}
     },
     "14ca9d9c210641deaab347d8318e139d": {
      "model_module": "pgljupyter",
      "model_module_version": "^0.1.21",
      "model_name": "LsystemWidgetModel",
      "state": {
       "_model_module_version": "^0.1.21",
       "_view_module_version": "^0.1.21",
       "axes_helper": false,
       "derivationLength": 6,
       "is_magic": true,
       "layout": "IPY_MODEL_3664ed3c571844898f2a0fab7315d3b3",
       "light_helper": false,
       "plane": true,
       "size_display": [
        400,
        400
       ],
       "size_world": 10
      }
     },
     "15c001fcf6514ce49daf66a2c51c7e44": {
      "model_module": "pgljupyter",
      "model_module_version": "^0.1.21",
      "model_name": "LsystemWidgetModel",
      "state": {
       "_model_module_version": "^0.1.21",
       "_view_module_version": "^0.1.21",
       "axes_helper": false,
       "derivationLength": 51,
       "is_magic": true,
       "layout": "IPY_MODEL_d88f41b116e04e8395213dea8658860f",
       "light_helper": false,
       "plane": true,
       "size_display": [
        400,
        400
       ],
       "size_world": 50
      }
     },
     "16b66f6e2d5a40a9a8a9f100f3f83b6a": {
      "model_module": "@jupyter-widgets/base",
      "model_module_version": "1.2.0",
      "model_name": "LayoutModel",
      "state": {}
     },
     "17f0c48201dc42dab91d31901a91cb4b": {
      "model_module": "pgljupyter",
      "model_module_version": "^0.2.0",
      "model_name": "LsystemWidgetModel",
      "state": {
       "_model_module_version": "^0.2.0",
       "_view_module_version": "^0.2.0",
       "axes_helper": false,
       "derivationLength": 11,
       "is_magic": true,
       "layout": "IPY_MODEL_f902d404492a4ac7b067ae71bdbae41f",
       "light_helper": false,
       "plane": true,
       "size_display": [
        400,
        400
       ],
       "size_world": 1,
       "unit": 0
      }
     },
     "1919bc41a1ee482885684afa0fde28d9": {
      "model_module": "@jupyter-widgets/base",
      "model_module_version": "1.2.0",
      "model_name": "LayoutModel",
      "state": {}
     },
     "1976f6b703864244a6f65db2036f5a7f": {
      "model_module": "@jupyter-widgets/base",
      "model_module_version": "1.2.0",
      "model_name": "LayoutModel",
      "state": {}
     },
     "1a21aa89df6044d5943ace6e4217b61a": {
      "model_module": "pgljupyter",
      "model_module_version": "^0.1.21",
      "model_name": "LsystemWidgetModel",
      "state": {
       "_model_module_version": "^0.1.21",
       "_view_module_version": "^0.1.21",
       "axes_helper": false,
       "derivationLength": 101,
       "is_magic": true,
       "layout": "IPY_MODEL_d0a7b52169ed4e96b82d3d649b60ae61",
       "light_helper": false,
       "plane": true,
       "size_display": [
        400,
        400
       ],
       "size_world": 10
      }
     },
     "1aa5761f998b491b9f9e59f1b5bcccc1": {
      "model_module": "pgljupyter",
      "model_module_version": "^0.1.21",
      "model_name": "LsystemWidgetModel",
      "state": {
       "_model_module_version": "^0.1.21",
       "_view_module_version": "^0.1.21",
       "axes_helper": false,
       "derivationLength": 2,
       "is_magic": true,
       "layout": "IPY_MODEL_f485d98420864b3faedc0b16d39614ec",
       "light_helper": false,
       "plane": true,
       "size_display": [
        400,
        400
       ],
       "size_world": 10
      }
     },
     "1b24c4628b8e4acbb0ef69458dd66776": {
      "model_module": "pgljupyter",
      "model_module_version": "^0.1.21",
      "model_name": "LsystemWidgetModel",
      "state": {
       "_model_module_version": "^0.1.21",
       "_view_module_version": "^0.1.21",
       "axes_helper": false,
       "derivationLength": 6,
       "is_magic": true,
       "layout": "IPY_MODEL_ead8b60c457b43aa8166607b78c11b33",
       "light_helper": false,
       "plane": true,
       "size_display": [
        400,
        400
       ],
       "size_world": 10
      }
     },
     "1b55866ff7bc4af6a3f31a20139bcdbf": {
      "model_module": "@jupyter-widgets/base",
      "model_module_version": "1.2.0",
      "model_name": "LayoutModel",
      "state": {}
     },
     "1bc6e794710c42cea6e88e6277cac56b": {
      "model_module": "@jupyter-widgets/base",
      "model_module_version": "1.2.0",
      "model_name": "LayoutModel",
      "state": {}
     },
     "1d343990c9644e85a62756db99bfc028": {
      "model_module": "@jupyter-widgets/base",
      "model_module_version": "1.2.0",
      "model_name": "LayoutModel",
      "state": {}
     },
     "1d6baeeade1d41cba3693f04bd350b3c": {
      "model_module": "pgljupyter",
      "model_module_version": "^0.2.0",
      "model_name": "LsystemWidgetModel",
      "state": {
       "_model_module_version": "^0.2.0",
       "_view_module_version": "^0.2.0",
       "axes_helper": false,
       "derivationLength": 7,
       "is_magic": true,
       "layout": "IPY_MODEL_fee35aec3b864a8ba0c03d3806ebbd3f",
       "light_helper": false,
       "plane": true,
       "size_display": [
        400,
        400
       ],
       "size_world": 10,
       "unit": 0
      }
     },
     "1e245c2d53624deb8e9d97631e9af4c8": {
      "model_module": "@jupyter-widgets/base",
      "model_module_version": "1.2.0",
      "model_name": "LayoutModel",
      "state": {}
     },
     "215c42dbd2954539b20e28e4596e9c01": {
      "model_module": "@jupyter-widgets/base",
      "model_module_version": "1.2.0",
      "model_name": "LayoutModel",
      "state": {}
     },
     "2210a3c3a443487ba72ae45415beb9f8": {
      "model_module": "@jupyter-widgets/base",
      "model_module_version": "1.2.0",
      "model_name": "LayoutModel",
      "state": {}
     },
     "2508c8306ee44f4db4e587980d1930b9": {
      "model_module": "pgljupyter",
      "model_module_version": "^0.1.21",
      "model_name": "LsystemWidgetModel",
      "state": {
       "_model_module_version": "^0.1.21",
       "_view_module_version": "^0.1.21",
       "axes_helper": false,
       "derivationLength": 51,
       "is_magic": true,
       "layout": "IPY_MODEL_06b6bbf064114111a645a4389fb6bf5f",
       "light_helper": false,
       "plane": true,
       "size_display": [
        400,
        400
       ],
       "size_world": 50
      }
     },
     "26329aada5aa41f6b44cdf7d5af5dd20": {
      "model_module": "@jupyter-widgets/controls",
      "model_module_version": "1.5.0",
      "model_name": "TextModel",
      "state": {
       "continuous_update": false,
       "description": "name",
       "layout": "IPY_MODEL_40c8ee7632f34f36b13f89dce8d1ba1e",
       "style": "IPY_MODEL_7a67c105f1104a8a900b27bd2d37589d",
       "value": "branchpath"
      }
     },
     "26bb9b23859747f2aeac323b8f87906f": {
      "model_module": "pgljupyter",
      "model_module_version": "^0.1.21",
      "model_name": "LsystemWidgetModel",
      "state": {
       "_model_module_version": "^0.1.21",
       "_view_module_version": "^0.1.21",
       "axes_helper": false,
       "derivationLength": 6,
       "is_magic": true,
       "layout": "IPY_MODEL_f5c037235b33478b98589693dc53514f",
       "light_helper": false,
       "plane": true,
       "size_display": [
        400,
        400
       ],
       "size_world": 6
      }
     },
     "26f2e6a84d2a430daa51f5d93af58b99": {
      "model_module": "pgljupyter",
      "model_module_version": "^0.1.21",
      "model_name": "LsystemWidgetModel",
      "state": {
       "_model_module_version": "^0.1.21",
       "_view_module_version": "^0.1.21",
       "axes_helper": false,
       "derivationLength": 51,
       "is_magic": true,
       "layout": "IPY_MODEL_6a7a49fffed34c76b80607498a387329",
       "light_helper": false,
       "plane": true,
       "size_display": [
        400,
        400
       ],
       "size_world": 50
      }
     },
     "2700544d069a4366aadded269e91a0d1": {
      "model_module": "pgljupyter",
      "model_module_version": "^0.1.21",
      "model_name": "LsystemWidgetModel",
      "state": {
       "_model_module_version": "^0.1.21",
       "_view_module_version": "^0.1.21",
       "axes_helper": false,
       "derivationLength": 7,
       "is_magic": true,
       "layout": "IPY_MODEL_fd4042078c7c46f69f41c35235b85f33",
       "light_helper": false,
       "plane": true,
       "size_display": [
        400,
        400
       ],
       "size_world": 10
      }
     },
     "27b31e6fcc3447e9ad3768d47b7ca830": {
      "model_module": "pgljupyter",
      "model_module_version": "^0.2.0",
      "model_name": "LsystemWidgetModel",
      "state": {
       "_model_module_version": "^0.2.0",
       "_view_module_version": "^0.2.0",
       "axes_helper": false,
       "derivationLength": 7,
       "is_magic": true,
       "layout": "IPY_MODEL_78a27cc500df4652b283410bdf4d0ff0",
       "light_helper": false,
       "plane": true,
       "size_display": [
        400,
        400
       ],
       "size_world": 10,
       "unit": 0
      }
     },
     "28655bd44127458d8d3ce4abce718b65": {
      "model_module": "@jupyter-widgets/base",
      "model_module_version": "1.2.0",
      "model_name": "LayoutModel",
      "state": {}
     },
     "2983f4bd04ae48ac88ae58eb8ea934be": {
      "model_module": "pgljupyter",
      "model_module_version": "^0.1.21",
      "model_name": "LsystemWidgetModel",
      "state": {
       "_model_module_version": "^0.1.21",
       "_view_module_version": "^0.1.21",
       "axes_helper": false,
       "derivationLength": 151,
       "is_magic": true,
       "layout": "IPY_MODEL_87d43e0f066f4828809cb683775dc8d0",
       "light_helper": false,
       "plane": true,
       "size_display": [
        400,
        400
       ],
       "size_world": 50
      }
     },
     "2b71c4dec1f64b89b78c86eb2aaa9ef9": {
      "model_module": "pgljupyter",
      "model_module_version": "^0.1.21",
      "model_name": "LsystemWidgetModel",
      "state": {
       "_model_module_version": "^0.1.21",
       "_view_module_version": "^0.1.21",
       "axes_helper": false,
       "derivationLength": 2,
       "is_magic": true,
       "layout": "IPY_MODEL_e26549e01c8a445db3cc8f547a77aa1f",
       "light_helper": false,
       "plane": true,
       "size_display": [
        400,
        400
       ],
       "size_world": 10
      }
     },
     "2b753bb1fb03423a8019c6356d09d9f4": {
      "model_module": "@jupyter-widgets/base",
      "model_module_version": "1.2.0",
      "model_name": "LayoutModel",
      "state": {}
     },
     "2bd1ab4d23cb49d38e4684795d50b6aa": {
      "model_module": "@jupyter-widgets/base",
      "model_module_version": "1.2.0",
      "model_name": "LayoutModel",
      "state": {}
     },
     "2c6a4c16855944a393fd8c69860784fb": {
      "model_module": "pgljupyter",
      "model_module_version": "^0.1.21",
      "model_name": "LsystemWidgetModel",
      "state": {
       "_model_module_version": "^0.1.21",
       "_view_module_version": "^0.1.21",
       "axes_helper": false,
       "derivationLength": 4,
       "is_magic": true,
       "layout": "IPY_MODEL_7ded7faecae84515bf5f854fc1073c4d",
       "light_helper": false,
       "plane": true,
       "size_display": [
        400,
        400
       ],
       "size_world": 1
      }
     },
     "2ca278c17bec4e408614ba29c8d4450b": {
      "model_module": "@jupyter-widgets/base",
      "model_module_version": "1.2.0",
      "model_name": "LayoutModel",
      "state": {}
     },
     "2d202480bbbf41698f07cfc1edee264c": {
      "model_module": "pgljupyter",
      "model_module_version": "^0.2.0",
      "model_name": "LsystemWidgetModel",
      "state": {
       "_model_module_version": "^0.2.0",
       "_view_module_version": "^0.2.0",
       "axes_helper": false,
       "derivationLength": 5,
       "is_magic": true,
       "layout": "IPY_MODEL_bf744bc5985641a085bb601c4e1f0810",
       "light_helper": false,
       "plane": true,
       "size_display": [
        400,
        400
       ],
       "size_world": 40,
       "unit": 0
      }
     },
     "2dd9f560156242eea07445a0aaee70a0": {
      "buffers": [
       {
        "data": "eNpTTHJ39fdlYFBw4OVSUFZWZGVgYGBiZQjOSCxIZQSymTkYfBNLUosyE3NAXF4OBufKnMy8lNQiEFecg8G/KDM1ryQ1BcRV4GIIKUrMK85JhAoogggmSYZgD8cAV0+XeKN4QxMDM2NjEyMzQ1MTC2MjJpA8SCcDMthf3G+sIw5hg0xoKO7fvAZI7eeFiHGdPXPGloGZncE5Pye/KN7wAoPlDhtHXX4GBgcHAK+nJ8E=",
        "encoding": "base64",
        "path": [
         "scene",
         "data"
        ]
       }
      ],
      "model_module": "pgljupyter",
      "model_module_version": "^0.2.0",
      "model_name": "LsystemWidgetModel",
      "state": {
       "_model_module_version": "^0.2.0",
       "_view_module_version": "^0.2.0",
       "axes_helper": false,
       "derivationLength": 4,
       "is_magic": true,
       "layout": "IPY_MODEL_2b753bb1fb03423a8019c6356d09d9f4",
       "light_helper": false,
       "plane": true,
       "scene": {
        "derivationStep": 3,
        "id": 3,
        "scene": "<openalea.plantgl.scenegraph._pglsg.Scene object at 0x7fe7c590c4e0>"
       },
       "size_display": [
        400,
        400
       ],
       "size_world": 1,
       "unit": 0
      }
     },
     "307845caa4bd4800a1f1da9bdd95c8ea": {
      "model_module": "@jupyter-widgets/base",
      "model_module_version": "1.2.0",
      "model_name": "LayoutModel",
      "state": {}
     },
     "307a166a5f6544b696a0948ed8262751": {
      "model_module": "@jupyter-widgets/base",
      "model_module_version": "1.2.0",
      "model_name": "LayoutModel",
      "state": {}
     },
     "3286389fef4540d9abd6c8954cd967a6": {
      "model_module": "@jupyter-widgets/base",
      "model_module_version": "1.2.0",
      "model_name": "LayoutModel",
      "state": {}
     },
     "32e1ef960af84bd8bce225d8d85d9d36": {
      "model_module": "pgljupyter",
      "model_module_version": "^0.2.0",
      "model_name": "CurveEditorModel",
      "state": {
       "_model_module_version": "^0.2.0",
       "_view_module_version": "^0.2.0",
       "children": [
        "IPY_MODEL_868a1080a40444bf9b1639df285ee2b4"
       ],
       "layout": "IPY_MODEL_e9ffa3e7ed36494c9da0c00b052d2702"
      }
     },
     "332775c4903e480fa7b5e53e36531090": {
      "model_module": "@jupyter-widgets/base",
      "model_module_version": "1.2.0",
      "model_name": "LayoutModel",
      "state": {}
     },
     "33eb009335b9432a8351faa0ffdcb536": {
      "model_module": "pgljupyter",
      "model_module_version": "^0.1.21",
      "model_name": "LsystemWidgetModel",
      "state": {
       "_model_module_version": "^0.1.21",
       "_view_module_version": "^0.1.21",
       "axes_helper": false,
       "derivationLength": 6,
       "is_magic": true,
       "layout": "IPY_MODEL_3e8c11a465c04f6db2f83240754ec546",
       "light_helper": false,
       "plane": true,
       "size_display": [
        400,
        400
       ],
       "size_world": 10
      }
     },
     "344bb5b8271e432a87c02204d1b55a39": {
      "model_module": "pgljupyter",
      "model_module_version": "^0.2.0",
      "model_name": "LsystemWidgetModel",
      "state": {
       "_model_module_version": "^0.2.0",
       "_view_module_version": "^0.2.0",
       "axes_helper": false,
       "derivationLength": 6,
       "is_magic": true,
       "layout": "IPY_MODEL_c1f74840e2a24923b595fbeb8ab923c0",
       "light_helper": false,
       "plane": true,
       "size_display": [
        400,
        400
       ],
       "size_world": 10,
       "unit": 0
      }
     },
     "34c800cd8a2c48e0a72b8ae968e962e0": {
      "model_module": "pgljupyter",
      "model_module_version": "^0.1.21",
      "model_name": "LsystemWidgetModel",
      "state": {
       "_model_module_version": "^0.1.21",
       "_view_module_version": "^0.1.21",
       "axes_helper": false,
       "derivationLength": 101,
       "is_magic": true,
       "layout": "IPY_MODEL_5e83d2ccc54141d3a4d60db6f377fcb6",
       "light_helper": false,
       "plane": true,
       "size_display": [
        400,
        400
       ],
       "size_world": 40
      }
     },
     "360b015913fa4ab086eef58c47417c53": {
      "model_module": "pgljupyter",
      "model_module_version": "^0.1.21",
      "model_name": "LsystemWidgetModel",
      "state": {
       "_model_module_version": "^0.1.21",
       "_view_module_version": "^0.1.21",
       "axes_helper": false,
       "derivationLength": 51,
       "is_magic": true,
       "layout": "IPY_MODEL_df43c19128dc4c45bb59820814215827",
       "light_helper": false,
       "plane": true,
       "size_display": [
        400,
        400
       ],
       "size_world": 50
      }
     },
     "3664ed3c571844898f2a0fab7315d3b3": {
      "model_module": "@jupyter-widgets/base",
      "model_module_version": "1.2.0",
      "model_name": "LayoutModel",
      "state": {}
     },
     "3679ddc723c14c29b2c12b711776f9c2": {
      "model_module": "@jupyter-widgets/base",
      "model_module_version": "1.2.0",
      "model_name": "LayoutModel",
      "state": {}
     },
     "376d5949d34a4b8c85b32d3e45b4778e": {
      "model_module": "@jupyter-widgets/base",
      "model_module_version": "1.2.0",
      "model_name": "LayoutModel",
      "state": {}
     },
     "37bc4db8ae77496b9dc5c539f0646dc6": {
      "model_module": "@jupyter-widgets/base",
      "model_module_version": "1.2.0",
      "model_name": "LayoutModel",
      "state": {}
     },
     "38486cff51ca4164b3c4d3a668865a55": {
      "model_module": "pgljupyter",
      "model_module_version": "^0.1.21",
      "model_name": "LsystemWidgetModel",
      "state": {
       "_model_module_version": "^0.1.21",
       "_view_module_version": "^0.1.21",
       "axes_helper": false,
       "derivationLength": 51,
       "is_magic": true,
       "layout": "IPY_MODEL_3a29bfe6752d45efa5c649782784bb8d",
       "light_helper": false,
       "plane": true,
       "size_display": [
        400,
        400
       ],
       "size_world": 50
      }
     },
     "38b7d16679ff459584e98acd976882b8": {
      "model_module": "@jupyter-widgets/base",
      "model_module_version": "1.2.0",
      "model_name": "LayoutModel",
      "state": {}
     },
     "39805206230349099843ce70123b44da": {
      "model_module": "pgljupyter",
      "model_module_version": "^0.1.21",
      "model_name": "LsystemWidgetModel",
      "state": {
       "_model_module_version": "^0.1.21",
       "_view_module_version": "^0.1.21",
       "axes_helper": false,
       "derivationLength": 51,
       "is_magic": true,
       "layout": "IPY_MODEL_8c07a5c6b2fc4634ae351add87458eee",
       "light_helper": false,
       "plane": true,
       "size_display": [
        400,
        400
       ],
       "size_world": 50
      }
     },
     "39df5f3f901a4ea090d5616ab9a4dd42": {
      "model_module": "pgljupyter",
      "model_module_version": "^0.1.21",
      "model_name": "LsystemWidgetModel",
      "state": {
       "_model_module_version": "^0.1.21",
       "_view_module_version": "^0.1.21",
       "axes_helper": false,
       "derivationLength": 4,
       "is_magic": true,
       "layout": "IPY_MODEL_7cb426723d8b4a8da4c4beb812332c61",
       "light_helper": false,
       "plane": true,
       "size_display": [
        400,
        400
       ],
       "size_world": 1
      }
     },
     "3a29bfe6752d45efa5c649782784bb8d": {
      "model_module": "@jupyter-widgets/base",
      "model_module_version": "1.2.0",
      "model_name": "LayoutModel",
      "state": {}
     },
     "3c860579fce04a5e99eba9380036865e": {
      "model_module": "pgljupyter",
      "model_module_version": "^0.1.21",
      "model_name": "LsystemWidgetModel",
      "state": {
       "_model_module_version": "^0.1.21",
       "_view_module_version": "^0.1.21",
       "axes_helper": false,
       "derivationLength": 51,
       "is_magic": true,
       "layout": "IPY_MODEL_0f137193527a46c58e118c35144b2a57",
       "light_helper": false,
       "plane": true,
       "size_display": [
        400,
        400
       ],
       "size_world": 50
      }
     },
     "3d3a154201924575a6439bf65f681a30": {
      "model_module": "@jupyter-widgets/base",
      "model_module_version": "1.2.0",
      "model_name": "LayoutModel",
      "state": {}
     },
     "3e8c11a465c04f6db2f83240754ec546": {
      "model_module": "@jupyter-widgets/base",
      "model_module_version": "1.2.0",
      "model_name": "LayoutModel",
      "state": {}
     },
     "3edae1f825084dd99cc2cdca62d37d07": {
      "model_module": "@jupyter-widgets/base",
      "model_module_version": "1.2.0",
      "model_name": "LayoutModel",
      "state": {}
     },
     "40257ef1f9c345ad972b04a8a8b51d83": {
      "model_module": "pgljupyter",
      "model_module_version": "^0.1.21",
      "model_name": "LsystemWidgetModel",
      "state": {
       "_model_module_version": "^0.1.21",
       "_view_module_version": "^0.1.21",
       "axes_helper": false,
       "derivationLength": 4,
       "is_magic": true,
       "layout": "IPY_MODEL_a815c3c175714c0fa83ae2803419e2cc",
       "light_helper": false,
       "plane": true,
       "size_display": [
        400,
        400
       ],
       "size_world": 1
      }
     },
     "40c8ee7632f34f36b13f89dce8d1ba1e": {
      "model_module": "@jupyter-widgets/base",
      "model_module_version": "1.2.0",
      "model_name": "LayoutModel",
      "state": {}
     },
     "41aba108f90649b788ac8e760baa6110": {
      "model_module": "pgljupyter",
      "model_module_version": "^0.1.21",
      "model_name": "LsystemWidgetModel",
      "state": {
       "_model_module_version": "^0.1.21",
       "_view_module_version": "^0.1.21",
       "axes_helper": false,
       "derivationLength": 2,
       "is_magic": true,
       "layout": "IPY_MODEL_f5bddce91dbd4b7cb180d25f96dbfd91",
       "light_helper": false,
       "plane": true,
       "size_display": [
        400,
        400
       ],
       "size_world": 1
      }
     },
     "43f35ef982fe4cfa9154b98971895c66": {
      "model_module": "@jupyter-widgets/base",
      "model_module_version": "1.2.0",
      "model_name": "LayoutModel",
      "state": {}
     },
     "4533ea5fb14e448cae6fef243ee2b9f3": {
      "model_module": "pgljupyter",
      "model_module_version": "^0.1.21",
      "model_name": "LsystemWidgetModel",
      "state": {
       "_model_module_version": "^0.1.21",
       "_view_module_version": "^0.1.21",
       "axes_helper": false,
       "derivationLength": 151,
       "is_magic": true,
       "layout": "IPY_MODEL_fe370208faba4952abbcd67bfbcfe36f",
       "light_helper": false,
       "plane": true,
       "size_display": [
        400,
        400
       ],
       "size_world": 50
      }
     },
     "464471c7d3914b708df69d274476836e": {
      "model_module": "@jupyter-widgets/base",
      "model_module_version": "1.2.0",
      "model_name": "LayoutModel",
      "state": {}
     },
     "46475f6762154ef789b5a4852e672c19": {
      "model_module": "pgljupyter",
      "model_module_version": "^0.1.21",
      "model_name": "LsystemWidgetModel",
      "state": {
       "_model_module_version": "^0.1.21",
       "_view_module_version": "^0.1.21",
       "axes_helper": false,
       "derivationLength": 2,
       "is_magic": true,
       "layout": "IPY_MODEL_eb0892df558a4a57a903572c1c800c08",
       "light_helper": false,
       "plane": true,
       "size_display": [
        400,
        400
       ],
       "size_world": 5
      }
     },
     "4654306f204441f392c03879bb198e85": {
      "model_module": "@jupyter-widgets/base",
      "model_module_version": "1.2.0",
      "model_name": "LayoutModel",
      "state": {}
     },
     "465a621f861d45869ef1cbd1da6c64b6": {
      "model_module": "@jupyter-widgets/controls",
      "model_module_version": "1.5.0",
      "model_name": "HBoxModel",
      "state": {
       "children": [
        "IPY_MODEL_9bc95583877642ba94a971ab05b8eefc",
        "IPY_MODEL_32e1ef960af84bd8bce225d8d85d9d36"
       ],
       "layout": "IPY_MODEL_dcca4ba206104ea5bbf57733a4850a86"
      }
     },
     "4727ecfb05a2455ca08cb7389a8a631d": {
      "model_module": "pgljupyter",
      "model_module_version": "^0.2.0",
      "model_name": "LsystemWidgetModel",
      "state": {
       "_model_module_version": "^0.2.0",
       "_view_module_version": "^0.2.0",
       "axes_helper": false,
       "derivationLength": 4,
       "is_magic": true,
       "layout": "IPY_MODEL_307a166a5f6544b696a0948ed8262751",
       "light_helper": false,
       "plane": true,
       "size_display": [
        400,
        400
       ],
       "size_world": 5,
       "unit": 0
      }
     },
     "490c410bd00e4b2f8dad2d7e1713107a": {
      "model_module": "pgljupyter",
      "model_module_version": "^0.1.21",
      "model_name": "LsystemWidgetModel",
      "state": {
       "_model_module_version": "^0.1.21",
       "_view_module_version": "^0.1.21",
       "axes_helper": false,
       "derivationLength": 101,
       "is_magic": true,
       "layout": "IPY_MODEL_b0f5526a36484a1ea9e8e397b17c6a4a",
       "light_helper": false,
       "plane": true,
       "size_display": [
        400,
        400
       ],
       "size_world": 10
      }
     },
     "4cdda4bbe8aa4a32a668e460890c9ded": {
      "model_module": "pgljupyter",
      "model_module_version": "^0.1.21",
      "model_name": "LsystemWidgetModel",
      "state": {
       "_model_module_version": "^0.1.21",
       "_view_module_version": "^0.1.21",
       "axes_helper": false,
       "derivationLength": 2,
       "is_magic": true,
       "layout": "IPY_MODEL_0ff409b40dae4476bc25c786394fc26b",
       "light_helper": false,
       "plane": true,
       "size_display": [
        400,
        400
       ],
       "size_world": 1
      }
     },
     "5305f806c588488e80de79d5415a6f5e": {
      "buffers": [
       {
        "data": "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",
        "encoding": "base64",
        "path": [
         "scene",
         "data"
        ]
       }
      ],
      "model_module": "pgljupyter",
      "model_module_version": "^0.2.0",
      "model_name": "LsystemWidgetModel",
      "state": {
       "_model_module_version": "^0.2.0",
       "_view_module_version": "^0.2.0",
       "axes_helper": false,
       "derivationLength": 5,
       "is_magic": true,
       "layout": "IPY_MODEL_9834573cc9d448309fc73eb026e8a89c",
       "light_helper": false,
       "plane": true,
       "scene": {
        "derivationStep": 4,
        "id": 4,
        "scene": "<openalea.plantgl.scenegraph._pglsg.Scene object at 0x7fe7b27bcd50>"
       },
       "size_display": [
        400,
        400
       ],
       "size_world": 40,
       "unit": 0
      }
     },
     "53a2dbacb32c40ad97c7fd366027a6c4": {
      "model_module": "pgljupyter",
      "model_module_version": "^0.2.0",
      "model_name": "LsystemWidgetModel",
      "state": {
       "_model_module_version": "^0.2.0",
       "_view_module_version": "^0.2.0",
       "axes_helper": false,
       "derivationLength": 6,
       "is_magic": true,
       "layout": "IPY_MODEL_5dba9e818bca4df3bf3edf23c3d01000",
       "light_helper": false,
       "plane": true,
       "size_display": [
        400,
        400
       ],
       "size_world": 10,
       "unit": 0
      }
     },
     "55edf30c480347ac88f02b181309d321": {
      "model_module": "@jupyter-widgets/base",
      "model_module_version": "1.2.0",
      "model_name": "LayoutModel",
      "state": {}
     },
     "5696f56bc56d49f2a6c3a104db77c503": {
      "model_module": "@jupyter-widgets/base",
      "model_module_version": "1.2.0",
      "model_name": "LayoutModel",
      "state": {}
     },
     "5773d856a0a845b881af6b51f0be3e49": {
      "model_module": "pgljupyter",
      "model_module_version": "^0.2.0",
      "model_name": "LsystemWidgetModel",
      "state": {
       "_model_module_version": "^0.2.0",
       "_view_module_version": "^0.2.0",
       "axes_helper": false,
       "derivationLength": 2,
       "is_magic": true,
       "layout": "IPY_MODEL_bc4e47c3d2f44bc2b3bb5b941646d6a8",
       "light_helper": false,
       "plane": true,
       "size_display": [
        400,
        400
       ],
       "size_world": 20,
       "unit": 0
      }
     },
     "5810a35579d04c45b35e8c616d72622e": {
      "model_module": "@jupyter-widgets/base",
      "model_module_version": "1.2.0",
      "model_name": "LayoutModel",
      "state": {}
     },
     "58ce43e4150c498b8f52deabef669dee": {
      "model_module": "@jupyter-widgets/base",
      "model_module_version": "1.2.0",
      "model_name": "LayoutModel",
      "state": {}
     },
     "5a7021b00f4c476e97fe8bc4c720d8b0": {
      "model_module": "@jupyter-widgets/base",
      "model_module_version": "1.2.0",
      "model_name": "LayoutModel",
      "state": {}
     },
     "5b64562359814301a9f2e8b377466dc5": {
      "model_module": "@jupyter-widgets/base",
      "model_module_version": "1.2.0",
      "model_name": "LayoutModel",
      "state": {}
     },
     "5bbad3c7d0964bda9e15415a7240eec9": {
      "model_module": "@jupyter-widgets/base",
      "model_module_version": "1.2.0",
      "model_name": "LayoutModel",
      "state": {}
     },
     "5dba9e818bca4df3bf3edf23c3d01000": {
      "model_module": "@jupyter-widgets/base",
      "model_module_version": "1.2.0",
      "model_name": "LayoutModel",
      "state": {}
     },
     "5e5d035c164d4ce3b6d25365940616b5": {
      "model_module": "@jupyter-widgets/base",
      "model_module_version": "1.2.0",
      "model_name": "LayoutModel",
      "state": {}
     },
     "5e83d2ccc54141d3a4d60db6f377fcb6": {
      "model_module": "@jupyter-widgets/base",
      "model_module_version": "1.2.0",
      "model_name": "LayoutModel",
      "state": {}
     },
     "5ee71ac234db4ae986ffccecc893022a": {
      "model_module": "@jupyter-widgets/base",
      "model_module_version": "1.2.0",
      "model_name": "LayoutModel",
      "state": {}
     },
     "5f6598c7dcb94fd0bcf15abd86a973dd": {
      "model_module": "pgljupyter",
      "model_module_version": "^0.1.21",
      "model_name": "LsystemWidgetModel",
      "state": {
       "_model_module_version": "^0.1.21",
       "_view_module_version": "^0.1.21",
       "axes_helper": false,
       "derivationLength": 6,
       "is_magic": true,
       "layout": "IPY_MODEL_078bfbca195246e6aa38344a091c503f",
       "light_helper": false,
       "plane": true,
       "size_display": [
        400,
        400
       ],
       "size_world": 10
      }
     },
     "601d16b5362f49d581f750bee85dc3d5": {
      "model_module": "@jupyter-widgets/base",
      "model_module_version": "1.2.0",
      "model_name": "LayoutModel",
      "state": {}
     },
     "6138c2bcf1c849878af3be6b4837b4f8": {
      "model_module": "pgljupyter",
      "model_module_version": "^0.1.21",
      "model_name": "LsystemWidgetModel",
      "state": {
       "_model_module_version": "^0.1.21",
       "_view_module_version": "^0.1.21",
       "axes_helper": false,
       "derivationLength": 101,
       "is_magic": true,
       "layout": "IPY_MODEL_889621877b68429a824799a3bfd36951",
       "light_helper": false,
       "plane": true,
       "size_display": [
        400,
        400
       ],
       "size_world": 100
      }
     },
     "61aee0f72ccf422785caf4f87d9aed37": {
      "model_module": "pgljupyter",
      "model_module_version": "^0.1.21",
      "model_name": "LsystemWidgetModel",
      "state": {
       "_model_module_version": "^0.1.21",
       "_view_module_version": "^0.1.21",
       "axes_helper": false,
       "derivationLength": 2,
       "is_magic": true,
       "layout": "IPY_MODEL_1e245c2d53624deb8e9d97631e9af4c8",
       "light_helper": false,
       "plane": true,
       "size_display": [
        400,
        400
       ],
       "size_world": 10
      }
     },
     "61e27833b6424de2bef63751c4760b90": {
      "buffers": [
       {
        "data": "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",
        "encoding": "base64",
        "path": [
         "scene",
         "data"
        ]
       }
      ],
      "model_module": "pgljupyter",
      "model_module_version": "^0.2.0",
      "model_name": "LsystemWidgetModel",
      "state": {
       "_model_module_version": "^0.2.0",
       "_view_module_version": "^0.2.0",
       "axes_helper": false,
       "derivationLength": 151,
       "is_magic": true,
       "layout": "IPY_MODEL_c56ab90289bc416f9971c10aa9388419",
       "light_helper": false,
       "plane": true,
       "scene": {
        "derivationStep": 150,
        "id": 150,
        "scene": "<openalea.plantgl.scenegraph._pglsg.Scene object at 0x7fe79adc8440>"
       },
       "size_display": [
        400,
        400
       ],
       "size_world": 50,
       "unit": 0
      }
     },
     "61eb156d32f64eebab9b20511b6ff633": {
      "model_module": "pgljupyter",
      "model_module_version": "^0.1.21",
      "model_name": "LsystemWidgetModel",
      "state": {
       "_model_module_version": "^0.1.21",
       "_view_module_version": "^0.1.21",
       "axes_helper": false,
       "derivationLength": 2,
       "is_magic": true,
       "layout": "IPY_MODEL_5a7021b00f4c476e97fe8bc4c720d8b0",
       "light_helper": false,
       "plane": true,
       "size_display": [
        400,
        400
       ],
       "size_world": 5
      }
     },
     "6255a773b6964e2b80f1013bb3a205c3": {
      "model_module": "@jupyter-widgets/base",
      "model_module_version": "1.2.0",
      "model_name": "LayoutModel",
      "state": {}
     },
     "633cfa3ebca24a1fbce0b60e868c6e84": {
      "model_module": "pgljupyter",
      "model_module_version": "^0.1.21",
      "model_name": "LsystemWidgetModel",
      "state": {
       "_model_module_version": "^0.1.21",
       "_view_module_version": "^0.1.21",
       "axes_helper": false,
       "derivationLength": 2,
       "is_magic": true,
       "layout": "IPY_MODEL_6255a773b6964e2b80f1013bb3a205c3",
       "light_helper": false,
       "plane": true,
       "size_display": [
        400,
        400
       ],
       "size_world": 1
      }
     },
     "6714d54b792f48e0a8185b8ae76abd93": {
      "model_module": "pgljupyter",
      "model_module_version": "^0.1.21",
      "model_name": "LsystemWidgetModel",
      "state": {
       "_model_module_version": "^0.1.21",
       "_view_module_version": "^0.1.21",
       "axes_helper": false,
       "derivationLength": 2,
       "is_magic": true,
       "layout": "IPY_MODEL_f2809ea5f6194017b37b2795905c38ca",
       "light_helper": false,
       "plane": true,
       "size_display": [
        400,
        400
       ],
       "size_world": 5
      }
     },
     "68f535a7581246898bedd4e3f5839536": {
      "model_module": "@jupyter-widgets/base",
      "model_module_version": "1.2.0",
      "model_name": "LayoutModel",
      "state": {}
     },
     "6915c8283b87451692d55e7aaf5e652b": {
      "model_module": "@jupyter-widgets/base",
      "model_module_version": "1.2.0",
      "model_name": "LayoutModel",
      "state": {}
     },
     "6a612cdc417b4c519595de83aec0a437": {
      "model_module": "pgljupyter",
      "model_module_version": "^0.1.21",
      "model_name": "LsystemWidgetModel",
      "state": {
       "_model_module_version": "^0.1.21",
       "_view_module_version": "^0.1.21",
       "axes_helper": false,
       "derivationLength": 51,
       "is_magic": true,
       "layout": "IPY_MODEL_6d0d050a171341f7a7c10c2d92cfda5d",
       "light_helper": false,
       "plane": true,
       "size_display": [
        400,
        400
       ],
       "size_world": 100
      }
     },
     "6a7a49fffed34c76b80607498a387329": {
      "model_module": "@jupyter-widgets/base",
      "model_module_version": "1.2.0",
      "model_name": "LayoutModel",
      "state": {}
     },
     "6a81f51cc1654edc81b429e8070fcba0": {
      "model_module": "pgljupyter",
      "model_module_version": "^0.1.21",
      "model_name": "LsystemWidgetModel",
      "state": {
       "_model_module_version": "^0.1.21",
       "_view_module_version": "^0.1.21",
       "axes_helper": false,
       "derivationLength": 2,
       "is_magic": true,
       "layout": "IPY_MODEL_5e5d035c164d4ce3b6d25365940616b5",
       "light_helper": false,
       "plane": true,
       "size_display": [
        400,
        400
       ],
       "size_world": 5
      }
     },
     "6a87d49dadf94855b065a4f4f29cee1a": {
      "model_module": "@jupyter-widgets/base",
      "model_module_version": "1.2.0",
      "model_name": "LayoutModel",
      "state": {}
     },
     "6b4ad2955d904b9db89e2d307e82a541": {
      "model_module": "pgljupyter",
      "model_module_version": "^0.1.21",
      "model_name": "LsystemWidgetModel",
      "state": {
       "_model_module_version": "^0.1.21",
       "_view_module_version": "^0.1.21",
       "axes_helper": false,
       "derivationLength": 2,
       "is_magic": true,
       "layout": "IPY_MODEL_c3673f932afa4a87a2a71dd4ad689a31",
       "light_helper": false,
       "plane": true,
       "size_display": [
        400,
        400
       ],
       "size_world": 10
      }
     },
     "6c4725a19292456fa042225276b2bd63": {
      "model_module": "@jupyter-widgets/base",
      "model_module_version": "1.2.0",
      "model_name": "LayoutModel",
      "state": {}
     },
     "6c8b3839b480469aab4a6efdde3b5a5a": {
      "model_module": "@jupyter-widgets/base",
      "model_module_version": "1.2.0",
      "model_name": "LayoutModel",
      "state": {}
     },
     "6d0d050a171341f7a7c10c2d92cfda5d": {
      "model_module": "@jupyter-widgets/base",
      "model_module_version": "1.2.0",
      "model_name": "LayoutModel",
      "state": {}
     },
     "6d0d1587ff5a49398ae4dee5b85399f3": {
      "model_module": "@jupyter-widgets/base",
      "model_module_version": "1.2.0",
      "model_name": "LayoutModel",
      "state": {}
     },
     "6d1868d395a74ddc9a7c2952b006db06": {
      "model_module": "@jupyter-widgets/base",
      "model_module_version": "1.2.0",
      "model_name": "LayoutModel",
      "state": {}
     },
     "6d4e4f0c96804e3ca6149c2b796038bf": {
      "model_module": "pgljupyter",
      "model_module_version": "^0.1.21",
      "model_name": "LsystemWidgetModel",
      "state": {
       "_model_module_version": "^0.1.21",
       "_view_module_version": "^0.1.21",
       "axes_helper": false,
       "derivationLength": 6,
       "is_magic": true,
       "layout": "IPY_MODEL_1d343990c9644e85a62756db99bfc028",
       "light_helper": false,
       "plane": true,
       "size_display": [
        400,
        400
       ],
       "size_world": 10
      }
     },
     "6e996d427a65401ea28535113a5b3063": {
      "model_module": "@jupyter-widgets/base",
      "model_module_version": "1.2.0",
      "model_name": "LayoutModel",
      "state": {}
     },
     "7073776fd1464301bb6fd2b92b7e4d72": {
      "model_module": "pgljupyter",
      "model_module_version": "^0.1.21",
      "model_name": "LsystemWidgetModel",
      "state": {
       "_model_module_version": "^0.1.21",
       "_view_module_version": "^0.1.21",
       "axes_helper": false,
       "derivationLength": 151,
       "is_magic": true,
       "layout": "IPY_MODEL_5bbad3c7d0964bda9e15415a7240eec9",
       "light_helper": false,
       "plane": true,
       "size_display": [
        400,
        400
       ],
       "size_world": 50
      }
     },
     "714091440c5f4c89b4562b9b7709ef11": {
      "model_module": "pgljupyter",
      "model_module_version": "^0.1.21",
      "model_name": "LsystemWidgetModel",
      "state": {
       "_model_module_version": "^0.1.21",
       "_view_module_version": "^0.1.21",
       "axes_helper": false,
       "derivationLength": 4,
       "is_magic": true,
       "layout": "IPY_MODEL_04b867a2845241a1999936885d1d4755",
       "light_helper": false,
       "plane": true,
       "size_display": [
        400,
        400
       ],
       "size_world": 1
      }
     },
     "72067d44b34a4f988f146636531c6e48": {
      "model_module": "pgljupyter",
      "model_module_version": "^0.1.21",
      "model_name": "LsystemWidgetModel",
      "state": {
       "_model_module_version": "^0.1.21",
       "_view_module_version": "^0.1.21",
       "axes_helper": false,
       "derivationLength": 101,
       "is_magic": true,
       "layout": "IPY_MODEL_3286389fef4540d9abd6c8954cd967a6",
       "light_helper": false,
       "plane": true,
       "size_display": [
        400,
        400
       ],
       "size_world": 30
      }
     },
     "7267789771b246c0a8cda30288c13282": {
      "model_module": "@jupyter-widgets/base",
      "model_module_version": "1.2.0",
      "model_name": "LayoutModel",
      "state": {}
     },
     "72bd7150f446470a9ff675609750ab68": {
      "model_module": "pgljupyter",
      "model_module_version": "^0.1.21",
      "model_name": "LsystemWidgetModel",
      "state": {
       "_model_module_version": "^0.1.21",
       "_view_module_version": "^0.1.21",
       "axes_helper": false,
       "derivationLength": 2,
       "is_magic": true,
       "layout": "IPY_MODEL_3679ddc723c14c29b2c12b711776f9c2",
       "light_helper": false,
       "plane": true,
       "size_display": [
        400,
        400
       ],
       "size_world": 10
      }
     },
     "73184846fbc34a1ab807255b7e6c00b9": {
      "model_module": "@jupyter-widgets/base",
      "model_module_version": "1.2.0",
      "model_name": "LayoutModel",
      "state": {}
     },
     "73a3c81d83c9481292038cadcce3f074": {
      "model_module": "pgljupyter",
      "model_module_version": "^0.1.21",
      "model_name": "LsystemWidgetModel",
      "state": {
       "_model_module_version": "^0.1.21",
       "_view_module_version": "^0.1.21",
       "axes_helper": false,
       "derivationLength": 51,
       "is_magic": true,
       "layout": "IPY_MODEL_a36c9209221549aeb65c07eebae16423",
       "light_helper": false,
       "plane": true,
       "size_display": [
        400,
        400
       ],
       "size_world": 100
      }
     },
     "759acb21c04a44efa0d3e69382449198": {
      "model_module": "pgljupyter",
      "model_module_version": "^0.2.0",
      "model_name": "LsystemWidgetModel",
      "state": {
       "_model_module_version": "^0.2.0",
       "_view_module_version": "^0.2.0",
       "axes_helper": false,
       "derivationLength": 2,
       "is_magic": true,
       "layout": "IPY_MODEL_6c8b3839b480469aab4a6efdde3b5a5a",
       "light_helper": false,
       "plane": true,
       "size_display": [
        400,
        400
       ],
       "size_world": 10,
       "unit": 0
      }
     },
     "75c37d5af0e74170b25ae140cb77648d": {
      "model_module": "pgljupyter",
      "model_module_version": "^0.2.0",
      "model_name": "LsystemWidgetModel",
      "state": {
       "_model_module_version": "^0.2.0",
       "_view_module_version": "^0.2.0",
       "axes_helper": false,
       "derivationLength": 2,
       "is_magic": true,
       "layout": "IPY_MODEL_1b55866ff7bc4af6a3f31a20139bcdbf",
       "light_helper": false,
       "plane": true,
       "size_display": [
        400,
        400
       ],
       "size_world": 20,
       "unit": 0
      }
     },
     "77ee295556d0465bb48d83b9a34a77d7": {
      "buffers": [
       {
        "data": "eNpTTHJ39fdlYFBw4OVSUFZWZAACMAEAM3MCyw==",
        "encoding": "base64",
        "path": [
         "scene",
         "data"
        ]
       }
      ],
      "model_module": "pgljupyter",
      "model_module_version": "^0.2.0",
      "model_name": "LsystemWidgetModel",
      "state": {
       "_model_module_version": "^0.2.0",
       "_view_module_version": "^0.2.0",
       "axes_helper": false,
       "derivationLength": 17,
       "is_magic": true,
       "layout": "IPY_MODEL_38b7d16679ff459584e98acd976882b8",
       "light_helper": false,
       "plane": true,
       "scene": {
        "derivationStep": 0,
        "id": 0,
        "scene": "<openalea.plantgl.scenegraph._pglsg.Scene object at 0x7fe7b27bc7b0>"
       },
       "size_display": [
        400,
        400
       ],
       "size_world": 20,
       "unit": 0
      }
     },
     "78a27cc500df4652b283410bdf4d0ff0": {
      "model_module": "@jupyter-widgets/base",
      "model_module_version": "1.2.0",
      "model_name": "LayoutModel",
      "state": {}
     },
     "79a3bedec0c949e2bc65ee9c2b80a64a": {
      "model_module": "pgljupyter",
      "model_module_version": "^0.2.0",
      "model_name": "LsystemWidgetModel",
      "state": {
       "_model_module_version": "^0.2.0",
       "_view_module_version": "^0.2.0",
       "axes_helper": false,
       "derivationLength": 4,
       "is_magic": true,
       "layout": "IPY_MODEL_09f842d55fb24bb48106315eb385fc4a",
       "light_helper": false,
       "plane": true,
       "size_display": [
        400,
        400
       ],
       "size_world": 5,
       "unit": 0
      }
     },
     "7a09ab1ef58244d59ae4e01f100efd01": {
      "model_module": "@jupyter-widgets/base",
      "model_module_version": "1.2.0",
      "model_name": "LayoutModel",
      "state": {}
     },
     "7a67c105f1104a8a900b27bd2d37589d": {
      "model_module": "@jupyter-widgets/controls",
      "model_module_version": "1.5.0",
      "model_name": "DescriptionStyleModel",
      "state": {
       "description_width": ""
      }
     },
     "7abc687b71ef4a23907cf3c44736f626": {
      "buffers": [
       {
        "data": "eNqlVHtMFEcc3nsBB0JJz1Y4TOoB2mAKvX3vFu5miLxMAweiNm1sEZUq7eVAkJ5HU8EmGiHVi14ExEqCbWwTal+0qLV70za0Mca/+rAP+ocmfQWB0FKaaox05+7g5k5cTLrJTGZ2v9nv+33zzdi2lZe6KilqFUxNXpWTYzNRFKU3UbW76psb0tWxIYmqrN/T0NJY79apU4uZKt27p6WttbHJgz9bk6jqJrfP3egJodckL0yZEvzChju9laqtKK4uXV9SR/N1NGcXWEakWYETWFZ4QAWk4D9ToSdLr3b+L2aLyPaKpQKM6zLQxOS6oDWMwzDlfRGke7vA2dMXYIWxHvQ3j4H2U2MQf9etoahL+5Rz5hC6E+B+xsgD3Fr9w+/gd+oY4bk6Rq1+9mxkjnqGDubjdxE8ml+vMyRS65rcTS11dHMGOF9UnK+Kh5Asj44pj5MFXFoiUZ4hVF6bI9xiy7x8x4e+7ZKDt4umlEiZGP6N60vnDe8B8F7NUUiWvGF1Pyjb4AcpI3+HS9bhgnVYGiGJJR3naVZmcuIkLeb4hV8qwa4AhZ4ZPO0kHGf2mZ1XOz8H/gYFZokjweOjDph+8te76DMX6MUYdsFuT4xUNc9uVLuJmvMO3O5lzA52BejLzcabgCJq8LLylzLB1qO54HD7U5A0iVT51UU6mHHYBH/zzGiYxMthmSwtCxzPqyYVqlhxCZOmvXecST8Uoqm1k2QsR2uXwUqlDzykfALHqzbC/SvMMK36uhY9H6WXBJ7lODHOJa3Y3CzxoNlXbz4xJ190ErEZ/+AI6DKdALcHjkNSUtXOUnhofx9oa/1RQ5Iok0mWaUFyxUlazJFNNaXAMpaNXv45TSEc+f3WddCx6S+Q1nkZLr+SAPMHXfBM1Q2N2LAkuyTTjCH8twV2U5gdm+FYKj7hJZ0I9xFVJir6GB+eAGSUSONI5TaPFeadXA1rH5m7S3lW9Aqwi9HNFDiRk6QXVfDOJZxbuXczePNYEiLOPoa5pjajf4cfRG9s/BTmre1FljMDwcfd05r8Md7xPGPH3NvvM0w9ec+i53d7FeKoYbiyg0VTH1co1hf8kNS0ctiHrt3qRu1lf2hpYsSY/eQZqSNO02KelE/mh9JEBBvDvj80hP4ZR8ry6Q+hq/tPlCpddXYrVzTCLBPHWxJFO8Ntj4vT/dxCLb0FYE4uBESMjESM3pqthqRNpMyu1wyfrS+wBC+9+5OWTTwd1ckztEALvSo4sIRNgScfA68fSEHElmGY9+0CsLspFcnS1/Ca2APMW3zBvEd1xRr8HBFd3m5nJCkQ55NWdLZs7VAP/hGF8MdA+PORfxCSmnLbR8BzowFkGjBoaRIJTzhZpCVuKE7TYp4kz5SB3CwbeeT1hJZtT38HHdnLgqfKfODchKn43heRPYadt3NUHHuC2vWfyHTi9j8upARq8QdfTmTCSDfJaubHB6v08dX8B3gT7Pc=",
        "encoding": "base64",
        "path": [
         "scene",
         "data"
        ]
       }
      ],
      "model_module": "pgljupyter",
      "model_module_version": "^0.2.0",
      "model_name": "LsystemWidgetModel",
      "state": {
       "_model_module_version": "^0.2.0",
       "_view_module_version": "^0.2.0",
       "axes_helper": false,
       "derivationLength": 6,
       "is_magic": true,
       "layout": "IPY_MODEL_c39384d1667b421e879664b8c11d6b1c",
       "light_helper": false,
       "plane": true,
       "scene": {
        "derivationStep": 5,
        "id": 5,
        "scene": "<openalea.plantgl.scenegraph._pglsg.Scene object at 0x7fe79adc8170>"
       },
       "size_display": [
        400,
        400
       ],
       "size_world": 10,
       "unit": 0
      }
     },
     "7b65ee366c7b48d5875cf84c8cbce452": {
      "model_module": "@jupyter-widgets/controls",
      "model_module_version": "1.5.0",
      "model_name": "HBoxModel",
      "state": {
       "children": [
        "IPY_MODEL_ad4ad7b482154f4ca87fce2a26c18f16",
        "IPY_MODEL_465a621f861d45869ef1cbd1da6c64b6"
       ],
       "layout": "IPY_MODEL_af55833a405041c38cbdd1debd3e2226"
      }
     },
     "7bf2130eea0b43a5a42709e3c1faa492": {
      "model_module": "pgljupyter",
      "model_module_version": "^0.1.21",
      "model_name": "LsystemWidgetModel",
      "state": {
       "_model_module_version": "^0.1.21",
       "_view_module_version": "^0.1.21",
       "axes_helper": false,
       "derivationLength": 4,
       "is_magic": true,
       "layout": "IPY_MODEL_f8fad95521244abba1418a24d0b1ecc5",
       "light_helper": false,
       "plane": true,
       "size_display": [
        400,
        400
       ],
       "size_world": 5
      }
     },
     "7cb426723d8b4a8da4c4beb812332c61": {
      "model_module": "@jupyter-widgets/base",
      "model_module_version": "1.2.0",
      "model_name": "LayoutModel",
      "state": {}
     },
     "7cd8defc41b54fa3a0b27132dc583da9": {
      "model_module": "pgljupyter",
      "model_module_version": "^0.1.21",
      "model_name": "LsystemWidgetModel",
      "state": {
       "_model_module_version": "^0.1.21",
       "_view_module_version": "^0.1.21",
       "axes_helper": false,
       "derivationLength": 2,
       "is_magic": true,
       "layout": "IPY_MODEL_e929e3c48ab9446f84e1f9e42c4391c3",
       "light_helper": false,
       "plane": true,
       "size_display": [
        400,
        400
       ],
       "size_world": 1
      }
     },
     "7d8a767cc682421688ce02c48df67c06": {
      "model_module": "@jupyter-widgets/base",
      "model_module_version": "1.2.0",
      "model_name": "LayoutModel",
      "state": {
       "margin": "10px",
       "min_height": "400px",
       "min_width": "400px"
      }
     },
     "7ded7faecae84515bf5f854fc1073c4d": {
      "model_module": "@jupyter-widgets/base",
      "model_module_version": "1.2.0",
      "model_name": "LayoutModel",
      "state": {}
     },
     "7e8d8f6e06124f1cb864ab7a0f09e672": {
      "model_module": "@jupyter-widgets/base",
      "model_module_version": "1.2.0",
      "model_name": "LayoutModel",
      "state": {}
     },
     "805c22f5cc6247259c574acd6048e94c": {
      "model_module": "pgljupyter",
      "model_module_version": "^0.2.0",
      "model_name": "LsystemWidgetModel",
      "state": {
       "_model_module_version": "^0.2.0",
       "_view_module_version": "^0.2.0",
       "axes_helper": false,
       "derivationLength": 17,
       "is_magic": true,
       "layout": "IPY_MODEL_b1f1383d818d4238a9ec3f1b65eeb13e",
       "light_helper": false,
       "plane": true,
       "size_display": [
        400,
        400
       ],
       "size_world": 1,
       "unit": 0
      }
     },
     "8130ac81ec874f84bd67c3aebb962a8d": {
      "model_module": "@jupyter-widgets/base",
      "model_module_version": "1.2.0",
      "model_name": "LayoutModel",
      "state": {}
     },
     "833e45a5fba74118b64f7c7ee390afdd": {
      "model_module": "@jupyter-widgets/base",
      "model_module_version": "1.2.0",
      "model_name": "LayoutModel",
      "state": {}
     },
     "868a1080a40444bf9b1639df285ee2b4": {
      "model_module": "pgljupyter",
      "model_module_version": "^0.2.0",
      "model_name": "_CurveEditorModel",
      "state": {
       "_model_module_version": "^0.2.0",
       "_view_module_version": "^0.2.0",
       "layout": "IPY_MODEL_e34d030664364d9faaf4a6f14d097dc8",
       "name": "branchpath",
       "points": [
        [
         -0.551136,
         -0.00284096
        ],
        [
         -0.212121,
         0.107955
        ],
        [
         -0.0719697,
         0.0568182
        ],
        [
         0.301136,
         0.0965909
        ],
        [
         0.299465,
         0.415776
        ]
       ],
       "type": "NurbsCurve2D"
      }
     },
     "87275625bf824d0fb4957fa058c65340": {
      "model_module": "@jupyter-widgets/base",
      "model_module_version": "1.2.0",
      "model_name": "LayoutModel",
      "state": {}
     },
     "8766dc909c6445ccb9b6e1adcddd8dc0": {
      "model_module": "pgljupyter",
      "model_module_version": "^0.1.21",
      "model_name": "LsystemWidgetModel",
      "state": {
       "_model_module_version": "^0.1.21",
       "_view_module_version": "^0.1.21",
       "axes_helper": false,
       "derivationLength": 4,
       "is_magic": true,
       "layout": "IPY_MODEL_833e45a5fba74118b64f7c7ee390afdd",
       "light_helper": false,
       "plane": true,
       "size_display": [
        400,
        400
       ],
       "size_world": 1
      }
     },
     "87d43e0f066f4828809cb683775dc8d0": {
      "model_module": "@jupyter-widgets/base",
      "model_module_version": "1.2.0",
      "model_name": "LayoutModel",
      "state": {}
     },
     "889621877b68429a824799a3bfd36951": {
      "model_module": "@jupyter-widgets/base",
      "model_module_version": "1.2.0",
      "model_name": "LayoutModel",
      "state": {}
     },
     "8b82d493df7b4597abf75f1926721641": {
      "model_module": "@jupyter-widgets/base",
      "model_module_version": "1.2.0",
      "model_name": "LayoutModel",
      "state": {}
     },
     "8c07a5c6b2fc4634ae351add87458eee": {
      "model_module": "@jupyter-widgets/base",
      "model_module_version": "1.2.0",
      "model_name": "LayoutModel",
      "state": {}
     },
     "8cab1771eb4f4146a7d5f25917e87001": {
      "model_module": "pgljupyter",
      "model_module_version": "^0.1.21",
      "model_name": "LsystemWidgetModel",
      "state": {
       "_model_module_version": "^0.1.21",
       "_view_module_version": "^0.1.21",
       "axes_helper": false,
       "derivationLength": 4,
       "is_magic": true,
       "layout": "IPY_MODEL_dfc991d2c06741d99a84d721ac993213",
       "light_helper": false,
       "plane": true,
       "size_display": [
        400,
        400
       ],
       "size_world": 1
      }
     },
     "8d40a3da485548b18941e7d84f18571f": {
      "model_module": "@jupyter-widgets/base",
      "model_module_version": "1.2.0",
      "model_name": "LayoutModel",
      "state": {}
     },
     "8d5d17eecf7e4f359308866a41ffbff1": {
      "model_module": "@jupyter-widgets/base",
      "model_module_version": "1.2.0",
      "model_name": "LayoutModel",
      "state": {}
     },
     "8eeee88a8c52419eb911d0de8d2e6ec9": {
      "model_module": "pgljupyter",
      "model_module_version": "^0.2.0",
      "model_name": "LsystemWidgetModel",
      "state": {
       "_model_module_version": "^0.2.0",
       "_view_module_version": "^0.2.0",
       "axes_helper": false,
       "derivationLength": 151,
       "is_magic": true,
       "layout": "IPY_MODEL_307845caa4bd4800a1f1da9bdd95c8ea",
       "light_helper": false,
       "plane": true,
       "size_display": [
        400,
        400
       ],
       "size_world": 50,
       "unit": 0
      }
     },
     "8f6106c75c8849e28ec127407fa60999": {
      "model_module": "@jupyter-widgets/base",
      "model_module_version": "1.2.0",
      "model_name": "LayoutModel",
      "state": {}
     },
     "911b9ac31cd34bd5adf7e4a2488af044": {
      "model_module": "@jupyter-widgets/base",
      "model_module_version": "1.2.0",
      "model_name": "LayoutModel",
      "state": {}
     },
     "9172ddc733ab4ae5af1ce7609730aef8": {
      "model_module": "@jupyter-widgets/base",
      "model_module_version": "1.2.0",
      "model_name": "LayoutModel",
      "state": {}
     },
     "91d624f18b664e1abc7ea653da0c8cb2": {
      "model_module": "pgljupyter",
      "model_module_version": "^0.1.21",
      "model_name": "LsystemWidgetModel",
      "state": {
       "_model_module_version": "^0.1.21",
       "_view_module_version": "^0.1.21",
       "axes_helper": false,
       "derivationLength": 51,
       "is_magic": true,
       "layout": "IPY_MODEL_9eddf03f7ee8447c85dad85e0eb1c889",
       "light_helper": false,
       "plane": true,
       "size_display": [
        400,
        400
       ],
       "size_world": 100
      }
     },
     "92a1ca7f75f4415988cd6ee7cbe635ad": {
      "model_module": "pgljupyter",
      "model_module_version": "^0.2.0",
      "model_name": "_CurveEditorModel",
      "state": {
       "_model_module_version": "^0.2.0",
       "_view_module_version": "^0.2.0",
       "layout": "IPY_MODEL_5810a35579d04c45b35e8c616d72622e",
       "name": "trunk",
       "points": [
        [
         0.00852268,
         -0.329545
        ],
        [
         -0.0501894,
         -0.0568182
        ],
        [
         0.0700758,
         0.167614
        ],
        [
         0.0170455,
         0.46875
        ]
       ],
       "type": "NurbsCurve2D"
      }
     },
     "940b09b5bd5840adb30c2f6f5c8f292f": {
      "model_module": "@jupyter-widgets/base",
      "model_module_version": "1.2.0",
      "model_name": "LayoutModel",
      "state": {}
     },
     "9540623670bb4e0e917b7a4f290e7704": {
      "model_module": "pgljupyter",
      "model_module_version": "^0.1.21",
      "model_name": "LsystemWidgetModel",
      "state": {
       "_model_module_version": "^0.1.21",
       "_view_module_version": "^0.1.21",
       "axes_helper": false,
       "derivationLength": 2,
       "is_magic": true,
       "layout": "IPY_MODEL_f081a36f5b64486d8a9a4caf13102ec1",
       "light_helper": false,
       "plane": true,
       "size_display": [
        400,
        400
       ],
       "size_world": 10
      }
     },
     "9575e48ac37b456390f3b5af3a468018": {
      "model_module": "pgljupyter",
      "model_module_version": "^0.1.21",
      "model_name": "LsystemWidgetModel",
      "state": {
       "_model_module_version": "^0.1.21",
       "_view_module_version": "^0.1.21",
       "axes_helper": false,
       "derivationLength": 51,
       "is_magic": true,
       "layout": "IPY_MODEL_5696f56bc56d49f2a6c3a104db77c503",
       "light_helper": false,
       "plane": true,
       "size_display": [
        400,
        400
       ],
       "size_world": 100
      }
     },
     "97c81c3c80124516928d82dd6596fe02": {
      "model_module": "pgljupyter",
      "model_module_version": "^0.1.21",
      "model_name": "LsystemWidgetModel",
      "state": {
       "_model_module_version": "^0.1.21",
       "_view_module_version": "^0.1.21",
       "axes_helper": false,
       "derivationLength": 4,
       "is_magic": true,
       "layout": "IPY_MODEL_fca36e2366754269b232289ded798bc2",
       "light_helper": false,
       "plane": true,
       "size_display": [
        400,
        400
       ],
       "size_world": 1
      }
     },
     "9834573cc9d448309fc73eb026e8a89c": {
      "model_module": "@jupyter-widgets/base",
      "model_module_version": "1.2.0",
      "model_name": "LayoutModel",
      "state": {}
     },
     "998b8d845afb435c956febfc7f9da1ff": {
      "model_module": "@jupyter-widgets/base",
      "model_module_version": "1.2.0",
      "model_name": "LayoutModel",
      "state": {}
     },
     "9a01df69330b4cd5bce8893d270278ba": {
      "model_module": "pgljupyter",
      "model_module_version": "^0.1.21",
      "model_name": "LsystemWidgetModel",
      "state": {
       "_model_module_version": "^0.1.21",
       "_view_module_version": "^0.1.21",
       "axes_helper": false,
       "derivationLength": 7,
       "is_magic": true,
       "layout": "IPY_MODEL_a2197cdc053946f9920be6023443c579",
       "light_helper": false,
       "plane": true,
       "size_display": [
        400,
        400
       ],
       "size_world": 10
      }
     },
     "9b714dac24d249b6a60e992bfac8c885": {
      "model_module": "@jupyter-widgets/base",
      "model_module_version": "1.2.0",
      "model_name": "LayoutModel",
      "state": {}
     },
     "9bab2fc61a424e8eb64c24d4d8bc6ad3": {
      "model_module": "@jupyter-widgets/base",
      "model_module_version": "1.2.0",
      "model_name": "LayoutModel",
      "state": {}
     },
     "9bc95583877642ba94a971ab05b8eefc": {
      "model_module": "pgljupyter",
      "model_module_version": "^0.2.0",
      "model_name": "CurveEditorModel",
      "state": {
       "_model_module_version": "^0.2.0",
       "_view_module_version": "^0.2.0",
       "children": [
        "IPY_MODEL_92a1ca7f75f4415988cd6ee7cbe635ad"
       ],
       "layout": "IPY_MODEL_ed4b7510faf14772a9e64936c491b7c3"
      }
     },
     "9c99f7e3c1bd4460890546ee80212e19": {
      "model_module": "@jupyter-widgets/base",
      "model_module_version": "1.2.0",
      "model_name": "LayoutModel",
      "state": {}
     },
     "9e6fc7141ab243f0aa2f0e2d3b4cdf50": {
      "model_module": "pgljupyter",
      "model_module_version": "^0.1.21",
      "model_name": "LsystemWidgetModel",
      "state": {
       "_model_module_version": "^0.1.21",
       "_view_module_version": "^0.1.21",
       "axes_helper": false,
       "derivationLength": 151,
       "is_magic": true,
       "layout": "IPY_MODEL_ee0c7286bb8e458da0cc6fbb2928fc98",
       "light_helper": false,
       "plane": true,
       "size_display": [
        400,
        400
       ],
       "size_world": 50
      }
     },
     "9eddf03f7ee8447c85dad85e0eb1c889": {
      "model_module": "@jupyter-widgets/base",
      "model_module_version": "1.2.0",
      "model_name": "LayoutModel",
      "state": {}
     },
     "a1f45b8bdc854f5ea3b3f6768370eefe": {
      "buffers": [
       {
        "data": "eNqd1M1qwkAQB/CJH/iFVrQg7SniWcgmm3UDLUastD2IBXsXi4FKg0ripTdPvXrrS9RbH6Cn3uw79E3aWTy4JqloF8HE/PNznJ1Yfbju9LoAqp3PqrVaNQkAsST0H4czp4DH8TR0h3PHGw9dBU/zaWg/u+PJyPHE1Uoaet7YmcydUQ5P1Szce8OJ7+Idozx+UBWh2Bn0b1p3ndurgTYgVGOGQTinOieU4mX4wSXCuLJf6/UlxFPQnrpTb0Bm1tPnRat+AmDbEkNkhppMUza3gwqBtWjuyIoAJUiXIJMwRmMYVaIgsPdCVIZ0YukJ8cOjINuubA7E1yz85fsK3z724uYWN7hBqSY2KRHEF81/4Q0ZNxnXUhhNhiq3g7iA/aVR34tbUlsoJTrPYDQVhcMO/vr2Uv9j8863U0Dk0im+xAxmovoCh5Yu6YasE4txEc9F6YvmgV2XdHlgKGMNXTwp+ajO/Ednst7QOC9ithDU7ZB+WGe4POymyWkJs8UIHWs9flflmTGpYbAyZkvhzqywzqN1Xf4H0ojF6Slmy+Fddf3vA/VfPdLrtQ==",
        "encoding": "base64",
        "path": [
         "scene",
         "data"
        ]
       }
      ],
      "model_module": "pgljupyter",
      "model_module_version": "^0.2.0",
      "model_name": "LsystemWidgetModel",
      "state": {
       "_model_module_version": "^0.2.0",
       "_view_module_version": "^0.2.0",
       "axes_helper": false,
       "derivationLength": 2,
       "is_magic": true,
       "layout": "IPY_MODEL_7e8d8f6e06124f1cb864ab7a0f09e672",
       "light_helper": false,
       "plane": true,
       "scene": {
        "derivationStep": 0,
        "id": 0,
        "scene": "<openalea.plantgl.scenegraph._pglsg.Scene object at 0x7fe7b27adc10>"
       },
       "size_display": [
        400,
        400
       ],
       "size_world": 10,
       "unit": 0
      }
     },
     "a2197cdc053946f9920be6023443c579": {
      "model_module": "@jupyter-widgets/base",
      "model_module_version": "1.2.0",
      "model_name": "LayoutModel",
      "state": {}
     },
     "a2dbe26c85ac4b6ebfe169409c855ce7": {
      "model_module": "@jupyter-widgets/base",
      "model_module_version": "1.2.0",
      "model_name": "LayoutModel",
      "state": {}
     },
     "a2e2e2b7073e4e9ba745fbf815858553": {
      "model_module": "pgljupyter",
      "model_module_version": "^0.1.21",
      "model_name": "LsystemWidgetModel",
      "state": {
       "_model_module_version": "^0.1.21",
       "_view_module_version": "^0.1.21",
       "axes_helper": false,
       "derivationLength": 151,
       "is_magic": true,
       "layout": "IPY_MODEL_a576e7e1262742509adce7c10712557b",
       "light_helper": false,
       "plane": true,
       "size_display": [
        400,
        400
       ],
       "size_world": 50
      }
     },
     "a36c9209221549aeb65c07eebae16423": {
      "model_module": "@jupyter-widgets/base",
      "model_module_version": "1.2.0",
      "model_name": "LayoutModel",
      "state": {}
     },
     "a576e7e1262742509adce7c10712557b": {
      "model_module": "@jupyter-widgets/base",
      "model_module_version": "1.2.0",
      "model_name": "LayoutModel",
      "state": {}
     },
     "a5cc6b4f5e404e77b1822a396d8d9a76": {
      "model_module": "pgljupyter",
      "model_module_version": "^0.1.21",
      "model_name": "LsystemWidgetModel",
      "state": {
       "_model_module_version": "^0.1.21",
       "_view_module_version": "^0.1.21",
       "axes_helper": false,
       "derivationLength": 101,
       "is_magic": true,
       "layout": "IPY_MODEL_2bd1ab4d23cb49d38e4684795d50b6aa",
       "light_helper": false,
       "plane": true,
       "size_display": [
        400,
        400
       ],
       "size_world": 100
      }
     },
     "a612df5a0a634df5ae1a800e4fda9196": {
      "model_module": "pgljupyter",
      "model_module_version": "^0.2.0",
      "model_name": "LsystemWidgetModel",
      "state": {
       "_model_module_version": "^0.2.0",
       "_view_module_version": "^0.2.0",
       "axes_helper": false,
       "derivationLength": 2,
       "is_magic": true,
       "layout": "IPY_MODEL_7267789771b246c0a8cda30288c13282",
       "light_helper": false,
       "plane": true,
       "size_display": [
        400,
        400
       ],
       "size_world": 20,
       "unit": 0
      }
     },
     "a6f078f45bc647c88678a748c512f74f": {
      "model_module": "pgljupyter",
      "model_module_version": "^0.2.0",
      "model_name": "LsystemWidgetModel",
      "state": {
       "_model_module_version": "^0.2.0",
       "_view_module_version": "^0.2.0",
       "axes_helper": false,
       "derivationLength": 5,
       "is_magic": true,
       "layout": "IPY_MODEL_55edf30c480347ac88f02b181309d321",
       "light_helper": false,
       "plane": true,
       "size_display": [
        400,
        400
       ],
       "size_world": 40,
       "unit": 0
      }
     },
     "a815c3c175714c0fa83ae2803419e2cc": {
      "model_module": "@jupyter-widgets/base",
      "model_module_version": "1.2.0",
      "model_name": "LayoutModel",
      "state": {}
     },
     "aa350c2185f94b1abf9419be6d25e14d": {
      "model_module": "pgljupyter",
      "model_module_version": "^0.1.21",
      "model_name": "LsystemWidgetModel",
      "state": {
       "_model_module_version": "^0.1.21",
       "_view_module_version": "^0.1.21",
       "axes_helper": false,
       "derivationLength": 51,
       "is_magic": true,
       "layout": "IPY_MODEL_8130ac81ec874f84bd67c3aebb962a8d",
       "light_helper": false,
       "plane": true,
       "size_display": [
        400,
        400
       ],
       "size_world": 50
      }
     },
     "aa6dac43daf049e48b8dc82c91758ab4": {
      "model_module": "@jupyter-widgets/base",
      "model_module_version": "1.2.0",
      "model_name": "LayoutModel",
      "state": {}
     },
     "abbe662b4cd749ec8244b5b7bdc90df5": {
      "model_module": "pgljupyter",
      "model_module_version": "^0.2.0",
      "model_name": "LsystemWidgetModel",
      "state": {
       "_model_module_version": "^0.2.0",
       "_view_module_version": "^0.2.0",
       "axes_helper": false,
       "derivationLength": 151,
       "is_magic": true,
       "layout": "IPY_MODEL_f4adbf6a131643128165e245c8aa1a57",
       "light_helper": false,
       "plane": true,
       "size_display": [
        400,
        400
       ],
       "size_world": 50,
       "unit": 0
      }
     },
     "ad4ad7b482154f4ca87fce2a26c18f16": {
      "model_module": "@jupyter-widgets/controls",
      "model_module_version": "1.5.0",
      "model_name": "HBoxModel",
      "state": {
       "children": [
        "IPY_MODEL_0653e86b9f3045958ebe6acb7ea5f25d"
       ],
       "layout": "IPY_MODEL_7d8a767cc682421688ce02c48df67c06"
      }
     },
     "adf379eb61864597831b7bf56a69afbf": {
      "model_module": "pgljupyter",
      "model_module_version": "^0.1.21",
      "model_name": "LsystemWidgetModel",
      "state": {
       "_model_module_version": "^0.1.21",
       "_view_module_version": "^0.1.21",
       "axes_helper": false,
       "derivationLength": 6,
       "is_magic": true,
       "layout": "IPY_MODEL_998b8d845afb435c956febfc7f9da1ff",
       "light_helper": false,
       "plane": true,
       "size_display": [
        400,
        400
       ],
       "size_world": 10
      }
     },
     "af55833a405041c38cbdd1debd3e2226": {
      "model_module": "@jupyter-widgets/base",
      "model_module_version": "1.2.0",
      "model_name": "LayoutModel",
      "state": {}
     },
     "b0f5526a36484a1ea9e8e397b17c6a4a": {
      "model_module": "@jupyter-widgets/base",
      "model_module_version": "1.2.0",
      "model_name": "LayoutModel",
      "state": {}
     },
     "b1f1383d818d4238a9ec3f1b65eeb13e": {
      "model_module": "@jupyter-widgets/base",
      "model_module_version": "1.2.0",
      "model_name": "LayoutModel",
      "state": {}
     },
     "b27883f6313844519d6cb79d06f4f9ca": {
      "model_module": "@jupyter-widgets/base",
      "model_module_version": "1.2.0",
      "model_name": "LayoutModel",
      "state": {}
     },
     "b5aca2f0dc8b47b1bc6b373aebae39ae": {
      "model_module": "pgljupyter",
      "model_module_version": "^0.1.21",
      "model_name": "LsystemWidgetModel",
      "state": {
       "_model_module_version": "^0.1.21",
       "_view_module_version": "^0.1.21",
       "axes_helper": false,
       "derivationLength": 4,
       "is_magic": true,
       "layout": "IPY_MODEL_6a87d49dadf94855b065a4f4f29cee1a",
       "light_helper": false,
       "plane": true,
       "size_display": [
        400,
        400
       ],
       "size_world": 5
      }
     },
     "b7131b41cfec423682293ca7c1f310e1": {
      "buffers": [
       {
        "data": "eNpTTHJ39fdlYFBw4OVSUFZWZGVgYGBiZQjOSCxIBbGZORh8E0tSizITcxiBXF4OBufKnMy8lNQikKw4B4N/UWZqXklqCjOQq8DFEFKUmFecA9SRwgIUgBgnyRDs4Rjg6ukSbxBvaGJgZmxsaGlmZmJuZGYClGb4DwS8DGDAcfbMGVsGBgcHBmZ2Buf8nPyieEOHuh3bbRx1+UHCSEYZIxtlZmhmwAwxgkGBAQ04OIhDGCAPNOzuVbGvlXaxR7WRwYGBEWQRkgVmCAtMTAyNLM3YQMGBakGt9JH9+cqdKBbEyNTYX7lgaAe1gAtsAbrhFkiuNzY3NDLgIM5wNNcjGy4FN9wQKZhNDQwszQy4cIcN9nAAAK7nZf4=",
        "encoding": "base64",
        "path": [
         "scene",
         "data"
        ]
       }
      ],
      "model_module": "pgljupyter",
      "model_module_version": "^0.2.0",
      "model_name": "LsystemWidgetModel",
      "state": {
       "_model_module_version": "^0.2.0",
       "_view_module_version": "^0.2.0",
       "axes_helper": false,
       "derivationLength": 2,
       "is_magic": true,
       "layout": "IPY_MODEL_6915c8283b87451692d55e7aaf5e652b",
       "light_helper": false,
       "plane": true,
       "scene": {
        "derivationStep": 0,
        "id": 0,
        "scene": "<openalea.plantgl.scenegraph._pglsg.Scene object at 0x7fe7c4ac5170>"
       },
       "size_display": [
        400,
        400
       ],
       "size_world": 10,
       "unit": 0
      }
     },
     "b74241a2bc694c77b2567350a1dea798": {
      "model_module": "pgljupyter",
      "model_module_version": "^0.1.21",
      "model_name": "LsystemWidgetModel",
      "state": {
       "_model_module_version": "^0.1.21",
       "_view_module_version": "^0.1.21",
       "axes_helper": false,
       "derivationLength": 51,
       "is_magic": true,
       "layout": "IPY_MODEL_e351b1385bc745b6b78dafb7d60fde4c",
       "light_helper": false,
       "plane": true,
       "size_display": [
        400,
        400
       ],
       "size_world": 100
      }
     },
     "b74c5a624b5e4ecbb78dd26b47551f3e": {
      "model_module": "pgljupyter",
      "model_module_version": "^0.2.0",
      "model_name": "LsystemWidgetModel",
      "state": {
       "_model_module_version": "^0.2.0",
       "_view_module_version": "^0.2.0",
       "axes_helper": false,
       "derivationLength": 2,
       "is_magic": true,
       "layout": "IPY_MODEL_8f6106c75c8849e28ec127407fa60999",
       "light_helper": false,
       "plane": true,
       "size_display": [
        400,
        400
       ],
       "size_world": 20,
       "unit": 0
      }
     },
     "b80c6601898148c09dee268a3cc97486": {
      "model_module": "pgljupyter",
      "model_module_version": "^0.1.21",
      "model_name": "LsystemWidgetModel",
      "state": {
       "_model_module_version": "^0.1.21",
       "_view_module_version": "^0.1.21",
       "axes_helper": false,
       "derivationLength": 51,
       "is_magic": true,
       "layout": "IPY_MODEL_9bab2fc61a424e8eb64c24d4d8bc6ad3",
       "light_helper": false,
       "plane": true,
       "size_display": [
        400,
        400
       ],
       "size_world": 10
      }
     },
     "b8ac68c19a0f4d8a878373c9ed3343f0": {
      "model_module": "pgljupyter",
      "model_module_version": "^0.1.21",
      "model_name": "LsystemWidgetModel",
      "state": {
       "_model_module_version": "^0.1.21",
       "_view_module_version": "^0.1.21",
       "axes_helper": false,
       "derivationLength": 51,
       "is_magic": true,
       "layout": "IPY_MODEL_6d1868d395a74ddc9a7c2952b006db06",
       "light_helper": false,
       "plane": true,
       "size_display": [
        400,
        400
       ],
       "size_world": 10
      }
     },
     "bae87cad4f9b4f16bbbf994aeed71f3a": {
      "model_module": "pgljupyter",
      "model_module_version": "^0.1.21",
      "model_name": "LsystemWidgetModel",
      "state": {
       "_model_module_version": "^0.1.21",
       "_view_module_version": "^0.1.21",
       "axes_helper": false,
       "derivationLength": 2,
       "is_magic": true,
       "layout": "IPY_MODEL_464471c7d3914b708df69d274476836e",
       "light_helper": false,
       "plane": true,
       "size_display": [
        400,
        400
       ],
       "size_world": 10
      }
     },
     "bb7e9cc8e4cb432db7717522ab562362": {
      "model_module": "pgljupyter",
      "model_module_version": "^0.1.21",
      "model_name": "LsystemWidgetModel",
      "state": {
       "_model_module_version": "^0.1.21",
       "_view_module_version": "^0.1.21",
       "axes_helper": false,
       "derivationLength": 2,
       "is_magic": true,
       "layout": "IPY_MODEL_9172ddc733ab4ae5af1ce7609730aef8",
       "light_helper": false,
       "plane": true,
       "size_display": [
        400,
        400
       ],
       "size_world": 10
      }
     },
     "bc4e47c3d2f44bc2b3bb5b941646d6a8": {
      "model_module": "@jupyter-widgets/base",
      "model_module_version": "1.2.0",
      "model_name": "LayoutModel",
      "state": {}
     },
     "be0b4ba98ea542b2b4af62915fcc0f30": {
      "model_module": "@jupyter-widgets/base",
      "model_module_version": "1.2.0",
      "model_name": "LayoutModel",
      "state": {}
     },
     "bf5fa6c3389b4ab28cf6850e796e11f0": {
      "model_module": "pgljupyter",
      "model_module_version": "^0.2.0",
      "model_name": "LsystemWidgetModel",
      "state": {
       "_model_module_version": "^0.2.0",
       "_view_module_version": "^0.2.0",
       "axes_helper": false,
       "derivationLength": 17,
       "is_magic": true,
       "layout": "IPY_MODEL_73184846fbc34a1ab807255b7e6c00b9",
       "light_helper": false,
       "plane": true,
       "size_display": [
        400,
        400
       ],
       "size_world": 20,
       "unit": 0
      }
     },
     "bf744bc5985641a085bb601c4e1f0810": {
      "model_module": "@jupyter-widgets/base",
      "model_module_version": "1.2.0",
      "model_name": "LayoutModel",
      "state": {}
     },
     "c0e00d58e63443cdbc4500b079d149de": {
      "model_module": "@jupyter-widgets/base",
      "model_module_version": "1.2.0",
      "model_name": "LayoutModel",
      "state": {}
     },
     "c1f74840e2a24923b595fbeb8ab923c0": {
      "model_module": "@jupyter-widgets/base",
      "model_module_version": "1.2.0",
      "model_name": "LayoutModel",
      "state": {}
     },
     "c21ccf4075954c79b49141356210eaed": {
      "model_module": "pgljupyter",
      "model_module_version": "^0.1.21",
      "model_name": "LsystemWidgetModel",
      "state": {
       "_model_module_version": "^0.1.21",
       "_view_module_version": "^0.1.21",
       "axes_helper": false,
       "derivationLength": 101,
       "is_magic": true,
       "layout": "IPY_MODEL_8d5d17eecf7e4f359308866a41ffbff1",
       "light_helper": false,
       "plane": true,
       "size_display": [
        400,
        400
       ],
       "size_world": 30
      }
     },
     "c22a4a053ede420d9fb56f66fa46f27c": {
      "model_module": "pgljupyter",
      "model_module_version": "^0.2.0",
      "model_name": "LsystemWidgetModel",
      "state": {
       "_model_module_version": "^0.2.0",
       "_view_module_version": "^0.2.0",
       "axes_helper": false,
       "derivationLength": 5,
       "is_magic": true,
       "layout": "IPY_MODEL_dcab24816e7e4180aedcc3593cac9bbc",
       "light_helper": false,
       "plane": true,
       "size_display": [
        400,
        400
       ],
       "size_world": 40,
       "unit": 0
      }
     },
     "c2c1a961662446cf857748e3d089ec8a": {
      "model_module": "@jupyter-widgets/base",
      "model_module_version": "1.2.0",
      "model_name": "LayoutModel",
      "state": {}
     },
     "c3673f932afa4a87a2a71dd4ad689a31": {
      "model_module": "@jupyter-widgets/base",
      "model_module_version": "1.2.0",
      "model_name": "LayoutModel",
      "state": {}
     },
     "c39384d1667b421e879664b8c11d6b1c": {
      "model_module": "@jupyter-widgets/base",
      "model_module_version": "1.2.0",
      "model_name": "LayoutModel",
      "state": {}
     },
     "c437cd14acfc472f86e7c53fdf35c4c3": {
      "buffers": [
       {
        "data": "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",
        "encoding": "base64",
        "path": [
         "scene",
         "data"
        ]
       }
      ],
      "model_module": "pgljupyter",
      "model_module_version": "^0.2.0",
      "model_name": "LsystemWidgetModel",
      "state": {
       "_model_module_version": "^0.2.0",
       "_view_module_version": "^0.2.0",
       "axes_helper": false,
       "derivationLength": 7,
       "is_magic": true,
       "layout": "IPY_MODEL_5b64562359814301a9f2e8b377466dc5",
       "light_helper": false,
       "plane": true,
       "scene": {
        "derivationStep": 6,
        "id": 6,
        "scene": "<openalea.plantgl.scenegraph._pglsg.Scene object at 0x7fe79ada48f0>"
       },
       "size_display": [
        400,
        400
       ],
       "size_world": 10,
       "unit": 0
      }
     },
     "c56ab90289bc416f9971c10aa9388419": {
      "model_module": "@jupyter-widgets/base",
      "model_module_version": "1.2.0",
      "model_name": "LayoutModel",
      "state": {}
     },
     "c68d6ba35e9b47a281cf7c4c44734bd3": {
      "buffers": [
       {
        "data": "eNpTTHJ39fdlYFBw4OVSUFZWZGZgYGBiZQjOSCxIZQSymTkYfBNLUosyE3NAXF4OBufKnMy8lNQiEFcRRDBJMgR7OAa4errEG8UbmhiYGRsbGZhYGJoBCSaQPEgfAxhwzZo5046BmZ3BOT8nvyje6AEj8w4bORsuBgYHBwB2pBjZ",
        "encoding": "base64",
        "path": [
         "scene",
         "data"
        ]
       }
      ],
      "model_module": "pgljupyter",
      "model_module_version": "^0.2.0",
      "model_name": "LsystemWidgetModel",
      "state": {
       "_model_module_version": "^0.2.0",
       "_view_module_version": "^0.2.0",
       "axes_helper": false,
       "derivationLength": 6,
       "is_magic": true,
       "layout": "IPY_MODEL_87275625bf824d0fb4957fa058c65340",
       "light_helper": false,
       "plane": true,
       "scene": {
        "derivationStep": 5,
        "id": 5,
        "scene": "<openalea.plantgl.scenegraph._pglsg.Scene object at 0x7fe7b27bc210>"
       },
       "size_display": [
        400,
        400
       ],
       "size_world": 6,
       "unit": 0
      }
     },
     "c6d1af54bd7342cf941d505c1615c465": {
      "model_module": "@jupyter-widgets/base",
      "model_module_version": "1.2.0",
      "model_name": "LayoutModel",
      "state": {}
     },
     "c7bbe154ef2f426c814eef69e29a24ab": {
      "model_module": "pgljupyter",
      "model_module_version": "^0.1.21",
      "model_name": "LsystemWidgetModel",
      "state": {
       "_model_module_version": "^0.1.21",
       "_view_module_version": "^0.1.21",
       "axes_helper": false,
       "derivationLength": 2,
       "is_magic": true,
       "layout": "IPY_MODEL_8b82d493df7b4597abf75f1926721641",
       "light_helper": false,
       "plane": true,
       "size_display": [
        400,
        400
       ],
       "size_world": 10
      }
     },
     "c8259c2603cc44e78845208eadb37388": {
      "model_module": "pgljupyter",
      "model_module_version": "^0.2.0",
      "model_name": "LsystemWidgetModel",
      "state": {
       "_model_module_version": "^0.2.0",
       "_view_module_version": "^0.2.0",
       "axes_helper": false,
       "derivationLength": 2,
       "is_magic": true,
       "layout": "IPY_MODEL_9c99f7e3c1bd4460890546ee80212e19",
       "light_helper": false,
       "plane": true,
       "size_display": [
        400,
        400
       ],
       "size_world": 1,
       "unit": 0
      }
     },
     "c882b45d638240059da786cc1f89c77c": {
      "model_module": "pgljupyter",
      "model_module_version": "^0.2.0",
      "model_name": "LsystemWidgetModel",
      "state": {
       "_model_module_version": "^0.2.0",
       "_view_module_version": "^0.2.0",
       "axes_helper": false,
       "derivationLength": 17,
       "is_magic": true,
       "layout": "IPY_MODEL_9b714dac24d249b6a60e992bfac8c885",
       "light_helper": false,
       "plane": true,
       "size_display": [
        400,
        400
       ],
       "size_world": 1,
       "unit": 0
      }
     },
     "c8aa179584194988b98f780eb09a240b": {
      "model_module": "pgljupyter",
      "model_module_version": "^0.1.21",
      "model_name": "LsystemWidgetModel",
      "state": {
       "_model_module_version": "^0.1.21",
       "_view_module_version": "^0.1.21",
       "axes_helper": false,
       "derivationLength": 51,
       "is_magic": true,
       "layout": "IPY_MODEL_43f35ef982fe4cfa9154b98971895c66",
       "light_helper": false,
       "plane": true,
       "size_display": [
        400,
        400
       ],
       "size_world": 10
      }
     },
     "c8e25585facf4662a5840a4f69cce0a6": {
      "model_module": "pgljupyter",
      "model_module_version": "^0.2.0",
      "model_name": "LsystemWidgetModel",
      "state": {
       "_model_module_version": "^0.2.0",
       "_view_module_version": "^0.2.0",
       "axes_helper": false,
       "derivationLength": 4,
       "is_magic": true,
       "layout": "IPY_MODEL_114ee47193c8407da10e78736c4cc9e2",
       "light_helper": false,
       "plane": true,
       "size_display": [
        400,
        400
       ],
       "size_world": 5,
       "unit": 0
      }
     },
     "c9691474c98d43619ae6bcb3b789c7d4": {
      "model_module": "pgljupyter",
      "model_module_version": "^0.1.21",
      "model_name": "LsystemWidgetModel",
      "state": {
       "_model_module_version": "^0.1.21",
       "_view_module_version": "^0.1.21",
       "axes_helper": false,
       "derivationLength": 6,
       "is_magic": true,
       "layout": "IPY_MODEL_0ef38bce80bb4a2b90d6286628e0184c",
       "light_helper": false,
       "plane": true,
       "size_display": [
        400,
        400
       ],
       "size_world": 10
      }
     },
     "cb8b0627037b45c7aeb4b5ef338c2843": {
      "buffers": [
       {
        "data": "eNpTTHJ39fdlYFBw4OVSUFZWZGZgYGBiZQjOSCxIZQSymTkYfBNLUosyE3NAXF4OBufKnMy8lNQiEFcRRDBJMgR7OAa4errEG8QbmhiYGRsbGRgamVqYWhoBpRn+AwEvAxhwnT1zxpaBmZ3BOT8nvyjeMOEy8w4bR11+BgYHBwAeQR3S",
        "encoding": "base64",
        "path": [
         "scene",
         "data"
        ]
       }
      ],
      "model_module": "pgljupyter",
      "model_module_version": "^0.2.0",
      "model_name": "LsystemWidgetModel",
      "state": {
       "_model_module_version": "^0.2.0",
       "_view_module_version": "^0.2.0",
       "axes_helper": false,
       "derivationLength": 2,
       "is_magic": true,
       "layout": "IPY_MODEL_f3bd31b27d9c4333b975840ee3fa0f95",
       "light_helper": false,
       "plane": true,
       "scene": {
        "derivationStep": 0,
        "id": 0,
        "scene": "<openalea.plantgl.scenegraph._pglsg.Scene object at 0x7fe7b27bf300>"
       },
       "size_display": [
        400,
        400
       ],
       "size_world": 10,
       "unit": 0
      }
     },
     "cbbecb534fec4ceb86b588a291a761a7": {
      "model_module": "pgljupyter",
      "model_module_version": "^0.1.21",
      "model_name": "LsystemWidgetModel",
      "state": {
       "_model_module_version": "^0.1.21",
       "_view_module_version": "^0.1.21",
       "axes_helper": false,
       "derivationLength": 101,
       "is_magic": true,
       "layout": "IPY_MODEL_c2c1a961662446cf857748e3d089ec8a",
       "light_helper": false,
       "plane": true,
       "size_display": [
        400,
        400
       ],
       "size_world": 30
      }
     },
     "cff1edae95854ee19285c747dde09437": {
      "model_module": "pgljupyter",
      "model_module_version": "^0.1.21",
      "model_name": "LsystemWidgetModel",
      "state": {
       "_model_module_version": "^0.1.21",
       "_view_module_version": "^0.1.21",
       "axes_helper": false,
       "derivationLength": 51,
       "is_magic": true,
       "layout": "IPY_MODEL_7a09ab1ef58244d59ae4e01f100efd01",
       "light_helper": false,
       "plane": true,
       "size_display": [
        400,
        400
       ],
       "size_world": 10
      }
     },
     "d02f082b25ee4a8fa72192012d6461b9": {
      "model_module": "pgljupyter",
      "model_module_version": "^0.1.21",
      "model_name": "LsystemWidgetModel",
      "state": {
       "_model_module_version": "^0.1.21",
       "_view_module_version": "^0.1.21",
       "axes_helper": false,
       "derivationLength": 2,
       "is_magic": true,
       "layout": "IPY_MODEL_58ce43e4150c498b8f52deabef669dee",
       "light_helper": false,
       "plane": true,
       "size_display": [
        400,
        400
       ],
       "size_world": 5
      }
     },
     "d0a7b52169ed4e96b82d3d649b60ae61": {
      "model_module": "@jupyter-widgets/base",
      "model_module_version": "1.2.0",
      "model_name": "LayoutModel",
      "state": {}
     },
     "d3829414a67145079ea123524611be6e": {
      "model_module": "pgljupyter",
      "model_module_version": "^0.1.21",
      "model_name": "LsystemWidgetModel",
      "state": {
       "_model_module_version": "^0.1.21",
       "_view_module_version": "^0.1.21",
       "axes_helper": false,
       "derivationLength": 2,
       "is_magic": true,
       "layout": "IPY_MODEL_376d5949d34a4b8c85b32d3e45b4778e",
       "light_helper": false,
       "plane": true,
       "size_display": [
        400,
        400
       ],
       "size_world": 10
      }
     },
     "d39370da00024b3cabc161d35a2da6e9": {
      "model_module": "pgljupyter",
      "model_module_version": "^0.2.0",
      "model_name": "LsystemWidgetModel",
      "state": {
       "_model_module_version": "^0.2.0",
       "_view_module_version": "^0.2.0",
       "axes_helper": false,
       "derivationLength": 17,
       "is_magic": true,
       "layout": "IPY_MODEL_aa6dac43daf049e48b8dc82c91758ab4",
       "light_helper": false,
       "plane": true,
       "size_display": [
        400,
        400
       ],
       "size_world": 1,
       "unit": 0
      }
     },
     "d54a0b9fb0e54d769c30a6c17e5382fa": {
      "model_module": "pgljupyter",
      "model_module_version": "^0.1.21",
      "model_name": "LsystemWidgetModel",
      "state": {
       "_model_module_version": "^0.1.21",
       "_view_module_version": "^0.1.21",
       "axes_helper": false,
       "derivationLength": 151,
       "is_magic": true,
       "layout": "IPY_MODEL_be0b4ba98ea542b2b4af62915fcc0f30",
       "light_helper": false,
       "plane": true,
       "size_display": [
        400,
        400
       ],
       "size_world": 50
      }
     },
     "d5ffcbd2c47d4dadbbe49344dd39f7b6": {
      "model_module": "pgljupyter",
      "model_module_version": "^0.1.21",
      "model_name": "LsystemWidgetModel",
      "state": {
       "_model_module_version": "^0.1.21",
       "_view_module_version": "^0.1.21",
       "axes_helper": false,
       "derivationLength": 101,
       "is_magic": true,
       "layout": "IPY_MODEL_940b09b5bd5840adb30c2f6f5c8f292f",
       "light_helper": false,
       "plane": true,
       "size_display": [
        400,
        400
       ],
       "size_world": 50
      }
     },
     "d670d5874abd4e7281d414b5f6c1aa14": {
      "model_module": "@jupyter-widgets/controls",
      "model_module_version": "1.5.0",
      "model_name": "DescriptionStyleModel",
      "state": {
       "description_width": ""
      }
     },
     "d8082134c6e94552b177a5ee231b76cb": {
      "model_module": "@jupyter-widgets/controls",
      "model_module_version": "1.5.0",
      "model_name": "TextModel",
      "state": {
       "continuous_update": false,
       "description": "name",
       "layout": "IPY_MODEL_f7fde3b7f9484dc296d6922be27696ae",
       "style": "IPY_MODEL_d670d5874abd4e7281d414b5f6c1aa14",
       "value": "trunk"
      }
     },
     "d8601d55d8144421912cda5b7850fc4f": {
      "model_module": "pgljupyter",
      "model_module_version": "^0.1.21",
      "model_name": "LsystemWidgetModel",
      "state": {
       "_model_module_version": "^0.1.21",
       "_view_module_version": "^0.1.21",
       "axes_helper": false,
       "derivationLength": 2,
       "is_magic": true,
       "layout": "IPY_MODEL_28655bd44127458d8d3ce4abce718b65",
       "light_helper": false,
       "plane": true,
       "size_display": [
        400,
        400
       ],
       "size_world": 10
      }
     },
     "d88f41b116e04e8395213dea8658860f": {
      "model_module": "@jupyter-widgets/base",
      "model_module_version": "1.2.0",
      "model_name": "LayoutModel",
      "state": {}
     },
     "da83b73f2dff457b96aab049db2eaea7": {
      "model_module": "@jupyter-widgets/base",
      "model_module_version": "1.2.0",
      "model_name": "LayoutModel",
      "state": {}
     },
     "dbb59fa8b8ff43e6883786a6556b5246": {
      "model_module": "pgljupyter",
      "model_module_version": "^0.1.21",
      "model_name": "LsystemWidgetModel",
      "state": {
       "_model_module_version": "^0.1.21",
       "_view_module_version": "^0.1.21",
       "axes_helper": false,
       "derivationLength": 151,
       "is_magic": true,
       "layout": "IPY_MODEL_0ed2edb524024aea99764b156a323cbc",
       "light_helper": false,
       "plane": true,
       "size_display": [
        400,
        400
       ],
       "size_world": 50
      }
     },
     "dcab24816e7e4180aedcc3593cac9bbc": {
      "model_module": "@jupyter-widgets/base",
      "model_module_version": "1.2.0",
      "model_name": "LayoutModel",
      "state": {}
     },
     "dcc00ee3a73b434b8cc3f7db21ff8bf9": {
      "model_module": "pgljupyter",
      "model_module_version": "^0.1.21",
      "model_name": "LsystemWidgetModel",
      "state": {
       "_model_module_version": "^0.1.21",
       "_view_module_version": "^0.1.21",
       "axes_helper": false,
       "derivationLength": 101,
       "is_magic": true,
       "layout": "IPY_MODEL_2210a3c3a443487ba72ae45415beb9f8",
       "light_helper": false,
       "plane": true,
       "size_display": [
        400,
        400
       ],
       "size_world": 30
      }
     },
     "dcca4ba206104ea5bbf57733a4850a86": {
      "model_module": "@jupyter-widgets/base",
      "model_module_version": "1.2.0",
      "model_name": "LayoutModel",
      "state": {
       "flex_flow": "row wrap",
       "margin": "0"
      }
     },
     "ddcf7b25767c4fde9928bb8de7814006": {
      "model_module": "pgljupyter",
      "model_module_version": "^0.1.21",
      "model_name": "LsystemWidgetModel",
      "state": {
       "_model_module_version": "^0.1.21",
       "_view_module_version": "^0.1.21",
       "axes_helper": false,
       "derivationLength": 4,
       "is_magic": true,
       "layout": "IPY_MODEL_1976f6b703864244a6f65db2036f5a7f",
       "light_helper": false,
       "plane": true,
       "size_display": [
        400,
        400
       ],
       "size_world": 1
      }
     },
     "de330da310af44e893ab01bc0bdba081": {
      "model_module": "pgljupyter",
      "model_module_version": "^0.1.21",
      "model_name": "LsystemWidgetModel",
      "state": {
       "_model_module_version": "^0.1.21",
       "_view_module_version": "^0.1.21",
       "axes_helper": false,
       "derivationLength": 101,
       "is_magic": true,
       "layout": "IPY_MODEL_c0e00d58e63443cdbc4500b079d149de",
       "light_helper": false,
       "plane": true,
       "size_display": [
        400,
        400
       ],
       "size_world": 50
      }
     },
     "de965461581b479e91ebdedb16cb30b0": {
      "model_module": "pgljupyter",
      "model_module_version": "^0.1.21",
      "model_name": "LsystemWidgetModel",
      "state": {
       "_model_module_version": "^0.1.21",
       "_view_module_version": "^0.1.21",
       "axes_helper": false,
       "derivationLength": 51,
       "is_magic": true,
       "layout": "IPY_MODEL_1919bc41a1ee482885684afa0fde28d9",
       "light_helper": false,
       "plane": true,
       "size_display": [
        400,
        400
       ],
       "size_world": 50
      }
     },
     "df05d974c84f42ef90159bb581a18c40": {
      "model_module": "pgljupyter",
      "model_module_version": "^0.1.21",
      "model_name": "LsystemWidgetModel",
      "state": {
       "_model_module_version": "^0.1.21",
       "_view_module_version": "^0.1.21",
       "axes_helper": false,
       "derivationLength": 2,
       "is_magic": true,
       "layout": "IPY_MODEL_c6d1af54bd7342cf941d505c1615c465",
       "light_helper": false,
       "plane": true,
       "size_display": [
        400,
        400
       ],
       "size_world": 1
      }
     },
     "df43c19128dc4c45bb59820814215827": {
      "model_module": "@jupyter-widgets/base",
      "model_module_version": "1.2.0",
      "model_name": "LayoutModel",
      "state": {}
     },
     "dfc991d2c06741d99a84d721ac993213": {
      "model_module": "@jupyter-widgets/base",
      "model_module_version": "1.2.0",
      "model_name": "LayoutModel",
      "state": {}
     },
     "e220e3e9ed6c4a03af6e26e86a5c6776": {
      "model_module": "pgljupyter",
      "model_module_version": "^0.2.0",
      "model_name": "LsystemWidgetModel",
      "state": {
       "_model_module_version": "^0.2.0",
       "_view_module_version": "^0.2.0",
       "axes_helper": false,
       "derivationLength": 7,
       "is_magic": true,
       "layout": "IPY_MODEL_2ca278c17bec4e408614ba29c8d4450b",
       "light_helper": false,
       "plane": true,
       "size_display": [
        400,
        400
       ],
       "size_world": 10,
       "unit": 0
      }
     },
     "e26549e01c8a445db3cc8f547a77aa1f": {
      "model_module": "@jupyter-widgets/base",
      "model_module_version": "1.2.0",
      "model_name": "LayoutModel",
      "state": {}
     },
     "e312b8a1f7d1458f87353eda047b97db": {
      "model_module": "pgljupyter",
      "model_module_version": "^0.1.21",
      "model_name": "LsystemWidgetModel",
      "state": {
       "_model_module_version": "^0.1.21",
       "_view_module_version": "^0.1.21",
       "axes_helper": false,
       "derivationLength": 2,
       "is_magic": true,
       "layout": "IPY_MODEL_5ee71ac234db4ae986ffccecc893022a",
       "light_helper": false,
       "plane": true,
       "size_display": [
        400,
        400
       ],
       "size_world": 10
      }
     },
     "e34d030664364d9faaf4a6f14d097dc8": {
      "model_module": "@jupyter-widgets/base",
      "model_module_version": "1.2.0",
      "model_name": "LayoutModel",
      "state": {}
     },
     "e351b1385bc745b6b78dafb7d60fde4c": {
      "model_module": "@jupyter-widgets/base",
      "model_module_version": "1.2.0",
      "model_name": "LayoutModel",
      "state": {}
     },
     "e35d3fc1742745a3aec18ad5587e10e1": {
      "model_module": "pgljupyter",
      "model_module_version": "^0.2.0",
      "model_name": "LsystemWidgetModel",
      "state": {
       "_model_module_version": "^0.2.0",
       "_view_module_version": "^0.2.0",
       "axes_helper": false,
       "derivationLength": 4,
       "is_magic": true,
       "layout": "IPY_MODEL_da83b73f2dff457b96aab049db2eaea7",
       "light_helper": false,
       "plane": true,
       "size_display": [
        400,
        400
       ],
       "size_world": 1,
       "unit": 0
      }
     },
     "e5b8dd21c5884c18804c0a5c425f1748": {
      "model_module": "pgljupyter",
      "model_module_version": "^0.1.21",
      "model_name": "LsystemWidgetModel",
      "state": {
       "_model_module_version": "^0.1.21",
       "_view_module_version": "^0.1.21",
       "axes_helper": false,
       "derivationLength": 2,
       "is_magic": true,
       "layout": "IPY_MODEL_4654306f204441f392c03879bb198e85",
       "light_helper": false,
       "plane": true,
       "size_display": [
        400,
        400
       ],
       "size_world": 10
      }
     },
     "e633b92d39f04c00810a841c21842356": {
      "model_module": "@jupyter-widgets/base",
      "model_module_version": "1.2.0",
      "model_name": "LayoutModel",
      "state": {}
     },
     "e79962492d0540f4b192ac12a5d03464": {
      "model_module": "pgljupyter",
      "model_module_version": "^0.2.0",
      "model_name": "LsystemWidgetModel",
      "state": {
       "_model_module_version": "^0.2.0",
       "_view_module_version": "^0.2.0",
       "axes_helper": false,
       "derivationLength": 4,
       "is_magic": true,
       "layout": "IPY_MODEL_332775c4903e480fa7b5e53e36531090",
       "light_helper": false,
       "plane": true,
       "size_display": [
        400,
        400
       ],
       "size_world": 1,
       "unit": 0
      }
     },
     "e911d481fb5647f4924c7fd91ee96391": {
      "model_module": "pgljupyter",
      "model_module_version": "^0.1.21",
      "model_name": "LsystemWidgetModel",
      "state": {
       "_model_module_version": "^0.1.21",
       "_view_module_version": "^0.1.21",
       "axes_helper": false,
       "derivationLength": 101,
       "is_magic": true,
       "layout": "IPY_MODEL_0e5b6c064ba840448dee5b1fb1095b8e",
       "light_helper": false,
       "plane": true,
       "size_display": [
        400,
        400
       ],
       "size_world": 10
      }
     },
     "e929e3c48ab9446f84e1f9e42c4391c3": {
      "model_module": "@jupyter-widgets/base",
      "model_module_version": "1.2.0",
      "model_name": "LayoutModel",
      "state": {}
     },
     "e9ffa3e7ed36494c9da0c00b052d2702": {
      "model_module": "@jupyter-widgets/base",
      "model_module_version": "1.2.0",
      "model_name": "LayoutModel",
      "state": {
       "margin": "10px 10px"
      }
     },
     "ea54399eeede416eac739a37fb2cd8f3": {
      "model_module": "@jupyter-widgets/base",
      "model_module_version": "1.2.0",
      "model_name": "LayoutModel",
      "state": {}
     },
     "eab4a51bea4443518afb2380081ebfcf": {
      "model_module": "pgljupyter",
      "model_module_version": "^0.1.21",
      "model_name": "LsystemWidgetModel",
      "state": {
       "_model_module_version": "^0.1.21",
       "_view_module_version": "^0.1.21",
       "axes_helper": false,
       "derivationLength": 2,
       "is_magic": true,
       "layout": "IPY_MODEL_a2dbe26c85ac4b6ebfe169409c855ce7",
       "light_helper": false,
       "plane": true,
       "size_display": [
        400,
        400
       ],
       "size_world": 10
      }
     },
     "ead8b60c457b43aa8166607b78c11b33": {
      "model_module": "@jupyter-widgets/base",
      "model_module_version": "1.2.0",
      "model_name": "LayoutModel",
      "state": {}
     },
     "eb0892df558a4a57a903572c1c800c08": {
      "model_module": "@jupyter-widgets/base",
      "model_module_version": "1.2.0",
      "model_name": "LayoutModel",
      "state": {}
     },
     "ed46947ad0134de2abc2da87769c35b6": {
      "model_module": "pgljupyter",
      "model_module_version": "^0.1.21",
      "model_name": "LsystemWidgetModel",
      "state": {
       "_model_module_version": "^0.1.21",
       "_view_module_version": "^0.1.21",
       "axes_helper": false,
       "derivationLength": 2,
       "is_magic": true,
       "layout": "IPY_MODEL_01265f4541164ffeb3c1cc7ffea1d370",
       "light_helper": false,
       "plane": true,
       "size_display": [
        400,
        400
       ],
       "size_world": 10
      }
     },
     "ed4b7510faf14772a9e64936c491b7c3": {
      "model_module": "@jupyter-widgets/base",
      "model_module_version": "1.2.0",
      "model_name": "LayoutModel",
      "state": {
       "margin": "10px 10px"
      }
     },
     "edecdb68ddbe483e80c86c49947b1626": {
      "buffers": [
       {
        "data": "eNpTTHJ39fdlYFBw4OVSUFZWZAACMAEAM3MCyw==",
        "encoding": "base64",
        "path": [
         "scene",
         "data"
        ]
       }
      ],
      "model_module": "pgljupyter",
      "model_module_version": "^0.2.0",
      "model_name": "LsystemWidgetModel",
      "state": {
       "_model_module_version": "^0.2.0",
       "_view_module_version": "^0.2.0",
       "axes_helper": false,
       "derivationLength": 4,
       "is_magic": true,
       "layout": "IPY_MODEL_6d0d1587ff5a49398ae4dee5b85399f3",
       "light_helper": false,
       "plane": true,
       "scene": {
        "derivationStep": 3,
        "id": 3,
        "scene": "<openalea.plantgl.scenegraph._pglsg.Scene object at 0x7fe7b2792f80>"
       },
       "size_display": [
        400,
        400
       ],
       "size_world": 5,
       "unit": 0
      }
     },
     "ee0c7286bb8e458da0cc6fbb2928fc98": {
      "model_module": "@jupyter-widgets/base",
      "model_module_version": "1.2.0",
      "model_name": "LayoutModel",
      "state": {}
     },
     "f081a36f5b64486d8a9a4caf13102ec1": {
      "model_module": "@jupyter-widgets/base",
      "model_module_version": "1.2.0",
      "model_name": "LayoutModel",
      "state": {}
     },
     "f2809ea5f6194017b37b2795905c38ca": {
      "model_module": "@jupyter-widgets/base",
      "model_module_version": "1.2.0",
      "model_name": "LayoutModel",
      "state": {}
     },
     "f2c8a00ce20e4f16b8a638b5925bf10d": {
      "model_module": "pgljupyter",
      "model_module_version": "^0.1.21",
      "model_name": "LsystemWidgetModel",
      "state": {
       "_model_module_version": "^0.1.21",
       "_view_module_version": "^0.1.21",
       "axes_helper": false,
       "derivationLength": 6,
       "is_magic": true,
       "layout": "IPY_MODEL_1bc6e794710c42cea6e88e6277cac56b",
       "light_helper": false,
       "plane": true,
       "size_display": [
        400,
        400
       ],
       "size_world": 1
      }
     },
     "f3bd31b27d9c4333b975840ee3fa0f95": {
      "model_module": "@jupyter-widgets/base",
      "model_module_version": "1.2.0",
      "model_name": "LayoutModel",
      "state": {}
     },
     "f485d98420864b3faedc0b16d39614ec": {
      "model_module": "@jupyter-widgets/base",
      "model_module_version": "1.2.0",
      "model_name": "LayoutModel",
      "state": {}
     },
     "f4adbf6a131643128165e245c8aa1a57": {
      "model_module": "@jupyter-widgets/base",
      "model_module_version": "1.2.0",
      "model_name": "LayoutModel",
      "state": {}
     },
     "f5aea16624504560bdc8fa285c9dbc0b": {
      "model_module": "pgljupyter",
      "model_module_version": "^0.2.0",
      "model_name": "LsystemWidgetModel",
      "state": {
       "_model_module_version": "^0.2.0",
       "_view_module_version": "^0.2.0",
       "axes_helper": false,
       "derivationLength": 2,
       "is_magic": true,
       "layout": "IPY_MODEL_ea54399eeede416eac739a37fb2cd8f3",
       "light_helper": false,
       "plane": true,
       "size_display": [
        400,
        400
       ],
       "size_world": 20,
       "unit": 0
      }
     },
     "f5bddce91dbd4b7cb180d25f96dbfd91": {
      "model_module": "@jupyter-widgets/base",
      "model_module_version": "1.2.0",
      "model_name": "LayoutModel",
      "state": {}
     },
     "f5c037235b33478b98589693dc53514f": {
      "model_module": "@jupyter-widgets/base",
      "model_module_version": "1.2.0",
      "model_name": "LayoutModel",
      "state": {}
     },
     "f7fde3b7f9484dc296d6922be27696ae": {
      "model_module": "@jupyter-widgets/base",
      "model_module_version": "1.2.0",
      "model_name": "LayoutModel",
      "state": {}
     },
     "f8b08b5ebb264624bff820670fdbb46d": {
      "model_module": "pgljupyter",
      "model_module_version": "^0.1.21",
      "model_name": "LsystemWidgetModel",
      "state": {
       "_model_module_version": "^0.1.21",
       "_view_module_version": "^0.1.21",
       "axes_helper": false,
       "derivationLength": 2,
       "is_magic": true,
       "layout": "IPY_MODEL_8d40a3da485548b18941e7d84f18571f",
       "light_helper": false,
       "plane": true,
       "size_display": [
        400,
        400
       ],
       "size_world": 10
      }
     },
     "f8fad95521244abba1418a24d0b1ecc5": {
      "model_module": "@jupyter-widgets/base",
      "model_module_version": "1.2.0",
      "model_name": "LayoutModel",
      "state": {}
     },
     "f902d404492a4ac7b067ae71bdbae41f": {
      "model_module": "@jupyter-widgets/base",
      "model_module_version": "1.2.0",
      "model_name": "LayoutModel",
      "state": {}
     },
     "fa14e5cee9ab418f945eb4547b69fc68": {
      "model_module": "pgljupyter",
      "model_module_version": "^0.2.0",
      "model_name": "LsystemWidgetModel",
      "state": {
       "_model_module_version": "^0.2.0",
       "_view_module_version": "^0.2.0",
       "axes_helper": false,
       "derivationLength": 2,
       "is_magic": true,
       "layout": "IPY_MODEL_37bc4db8ae77496b9dc5c539f0646dc6",
       "light_helper": false,
       "plane": true,
       "size_display": [
        400,
        400
       ],
       "size_world": 10,
       "unit": 0
      }
     },
     "fca36e2366754269b232289ded798bc2": {
      "model_module": "@jupyter-widgets/base",
      "model_module_version": "1.2.0",
      "model_name": "LayoutModel",
      "state": {}
     },
     "fce155e378e6405089c258019aa55fca": {
      "model_module": "pgljupyter",
      "model_module_version": "^0.1.21",
      "model_name": "LsystemWidgetModel",
      "state": {
       "_model_module_version": "^0.1.21",
       "_view_module_version": "^0.1.21",
       "axes_helper": false,
       "derivationLength": 51,
       "is_magic": true,
       "layout": "IPY_MODEL_3d3a154201924575a6439bf65f681a30",
       "light_helper": false,
       "plane": true,
       "size_display": [
        400,
        400
       ],
       "size_world": 10
      }
     },
     "fd4042078c7c46f69f41c35235b85f33": {
      "model_module": "@jupyter-widgets/base",
      "model_module_version": "1.2.0",
      "model_name": "LayoutModel",
      "state": {}
     },
     "fe370208faba4952abbcd67bfbcfe36f": {
      "model_module": "@jupyter-widgets/base",
      "model_module_version": "1.2.0",
      "model_name": "LayoutModel",
      "state": {}
     },
     "fe73b8d76f084b43ad1b95dbb187591c": {
      "model_module": "pgljupyter",
      "model_module_version": "^0.2.0",
      "model_name": "LsystemWidgetModel",
      "state": {
       "_model_module_version": "^0.2.0",
       "_view_module_version": "^0.2.0",
       "axes_helper": false,
       "derivationLength": 2,
       "is_magic": true,
       "layout": "IPY_MODEL_911b9ac31cd34bd5adf7e4a2488af044",
       "light_helper": false,
       "plane": true,
       "size_display": [
        400,
        400
       ],
       "size_world": 10,
       "unit": 0
      }
     },
     "fee35aec3b864a8ba0c03d3806ebbd3f": {
      "model_module": "@jupyter-widgets/base",
      "model_module_version": "1.2.0",
      "model_name": "LayoutModel",
      "state": {}
     }
    },
    "version_major": 2,
    "version_minor": 0
   }
  }
 },
 "nbformat": 4,
 "nbformat_minor": 2
}
